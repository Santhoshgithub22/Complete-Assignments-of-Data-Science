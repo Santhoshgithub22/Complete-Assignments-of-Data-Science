{
 "cells": [
  {
   "attachments": {},
   "cell_type": "markdown",
   "metadata": {},
   "source": [
    "# Python Advance Assignment No. 08"
   ]
  },
  {
   "attachments": {},
   "cell_type": "markdown",
   "metadata": {},
   "source": [
    "                                                     By\n",
    "\n",
    "                                               Santhosh Kumar"
   ]
  },
  {
   "attachments": {},
   "cell_type": "markdown",
   "metadata": {},
   "source": [
    "# Question No. 01"
   ]
  },
  {
   "attachments": {},
   "cell_type": "markdown",
   "metadata": {},
   "source": [
    "#### What are the two latest user-defined exception constraints in Python 3.X?"
   ]
  },
  {
   "attachments": {},
   "cell_type": "markdown",
   "metadata": {},
   "source": [
    "__ __raise__ __ and __ __exception__ __ are the two latest user-defined exception constraints in Python 3.X"
   ]
  },
  {
   "attachments": {},
   "cell_type": "markdown",
   "metadata": {},
   "source": [
    "# Question No. 02"
   ]
  },
  {
   "attachments": {},
   "cell_type": "markdown",
   "metadata": {},
   "source": [
    "#### How are class-based exceptions that have been raised matched to handlers?"
   ]
  },
  {
   "attachments": {},
   "cell_type": "markdown",
   "metadata": {},
   "source": [
    "* In Python, user can create a custom exception by creating a new class.\n",
    "\n",
    "* This exception class has to be derived, either directly or indirectly from built-in __Exception__ class.\n",
    "\n",
    "* This new exception class like other exception can be raised using the __raise__ statement with an optional error message"
   ]
  },
  {
   "cell_type": "code",
   "execution_count": 12,
   "metadata": {},
   "outputs": [
    {
     "ename": "TooYoungException",
     "evalue": "TOO YOUNG AGE TO VOTE",
     "output_type": "error",
     "traceback": [
      "\u001b[1;31m---------------------------------------------------------------------------\u001b[0m",
      "\u001b[1;31mTooYoungException\u001b[0m                         Traceback (most recent call last)",
      "Cell \u001b[1;32mIn[12], line 9\u001b[0m\n\u001b[0;32m      6\u001b[0m age \u001b[39m=\u001b[39m \u001b[39m12\u001b[39m\n\u001b[0;32m      8\u001b[0m \u001b[39mif\u001b[39;00m age \u001b[39m<\u001b[39m \u001b[39m18\u001b[39m:\n\u001b[1;32m----> 9\u001b[0m     \u001b[39mraise\u001b[39;00m TooYoungException(\u001b[39m\"\u001b[39m\u001b[39mTOO YOUNG AGE TO VOTE\u001b[39m\u001b[39m\"\u001b[39m)\n",
      "\u001b[1;31mTooYoungException\u001b[0m: TOO YOUNG AGE TO VOTE"
     ]
    }
   ],
   "source": [
    "class TooYoungException(Exception):\n",
    "\n",
    "    def __init__(self, age):\n",
    "        self.age = age\n",
    "\n",
    "age = 12\n",
    "\n",
    "if age < 18:\n",
    "    raise TooYoungException(\"TOO YOUNG AGE TO VOTE\")"
   ]
  },
  {
   "attachments": {},
   "cell_type": "markdown",
   "metadata": {},
   "source": [
    "# Question No. 03"
   ]
  },
  {
   "attachments": {},
   "cell_type": "markdown",
   "metadata": {},
   "source": [
    "#### Describe two methods for attaching context information to exception artefacts."
   ]
  },
  {
   "attachments": {},
   "cell_type": "markdown",
   "metadata": {},
   "source": [
    "* The __ __Process__ __ method for LoggerAdapter is where the contextual information is added to the logging output.  Its passes the message and keyword arguments of the logging call, and its passes back modified versions of these to use in the call to the underlying logger.\n",
    "\n",
    "* Other method that can be used in __exception()__, logs a message with level ERROR on this logger, The arguments are interpreted as for __debug()__.  Exception info is added to the logging message."
   ]
  },
  {
   "attachments": {},
   "cell_type": "markdown",
   "metadata": {},
   "source": [
    "# Question No. 04"
   ]
  },
  {
   "attachments": {},
   "cell_type": "markdown",
   "metadata": {},
   "source": [
    "#### Describe two methods for specifying the text of an exception object&#39;s error message."
   ]
  },
  {
   "attachments": {},
   "cell_type": "markdown",
   "metadata": {},
   "source": [
    "* __ __raise__ __ and __ __assert__ __ are two methods for specifying the text of an exception object's error message.\n",
    "\n",
    "* __ __raise__ __ method is used to trigger explicit exception, if certain condition is not as per requirement of programmer.  It helps in triggering exception as per need of programmer and logic.\n",
    "\n",
    "* There are few assertions that programmer always want to be True to avoid code failure, This type of requirement is fulfilled by __assert__ statement.\n",
    "\n",
    "* This statement takes a Boolean Condition output of which is True.  Further program executes, if output of assert statement is False it raises an __Assertion Error__."
   ]
  },
  {
   "attachments": {},
   "cell_type": "markdown",
   "metadata": {},
   "source": [
    "# Question No. 05"
   ]
  },
  {
   "attachments": {},
   "cell_type": "markdown",
   "metadata": {},
   "source": [
    "#### Why do you no longer use string-based exceptions?"
   ]
  },
  {
   "attachments": {},
   "cell_type": "markdown",
   "metadata": {},
   "source": [
    "String-based exceptions does not inherit from Exceptions.  So plain exceptions catch all exceptions and not only system."
   ]
  },
  {
   "attachments": {},
   "cell_type": "markdown",
   "metadata": {},
   "source": [
    "                                            completed\n",
    "\n",
    "                                                                      Santhosh Kumar"
   ]
  }
 ],
 "metadata": {
  "kernelspec": {
   "display_name": "Python 3",
   "language": "python",
   "name": "python3"
  },
  "language_info": {
   "codemirror_mode": {
    "name": "ipython",
    "version": 3
   },
   "file_extension": ".py",
   "mimetype": "text/x-python",
   "name": "python",
   "nbconvert_exporter": "python",
   "pygments_lexer": "ipython3",
   "version": "3.10.11"
  },
  "orig_nbformat": 4
 },
 "nbformat": 4,
 "nbformat_minor": 2
}
