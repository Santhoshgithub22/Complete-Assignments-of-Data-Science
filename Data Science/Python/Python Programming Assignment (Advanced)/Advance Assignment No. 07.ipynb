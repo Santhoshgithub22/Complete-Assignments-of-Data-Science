{
 "cells": [
  {
   "attachments": {},
   "cell_type": "markdown",
   "metadata": {},
   "source": [
    "# Python Advance Assignment No. 07"
   ]
  },
  {
   "attachments": {},
   "cell_type": "markdown",
   "metadata": {},
   "source": [
    "                                                     By\n",
    "\n",
    "                                               Santhosh Kumar"
   ]
  },
  {
   "attachments": {},
   "cell_type": "markdown",
   "metadata": {},
   "source": [
    "# Question No. 01"
   ]
  },
  {
   "attachments": {},
   "cell_type": "markdown",
   "metadata": {},
   "source": [
    "#### What is the purpose of the try statement?"
   ]
  },
  {
   "attachments": {},
   "cell_type": "markdown",
   "metadata": {},
   "source": [
    "* try statement is used for exception handling in python.\n",
    "\n",
    "* The purpose of try statement is whenever we write the code, its not possible to run everyline may be there is a chance to make a mistake, so if we write all our codes inside the try block suppose if there is any mistake it will throw the exception block and raise the exception message.\n",
    "\n",
    "* By using try block, we can easily able to find where actually mistakes happens.\n",
    "\n",
    "* try block always will work for only run time error not compile error."
   ]
  },
  {
   "cell_type": "code",
   "execution_count": 1,
   "metadata": {},
   "outputs": [
    {
     "name": "stdout",
     "output_type": "stream",
     "text": [
      "Division by Zero is Not Possible\n"
     ]
    }
   ],
   "source": [
    "try:\n",
    "    print(10/0)\n",
    "    \n",
    "except ZeroDivisionError:\n",
    "    print('Division by Zero is Not Possible')"
   ]
  },
  {
   "attachments": {},
   "cell_type": "markdown",
   "metadata": {},
   "source": [
    "# Question No. 02"
   ]
  },
  {
   "attachments": {},
   "cell_type": "markdown",
   "metadata": {},
   "source": [
    "#### What are the two most popular try statement variations?"
   ]
  },
  {
   "attachments": {},
   "cell_type": "markdown",
   "metadata": {},
   "source": [
    "The most popular try statement variations are\n",
    "\n",
    "    1, __ __try__ __, __ __except__ __\n",
    "\n",
    "    2, __ __try__ __, __ __except__ __, __ __finally__ __,\n",
    "\n",
    "    3, __ __try__ __, __ __except__ __, __ __finally__ __, __ __else__ __\n",
    "\n",
    "* The __ __try__ __ block is used to check code for exception during runtime, If all lines of code is correct it will not raise the exeception handling message.\n",
    "\n",
    "* The __ __except__ __ block is used suppose if any run time error is present inside the try block it will come into the __ __except__ __ block.\n",
    "\n",
    "* The __ __finally__ __ block message will execute only if try block will executed successfully.\n",
    "\n",
    "* The __ __else__ __ block message will execute always if try block will executed or not executed."
   ]
  },
  {
   "attachments": {},
   "cell_type": "markdown",
   "metadata": {},
   "source": [
    "# Question No. 03"
   ]
  },
  {
   "attachments": {},
   "cell_type": "markdown",
   "metadata": {},
   "source": [
    "#### What is the purpose of the raise statement?"
   ]
  },
  {
   "attachments": {},
   "cell_type": "markdown",
   "metadata": {},
   "source": [
    "* __ __raise__ __ statement is used to trigger an exception explicitly, If a certain condition is not as per requirement of programmer.\n",
    "\n",
    "* __ __raise__ __ statement helps in triggering exeception as per programming logic."
   ]
  },
  {
   "attachments": {},
   "cell_type": "markdown",
   "metadata": {},
   "source": [
    "# Question No. 04"
   ]
  },
  {
   "attachments": {},
   "cell_type": "markdown",
   "metadata": {},
   "source": [
    "#### What does the assert statement do, and what other statement is it like?"
   ]
  },
  {
   "attachments": {},
   "cell_type": "markdown",
   "metadata": {},
   "source": [
    "* There are few assertions that programmer always want to be true to avoid code failure.\n",
    "\n",
    "* This type of requirement is fulfilled by __ __assert__ __ statement.  This statement takes a boolean condition output of which is True, Further program executes, if output of __ __assert__ __ statement is False, it raises an Assertion Error."
   ]
  },
  {
   "cell_type": "code",
   "execution_count": 2,
   "metadata": {},
   "outputs": [
    {
     "ename": "AssertionError",
     "evalue": "this is not a valid statement",
     "output_type": "error",
     "traceback": [
      "\u001b[1;31m---------------------------------------------------------------------------\u001b[0m",
      "\u001b[1;31mAssertionError\u001b[0m                            Traceback (most recent call last)",
      "Cell \u001b[1;32mIn[2], line 1\u001b[0m\n\u001b[1;32m----> 1\u001b[0m \u001b[39massert\u001b[39;00m(\u001b[39m2\u001b[39m\u001b[39m==\u001b[39m\u001b[39m4\u001b[39m), \u001b[39mf\u001b[39m\u001b[39m\"\u001b[39m\u001b[39mthis is not a valid statement\u001b[39m\u001b[39m\"\u001b[39m\n",
      "\u001b[1;31mAssertionError\u001b[0m: this is not a valid statement"
     ]
    }
   ],
   "source": [
    "assert(2==4), f\"this is not a valid statement\""
   ]
  },
  {
   "attachments": {},
   "cell_type": "markdown",
   "metadata": {},
   "source": [
    "# Question No. 05"
   ]
  },
  {
   "attachments": {},
   "cell_type": "markdown",
   "metadata": {},
   "source": [
    "#### What is the purpose of the with/as argument, and what other statement is it like?"
   ]
  },
  {
   "attachments": {},
   "cell_type": "markdown",
   "metadata": {},
   "source": [
    "* With/as statement simplifies use of file handling in python, When we use a __ __with__ __ statement for file reading, there is no need for programmer explicity takecare of activities like resource deallocation and file closing by using file.close() method.\n",
    "\n",
    "* __ __with__ __ statement itself ensures proper acqusition and release of resources, this avoids triggering of exceptions if file closing is unknowingly forgotten in the code execution."
   ]
  },
  {
   "cell_type": "code",
   "execution_count": 3,
   "metadata": {},
   "outputs": [],
   "source": [
    "with open(\"samplefile.txt\", \"w\") as file:\n",
    "    file.write(\"Hello World!\")"
   ]
  },
  {
   "attachments": {},
   "cell_type": "markdown",
   "metadata": {},
   "source": [
    "                                            completed\n",
    "\n",
    "                                                                      Santhosh Kumar"
   ]
  }
 ],
 "metadata": {
  "kernelspec": {
   "display_name": "Python 3",
   "language": "python",
   "name": "python3"
  },
  "language_info": {
   "codemirror_mode": {
    "name": "ipython",
    "version": 3
   },
   "file_extension": ".py",
   "mimetype": "text/x-python",
   "name": "python",
   "nbconvert_exporter": "python",
   "pygments_lexer": "ipython3",
   "version": "3.10.11"
  },
  "orig_nbformat": 4
 },
 "nbformat": 4,
 "nbformat_minor": 2
}
