{
 "cells": [
  {
   "attachments": {},
   "cell_type": "markdown",
   "metadata": {},
   "source": [
    "# Python Advance Assignment No. 01"
   ]
  },
  {
   "attachments": {},
   "cell_type": "markdown",
   "metadata": {},
   "source": [
    "                                                         By\n",
    "\n",
    "                                                   Santhosh Kumar"
   ]
  },
  {
   "attachments": {},
   "cell_type": "markdown",
   "metadata": {},
   "source": [
    "# Question No. 01"
   ]
  },
  {
   "attachments": {},
   "cell_type": "markdown",
   "metadata": {},
   "source": [
    "#### What is the purpose of Python&#39;s OOP?"
   ]
  },
  {
   "attachments": {},
   "cell_type": "markdown",
   "metadata": {},
   "source": [
    "OOP stands for Object Oriented Programme.  OOPs providing the structureness of our codes, so that properties and behaviours are bundled into individual object.\n",
    "\n",
    "    * OOP concept aims to implement the real world entities like inheritance, multiple inheritance, multi level inheritance, polymorphism, abstraction, method overriding, method overloading, etc.,\n",
    "\n",
    "    * The main concept of the OOPs is bind the data and function that working on that together in a single unit/method.\n",
    "    So, no other part of the data can be access it.\n",
    "\n",
    "    * The advantages of OOPs concept are if we write our codes by using oops concept then it will look like a story mode, easy to understand our code.  Very easy to maintain our code, easy to change, easy to access, utilize and reutilize.  OOPs will give us more flexibility to our code."
   ]
  },
  {
   "attachments": {},
   "cell_type": "markdown",
   "metadata": {},
   "source": [
    "by using __class__ keyword, we can able to create a class, and we can store our methods in a variable that is called as __object__."
   ]
  },
  {
   "attachments": {},
   "cell_type": "markdown",
   "metadata": {},
   "source": [
    "# Question No. 02"
   ]
  },
  {
   "attachments": {},
   "cell_type": "markdown",
   "metadata": {},
   "source": [
    "#### Where does an inheritance search look for an attribute?"
   ]
  },
  {
   "attachments": {},
   "cell_type": "markdown",
   "metadata": {},
   "source": [
    "An inheritance search looks for an attribute first in the instance object, then in the class the instance was created from, then in all higher superclass, progressing from left to right (by default).  The search stops at the first place the attribute is found."
   ]
  },
  {
   "attachments": {},
   "cell_type": "markdown",
   "metadata": {},
   "source": [
    "# Question No. 03"
   ]
  },
  {
   "attachments": {},
   "cell_type": "markdown",
   "metadata": {},
   "source": [
    "#### How do you distinguish between a class object and an instance object?"
   ]
  },
  {
   "attachments": {},
   "cell_type": "markdown",
   "metadata": {},
   "source": [
    "The difference between class object and instance object are:\n",
    "\n",
    "    * Class is a template for creating objects, whereas object is an instance of class.\n",
    "\n",
    "    * Separate memory is allocated for each object whenever object is created, but for a class its doesnot happens.\n",
    "\n",
    "    * A class is created once.  Many objects are created by using a class.\n",
    "\n",
    "    * As classes have no allocated memory, they can't be manipulated, but objects can be manipulated."
   ]
  },
  {
   "attachments": {},
   "cell_type": "markdown",
   "metadata": {},
   "source": [
    "(i) Class object:"
   ]
  },
  {
   "cell_type": "code",
   "execution_count": 1,
   "metadata": {},
   "outputs": [
    {
     "name": "stdout",
     "output_type": "stream",
     "text": [
      "<class '__main__.Car'>\n"
     ]
    }
   ],
   "source": [
    "class Car:\n",
    "    def __init__(self, brand):\n",
    "        self.brand = brand\n",
    "\n",
    "print(Car)  # Output: <class '__main__.Car'>\n"
   ]
  },
  {
   "attachments": {},
   "cell_type": "markdown",
   "metadata": {},
   "source": [
    "(ii) Instance object:"
   ]
  },
  {
   "cell_type": "code",
   "execution_count": 4,
   "metadata": {},
   "outputs": [
    {
     "name": "stdout",
     "output_type": "stream",
     "text": [
      "<__main__.Car object at 0x0000013CE92EC210>\n",
      "<__main__.Car object at 0x0000013CE92E7F50>\n"
     ]
    }
   ],
   "source": [
    "class Car:\n",
    "    def __init__(self, brand):\n",
    "        self.brand = brand\n",
    "\n",
    "car1 = Car(\"Toyota\")\n",
    "print(car1)     # Output: <__main__.Car object at 0x000001>\n",
    "\n",
    "car2 = Car(\"Honda\")\n",
    "print(car2)     # Output: <__main__.Car object at 0x000002>"
   ]
  },
  {
   "attachments": {},
   "cell_type": "markdown",
   "metadata": {},
   "source": [
    "# Question No. 04"
   ]
  },
  {
   "attachments": {},
   "cell_type": "markdown",
   "metadata": {},
   "source": [
    "#### What makes the first argument in a class’s method function special?"
   ]
  },
  {
   "attachments": {},
   "cell_type": "markdown",
   "metadata": {},
   "source": [
    "Python classes usually having 3 types of methods, there are Instance method, class method and static method.\n",
    "\n",
    "* Instance Method ----> Object Level Method\n",
    "\n",
    "* Class Method ----> Class Level Method\n",
    "\n",
    "* Static Method ----> General Utility Method\n",
    "\n",
    "    * Self is the very first argument inside the classes, self is not a keyword we can use any name whatever we want, self is called as a pointer, it will use to pass our data to our class."
   ]
  },
  {
   "attachments": {},
   "cell_type": "markdown",
   "metadata": {},
   "source": [
    "# Question No. 05"
   ]
  },
  {
   "attachments": {},
   "cell_type": "markdown",
   "metadata": {},
   "source": [
    "#### What is the purpose of the __init__ method?"
   ]
  },
  {
   "attachments": {},
   "cell_type": "markdown",
   "metadata": {},
   "source": [
    "__init__ is the reserved method in the python class.  __init__ is called as a constructor.  \n",
    "\n",
    "Whenever we want to pass the same parameter then we should use this init function,\n",
    "\n",
    "Constructor is nothing but its a kind of entity/function/method which will helps my class to take input.\n",
    "\n",
    "Constructor is a responsible for providing a data to the particular class.  That is something called as constructor."
   ]
  },
  {
   "attachments": {},
   "cell_type": "markdown",
   "metadata": {},
   "source": [
    "# Question No. 06"
   ]
  },
  {
   "attachments": {},
   "cell_type": "markdown",
   "metadata": {},
   "source": [
    "#### What is the process for creating a class instance?"
   ]
  },
  {
   "attachments": {},
   "cell_type": "markdown",
   "metadata": {},
   "source": [
    "To create a class instance, we need to call the class name, and pass the arguments to the class which is __init__ accepts.\n",
    "\n",
    "my_name = my_class(\"Santhosh\",\"Kumar\") \n",
    "\n",
    "Here my_name is an instance of class and my_class with attributes \"Santhosh\" and \"Kumar\"."
   ]
  },
  {
   "attachments": {},
   "cell_type": "markdown",
   "metadata": {},
   "source": [
    "# Question No. 07"
   ]
  },
  {
   "attachments": {},
   "cell_type": "markdown",
   "metadata": {},
   "source": [
    "#### What is the process for creating a class?"
   ]
  },
  {
   "attachments": {},
   "cell_type": "markdown",
   "metadata": {},
   "source": [
    "The process of creating a class is with the help of class keyword we can able to create a class, and inside the class we can able to create a function whatever we want.\n",
    "\n",
    "Syntax to create a class:\n",
    "\n",
    "class CLASSNAME:\n",
    "\n",
    "    pass\n",
    "\n",
    "class ANIMAL:\n",
    "\n",
    "    (It will create a animal class)."
   ]
  },
  {
   "attachments": {},
   "cell_type": "markdown",
   "metadata": {},
   "source": [
    "# Question No. 08"
   ]
  },
  {
   "attachments": {},
   "cell_type": "markdown",
   "metadata": {},
   "source": [
    "#### How would you define the superclasses of a class?"
   ]
  },
  {
   "attachments": {},
   "cell_type": "markdown",
   "metadata": {},
   "source": [
    "The super class is also called as the parent class.  It is given argument to the child class / base class.\n",
    "\n",
    "class Employee(Person): Here child class Employee inherits attributes and methods from Superclass/Parent Person."
   ]
  },
  {
   "attachments": {},
   "cell_type": "markdown",
   "metadata": {},
   "source": [
    "                                                completed\n",
    "\n",
    "                                                                          Santhosh Kumar"
   ]
  }
 ],
 "metadata": {
  "kernelspec": {
   "display_name": "Python 3",
   "language": "python",
   "name": "python3"
  },
  "language_info": {
   "codemirror_mode": {
    "name": "ipython",
    "version": 3
   },
   "file_extension": ".py",
   "mimetype": "text/x-python",
   "name": "python",
   "nbconvert_exporter": "python",
   "pygments_lexer": "ipython3",
   "version": "3.11.1"
  },
  "orig_nbformat": 4
 },
 "nbformat": 4,
 "nbformat_minor": 2
}
