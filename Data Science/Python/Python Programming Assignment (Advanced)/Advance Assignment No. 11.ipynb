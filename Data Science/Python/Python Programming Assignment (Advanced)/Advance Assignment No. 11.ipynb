{
 "cells": [
  {
   "attachments": {},
   "cell_type": "markdown",
   "metadata": {},
   "source": [
    "# Python Advance Assignment No. 11"
   ]
  },
  {
   "attachments": {},
   "cell_type": "markdown",
   "metadata": {},
   "source": [
    "                                                     By\n",
    "\n",
    "                                               Santhosh Kumar"
   ]
  },
  {
   "attachments": {},
   "cell_type": "markdown",
   "metadata": {},
   "source": [
    "# Question No. 01"
   ]
  },
  {
   "attachments": {},
   "cell_type": "markdown",
   "metadata": {},
   "source": [
    "#### What is the concept of a metaclass?"
   ]
  },
  {
   "attachments": {},
   "cell_type": "markdown",
   "metadata": {},
   "source": [
    "* Metaclass in python is a class of a class.\n",
    "\n",
    "* That defines how a class behaves.\n",
    "\n",
    "* A class is itself a instance of metaclass, and any instance of class in python is an instance of type metaclass.\n",
    "\n",
    "Example : __int__, __str__, __float__, __list__, __tuple__ and many more is of metaclass type."
   ]
  },
  {
   "attachments": {},
   "cell_type": "markdown",
   "metadata": {},
   "source": [
    "# Question No. 02"
   ]
  },
  {
   "attachments": {},
   "cell_type": "markdown",
   "metadata": {},
   "source": [
    "#### What is the best way to declare a class&#39;s metaclass?"
   ]
  },
  {
   "cell_type": "code",
   "execution_count": 1,
   "metadata": {},
   "outputs": [
    {
     "name": "stdout",
     "output_type": "stream",
     "text": [
      "<class 'type'>\n",
      "<class '__main__.meta'>\n"
     ]
    }
   ],
   "source": [
    "class meta(type):\n",
    "    pass\n",
    "\n",
    "class class_meta(metaclass=meta):\n",
    "    pass\n",
    "\n",
    "print(type(meta))\n",
    "print(type(class_meta))"
   ]
  },
  {
   "attachments": {},
   "cell_type": "markdown",
   "metadata": {},
   "source": [
    "# Question No. 03"
   ]
  },
  {
   "attachments": {},
   "cell_type": "markdown",
   "metadata": {},
   "source": [
    "#### How do class decorators overlap with metaclasses for handling classes?"
   ]
  },
  {
   "attachments": {},
   "cell_type": "markdown",
   "metadata": {},
   "source": [
    "* Anything we can do with a class decorator, you can of course do with a custom metaclass.\n",
    "\n",
    "(Just apply functionality of the \"decorator function\", i.e., the one that takes a class object and modifies it, in the course of the metaclass's __ __new__ __ or __ __init__ __ that make the class object!)."
   ]
  },
  {
   "attachments": {},
   "cell_type": "markdown",
   "metadata": {},
   "source": [
    "                                            completed\n",
    "\n",
    "                                                                      Santhosh Kumar"
   ]
  }
 ],
 "metadata": {
  "kernelspec": {
   "display_name": "Python 3",
   "language": "python",
   "name": "python3"
  },
  "language_info": {
   "codemirror_mode": {
    "name": "ipython",
    "version": 3
   },
   "file_extension": ".py",
   "mimetype": "text/x-python",
   "name": "python",
   "nbconvert_exporter": "python",
   "pygments_lexer": "ipython3",
   "version": "3.10.11"
  },
  "orig_nbformat": 4
 },
 "nbformat": 4,
 "nbformat_minor": 2
}
