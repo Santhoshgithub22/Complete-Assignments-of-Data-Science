{
 "cells": [
  {
   "attachments": {},
   "cell_type": "markdown",
   "metadata": {},
   "source": [
    "# Python Advance Assignment No. 02"
   ]
  },
  {
   "attachments": {},
   "cell_type": "markdown",
   "metadata": {},
   "source": [
    "                                                         By\n",
    "\n",
    "                                                   Santhosh Kumar"
   ]
  },
  {
   "attachments": {},
   "cell_type": "markdown",
   "metadata": {},
   "source": [
    "# Question No. 01"
   ]
  },
  {
   "attachments": {},
   "cell_type": "markdown",
   "metadata": {},
   "source": [
    "#### What is the relationship between classes and modules?"
   ]
  },
  {
   "attachments": {},
   "cell_type": "markdown",
   "metadata": {},
   "source": [
    "In python, Classes and Modules both are fundamendal concepts, both are playing very important role.  But they serving different purposes and distinct relationship.\n",
    "\n",
    "Classes ----> The classes is a blueprint or template that defines that defines the attribute and behaviour of the object.\n",
    "\n",
    "Modules ----> Modules is containing a python code, typically with the '.py' extension.  Modules are used to organize the related code into separate files, making it easier to manage and reuse.  Whenever we want to use the same code we dont want to write that code again and again, simply creating a python file write the code once, and we can able to import it.  by using this way modules is very much useful to save our time too.\n",
    "\n",
    "\n",
    "Relationship between Classes and Modules:\n",
    "\n",
    "* A module can contain one or more class definition along with other code elements.\n",
    "\n",
    "* Modules providing a high level organizational structure, while classes define the specific structure and behaviour of object within that module."
   ]
  },
  {
   "attachments": {},
   "cell_type": "markdown",
   "metadata": {},
   "source": [
    "# Question No. 02"
   ]
  },
  {
   "attachments": {},
   "cell_type": "markdown",
   "metadata": {},
   "source": [
    "#### How do you make instances and classes?"
   ]
  },
  {
   "attachments": {},
   "cell_type": "markdown",
   "metadata": {},
   "source": [
    "Classes -----> With the help of the class keyword we can able to make a classes.  Inside the class define attributes and functions (methods) that will define the behaviour of instances created from the class.\n",
    "\n",
    "Instances ----> Inside the classes we can able to create a __init__ function.  The __init__ method initialize the instance with specific attribute values."
   ]
  },
  {
   "cell_type": "code",
   "execution_count": 2,
   "metadata": {},
   "outputs": [],
   "source": [
    "class car:\n",
    "\n",
    "    def __init__(self, brand, colour):\n",
    "        self.brand = brand\n",
    "        self.colour = colour\n",
    "\n",
    "    def describing(self):\n",
    "        print(f\"The car is {self.brand} brand and its {self.colour} colour\")\n",
    "\n",
    "OMNI = car(\"Omni\", \"Red\")"
   ]
  },
  {
   "cell_type": "code",
   "execution_count": 5,
   "metadata": {},
   "outputs": [
    {
     "data": {
      "text/plain": [
       "'Omni'"
      ]
     },
     "execution_count": 5,
     "metadata": {},
     "output_type": "execute_result"
    }
   ],
   "source": [
    "OMNI.brand"
   ]
  },
  {
   "cell_type": "code",
   "execution_count": 6,
   "metadata": {},
   "outputs": [
    {
     "data": {
      "text/plain": [
       "'Red'"
      ]
     },
     "execution_count": 6,
     "metadata": {},
     "output_type": "execute_result"
    }
   ],
   "source": [
    "OMNI.colour"
   ]
  },
  {
   "cell_type": "code",
   "execution_count": 7,
   "metadata": {},
   "outputs": [
    {
     "name": "stdout",
     "output_type": "stream",
     "text": [
      "The car is Omni brand and its Red colour\n"
     ]
    }
   ],
   "source": [
    "OMNI.describing()"
   ]
  },
  {
   "attachments": {},
   "cell_type": "markdown",
   "metadata": {},
   "source": [
    "# Question No. 03"
   ]
  },
  {
   "attachments": {},
   "cell_type": "markdown",
   "metadata": {},
   "source": [
    "#### Where and how should be class attributes created?"
   ]
  },
  {
   "attachments": {},
   "cell_type": "markdown",
   "metadata": {},
   "source": [
    "__CLASS ATTRIBUTES__ ----> Class attributes should be created in inside the class definition and outside the class methods/function.  They are defined directly under the class declaration and are shared among all instances of class.\n",
    "\n",
    "Class attributes are accessed by using the class name itself.\n",
    "\n",
    "Here is an example of class attributes."
   ]
  },
  {
   "cell_type": "code",
   "execution_count": 8,
   "metadata": {},
   "outputs": [],
   "source": [
    "class marks:\n",
    "\n",
    "    total_marks = 100 # class attributes\n",
    "\n",
    "    def __init__(self, marks_scored):\n",
    "        self.marks_scored = marks_scored\n",
    "\n",
    "    def details(self):\n",
    "        print(f\"The person scored {self.marks_scored}\")\n",
    "\n",
    "MARKS = marks(88)"
   ]
  },
  {
   "cell_type": "code",
   "execution_count": 12,
   "metadata": {},
   "outputs": [
    {
     "data": {
      "text/plain": [
       "100"
      ]
     },
     "execution_count": 12,
     "metadata": {},
     "output_type": "execute_result"
    }
   ],
   "source": [
    "MARKS.total_marks # class attributes"
   ]
  },
  {
   "cell_type": "code",
   "execution_count": 15,
   "metadata": {},
   "outputs": [
    {
     "name": "stdout",
     "output_type": "stream",
     "text": [
      "The person scored 88\n"
     ]
    }
   ],
   "source": [
    "MARKS.details()"
   ]
  },
  {
   "attachments": {},
   "cell_type": "markdown",
   "metadata": {},
   "source": [
    "# Question No. 04"
   ]
  },
  {
   "attachments": {},
   "cell_type": "markdown",
   "metadata": {},
   "source": [
    "#### Where and how are instance attributes created?"
   ]
  },
  {
   "attachments": {},
   "cell_type": "markdown",
   "metadata": {},
   "source": [
    "__INSTANCE ATTRIBUTES__ ----> Instance attributes is created inside the classes __init__ function, which serves the constructor for the class"
   ]
  },
  {
   "cell_type": "code",
   "execution_count": 17,
   "metadata": {},
   "outputs": [],
   "source": [
    "class marks:\n",
    "\n",
    "    def __init__(self, marks_scored):\n",
    "        self.marks_scored = marks_scored # instance attributes\n",
    "\n",
    "    def details(self):\n",
    "        print(f\"The person scored {self.marks_scored}\")\n",
    "\n",
    "Person1 = marks(88)\n",
    "Person2 = marks(93)"
   ]
  },
  {
   "cell_type": "code",
   "execution_count": 19,
   "metadata": {},
   "outputs": [
    {
     "name": "stdout",
     "output_type": "stream",
     "text": [
      "The person scored 88\n"
     ]
    }
   ],
   "source": [
    "Person1.details()"
   ]
  },
  {
   "cell_type": "code",
   "execution_count": 20,
   "metadata": {},
   "outputs": [
    {
     "name": "stdout",
     "output_type": "stream",
     "text": [
      "The person scored 93\n"
     ]
    }
   ],
   "source": [
    "Person2.details()"
   ]
  },
  {
   "attachments": {},
   "cell_type": "markdown",
   "metadata": {},
   "source": [
    "# Question No. 05"
   ]
  },
  {
   "attachments": {},
   "cell_type": "markdown",
   "metadata": {},
   "source": [
    "#### What does the term &quot;self&quot; in a Python class mean?"
   ]
  },
  {
   "attachments": {},
   "cell_type": "markdown",
   "metadata": {},
   "source": [
    "* Self is a pointer, self is not a reserved keyword we can use any name for that.\n",
    "\n",
    "* Inside the class functions, the very first parameter is self.\n",
    "\n",
    "* Self is a pointer, which is responsible for pointing to the class.\n",
    "\n",
    "* self is not a reserved keyword we can use any name for that.\n",
    "\n",
    "* By using the self keyword we can access the attributes and methods of the class with in the class in python.  It binds the attributes with the given arguments."
   ]
  },
  {
   "attachments": {},
   "cell_type": "markdown",
   "metadata": {},
   "source": [
    "# Question No. 06"
   ]
  },
  {
   "attachments": {},
   "cell_type": "markdown",
   "metadata": {},
   "source": [
    "#### How does a Python class handle operator overloading?"
   ]
  },
  {
   "attachments": {},
   "cell_type": "markdown",
   "metadata": {},
   "source": [
    "Python classes handle operator overloading by using special methods called as __Magic Methods__.  This magic method usually begin with __ (double underscore) and ends with also (double underscore) __.\n",
    "\n",
    "For eg.,\n",
    "\n",
    "Magic methods for operators are,\n",
    "\n",
    "__add__ ----> For addition\n",
    "\n",
    "__sub__ ----> For subtraction\n",
    "\n",
    "__mul__ ----> For multiplication\n",
    "\n",
    "__div__ ----> For division"
   ]
  },
  {
   "cell_type": "code",
   "execution_count": 47,
   "metadata": {},
   "outputs": [],
   "source": [
    "class calculator:\n",
    "\n",
    "    def __init__(self, first_book_page, second_book_page):\n",
    "        self.first_book_page = first_book_page\n",
    "        self.second_book_page = second_book_page\n",
    "\n",
    "    def __add__(self):\n",
    "        return(f\"The addition of first book page and second book page is {self.first_book_page + self.second_book_page}\")\n",
    "\n",
    "    def __sub__(self):\n",
    "        return(f\"The subtraction of first book page and second book page is {self.first_book_page - self.second_book_page}\")\n",
    "\n",
    "    def __mul__(self):\n",
    "        return(f\"The addition of first book page and second book page is {self.first_book_page + self.second_book_page}\")\n",
    "\n",
    "    def __div__(self):\n",
    "        return(f\"The addition of first book page and second book page is {self.first_book_page / self.second_book_page}\")"
   ]
  },
  {
   "cell_type": "code",
   "execution_count": 48,
   "metadata": {},
   "outputs": [],
   "source": [
    "calculator = calculator(23,2)"
   ]
  },
  {
   "cell_type": "code",
   "execution_count": 49,
   "metadata": {},
   "outputs": [
    {
     "name": "stdout",
     "output_type": "stream",
     "text": [
      "The addition of first book page and second book page is 25\n",
      "The subtraction of first book page and second book page is 21\n",
      "The addition of first book page and second book page is 25\n",
      "The addition of first book page and second book page is 11.5\n"
     ]
    }
   ],
   "source": [
    "print(calculator.__add__())\n",
    "print(calculator.__sub__())\n",
    "print(calculator.__mul__())\n",
    "print(calculator.__div__())"
   ]
  },
  {
   "attachments": {},
   "cell_type": "markdown",
   "metadata": {},
   "source": [
    "# Question No. 07"
   ]
  },
  {
   "attachments": {},
   "cell_type": "markdown",
   "metadata": {},
   "source": [
    "#### When do you consider allowing operator overloading of your classes?"
   ]
  },
  {
   "attachments": {},
   "cell_type": "markdown",
   "metadata": {},
   "source": [
    "When we want to have different meaning for the same operator according to the context we use operator overloading."
   ]
  },
  {
   "attachments": {},
   "cell_type": "markdown",
   "metadata": {},
   "source": [
    "# Question No. 08"
   ]
  },
  {
   "attachments": {},
   "cell_type": "markdown",
   "metadata": {},
   "source": [
    "#### What is the most popular form of operator overloading?"
   ]
  },
  {
   "cell_type": "code",
   "execution_count": 51,
   "metadata": {},
   "outputs": [
    {
     "name": "stdout",
     "output_type": "stream",
     "text": [
      "6 8\n",
      "2 2\n",
      "4 6\n"
     ]
    }
   ],
   "source": [
    "class Vector:\n",
    "    def __init__(self, x, y):\n",
    "        self.x = x\n",
    "        self.y = y\n",
    "\n",
    "    def __add__(self, other):\n",
    "        return Vector(self.x + other.x, self.y + other.y)\n",
    "\n",
    "    def __sub__(self, other):\n",
    "        return Vector(self.x - other.x, self.y - other.y)\n",
    "\n",
    "    def __mul__(self, scalar):\n",
    "        return Vector(self.x * scalar, self.y * scalar)\n",
    "\n",
    "vector1 = Vector(2, 3)\n",
    "vector2 = Vector(4, 5)\n",
    "\n",
    "result1 = vector1 + vector2\n",
    "print(result1.x, result1.y)   \n",
    "\n",
    "result2 = vector2 - vector1\n",
    "print(result2.x, result2.y)  \n",
    "\n",
    "result3 = vector1 * 2\n",
    "print(result3.x, result3.y)   "
   ]
  },
  {
   "attachments": {},
   "cell_type": "markdown",
   "metadata": {},
   "source": [
    "# Question No. 09"
   ]
  },
  {
   "attachments": {},
   "cell_type": "markdown",
   "metadata": {},
   "source": [
    "__Classes__ and __objects__ are the two concepts to comprehend python OOP code as more formally objects are entities that represent instances of general abstract concept called class\n",
    "\n",
    "Along with classes and objects the important concepts to grasp are:\n",
    "\n",
    "__Inheritence__\n",
    "\n",
    "__Abstraction__\n",
    "\n",
    "__Polymorphism__\n",
    "\n",
    "__Encapsulation__"
   ]
  },
  {
   "attachments": {},
   "cell_type": "markdown",
   "metadata": {},
   "source": [
    "                                                completed\n",
    "\n",
    "                                                                          Santhosh Kumar"
   ]
  }
 ],
 "metadata": {
  "kernelspec": {
   "display_name": "Python 3",
   "language": "python",
   "name": "python3"
  },
  "language_info": {
   "codemirror_mode": {
    "name": "ipython",
    "version": 3
   },
   "file_extension": ".py",
   "mimetype": "text/x-python",
   "name": "python",
   "nbconvert_exporter": "python",
   "pygments_lexer": "ipython3",
   "version": "3.11.1"
  },
  "orig_nbformat": 4
 },
 "nbformat": 4,
 "nbformat_minor": 2
}
