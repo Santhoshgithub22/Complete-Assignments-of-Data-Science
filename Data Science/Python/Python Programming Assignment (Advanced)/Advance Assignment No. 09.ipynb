{
 "cells": [
  {
   "attachments": {},
   "cell_type": "markdown",
   "metadata": {},
   "source": [
    "# Python Advance Assignment No. 09"
   ]
  },
  {
   "attachments": {},
   "cell_type": "markdown",
   "metadata": {},
   "source": [
    "                                                     By\n",
    "\n",
    "                                               Santhosh Kumar"
   ]
  },
  {
   "attachments": {},
   "cell_type": "markdown",
   "metadata": {},
   "source": [
    "# Question No. 01"
   ]
  },
  {
   "attachments": {},
   "cell_type": "markdown",
   "metadata": {},
   "source": [
    "#### In Python 3.X, what are the names and functions of string object types?"
   ]
  },
  {
   "attachments": {},
   "cell_type": "markdown",
   "metadata": {},
   "source": [
    "The following are the names and functions of string object types in Python 3.X\n",
    "\n",
    "* string.isdecimal() -> Returns True if all characters in a string are decimal.\n",
    "\n",
    "* string.isalnum() -> Returns True if all characters in the string are AlphaNumeric.\n",
    "\n",
    "* string.istitle() -> Returns True if first character in a string is in Uppercase.\n",
    "\n",
    "* string.partition(sub_string) -> Splits string at first occurance of sub string and returns a tuple of 3 elements.\n",
    "\n",
    "* string.rpartition(sub_string) -> Splits string at last occurance of sub string and returns a tuple of 3 elements.\n",
    "\n",
    "* string.isidentifier() -> Returns True if give string is a valid identifier name.\n",
    "\n",
    "* len(string) -> Returns the length of the given string.\n",
    "\n",
    "* string.index(sub_string) -> Returns the lowest index of substring if substring is found in the string.\n",
    "\n",
    "* string.rindex(sub_string) -> Returns the highest index of substring if substring is found in the string.\n",
    "\n",
    "* max(string) -> Returns the highest Alphabetical Character in the string as per ASCII.\n",
    "\n",
    "* min(string) -> Returns the lowest Alphabetical Character in the string as per ASCII.\n",
    "\n",
    "* string.splitlines() -> Returns a list of lines in the string.\n",
    "\n",
    "* string.capitalize() -> Returns the string with first character capitalized.\n",
    "\n",
    "* string.upper() -> Returns the string with all characters in uppercase.\n",
    "\n",
    "* string.lower() -> Returns the string with all characters in lowercase\n",
    "\n",
    "* string.casefold() -> Returns the string in lowercase which can be used for caseless comparisions.\n",
    "\n",
    "* string.expandtabs(no_of_spaces) -> Replaces tabs in a string with specified no of spaces default is 8\n",
    "\n",
    "* string.find(sub_string) -> Returns lowest index of substring if substring is found in the string else returns -1.\n",
    "\n",
    "* string.rfind(sub_string) -> Returns highest index of substring if substring is found in the string else returns -1.\n",
    "\n",
    "* string.count(char) -> Returns the no of occurances of the char in the given string.\n",
    "\n",
    "* string.split(sep) -> Returns list of words seperated by given sep else seperated by whitespace.\n",
    "\n",
    "* string.rsplit(sep) -> Returns list of words seperated by given sep else seperated by whitespace scanning from end.\n",
    "\n",
    "* string.lstrip() -> Returns a copy of where leading whitespaces are removed.\n",
    "\n",
    "* string.rstrip() -> Returns a copy of where trailed whitespaces are removed.\n",
    "\n",
    "* string.strip() -> Returns a copy of where both leading and trailing whitespaces are removed.\n",
    "\n",
    "* string.swapcase() -> Swaps lowercase characters with uppercase and vice versa.\n",
    "\n",
    "* sep.join(list) -> Concatenates a list or tuple of words with intervening occuernces of sep.\n",
    "\n",
    "* string.translate(mapping_table) -> translates the characters using table.\n",
    "\n",
    "* string.maketrans(dict) -> Creating a mapping translation tbale usable for string.translate(mapping_table)\n",
    "\n",
    "* string.replace(char_1,char_2) -> Replace all occurances of char_1 with char_2 in string.\n",
    "\n",
    "* string.encode() -> Encodes string into any encoding supported by python. Default encoding is UTF-8.\n",
    "\n",
    "* string.ljust(no_of_spaces) -> Left-justify in a field of given width.\n",
    "\n",
    "* string.rjust(no_of_spaces) -> Right-justify in a field of given width.\n",
    "\n",
    "* string.center(no_of_spaces) -> Center-justify in a field of given width.\n",
    "\n",
    "* stirng.zfill(length) -> Zfill adds zeros to the begining of string until the specified length is reached."
   ]
  },
  {
   "cell_type": "code",
   "execution_count": 1,
   "metadata": {},
   "outputs": [
    {
     "name": "stdout",
     "output_type": "stream",
     "text": [
      "True\n",
      "True\n",
      "False\n",
      "('\"I could eat ', 'bananas', ' all day, bananas are my favorite fruit\"')\n",
      "('\"I could eat bananas all day, ', 'bananas', ' are my favorite fruit\"')\n",
      "True\n",
      "17\n",
      "1\n",
      "6\n",
      "t\n",
      "A\n",
      "['Ineuron ', ' Full Stack ', ' Data Science ', ' Course ']\n",
      "Finding nemo\n",
      "DATAPIPELINES\n",
      "mlops\n",
      "doloris jane umbridge\n",
      "Data science    Data Analyst\n",
      "1\n",
      "6\n",
      "2\n",
      "['i', 'euro', '']\n",
      "['i', 'euro', '']\n",
      "EDA \n",
      " EDA\n",
      "EDA\n",
      "eXPLORATORY dATA aNALYSIS\n",
      "Iris_flower_Dataset\n",
      "Hello Pam!\n",
      "Hello Pam!\n",
      "I2euro2\n",
      "b'Natural Language Processing'\n",
      "Nemo      \n",
      "      Nemo\n",
      "   Nemo   \n",
      "00000Hello\n"
     ]
    }
   ],
   "source": [
    "print('1234567890'.isdecimal())\n",
    "print('IneuronFullStackDS'.isalnum())\n",
    "print('Ineuron Full Stack Data science'.istitle())\n",
    "print('\"I could eat bananas all day, bananas are my favorite fruit\"'.partition('bananas'))\n",
    "print('\"I could eat bananas all day, bananas are my favorite fruit\"'.rpartition('bananas'))\n",
    "print('GeeksForFreaks'.isidentifier())\n",
    "print(len('Linear Regression'))\n",
    "print('Ineuron'.index('n'))\n",
    "print('Ineuron'.rindex('n'))\n",
    "print(max('Data_Scientist'))\n",
    "print(min('Data_Analyst'))\n",
    "print('Ineuron \\n Full Stack \\n Data Science \\n Course '.splitlines())\n",
    "print('finding nemo'.capitalize())\n",
    "print('datapipelines'.upper())\n",
    "print('MLOPS'.lower())\n",
    "print('Doloris Jane Umbridge'.casefold())\n",
    "print('Data science\\tData Analyst'.expandtabs(8))\n",
    "print('Ineuron'.find('n'))\n",
    "print('Ineuron'.rfind('n'))\n",
    "print('Transformers'.count('s'))\n",
    "print('ineuron'.split('n'))\n",
    "print('ineuron'.rsplit('n'))\n",
    "print(' EDA '.lstrip())\n",
    "print(' EDA '.rstrip())\n",
    "print(' EDA '.strip())\n",
    "print('Exploratory Data Analysis'.swapcase())\n",
    "print('_'.join(['Iris','flower','Dataset']))\n",
    "\n",
    "mydict = {83:  80}\n",
    "print(\"Hello Sam!\".translate(mydict))\n",
    "\n",
    "txt = \"Hello Sam!\"\n",
    "mytable = txt.maketrans(\"S\", \"P\")\n",
    "print(txt.translate(mytable))\n",
    "\n",
    "print('Ineuron'.replace('n','2'))\n",
    "print('Natural Language Processing'.encode())\n",
    "print('Nemo'.ljust(10))\n",
    "print('Nemo'.rjust(10))\n",
    "print('Nemo'.center(10))\n",
    "print('Hello'.zfill(10))"
   ]
  },
  {
   "attachments": {},
   "cell_type": "markdown",
   "metadata": {},
   "source": [
    "# Question No. 02"
   ]
  },
  {
   "attachments": {},
   "cell_type": "markdown",
   "metadata": {},
   "source": [
    "#### How do the string forms in Python 3.X vary in terms of operations?"
   ]
  },
  {
   "attachments": {},
   "cell_type": "markdown",
   "metadata": {},
   "source": [
    "In Python 3.X default format of string is unicode, whereas in Python 2 we need to explicitly mention Unicode value as __u__."
   ]
  },
  {
   "attachments": {},
   "cell_type": "markdown",
   "metadata": {},
   "source": [
    "# Question No. 03"
   ]
  },
  {
   "attachments": {},
   "cell_type": "markdown",
   "metadata": {},
   "source": [
    "#### In 3.X, how do you put non-ASCII Unicode characters in a string?"
   ]
  },
  {
   "attachments": {},
   "cell_type": "markdown",
   "metadata": {},
   "source": [
    "In python 3.X __unidecode()__ method from unidecode library can be used to put non-ASCII Unicode Characters in a String."
   ]
  },
  {
   "cell_type": "code",
   "execution_count": 2,
   "metadata": {},
   "outputs": [
    {
     "name": "stdout",
     "output_type": "stream",
     "text": [
      "Collecting unidecode\n",
      "  Downloading Unidecode-1.3.6-py3-none-any.whl (235 kB)\n",
      "     ---------------------------------------- 0.0/235.9 kB ? eta -:--:--\n",
      "     -------------------------------------- 235.9/235.9 kB 7.3 MB/s eta 0:00:00\n",
      "Installing collected packages: unidecode\n",
      "Successfully installed unidecode-1.3.6\n",
      "Note: you may need to restart the kernel to use updated packages.\n"
     ]
    },
    {
     "name": "stderr",
     "output_type": "stream",
     "text": [
      "\n",
      "[notice] A new release of pip is available: 23.0.1 -> 23.1.2\n",
      "[notice] To update, run: C:\\Users\\msant\\AppData\\Local\\Microsoft\\WindowsApps\\PythonSoftwareFoundation.Python.3.10_qbz5n2kfra8p0\\python.exe -m pip install --upgrade pip\n"
     ]
    }
   ],
   "source": [
    "pip install unidecode"
   ]
  },
  {
   "cell_type": "code",
   "execution_count": 3,
   "metadata": {},
   "outputs": [
    {
     "name": "stdout",
     "output_type": "stream",
     "text": [
      "Cafe\n"
     ]
    }
   ],
   "source": [
    "from unidecode import unidecode\n",
    "\n",
    "unicode_text = \"Café\"\n",
    "ascii_text = unidecode(unicode_text)\n",
    "\n",
    "print(ascii_text)  # Output: Cafe"
   ]
  },
  {
   "cell_type": "code",
   "execution_count": 6,
   "metadata": {},
   "outputs": [
    {
     "name": "stdout",
     "output_type": "stream",
     "text": [
      "kozuscek\n",
      "aap niice apnii bhaassaa aur inputt upkrnn cuneN aur likhnaa aarNbh kreN\n",
      "Xie Xie Ni \n",
      "arigatou. \n",
      "ulybat'sia Vladimir Putin\n",
      "naannn utvi ceykirreennn\n"
     ]
    }
   ],
   "source": [
    "from unidecode import unidecode\n",
    "\n",
    "print(unidecode(u'ko\\u017eu\\u0161\\u010dek'))\n",
    "print(unidecode(\"आप नीचे अपनी भाषा और इनपुट उपकरण चुनें और लिखना आरंभ करें\"))\n",
    "print(unidecode(\"谢谢你\"))\n",
    "print(unidecode(\"ありがとう。\"))\n",
    "print(unidecode(\"улыбаться Владимир Путин\"))\n",
    "print(unidecode(\"நான் உதவி செய்கிறேன்\"))"
   ]
  },
  {
   "attachments": {},
   "cell_type": "markdown",
   "metadata": {},
   "source": [
    "# Question No. 04"
   ]
  },
  {
   "attachments": {},
   "cell_type": "markdown",
   "metadata": {},
   "source": [
    "#### In Python 3.X, what are the key differences between text-mode and binary-mode files?"
   ]
  },
  {
   "attachments": {},
   "cell_type": "markdown",
   "metadata": {},
   "source": [
    "__TEXT MODE FILES AND BINARY MODE FILES:__\n",
    "\n",
    "    * The major between these two is that a text file contain textual information in the form of alphabets, digits and special characters or symbols.  On the other hand, a binary files contains a bytes or a compiled version of a text file.\n",
    "\n",
    "        * When a file is opened in a __text mode__ reading its data automatically decodes its content (as per the platform default or as per provided encoding), and returns it as a __str__;\n",
    "\n",
    "        Writing operation takes a __str__, and automatically encodes its before transferring to the file.  Text mode files also support universal end-of-line-translation, and encoding specification arguments.\n",
    "\n",
    "        * When a file is opened in a __binary mode__ by adding a _b_ to the mode string argument in the __open()__ call, reading its data does not decode it in any way, and simply returns its content raw and unchanged, as a byte object; writing takes a bytes object and transfers it to the file unchanged, Binary-mode files also accept a byte array object for the content to be written to the file."
   ]
  },
  {
   "attachments": {},
   "cell_type": "markdown",
   "metadata": {},
   "source": [
    "# Question No. 05"
   ]
  },
  {
   "attachments": {},
   "cell_type": "markdown",
   "metadata": {},
   "source": [
    "#### How can you interpret a Unicode text file containing text encoded in a different encoding than your platform&#39;s default?"
   ]
  },
  {
   "attachments": {},
   "cell_type": "markdown",
   "metadata": {},
   "source": [
    "Use of __encode()__ and __decode()__ method can be used to you interpret a Unicode text file containing text encoded in a different encoding than your platform's default, by default encoding parameter is __UTF-8__."
   ]
  },
  {
   "attachments": {},
   "cell_type": "markdown",
   "metadata": {},
   "source": [
    "# Question No. 06"
   ]
  },
  {
   "attachments": {},
   "cell_type": "markdown",
   "metadata": {},
   "source": [
    "#### What is the best way to make a Unicode text file in a particular encoding format?"
   ]
  },
  {
   "attachments": {},
   "cell_type": "markdown",
   "metadata": {},
   "source": [
    "Use __str.encode()__ and __file.write()__ to make a Unicode text file in a particular encoding format, default encoding format is __UTF-18__."
   ]
  },
  {
   "attachments": {},
   "cell_type": "markdown",
   "metadata": {},
   "source": [
    "    * Call str.encode(encoding) with encoding set to utf8 to encode str.\n",
    "\n",
    "    * Call open(file, mode) to open a file with mode set to wb . wb writes to files in binary mode & preserves UTF-8format.\n",
    "\n",
    "    * Call file.write(data) to write data to the file."
   ]
  },
  {
   "cell_type": "code",
   "execution_count": 7,
   "metadata": {},
   "outputs": [
    {
     "name": "stdout",
     "output_type": "stream",
     "text": [
      "b'\\xd1\\x83\\xd0\\xbb\\xd1\\x8b\\xd0\\xb1\\xd0\\xb0\\xd1\\x82\\xd1\\x8c\\xd1\\x81\\xd1\\x8f \\xd0\\x92\\xd0\\xbb\\xd0\\xb0\\xd0\\xb4\\xd0\\xb8\\xd0\\xbc\\xd0\\xb8\\xd1\\x80 \\xd0\\x9f\\xd1\\x83\\xd1\\x82\\xd0\\xb8\\xd0\\xbd'\n",
      "\n",
      "b'\\xd1\\x83\\xd0\\xbb\\xd1\\x8b\\xd0\\xb1\\xd0\\xb0\\xd1\\x82\\xd1\\x8c\\xd1\\x81\\xd1\\x8f \\xd0\\x92\\xd0\\xbb\\xd0\\xb0\\xd0\\xb4\\xd0\\xb8\\xd0\\xbc\\xd0\\xb8\\xd1\\x80 \\xd0\\x9f\\xd1\\x83\\xd1\\x82\\xd0\\xb8\\xd0\\xbd'\n"
     ]
    }
   ],
   "source": [
    "unicode_text = u\"улыбаться Владимир Путин\"\n",
    "encoded_unicode_text = unicode_text.encode(\"utf-8\")\n",
    "print(encoded_unicode_text,end=\"\\n\\n\")\n",
    "\n",
    "w_file = open(\"w_file.txt\",\"wb\")\n",
    "w_file.write(encoded_unicode_text)\n",
    "w_file.close()\n",
    "\n",
    "r_file = open(\"w_file.txt\",\"rb\")\n",
    "data = r_file.read()\n",
    "print(data)"
   ]
  },
  {
   "attachments": {},
   "cell_type": "markdown",
   "metadata": {},
   "source": [
    "# Question No. 07"
   ]
  },
  {
   "attachments": {},
   "cell_type": "markdown",
   "metadata": {},
   "source": [
    "#### What qualifies ASCII text as a form of Unicode text?"
   ]
  },
  {
   "attachments": {},
   "cell_type": "markdown",
   "metadata": {},
   "source": [
    "__Unicode__ represents most written languages in the world. \n",
    "\n",
    "__ASCII__ has its equivalent in Unicode. The difference between ASCII and Unicode is that ASCII represents lowercase letters (a-z), uppercase letters (A-Z), digits (0–9) and symbols.\n",
    "\n",
    "Such as punctuation marks while Unicode represents letters of English, Arabic, Greek etc. mathematical symbols, historical scripts, emoji covering a wide range of characters than ASCII."
   ]
  },
  {
   "attachments": {},
   "cell_type": "markdown",
   "metadata": {},
   "source": [
    "# Question No. 08"
   ]
  },
  {
   "attachments": {},
   "cell_type": "markdown",
   "metadata": {},
   "source": [
    "#### How much of an effect does the change in string types in Python 3.X have on your code?"
   ]
  },
  {
   "attachments": {},
   "cell_type": "markdown",
   "metadata": {},
   "source": [
    "Python 3 stores strings as Unicode by default whereas Python 2 requires you to mark a string with a u if you want to store it as Unicode. Unicode strings are more versatile than ASCII strings, which are the Python 3.X default, as they can store letters from foreign languages as well as emoji and the standard Roman letters and numerals."
   ]
  },
  {
   "attachments": {},
   "cell_type": "markdown",
   "metadata": {},
   "source": [
    "                                            completed\n",
    "\n",
    "                                                                      Santhosh Kumar"
   ]
  }
 ],
 "metadata": {
  "kernelspec": {
   "display_name": "Python 3",
   "language": "python",
   "name": "python3"
  },
  "language_info": {
   "codemirror_mode": {
    "name": "ipython",
    "version": 3
   },
   "file_extension": ".py",
   "mimetype": "text/x-python",
   "name": "python",
   "nbconvert_exporter": "python",
   "pygments_lexer": "ipython3",
   "version": "3.10.11"
  },
  "orig_nbformat": 4
 },
 "nbformat": 4,
 "nbformat_minor": 2
}
