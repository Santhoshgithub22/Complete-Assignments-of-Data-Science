{
 "cells": [
  {
   "attachments": {},
   "cell_type": "markdown",
   "metadata": {},
   "source": [
    "# Python Basic Assignment No. 04"
   ]
  },
  {
   "attachments": {},
   "cell_type": "markdown",
   "metadata": {},
   "source": [
    "                                                       By\n",
    "\n",
    "                                                 Santhosh Kumar     "
   ]
  },
  {
   "attachments": {},
   "cell_type": "markdown",
   "metadata": {},
   "source": [
    "# Question No. 01"
   ]
  },
  {
   "attachments": {},
   "cell_type": "markdown",
   "metadata": {},
   "source": [
    "#### What exactly is []?"
   ]
  },
  {
   "attachments": {},
   "cell_type": "markdown",
   "metadata": {},
   "source": [
    "[] ----> Exactly it means empty list, whenever we want to store a new elements inside the new list, we can able to use this empty list.  This empty list does not contains any elements.\n",
    "\n",
    "Empty list almost similar to \"\" empty strings."
   ]
  },
  {
   "attachments": {},
   "cell_type": "markdown",
   "metadata": {},
   "source": [
    "# Question No. 02"
   ]
  },
  {
   "attachments": {},
   "cell_type": "markdown",
   "metadata": {},
   "source": [
    "#### In a list of values stored in a variable called spam, how would you assign the value &#39;hello&#39; as the third value? (Assume [2, 4, 6, 8, 10] are in spam.)"
   ]
  },
  {
   "attachments": {},
   "cell_type": "markdown",
   "metadata": {},
   "source": [
    "In python index start from 0, we can add new element with the help of index number too."
   ]
  },
  {
   "cell_type": "code",
   "execution_count": 2,
   "metadata": {},
   "outputs": [
    {
     "name": "stdout",
     "output_type": "stream",
     "text": [
      "[2, 4, 'hello', 8, 10]\n"
     ]
    }
   ],
   "source": [
    "spam = [2,4,6,8,10]\n",
    "spam[2] = \"hello\"\n",
    "print(spam)"
   ]
  },
  {
   "attachments": {},
   "cell_type": "markdown",
   "metadata": {},
   "source": [
    "# Let&#39;s pretend the spam includes the list [&#39;a&#39;, &#39;b&#39;, &#39;c&#39;, &#39;d&#39;] for the next three queries."
   ]
  },
  {
   "attachments": {},
   "cell_type": "markdown",
   "metadata": {},
   "source": [
    "# Question No. 03"
   ]
  },
  {
   "attachments": {},
   "cell_type": "markdown",
   "metadata": {},
   "source": [
    "#### What is the value of spam[int(int(&#39;3&#39; * 2) / 11)]?"
   ]
  },
  {
   "cell_type": "code",
   "execution_count": 11,
   "metadata": {},
   "outputs": [
    {
     "name": "stdout",
     "output_type": "stream",
     "text": [
      "spam[int(int('3'*2)/11)] ----> d\n"
     ]
    }
   ],
   "source": [
    "spam = [\"a\", \"b\", \"c\", \"d\"]\n",
    "print(f\"spam[int(int('3'*2)/11)] ---->\", spam[int(int('3' * 2) / 11)])"
   ]
  },
  {
   "attachments": {},
   "cell_type": "markdown",
   "metadata": {},
   "source": [
    "# Question No. 04"
   ]
  },
  {
   "attachments": {},
   "cell_type": "markdown",
   "metadata": {},
   "source": [
    "#### What is the value of spam[-1]?"
   ]
  },
  {
   "attachments": {},
   "cell_type": "markdown",
   "metadata": {},
   "source": [
    "The index [-1] is a very last element in the list."
   ]
  },
  {
   "cell_type": "code",
   "execution_count": 13,
   "metadata": {},
   "outputs": [
    {
     "name": "stdout",
     "output_type": "stream",
     "text": [
      "spam[-1] ---->  d\n"
     ]
    }
   ],
   "source": [
    "spam = [\"a\", \"b\", \"c\", \"d\"]\n",
    "print(\"spam[-1] ----> \", spam[-1])"
   ]
  },
  {
   "attachments": {},
   "cell_type": "markdown",
   "metadata": {},
   "source": [
    "# Question No. 05"
   ]
  },
  {
   "attachments": {},
   "cell_type": "markdown",
   "metadata": {},
   "source": [
    "#### What is the value of spam[:2]?"
   ]
  },
  {
   "attachments": {},
   "cell_type": "markdown",
   "metadata": {},
   "source": [
    "The index[:2] is nothing but, it will print until index number 2. (Note: Last one is excluded)"
   ]
  },
  {
   "cell_type": "code",
   "execution_count": 14,
   "metadata": {},
   "outputs": [
    {
     "name": "stdout",
     "output_type": "stream",
     "text": [
      "spam[:2] ---->  ['a', 'b']\n"
     ]
    }
   ],
   "source": [
    "spam = [\"a\", \"b\", \"c\", \"d\"]\n",
    "print(\"spam[:2] ----> \", spam[:2])"
   ]
  },
  {
   "attachments": {},
   "cell_type": "markdown",
   "metadata": {},
   "source": [
    "# Let&#39;s pretend bacon has the list [3.14, &#39;cat,&#39; 11, &#39;cat,&#39; True] for the next three questions."
   ]
  },
  {
   "attachments": {},
   "cell_type": "markdown",
   "metadata": {},
   "source": [
    "# Question No. 06"
   ]
  },
  {
   "attachments": {},
   "cell_type": "markdown",
   "metadata": {},
   "source": [
    "#### What is the value of bacon.index(&#39;cat&#39;)?"
   ]
  },
  {
   "attachments": {},
   "cell_type": "markdown",
   "metadata": {},
   "source": [
    "bacon variable has a list [3.14,\"cat\",11,\"cat\",True], In python index starts from 0, here we are checking the index of cat.\n",
    "\n",
    "Inside the list we have 2 cat elements, It will return very first particular elements index."
   ]
  },
  {
   "cell_type": "code",
   "execution_count": 17,
   "metadata": {},
   "outputs": [
    {
     "name": "stdout",
     "output_type": "stream",
     "text": [
      "bacon.index('cat) ---->  1\n"
     ]
    }
   ],
   "source": [
    "bacon = [3.14,\"cat\",11,\"cat\",True]\n",
    "\n",
    "print(\"bacon.index('cat) ----> \", bacon.index(\"cat\"))"
   ]
  },
  {
   "attachments": {},
   "cell_type": "markdown",
   "metadata": {},
   "source": [
    "# Question No. 07"
   ]
  },
  {
   "attachments": {},
   "cell_type": "markdown",
   "metadata": {},
   "source": [
    "#### How does bacon.append(99) change the look of the list value in bacon?"
   ]
  },
  {
   "attachments": {},
   "cell_type": "markdown",
   "metadata": {},
   "source": [
    "The append method will help us to add the new element at the end of the list.  Here, 99 will add at the end of the bacon list."
   ]
  },
  {
   "cell_type": "code",
   "execution_count": 23,
   "metadata": {},
   "outputs": [
    {
     "name": "stdout",
     "output_type": "stream",
     "text": [
      "bacon.append(99) ---->  [3.14, 'cat', 11, 'cat', True, 99]\n"
     ]
    }
   ],
   "source": [
    "bacon = [3.14,\"cat\",11,\"cat\",True]\n",
    "bacon.append(99)\n",
    "print(f\"bacon.append(99) ----> \", bacon)"
   ]
  },
  {
   "attachments": {},
   "cell_type": "markdown",
   "metadata": {},
   "source": [
    "# Question No. 08"
   ]
  },
  {
   "attachments": {},
   "cell_type": "markdown",
   "metadata": {},
   "source": [
    "#### How does bacon.remove(&#39;cat&#39;) change the look of the list in bacon?"
   ]
  },
  {
   "cell_type": "code",
   "execution_count": 27,
   "metadata": {},
   "outputs": [
    {
     "name": "stdout",
     "output_type": "stream",
     "text": [
      "bacon.remove('cat') ---->  [3.14, 11, 'cat', True]\n"
     ]
    }
   ],
   "source": [
    "bacon = [3.14,\"cat\",11,\"cat\",True]\n",
    "bacon.remove('cat')\n",
    "print(f\"bacon.remove('cat') ----> \", bacon)"
   ]
  },
  {
   "attachments": {},
   "cell_type": "markdown",
   "metadata": {},
   "source": [
    "# Question No. 09"
   ]
  },
  {
   "attachments": {},
   "cell_type": "markdown",
   "metadata": {},
   "source": [
    "#### What are the list concatenation and list replication operators?"
   ]
  },
  {
   "cell_type": "code",
   "execution_count": 28,
   "metadata": {},
   "outputs": [
    {
     "name": "stdout",
     "output_type": "stream",
     "text": [
      "List Concatenation ---->  ['AI', 'ML', 'DL', 'NLP', 'Krish Naik', 'Sudhanshu', 'Sunny Savita']\n",
      "List Replication ---->  ['AI', 'ML', 'DL', 'NLP', 'AI', 'ML', 'DL', 'NLP']\n"
     ]
    }
   ],
   "source": [
    "list1 = [\"AI\", \"ML\", \"DL\", \"NLP\"]\n",
    "list2 = [\"Krish Naik\", \"Sudhanshu\", \"Sunny Savita\"]\n",
    "\n",
    "print(f\"List Concatenation ----> \", list1+list2)\n",
    "print(f\"List Replication ----> \", list1*2)"
   ]
  },
  {
   "attachments": {},
   "cell_type": "markdown",
   "metadata": {},
   "source": [
    "# Question No. 10"
   ]
  },
  {
   "attachments": {},
   "cell_type": "markdown",
   "metadata": {},
   "source": [
    "#### What is difference between the list methods append() and insert()?"
   ]
  },
  {
   "attachments": {},
   "cell_type": "markdown",
   "metadata": {},
   "source": [
    "Append - Append is nothing but, with the help of append we can add the element at end of the list.\n",
    "\n",
    "Insert - Insert is nothing but, with the help of insert we can insert any element on the particular indexes."
   ]
  },
  {
   "cell_type": "code",
   "execution_count": 34,
   "metadata": {},
   "outputs": [
    {
     "name": "stdout",
     "output_type": "stream",
     "text": [
      "APPEND ====> list.append(8) ---->  [1, 2, 3, 4, 5, 8]\n",
      "\n",
      "\n",
      "INSERT ====> list.insert(2, 'Santhosh') ---->  [1, 2, 'Santhosh', 3, 4, 5, 8]\n"
     ]
    }
   ],
   "source": [
    "list = [1,2,3,4,5]\n",
    "\n",
    "list.append(8)\n",
    "print(f\"APPEND ====> list.append(8) ----> \", list)\n",
    "print(\"\\n\")\n",
    "list.insert(2, \"Santhosh\")\n",
    "print(f\"INSERT ====> list.insert(2, 'Santhosh') ----> \", list)"
   ]
  },
  {
   "attachments": {},
   "cell_type": "markdown",
   "metadata": {},
   "source": [
    "# Question No. 11"
   ]
  },
  {
   "attachments": {},
   "cell_type": "markdown",
   "metadata": {},
   "source": [
    "#### What are the two methods for removing items from a list?"
   ]
  },
  {
   "attachments": {},
   "cell_type": "markdown",
   "metadata": {},
   "source": [
    "* The two methods are del and remove, \n",
    "\n",
    "* with the help of delete and remove, we can able to remove items from a list."
   ]
  },
  {
   "cell_type": "code",
   "execution_count": 37,
   "metadata": {},
   "outputs": [],
   "source": [
    "list = [1,2,3,4,5]\n",
    "del(list)"
   ]
  },
  {
   "cell_type": "code",
   "execution_count": 40,
   "metadata": {},
   "outputs": [
    {
     "name": "stdout",
     "output_type": "stream",
     "text": [
      "list.remove(9) ---->  [1, 2, 3, 4, 5, 6, 7, 8]\n"
     ]
    }
   ],
   "source": [
    "list = [1,2,3,4,5,6,7,8,9]\n",
    "list.remove(9)\n",
    "print(f\"list.remove(9) ----> \", list)"
   ]
  },
  {
   "attachments": {},
   "cell_type": "markdown",
   "metadata": {},
   "source": [
    "# Question No. 12"
   ]
  },
  {
   "attachments": {},
   "cell_type": "markdown",
   "metadata": {},
   "source": [
    "#### Describe how list values and string values are identical."
   ]
  },
  {
   "attachments": {},
   "cell_type": "markdown",
   "metadata": {},
   "source": [
    "* Both lists and strings can be passed to len() function, have indexes and slices, be used in for loops, be concatenated or replicated, and be used with the in and not in operators."
   ]
  },
  {
   "attachments": {},
   "cell_type": "markdown",
   "metadata": {},
   "source": [
    "# Question No. 13"
   ]
  },
  {
   "attachments": {},
   "cell_type": "markdown",
   "metadata": {},
   "source": [
    "#### What&#39;s the difference between tuples and lists?"
   ]
  },
  {
   "attachments": {},
   "cell_type": "markdown",
   "metadata": {},
   "source": [
    "#### LIST \n",
    "\n",
    "        List -----> In list we should use square brackets,\n",
    "\n",
    "                    List is a mutable, indexing, allowed duplicates, slicable, ordered.\n",
    "\n",
    "                    In list values we can add, remove, slice, changed anytime and anywhere.\n",
    "\n",
    "#### TUPLES\n",
    "\n",
    "        Tuple ----> In tuple we should use round brackets,\n",
    "\n",
    "                    Tuple is a immutable, indexing, allowed duplicated, ordered."
   ]
  },
  {
   "attachments": {},
   "cell_type": "markdown",
   "metadata": {},
   "source": [
    "# Question No. 14"
   ]
  },
  {
   "attachments": {},
   "cell_type": "markdown",
   "metadata": {},
   "source": [
    "#### How do you type a tuple value that only contains the integer 42?"
   ]
  },
  {
   "attachments": {},
   "cell_type": "markdown",
   "metadata": {},
   "source": [
    "(42,) ----> we should use comma after integer, otherwise it will consider as a int datatype by python interpreter.  (The trailing comma is mandatory)"
   ]
  },
  {
   "attachments": {},
   "cell_type": "markdown",
   "metadata": {},
   "source": [
    "For eg.,"
   ]
  },
  {
   "cell_type": "code",
   "execution_count": 41,
   "metadata": {},
   "outputs": [
    {
     "name": "stdout",
     "output_type": "stream",
     "text": [
      "x(42) ---->  <class 'int'>\n",
      "y(42,) ---->  <class 'tuple'>\n"
     ]
    }
   ],
   "source": [
    "x = (42)\n",
    "print(f\"x(42) ----> \", type(x))\n",
    "y = (42,)\n",
    "print(f\"y(42,) ----> \", type(y))"
   ]
  },
  {
   "attachments": {},
   "cell_type": "markdown",
   "metadata": {},
   "source": [
    "# Question No. 15"
   ]
  },
  {
   "attachments": {},
   "cell_type": "markdown",
   "metadata": {},
   "source": [
    "#### How do you get a list value&#39;s tuple form? How do you get a tuple value&#39;s list form?"
   ]
  },
  {
   "attachments": {},
   "cell_type": "markdown",
   "metadata": {},
   "source": [
    "The tuple() and list() functions, respectively are used to convert a list to tuple and vice versa"
   ]
  },
  {
   "attachments": {},
   "cell_type": "markdown",
   "metadata": {},
   "source": [
    "# Question No. 16"
   ]
  },
  {
   "attachments": {},
   "cell_type": "markdown",
   "metadata": {},
   "source": [
    "#### Variables that &quot;contain&quot; list values are not necessarily lists themselves. Instead, what do they contain?"
   ]
  },
  {
   "attachments": {},
   "cell_type": "markdown",
   "metadata": {},
   "source": [
    "They contain references to list values."
   ]
  },
  {
   "attachments": {},
   "cell_type": "markdown",
   "metadata": {},
   "source": [
    "# Question No. 17"
   ]
  },
  {
   "attachments": {},
   "cell_type": "markdown",
   "metadata": {},
   "source": [
    "#### How do you distinguish between copy.copy() and copy.deepcopy()?"
   ]
  },
  {
   "attachments": {},
   "cell_type": "markdown",
   "metadata": {},
   "source": [
    "Shallow copy:\n",
    "            \n",
    "            ----> The copy.copy() function will do a shallow copy of a list,\n",
    "            ----> For eg, lets consider I have stored 10 in a x variable and doing shallow copy stored in a variable y. whenever I did shallow copy if I changed the value of y, it will change the x values also.  This is called as shallow copy.\n",
    "\n",
    "Deep copy:\n",
    "\n",
    "            ----> while the copy.deepcopy() function will do a deep copy of a list. That is, only copy.deepcopy() will duplicate any lists inside the list.\n",
    "            ----> For eg, lets consider I have stored 10 in a x variable and doing deepw copy stored in a variable y. whenever I did deep copy if I changed the value of y, it will not change the x values also.  This is called as deep copy."
   ]
  },
  {
   "attachments": {},
   "cell_type": "markdown",
   "metadata": {},
   "source": [
    "                                                        completed\n",
    "\n",
    "                                                                                  Santhosh Kumar"
   ]
  }
 ],
 "metadata": {
  "kernelspec": {
   "display_name": "Python 3",
   "language": "python",
   "name": "python3"
  },
  "language_info": {
   "codemirror_mode": {
    "name": "ipython",
    "version": 3
   },
   "file_extension": ".py",
   "mimetype": "text/x-python",
   "name": "python",
   "nbconvert_exporter": "python",
   "pygments_lexer": "ipython3",
   "version": "3.11.1"
  },
  "orig_nbformat": 4
 },
 "nbformat": 4,
 "nbformat_minor": 2
}
