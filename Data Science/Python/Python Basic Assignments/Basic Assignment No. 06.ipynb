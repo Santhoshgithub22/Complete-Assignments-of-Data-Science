{
 "cells": [
  {
   "attachments": {},
   "cell_type": "markdown",
   "metadata": {},
   "source": [
    "# Python Basic Assignment No. 06"
   ]
  },
  {
   "attachments": {},
   "cell_type": "markdown",
   "metadata": {},
   "source": [
    "                                                         By\n",
    "\n",
    "                                                   Santhosh Kumar     "
   ]
  },
  {
   "attachments": {},
   "cell_type": "markdown",
   "metadata": {},
   "source": [
    "# Question No. 01"
   ]
  },
  {
   "attachments": {},
   "cell_type": "markdown",
   "metadata": {},
   "source": [
    "#### What are escape characters, and how do you use them?"
   ]
  },
  {
   "attachments": {},
   "cell_type": "markdown",
   "metadata": {},
   "source": [
    "Escape characters are special characters,  To represent characters that are difficult to type or display directly, we can use this escape characters.  Escape characters are preceeded by a backslash. For eg.,"
   ]
  },
  {
   "cell_type": "code",
   "execution_count": 1,
   "metadata": {},
   "outputs": [
    {
     "name": "stdout",
     "output_type": "stream",
     "text": [
      "This is a backslash: \\\n",
      "I'm using single quotes.\n",
      "She said, \"Hello!\"\n",
      "This is a\n",
      "new line.\n",
      "This is a\ttab.\n",
      "This is backspace.\n",
      "This is a carriage return.\n",
      "This is a formfeed.\f\n",
      "This is a vertical\u000btab.\n",
      "This is an octal value: a\n",
      "This is a hexadecimal value: A\n",
      "This is a Unicode character: Ω\n",
      "This is another Unicode character: 😁\n"
     ]
    }
   ],
   "source": [
    "print(\"This is a backslash: \\\\\")\n",
    "print(\"I'm using single quotes.\")\n",
    "print(\"She said, \\\"Hello!\\\"\")\n",
    "print(\"This is a\\nnew line.\")\n",
    "print(\"This is a\\ttab.\")\n",
    "print(\"This is a\\bbackspace.\")\n",
    "print(\"This is a carriage return.\\r\")\n",
    "print(\"This is a formfeed.\\f\")\n",
    "print(\"This is a vertical\\vtab.\")\n",
    "print(\"This is an octal value: \\141\")\n",
    "print(\"This is a hexadecimal value: \\x41\")\n",
    "print(\"This is a Unicode character: \\u03A9\")\n",
    "print(\"This is another Unicode character: \\U0001F601\")"
   ]
  },
  {
   "attachments": {},
   "cell_type": "markdown",
   "metadata": {},
   "source": [
    "# Question No. 02"
   ]
  },
  {
   "attachments": {},
   "cell_type": "markdown",
   "metadata": {},
   "source": [
    "#### What do the escape characters n and t stand for?"
   ]
  },
  {
   "attachments": {},
   "cell_type": "markdown",
   "metadata": {},
   "source": [
    "Escape character /n for new line and /t for tab.  For eg.,"
   ]
  },
  {
   "cell_type": "code",
   "execution_count": 4,
   "metadata": {},
   "outputs": [
    {
     "name": "stdout",
     "output_type": "stream",
     "text": [
      "This is Santhosh and \n",
      " kumar\n",
      "\n",
      "\n",
      "This is Santhosh and \t kumar\n"
     ]
    }
   ],
   "source": [
    "print(\"This is Santhosh and \\n kumar\")\n",
    "print(\"\\n\")\n",
    "print(\"This is Santhosh and \\t kumar\")"
   ]
  },
  {
   "attachments": {},
   "cell_type": "markdown",
   "metadata": {},
   "source": [
    "# Question No. 03"
   ]
  },
  {
   "attachments": {},
   "cell_type": "markdown",
   "metadata": {},
   "source": [
    "#### What is the way to include backslash characters in a string?"
   ]
  },
  {
   "attachments": {},
   "cell_type": "markdown",
   "metadata": {},
   "source": [
    "The \\\\\\ escape character will represent the backslash character in a string"
   ]
  },
  {
   "cell_type": "code",
   "execution_count": 7,
   "metadata": {},
   "outputs": [
    {
     "name": "stdout",
     "output_type": "stream",
     "text": [
      "I love ineuron \\ sudhanshu \\ krishnaik \\ sunny savita\n"
     ]
    }
   ],
   "source": [
    "print(\"I love ineuron \\\\ sudhanshu \\\\ krishnaik \\\\ sunny savita\")"
   ]
  },
  {
   "attachments": {},
   "cell_type": "markdown",
   "metadata": {},
   "source": [
    "# Question No. 04"
   ]
  },
  {
   "attachments": {},
   "cell_type": "markdown",
   "metadata": {},
   "source": [
    "#### The string &quot;Howl&#39;s Moving Castle&quot; is a correct value. Why isn&#39;t the single quote character in the word Howl&#39;s not escaped a problem?"
   ]
  },
  {
   "attachments": {},
   "cell_type": "markdown",
   "metadata": {},
   "source": [
    "The string \"Howl's Moving Castle\" escaped the problem because it is wrapped inside double quotes. if its wrapped inside single quotes then we have to use escape character \\' to show single quote in the final output\n",
    "'Howl\\'s Moving Castle' -> 'Howl's Moving Castle'"
   ]
  },
  {
   "cell_type": "code",
   "execution_count": 8,
   "metadata": {},
   "outputs": [],
   "source": [
    "string = \"Howl's Moving Castle\""
   ]
  },
  {
   "attachments": {},
   "cell_type": "markdown",
   "metadata": {},
   "source": [
    "# Question No. 05"
   ]
  },
  {
   "attachments": {},
   "cell_type": "markdown",
   "metadata": {},
   "source": [
    "#### How do you write a string of newlines if you don&#39;t want to use the n character?"
   ]
  },
  {
   "attachments": {},
   "cell_type": "markdown",
   "metadata": {},
   "source": [
    "Multi line comments will help to write a string of new lines without using the n character."
   ]
  },
  {
   "cell_type": "code",
   "execution_count": 11,
   "metadata": {},
   "outputs": [],
   "source": [
    "g = \"\"\"I neuron is the best place to teach a data science\n",
    "\n",
    "        Krish naik, sudhanshu and sunny savita teaching in a better way\"\"\""
   ]
  },
  {
   "cell_type": "code",
   "execution_count": 12,
   "metadata": {},
   "outputs": [
    {
     "data": {
      "text/plain": [
       "'I neuron is the best place to teach a data science\\n\\n        Krish naik, sudhanshu and sunny savita teaching in a better way'"
      ]
     },
     "execution_count": 12,
     "metadata": {},
     "output_type": "execute_result"
    }
   ],
   "source": [
    "g"
   ]
  },
  {
   "attachments": {},
   "cell_type": "markdown",
   "metadata": {},
   "source": [
    "# Question No. 06"
   ]
  },
  {
   "attachments": {},
   "cell_type": "markdown",
   "metadata": {},
   "source": [
    "#### What are the values of the given expressions?\n",
    "\n",
    "#### &#39;Hello, world!&#39;[1]\n",
    "\n",
    "#### &#39;Hello, world!&#39;[0:5]\n",
    "\n",
    "#### &#39;Hello, world!&#39;[:5]\n",
    "\n",
    "#### &#39;Hello, world!&#39;[3:]"
   ]
  },
  {
   "attachments": {},
   "cell_type": "markdown",
   "metadata": {},
   "source": [
    "[1] ----> It will extract the first index only,\n",
    "\n",
    "[0:5] ----> It will extract the value from 0th index to 4th index.\n",
    "\n",
    "[:5] ----> It will extract the value form 0th index to 4th index.\n",
    "\n",
    "[3:] ----> It will give the value from 3rd index to till end"
   ]
  },
  {
   "cell_type": "code",
   "execution_count": 19,
   "metadata": {},
   "outputs": [],
   "source": [
    "x = \"Hello, world!\""
   ]
  },
  {
   "cell_type": "code",
   "execution_count": 20,
   "metadata": {},
   "outputs": [
    {
     "name": "stdout",
     "output_type": "stream",
     "text": [
      "'Hello, world!'[1] ---->  e\n",
      "'Hello, world!'[0:5] ---->  Hello\n",
      "'Hello, world!'[:5] ---->  Hello\n",
      "'Hello, world!'[3:] ---->  lo, world!\n"
     ]
    }
   ],
   "source": [
    "print(f\"'Hello, world!'[1] ----> \", x[1])\n",
    "print(f\"'Hello, world!'[0:5] ----> \", x[0:5])\n",
    "print(f\"'Hello, world!'[:5] ----> \", x[:5])\n",
    "print(f\"'Hello, world!'[3:] ----> \", x[3:])"
   ]
  },
  {
   "attachments": {},
   "cell_type": "markdown",
   "metadata": {},
   "source": [
    "# Question No. 07"
   ]
  },
  {
   "attachments": {},
   "cell_type": "markdown",
   "metadata": {},
   "source": [
    "#### What are the values of the following expressions?\n",
    "\n",
    "#### &#39;Hello&#39;.upper()\n",
    "\n",
    "#### &#39;Hello&#39;.upper().isupper()\n",
    "\n",
    "#### &#39;Hello&#39;.upper().lower()"
   ]
  },
  {
   "attachments": {},
   "cell_type": "markdown",
   "metadata": {},
   "source": [
    "        1. First expression will return all the letters in capital letters.\n",
    "\n",
    "        2. Second expression will return False, because the word Hello is not in upper case.\n",
    "\n",
    "        3. Third expression will return all the characters in lower case."
   ]
  },
  {
   "cell_type": "code",
   "execution_count": 21,
   "metadata": {},
   "outputs": [],
   "source": [
    "Y = \"Hello\""
   ]
  },
  {
   "cell_type": "code",
   "execution_count": 24,
   "metadata": {},
   "outputs": [
    {
     "name": "stdout",
     "output_type": "stream",
     "text": [
      "'Hello'.upper() ---->  HELLO\n",
      "'Hello'.upper().isupper() ---->  True\n",
      "'Hello'.upper().lower() ---->  hello\n"
     ]
    }
   ],
   "source": [
    "print(f\"'Hello'.upper() ----> \", Y.upper())\n",
    "print(f\"'Hello'.upper().isupper() ----> \", Y.upper().isupper())\n",
    "print(f\"'Hello'.upper().lower() ----> \", Y.upper().lower())"
   ]
  },
  {
   "attachments": {},
   "cell_type": "markdown",
   "metadata": {},
   "source": [
    "# Question No. 08"
   ]
  },
  {
   "attachments": {},
   "cell_type": "markdown",
   "metadata": {},
   "source": [
    "#### What are the values of the following expressions?\n",
    "\n",
    "#### &#39;Remember, remember, the fifth of July.&#39;.split()\n",
    "\n",
    "#### &#39;-&#39;.join(&#39;There can only one.&#39;.split())"
   ]
  },
  {
   "attachments": {},
   "cell_type": "markdown",
   "metadata": {},
   "source": [
    "The first expression will split the each word separately, The second expression will join - in between every words."
   ]
  },
  {
   "cell_type": "code",
   "execution_count": 30,
   "metadata": {},
   "outputs": [
    {
     "name": "stdout",
     "output_type": "stream",
     "text": [
      "['Remember,', 'remember,', 'the', 'fifth', 'of', 'July.']\n",
      "There-can-only-one.\n"
     ]
    }
   ],
   "source": [
    "print('Remember, remember, the fifth of July.'.split())\n",
    "\n",
    "print('-'.join('There can only one.'.split()))"
   ]
  },
  {
   "attachments": {},
   "cell_type": "markdown",
   "metadata": {},
   "source": [
    "# Question No. 09"
   ]
  },
  {
   "attachments": {},
   "cell_type": "markdown",
   "metadata": {},
   "source": [
    "#### What are the methods for right-justifying, left-justifying, and centering a string?"
   ]
  },
  {
   "attachments": {},
   "cell_type": "markdown",
   "metadata": {},
   "source": [
    "The rjust(),ljust(),center() string methods, respectively"
   ]
  },
  {
   "attachments": {},
   "cell_type": "markdown",
   "metadata": {},
   "source": [
    "# Question No. 10"
   ]
  },
  {
   "attachments": {},
   "cell_type": "markdown",
   "metadata": {},
   "source": [
    "#### What is the best way to remove whitespace characters from the start or end?"
   ]
  },
  {
   "attachments": {},
   "cell_type": "markdown",
   "metadata": {},
   "source": [
    "With the help of the strip keyword, we can able to remove the whitespace. strips are 3 types, there are rstrip(), lstrip(), and strip(), \n",
    "\n",
    "* rstrip() will help to remove the right hand side whitespaces\n",
    "\n",
    "* lstrip() will help to remove the left hand side whitespaces\n",
    "\n",
    "* strip() will help to remove the both hand side whitespaces"
   ]
  },
  {
   "cell_type": "code",
   "execution_count": 36,
   "metadata": {},
   "outputs": [
    {
     "data": {
      "text/plain": [
       "'Santhosh'"
      ]
     },
     "execution_count": 36,
     "metadata": {},
     "output_type": "execute_result"
    }
   ],
   "source": [
    "g = \"     Santhosh     \"\n",
    "\n",
    "g.strip()"
   ]
  },
  {
   "attachments": {},
   "cell_type": "markdown",
   "metadata": {},
   "source": [
    "                                                    completed\n",
    "\n",
    "                                                                              Santhosh Kumar"
   ]
  }
 ],
 "metadata": {
  "kernelspec": {
   "display_name": "Python 3",
   "language": "python",
   "name": "python3"
  },
  "language_info": {
   "codemirror_mode": {
    "name": "ipython",
    "version": 3
   },
   "file_extension": ".py",
   "mimetype": "text/x-python",
   "name": "python",
   "nbconvert_exporter": "python",
   "pygments_lexer": "ipython3",
   "version": "3.11.1"
  },
  "orig_nbformat": 4
 },
 "nbformat": 4,
 "nbformat_minor": 2
}
