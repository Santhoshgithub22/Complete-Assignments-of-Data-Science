{
 "cells": [
  {
   "attachments": {},
   "cell_type": "markdown",
   "metadata": {},
   "source": [
    "# Python Basic Assignment No. 03"
   ]
  },
  {
   "attachments": {},
   "cell_type": "markdown",
   "metadata": {},
   "source": [
    "                                                       By\n",
    "\n",
    "                                                 Santhosh Kumar     "
   ]
  },
  {
   "attachments": {},
   "cell_type": "markdown",
   "metadata": {},
   "source": [
    "# Question No. 01"
   ]
  },
  {
   "attachments": {},
   "cell_type": "markdown",
   "metadata": {},
   "source": [
    "#### Why are functions advantageous to have in your programs?"
   ]
  },
  {
   "attachments": {},
   "cell_type": "markdown",
   "metadata": {},
   "source": [
    "* With the help of function we can easily understand the code structures.\n",
    "\n",
    "* Functions reduce the duplicate codes.\n",
    "\n",
    "* Function makes program shorter, easier, more readable, and easy to update.\n",
    "\n",
    "* The main use of function is its reusability."
   ]
  },
  {
   "attachments": {},
   "cell_type": "markdown",
   "metadata": {},
   "source": [
    "# Question No. 02"
   ]
  },
  {
   "attachments": {},
   "cell_type": "markdown",
   "metadata": {},
   "source": [
    "#### When does the code in a function run: when it&#39;s specified or when it&#39;s called?"
   ]
  },
  {
   "attachments": {},
   "cell_type": "markdown",
   "metadata": {},
   "source": [
    "The function code will run only whenever we called the function, unless or until we call the function it will not run."
   ]
  },
  {
   "attachments": {},
   "cell_type": "markdown",
   "metadata": {},
   "source": [
    "# Question No. 03"
   ]
  },
  {
   "attachments": {},
   "cell_type": "markdown",
   "metadata": {},
   "source": [
    "#### What statement creates a function?"
   ]
  },
  {
   "attachments": {},
   "cell_type": "markdown",
   "metadata": {},
   "source": [
    "The def keyword will help us to create a function, \n",
    "\n",
    "The syntax of to create a function is:\n",
    "\n",
    "    def ----> docstring ----> function body ----> return"
   ]
  },
  {
   "attachments": {},
   "cell_type": "markdown",
   "metadata": {},
   "source": [
    "# Question No. 04"
   ]
  },
  {
   "attachments": {},
   "cell_type": "markdown",
   "metadata": {},
   "source": [
    "#### What is the difference between a function and a function call?"
   ]
  },
  {
   "attachments": {},
   "cell_type": "markdown",
   "metadata": {},
   "source": [
    "Function - Function is a procedure to acheive that code, Inside the function we are able to write some codes until return.  It will not run anything unless or until we call this function.\n",
    "\n",
    "Function Call - Function call means whenever we want to acheive that task, we should call the function name, Once we call the function name our code will be run.  Unless or until we call the function it will not do anything."
   ]
  },
  {
   "attachments": {},
   "cell_type": "markdown",
   "metadata": {},
   "source": [
    "# Question No. 05"
   ]
  },
  {
   "attachments": {},
   "cell_type": "markdown",
   "metadata": {},
   "source": [
    "#### How many global scopes are there in a Python program? How many local scopes?"
   ]
  },
  {
   "attachments": {},
   "cell_type": "markdown",
   "metadata": {},
   "source": [
    "Global Scope - There is only one global scope is created, whenever the function is called.\n",
    "\n",
    "Local Scope - Local scope will create when the function is called.\n",
    "\n",
    "                The number of local scope is depends on how many times local scope will be called."
   ]
  },
  {
   "attachments": {},
   "cell_type": "markdown",
   "metadata": {},
   "source": [
    "# Question No. 06"
   ]
  },
  {
   "attachments": {},
   "cell_type": "markdown",
   "metadata": {},
   "source": [
    "#### What happens to variables in a local scope when the function call returns?"
   ]
  },
  {
   "attachments": {},
   "cell_type": "markdown",
   "metadata": {},
   "source": [
    "When the function returns, all local scope is destroyed and all the variables in it are forgotten."
   ]
  },
  {
   "attachments": {},
   "cell_type": "markdown",
   "metadata": {},
   "source": [
    "# Question No. 07"
   ]
  },
  {
   "attachments": {},
   "cell_type": "markdown",
   "metadata": {},
   "source": [
    "#### What is the concept of a return value? Is it possible to have a return value in an expression?"
   ]
  },
  {
   "attachments": {},
   "cell_type": "markdown",
   "metadata": {},
   "source": [
    "Return is nothing but, whenever we write our code inside the function, return value help us to print in exact data type.  If we use print inside the function it will print our output in none data type.  \n",
    "\n",
    "Also, Its possible to have a return value in an expression."
   ]
  },
  {
   "attachments": {},
   "cell_type": "markdown",
   "metadata": {},
   "source": [
    "# Question No. 08"
   ]
  },
  {
   "attachments": {},
   "cell_type": "markdown",
   "metadata": {},
   "source": [
    "#### If a function does not have a return statement, what is the return value of a call to that function?"
   ]
  },
  {
   "attachments": {},
   "cell_type": "markdown",
   "metadata": {},
   "source": [
    "If the function dont have a return value, when we are call the function it will not return anything.  It returns None.\n",
    "\n",
    "For eg."
   ]
  },
  {
   "cell_type": "code",
   "execution_count": 5,
   "metadata": {},
   "outputs": [],
   "source": [
    "def test(a):\n",
    "    a = 10"
   ]
  },
  {
   "attachments": {},
   "cell_type": "markdown",
   "metadata": {},
   "source": [
    "# Question No. 09"
   ]
  },
  {
   "attachments": {},
   "cell_type": "markdown",
   "metadata": {},
   "source": [
    "#### How do you make a function variable refer to the global variable?"
   ]
  },
  {
   "attachments": {},
   "cell_type": "markdown",
   "metadata": {},
   "source": [
    "The global variable is a variable, that is outside of the function.\n",
    "\n",
    "Suppose If we want the global variable within the function, then we can use the same global variable inside the function.\n",
    "\n",
    "For eg.,"
   ]
  },
  {
   "cell_type": "code",
   "execution_count": 6,
   "metadata": {},
   "outputs": [
    {
     "data": {
      "text/plain": [
       "5"
      ]
     },
     "execution_count": 6,
     "metadata": {},
     "output_type": "execute_result"
    }
   ],
   "source": [
    "global_var = 10\n",
    "\n",
    "def test1():\n",
    "    global_var = 5\n",
    "    return global_var\n",
    "\n",
    "test1()"
   ]
  },
  {
   "attachments": {},
   "cell_type": "markdown",
   "metadata": {},
   "source": [
    "# Question No. 10"
   ]
  },
  {
   "attachments": {},
   "cell_type": "markdown",
   "metadata": {},
   "source": [
    "#### What is the data type of None?"
   ]
  },
  {
   "attachments": {},
   "cell_type": "markdown",
   "metadata": {},
   "source": [
    "Whenever we create a function we should use the return statement for get a output, if we use return then only we can able to get a output in exact datatype, if suppose, if we use print there then we will get in a none datatype.\n",
    "\n",
    "For eg.,"
   ]
  },
  {
   "cell_type": "code",
   "execution_count": 11,
   "metadata": {},
   "outputs": [
    {
     "data": {
      "text/plain": [
       "str"
      ]
     },
     "execution_count": 11,
     "metadata": {},
     "output_type": "execute_result"
    }
   ],
   "source": [
    "def test3():\n",
    "    x = \"Santhosh Kumar\"\n",
    "    return(type(x))\n",
    "\n",
    "test3()"
   ]
  },
  {
   "attachments": {},
   "cell_type": "markdown",
   "metadata": {},
   "source": [
    "# Question No. 11"
   ]
  },
  {
   "attachments": {},
   "cell_type": "markdown",
   "metadata": {},
   "source": [
    "#### What does the sentence import areallyourpetsnamederic do?"
   ]
  },
  {
   "attachments": {},
   "cell_type": "markdown",
   "metadata": {},
   "source": [
    "That import statement imports a module named areallyourpetsnamederic."
   ]
  },
  {
   "attachments": {},
   "cell_type": "markdown",
   "metadata": {},
   "source": [
    "# Question No. 12"
   ]
  },
  {
   "attachments": {},
   "cell_type": "markdown",
   "metadata": {},
   "source": [
    "#### If you had a bacon() feature in a spam module, what would you call it after importing spam?"
   ]
  },
  {
   "attachments": {},
   "cell_type": "markdown",
   "metadata": {},
   "source": [
    "After importing spam, the function are called with spam.bacon()"
   ]
  },
  {
   "attachments": {},
   "cell_type": "markdown",
   "metadata": {},
   "source": [
    "# Question No. 13"
   ]
  },
  {
   "attachments": {},
   "cell_type": "markdown",
   "metadata": {},
   "source": [
    "#### What can you do to save a programme from crashing if it encounters an error?"
   ]
  },
  {
   "attachments": {},
   "cell_type": "markdown",
   "metadata": {},
   "source": [
    "Its not a possible to write a millions lines of code without any errors, so whenever we want to save a programme from crashing, then we should use try block and expect block.\n",
    "\n",
    "Inside the try block, all lines of code will be use for execution and for to do some tasks.\n",
    "\n",
    "With the help of expect block, we can able to raise our own error.  We can able to handle the error."
   ]
  },
  {
   "attachments": {},
   "cell_type": "markdown",
   "metadata": {},
   "source": [
    "# Question No. 14"
   ]
  },
  {
   "attachments": {},
   "cell_type": "markdown",
   "metadata": {},
   "source": [
    "What is the purpose of the try clause? What is the purpose of the except clause?"
   ]
  },
  {
   "attachments": {},
   "cell_type": "markdown",
   "metadata": {},
   "source": [
    "Try Clause:\n",
    "\n",
    "        The purpose of try clause is lets consider I am writing 10 lines of codes, suppose If I make one mistake in 5th line, then my entire code will not work.\n",
    "\n",
    "        But when I am writing all the codes inside the try clause, if my 5th line is wrong it will raise exceptions, my 6th line will run.\n",
    "\n",
    "        As a developer, whenever we write the suspicious code then we use exception handling it will very useful to avoid the mistakes and find the mistake.\n",
    "\n",
    "Except Clause:\n",
    "\n",
    "        Whenever our try clause code is not working, it will print the except clause statement, by using try clause and except clause, we will easily find the errors and able to solve soon."
   ]
  },
  {
   "attachments": {},
   "cell_type": "markdown",
   "metadata": {},
   "source": [
    "                                          Completed\n",
    "\n",
    "                                                                           Santhosh Kumar               "
   ]
  }
 ],
 "metadata": {
  "kernelspec": {
   "display_name": "Python 3",
   "language": "python",
   "name": "python3"
  },
  "language_info": {
   "codemirror_mode": {
    "name": "ipython",
    "version": 3
   },
   "file_extension": ".py",
   "mimetype": "text/x-python",
   "name": "python",
   "nbconvert_exporter": "python",
   "pygments_lexer": "ipython3",
   "version": "3.11.1"
  },
  "orig_nbformat": 4
 },
 "nbformat": 4,
 "nbformat_minor": 2
}
