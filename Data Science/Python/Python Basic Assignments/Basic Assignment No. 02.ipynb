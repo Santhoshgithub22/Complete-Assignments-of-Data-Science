{
 "cells": [
  {
   "cell_type": "markdown",
   "id": "176c885d",
   "metadata": {},
   "source": [
    "# Python Basic Assignment No. 02\n",
    "                                                                                            By\n",
    "                                                                                       Santhosh Kumar M"
   ]
  },
  {
   "cell_type": "markdown",
   "id": "7cdb6f4b",
   "metadata": {},
   "source": [
    "# Question No. 01"
   ]
  },
  {
   "cell_type": "markdown",
   "id": "77756482",
   "metadata": {},
   "source": [
    "#### What are the two values of the Boolean data type? How do you write them?"
   ]
  },
  {
   "cell_type": "markdown",
   "id": "e44024d7",
   "metadata": {},
   "source": [
    "# Answer No. 01"
   ]
  },
  {
   "cell_type": "markdown",
   "id": "600e5ed4",
   "metadata": {},
   "source": [
    "True and False is the two values of boolean data type.  We can write as True and False but the first character in block letters."
   ]
  },
  {
   "cell_type": "code",
   "execution_count": 1,
   "id": "32f0a2b9",
   "metadata": {},
   "outputs": [
    {
     "name": "stdout",
     "output_type": "stream",
     "text": [
      "X is a type of <class 'bool'>\n",
      "Y is a type of <class 'bool'>\n"
     ]
    }
   ],
   "source": [
    "X = True\n",
    "Y = False\n",
    "\n",
    "print(\"X is a type of\",type(X))\n",
    "print(\"Y is a type of\",type(Y))"
   ]
  },
  {
   "cell_type": "markdown",
   "id": "d0c8b702",
   "metadata": {},
   "source": [
    "# Question No. 02"
   ]
  },
  {
   "cell_type": "markdown",
   "id": "39958139",
   "metadata": {},
   "source": [
    "#### What are the three different types of Boolean operators?"
   ]
  },
  {
   "cell_type": "markdown",
   "id": "37ee3a33",
   "metadata": {},
   "source": [
    "# Answer No. 02"
   ]
  },
  {
   "cell_type": "markdown",
   "id": "fc3d674b",
   "metadata": {},
   "source": [
    "There are 3 different boolean operators.  That is and, or, not."
   ]
  },
  {
   "cell_type": "code",
   "execution_count": 2,
   "id": "9c3021dd",
   "metadata": {},
   "outputs": [
    {
     "name": "stdout",
     "output_type": "stream",
     "text": [
      "False\n",
      "True\n",
      "True\n"
     ]
    }
   ],
   "source": [
    "a = 77\n",
    "\n",
    "b = 250\n",
    "\n",
    "print(a>50 and b<33)\n",
    "print(a>50 or b<33)\n",
    "print(not(a<33))"
   ]
  },
  {
   "cell_type": "markdown",
   "id": "f14244a4",
   "metadata": {},
   "source": [
    "# Question No. 03"
   ]
  },
  {
   "cell_type": "markdown",
   "id": "667e4025",
   "metadata": {},
   "source": [
    "#### Make a list of each Boolean operator&#39;s truth tables (i.e. every possible combination of Boolean values for the operator and what it evaluate )."
   ]
  },
  {
   "cell_type": "markdown",
   "id": "52cdef09",
   "metadata": {},
   "source": [
    "# Answer No. 03"
   ]
  },
  {
   "cell_type": "markdown",
   "id": "4a2f82bb",
   "metadata": {},
   "source": [
    "#### Truth tables for \"and\" operator:\n",
    "    \n",
    "    True and True is True\n",
    "    False and True is False\n",
    "    True and False is False\n",
    "    False and False is False\n",
    "    \n",
    "#### Truth tables for \"or\" operator:\n",
    "    \n",
    "    True or True is True\n",
    "    False or True is True\n",
    "    True or False is True\n",
    "    False or False is False\n",
    "    \n",
    "#### Truth tables for \"not\" operator:\n",
    "    \n",
    "    Not True is False\n",
    "    Not False is True"
   ]
  },
  {
   "cell_type": "markdown",
   "id": "be7a3e87",
   "metadata": {},
   "source": [
    "# Question No. 04"
   ]
  },
  {
   "cell_type": "markdown",
   "id": "9f0a7c89",
   "metadata": {},
   "source": [
    "#### What are the values of the following expressions?\n",
    "\n",
    "#### (5>4) and (3==5)\n",
    "\n",
    "#### not(5>4)\n",
    "\n",
    "#### (5>4) or (3==5)\n",
    "\n",
    "#### not{(5>4) or (3==5)}\n",
    "\n",
    "#### (True and True) and (True==False)\n",
    "\n",
    "#### (not False) or (not True)"
   ]
  },
  {
   "cell_type": "markdown",
   "id": "a6cb8b41",
   "metadata": {},
   "source": [
    "# Answer No. 04"
   ]
  },
  {
   "cell_type": "code",
   "execution_count": 4,
   "id": "be73faf0",
   "metadata": {},
   "outputs": [
    {
     "name": "stdout",
     "output_type": "stream",
     "text": [
      "(5>4) and (3==5) is False\n",
      "\n",
      "\n",
      "not(5>4) is  False\n",
      "\n",
      "\n",
      "(5>4) or (3==5) is  True\n",
      "\n",
      "\n",
      "not{(5>4) or (3==5)} is  False\n",
      "\n",
      "\n",
      "(True and True) and (True==False) is  False\n",
      "\n",
      "\n",
      "(not False) or (not True) is  True\n"
     ]
    }
   ],
   "source": [
    "print(\"(5>4) and (3==5) is\",(5>4) and (3==5))\n",
    "print(\"\\n\")\n",
    "print(\"not(5>4) is \", not(5>4))\n",
    "print(\"\\n\")\n",
    "print(\"(5>4) or (3==5) is \", (5>4) or (3==5))\n",
    "print(\"\\n\")\n",
    "print(\"not{(5>4) or (3==5)} is \", not{(5>4) or (3==5)})\n",
    "print(\"\\n\")\n",
    "print(\"(True and True) and (True==False) is \", (True and True) and (True==False))\n",
    "print(\"\\n\")\n",
    "print(\"(not False) or (not True) is \", (not False) or (not True))"
   ]
  },
  {
   "cell_type": "markdown",
   "id": "fb397e6b",
   "metadata": {},
   "source": [
    "# Question No. 05"
   ]
  },
  {
   "cell_type": "markdown",
   "id": "8df6109c",
   "metadata": {},
   "source": [
    "### What are the six comparison operators?"
   ]
  },
  {
   "cell_type": "markdown",
   "id": "50887bc7",
   "metadata": {},
   "source": [
    "# Answer No. 05"
   ]
  },
  {
   "cell_type": "markdown",
   "id": "6e2eb1ec",
   "metadata": {},
   "source": [
    "The six comparision operators are \n",
    "\n",
    "    equal to, not equal to, greater than, less than, greater than or equal to, less than or equal to."
   ]
  },
  {
   "cell_type": "code",
   "execution_count": 5,
   "id": "2e1a0361",
   "metadata": {},
   "outputs": [
    {
     "data": {
      "text/plain": [
       "True"
      ]
     },
     "execution_count": 5,
     "metadata": {},
     "output_type": "execute_result"
    }
   ],
   "source": [
    "a = 1\n",
    "b = 1\n",
    "\n",
    "a == b #Equal to"
   ]
  },
  {
   "cell_type": "code",
   "execution_count": 6,
   "id": "124f5fc1",
   "metadata": {},
   "outputs": [
    {
     "data": {
      "text/plain": [
       "False"
      ]
     },
     "execution_count": 6,
     "metadata": {},
     "output_type": "execute_result"
    }
   ],
   "source": [
    "a = 1\n",
    "b = 1\n",
    "\n",
    "a != b # Not equal to"
   ]
  },
  {
   "cell_type": "code",
   "execution_count": 7,
   "id": "38d9175a",
   "metadata": {},
   "outputs": [
    {
     "data": {
      "text/plain": [
       "True"
      ]
     },
     "execution_count": 7,
     "metadata": {},
     "output_type": "execute_result"
    }
   ],
   "source": [
    "5 > 4 # Greater than"
   ]
  },
  {
   "cell_type": "code",
   "execution_count": 8,
   "id": "b6d42434",
   "metadata": {},
   "outputs": [
    {
     "data": {
      "text/plain": [
       "False"
      ]
     },
     "execution_count": 8,
     "metadata": {},
     "output_type": "execute_result"
    }
   ],
   "source": [
    "5 < 4 # Less than"
   ]
  },
  {
   "cell_type": "code",
   "execution_count": 9,
   "id": "1145269d",
   "metadata": {},
   "outputs": [
    {
     "data": {
      "text/plain": [
       "True"
      ]
     },
     "execution_count": 9,
     "metadata": {},
     "output_type": "execute_result"
    }
   ],
   "source": [
    "a = 3\n",
    "b = 4\n",
    "\n",
    "a >= 2 # Greater than or equal to"
   ]
  },
  {
   "cell_type": "code",
   "execution_count": 10,
   "id": "e6d4aacd",
   "metadata": {},
   "outputs": [
    {
     "data": {
      "text/plain": [
       "False"
      ]
     },
     "execution_count": 10,
     "metadata": {},
     "output_type": "execute_result"
    }
   ],
   "source": [
    "a = 3\n",
    "b = 4\n",
    "\n",
    "a <= 2 # Less than or equal to"
   ]
  },
  {
   "cell_type": "markdown",
   "id": "9532820e",
   "metadata": {},
   "source": [
    "# Question No. 06"
   ]
  },
  {
   "cell_type": "markdown",
   "id": "34ed19e7",
   "metadata": {},
   "source": [
    "#### How do you tell the difference between the equal to and assignment operators?Describe a condition and when you would use one."
   ]
  },
  {
   "cell_type": "markdown",
   "id": "ba7bdd69",
   "metadata": {},
   "source": [
    "# Answer No. 06"
   ]
  },
  {
   "cell_type": "markdown",
   "id": "efafdf07",
   "metadata": {},
   "source": [
    "Equal to (==) means both values are equal.\n",
    "\n",
    "(=) means assinging a values or statement inside a variables."
   ]
  },
  {
   "cell_type": "code",
   "execution_count": 11,
   "id": "79470a91",
   "metadata": {},
   "outputs": [
    {
     "data": {
      "text/plain": [
       "True"
      ]
     },
     "execution_count": 11,
     "metadata": {},
     "output_type": "execute_result"
    }
   ],
   "source": [
    "a = 7 #assigning a value in a variable\n",
    "\n",
    "b = 7\n",
    "\n",
    "a == b #equal to"
   ]
  },
  {
   "cell_type": "markdown",
   "id": "d7a0df59",
   "metadata": {},
   "source": [
    "# Question No. 07"
   ]
  },
  {
   "cell_type": "markdown",
   "id": "27390827",
   "metadata": {},
   "source": [
    "#### Identify the three blocks in this code:\n",
    "    \n",
    "spam = 0\n",
    "\n",
    "if spam == 10:\n",
    "\n",
    "    print('eggs')\n",
    "    \n",
    "if spam > 5:\n",
    "\n",
    "    print('bacon')\n",
    "    \n",
    "else:\n",
    "    \n",
    "    print('ham')\n",
    "    print('spam')\n",
    "    print('spam')"
   ]
  },
  {
   "cell_type": "markdown",
   "id": "6595556e",
   "metadata": {},
   "source": [
    "# Answer No. 07"
   ]
  },
  {
   "cell_type": "markdown",
   "id": "cc5f5474",
   "metadata": {},
   "source": [
    "There are 3 blocks available in that code.  First block and second block is if block and the third block is else block.\n",
    "\n",
    "We can identify the block with the help of indentation."
   ]
  },
  {
   "cell_type": "code",
   "execution_count": 12,
   "id": "b9752cdf",
   "metadata": {},
   "outputs": [
    {
     "name": "stdout",
     "output_type": "stream",
     "text": [
      "ham\n",
      "spam\n",
      "spam\n"
     ]
    }
   ],
   "source": [
    "spam = 0\n",
    "\n",
    "if spam == 10:\n",
    "    print('eggs')\n",
    "    \n",
    "if spam > 5:\n",
    "    print('bacon')\n",
    "    \n",
    "else:\n",
    "    print('ham')\n",
    "    print('spam')\n",
    "    print('spam')"
   ]
  },
  {
   "cell_type": "markdown",
   "id": "dd1e4dfd",
   "metadata": {},
   "source": [
    "In that code we assigned spam is a zero, \n",
    "\n",
    "    First if block will be execute only if the spam is equal to 10, (our spam is 0 so it will not execute, jump into second if block).\n",
    "    \n",
    "    Second if block spam has 5, if our spam is 5 then only it will run, so this if class also will not execute, it will directly jump into else class and print the particular print statements."
   ]
  },
  {
   "cell_type": "markdown",
   "id": "ed7dc6b8",
   "metadata": {},
   "source": [
    "# Question No. 08"
   ]
  },
  {
   "cell_type": "markdown",
   "id": "ccbb9e9d",
   "metadata": {},
   "source": [
    "#### Write code that prints Hello if 1 is stored in spam, prints Howdy if 2 is stored in spam, and prints Greetings! if anything else is stored in spam."
   ]
  },
  {
   "cell_type": "markdown",
   "id": "f449ab9f",
   "metadata": {},
   "source": [
    "# Answer No. 08"
   ]
  },
  {
   "cell_type": "code",
   "execution_count": 13,
   "id": "14786a2c",
   "metadata": {},
   "outputs": [
    {
     "name": "stdout",
     "output_type": "stream",
     "text": [
      "a is 1 -------> Hello\n",
      "a is 2 -------> Howdy\n",
      "a is 7 -------> Greetings\n"
     ]
    }
   ],
   "source": [
    "try:\n",
    "    \n",
    "    def spam(a):\n",
    "    \n",
    "        if a == 1:\n",
    "            print(f\"a is {a} -------> Hello\")\n",
    "        \n",
    "        elif a == 2:\n",
    "            print(f\"a is {a} -------> Howdy\")\n",
    "        \n",
    "        else:\n",
    "            print(f\"a is {a} -------> Greetings\")\n",
    "        \n",
    "        return\n",
    "\n",
    "except Exception as e:\n",
    "    print(\"You made a mistake - \", e)\n",
    "    \n",
    "spam(1)\n",
    "\n",
    "spam(2)\n",
    "\n",
    "spam(7)"
   ]
  },
  {
   "cell_type": "markdown",
   "id": "d019f021",
   "metadata": {},
   "source": [
    "# Question No. 09"
   ]
  },
  {
   "cell_type": "markdown",
   "id": "06b9095e",
   "metadata": {},
   "source": [
    "#### If your programme is stuck in an endless loop, what keys you’ll press?"
   ]
  },
  {
   "cell_type": "markdown",
   "id": "5cace1e2",
   "metadata": {},
   "source": [
    "# Answer No. 09"
   ]
  },
  {
   "cell_type": "markdown",
   "id": "08af173d",
   "metadata": {},
   "source": [
    "I will press ctrl + c, while my programme is stuck in an endless loop."
   ]
  },
  {
   "cell_type": "markdown",
   "id": "17da48f0",
   "metadata": {},
   "source": [
    "# Question No. 10"
   ]
  },
  {
   "cell_type": "markdown",
   "id": "49eeb69c",
   "metadata": {},
   "source": [
    "#### How can you tell the difference between break and continue?"
   ]
  },
  {
   "cell_type": "markdown",
   "id": "b4f81d21",
   "metadata": {},
   "source": [
    "# Answer No. 10"
   ]
  },
  {
   "cell_type": "markdown",
   "id": "23d6ffa1",
   "metadata": {},
   "source": [
    "break - break statement will help us to break the order and come outside the loop once our condition is satisfied.\n",
    "\n",
    "continue - continue statement will keep continue the loop even the condition is true."
   ]
  },
  {
   "cell_type": "code",
   "execution_count": 14,
   "id": "6eed27c2",
   "metadata": {},
   "outputs": [
    {
     "name": "stdout",
     "output_type": "stream",
     "text": [
      "0\n",
      "1\n",
      "2\n",
      "3\n",
      "4\n",
      "5\n",
      "6\n"
     ]
    }
   ],
   "source": [
    "# break keyword will break the loop once i is equal to 7\n",
    "\n",
    "i = 0\n",
    "\n",
    "while i<10:\n",
    "    if i == 7:\n",
    "        break\n",
    "    print(i)\n",
    "    i = i+1"
   ]
  },
  {
   "cell_type": "code",
   "execution_count": 15,
   "id": "67282b76",
   "metadata": {},
   "outputs": [
    {
     "name": "stdout",
     "output_type": "stream",
     "text": [
      "1\n",
      "2\n",
      "3\n",
      "4\n",
      "5\n",
      "6\n",
      "8\n",
      "9\n",
      "10\n"
     ]
    }
   ],
   "source": [
    "# continue keyword will always continue even i is equal to 7\n",
    "\n",
    "i = 0\n",
    "\n",
    "while i<10:\n",
    "    i = i + 1\n",
    "    if i==7:\n",
    "        continue\n",
    "    print(i)"
   ]
  },
  {
   "cell_type": "markdown",
   "id": "426a6b3d",
   "metadata": {},
   "source": [
    "# Question No. 11"
   ]
  },
  {
   "cell_type": "markdown",
   "id": "4ad1c312",
   "metadata": {},
   "source": [
    "#### In a for loop, what is the difference between range(10), range(0, 10), and range(0, 10, 1)?"
   ]
  },
  {
   "cell_type": "markdown",
   "id": "b072529b",
   "metadata": {},
   "source": [
    "# Answer No. 11"
   ]
  },
  {
   "cell_type": "markdown",
   "id": "3d4e3036",
   "metadata": {},
   "source": [
    "#### range(10):\n",
    "\n",
    "    The range(10) call range from 0 to 9, (but not include 10).\n",
    "    \n",
    "#### range(0,10):\n",
    "\n",
    "    The range(0,10) explicity tells start from 0 to 9.\n",
    "    \n",
    "#### range(0,10,1):\n",
    "\n",
    "    The range(0,10,1) explicity tells start from zero to nine, and jump only one move in each iteration. suppose if we put jump size as 2, output will be 0,2,4,6,8."
   ]
  },
  {
   "cell_type": "code",
   "execution_count": 16,
   "id": "3c94def7",
   "metadata": {},
   "outputs": [
    {
     "name": "stdout",
     "output_type": "stream",
     "text": [
      "0 1 2 3 4 5 6 7 8 9 "
     ]
    }
   ],
   "source": [
    "for i in range(10):\n",
    "    print(i, end=\" \")"
   ]
  },
  {
   "cell_type": "code",
   "execution_count": 17,
   "id": "da6743bf",
   "metadata": {},
   "outputs": [
    {
     "name": "stdout",
     "output_type": "stream",
     "text": [
      "0 1 2 3 4 5 6 7 8 9 "
     ]
    }
   ],
   "source": [
    "for i in range(0,10):\n",
    "    print(i, end=\" \")"
   ]
  },
  {
   "cell_type": "code",
   "execution_count": 18,
   "id": "5d16a8c9",
   "metadata": {},
   "outputs": [
    {
     "name": "stdout",
     "output_type": "stream",
     "text": [
      "0 1 2 3 4 5 6 7 8 9 "
     ]
    }
   ],
   "source": [
    "for i in range(0,10,1):\n",
    "    print(i, end=\" \")"
   ]
  },
  {
   "cell_type": "markdown",
   "id": "49613a18",
   "metadata": {},
   "source": [
    "# Question No. 12"
   ]
  },
  {
   "cell_type": "markdown",
   "id": "b1e2c2aa",
   "metadata": {},
   "source": [
    "#### Write a short program that prints the numbers 1 to 10 using a for loop. Then write an equivalent program that prints the numbers 1 to 10 using a while loop."
   ]
  },
  {
   "cell_type": "markdown",
   "id": "d01448d0",
   "metadata": {},
   "source": [
    "# Answer No. 12"
   ]
  },
  {
   "cell_type": "markdown",
   "id": "e74db1ec",
   "metadata": {},
   "source": [
    "#### Using for loop"
   ]
  },
  {
   "cell_type": "code",
   "execution_count": 19,
   "id": "3440076c",
   "metadata": {},
   "outputs": [
    {
     "name": "stdout",
     "output_type": "stream",
     "text": [
      "0 1 2 3 4 5 6 7 8 9 10 "
     ]
    }
   ],
   "source": [
    "for i in range(0, 11, 1):\n",
    "    print(i, end=\" \")"
   ]
  },
  {
   "cell_type": "markdown",
   "id": "f9205ba5",
   "metadata": {},
   "source": [
    "#### Using while loop"
   ]
  },
  {
   "cell_type": "code",
   "execution_count": 20,
   "id": "b9cf52cc",
   "metadata": {},
   "outputs": [
    {
     "name": "stdout",
     "output_type": "stream",
     "text": [
      "0 1 2 3 4 5 6 7 8 9 10 "
     ]
    }
   ],
   "source": [
    "i = 0\n",
    "\n",
    "while i<11:\n",
    "    print(i, end = \" \")\n",
    "    i = i+1"
   ]
  },
  {
   "cell_type": "markdown",
   "id": "071695d0",
   "metadata": {},
   "source": [
    "# Question No. 13"
   ]
  },
  {
   "cell_type": "markdown",
   "id": "f1af0a66",
   "metadata": {},
   "source": [
    "#### If you had a function named bacon() inside a module named spam, how would you call it after importing spam?"
   ]
  },
  {
   "cell_type": "markdown",
   "id": "4c8584fe",
   "metadata": {},
   "source": [
    "#### Answer No. 13"
   ]
  },
  {
   "cell_type": "markdown",
   "id": "04ec5acf",
   "metadata": {},
   "source": [
    "First, we should call the module name, and after than call the funciton name.\n",
    "\n",
    "I will use spam.bacon() to use that function."
   ]
  },
  {
   "cell_type": "markdown",
   "id": "ca721307",
   "metadata": {},
   "source": [
    "                                                    Completed\n",
    "    \n",
    "                                                                                        Santhosh Kumar M"
   ]
  }
 ],
 "metadata": {
  "kernelspec": {
   "display_name": "Python 3 (ipykernel)",
   "language": "python",
   "name": "python3"
  },
  "language_info": {
   "codemirror_mode": {
    "name": "ipython",
    "version": 3
   },
   "file_extension": ".py",
   "mimetype": "text/x-python",
   "name": "python",
   "nbconvert_exporter": "python",
   "pygments_lexer": "ipython3",
   "version": "3.9.7"
  }
 },
 "nbformat": 4,
 "nbformat_minor": 5
}
