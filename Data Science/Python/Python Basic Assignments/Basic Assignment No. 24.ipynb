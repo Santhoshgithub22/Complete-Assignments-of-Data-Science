{
 "cells": [
  {
   "attachments": {},
   "cell_type": "markdown",
   "metadata": {},
   "source": [
    "# Basic Python Assignment No. 24"
   ]
  },
  {
   "attachments": {},
   "cell_type": "markdown",
   "metadata": {},
   "source": [
    "                                                         By\n",
    "\n",
    "                                                   Santhosh Kumar"
   ]
  },
  {
   "attachments": {},
   "cell_type": "markdown",
   "metadata": {},
   "source": [
    "# Question No. 01"
   ]
  },
  {
   "attachments": {},
   "cell_type": "markdown",
   "metadata": {},
   "source": [
    "#### What is the relationship between def statements and lambda expressions ?"
   ]
  },
  {
   "attachments": {},
   "cell_type": "markdown",
   "metadata": {},
   "source": [
    "* def statement is used to create a normal function, \n",
    "\n",
    "* Whereas, Lambda statement is nothing but a function without name is called as lambda function.  Lambda function is a anonymous function, which can be assigned to a variable and can be called using the variable later in function.\n",
    "\n",
    "Lambda's body is a single expression and not a block of statements like def statement. The lambda expression's body is similar to what we'd put in a def body's return statement. We simply type the result as an expression instead of explicitly returning it. Because it is limited to an expression, a lambda is less general than a def statement."
   ]
  },
  {
   "attachments": {},
   "cell_type": "markdown",
   "metadata": {},
   "source": [
    "# Question No. 02"
   ]
  },
  {
   "attachments": {},
   "cell_type": "markdown",
   "metadata": {},
   "source": [
    "#### What is the benefit of lambda?"
   ]
  },
  {
   "attachments": {},
   "cell_type": "markdown",
   "metadata": {},
   "source": [
    "The following are some of the benefits of lambda expressions:\n",
    "\n",
    "    Can be used to create Nameless/Anonymous functions inside some complex functions if we are planning to use it only once.\n",
    "    \n",
    "    Moderate to small functions can be created in a single line.\n",
    "    \n",
    "    Fuctions created using lambda expressions can be assigned to a variable and can be used by simply calling the variable."
   ]
  },
  {
   "attachments": {},
   "cell_type": "markdown",
   "metadata": {},
   "source": [
    "# Question No. 03"
   ]
  },
  {
   "attachments": {},
   "cell_type": "markdown",
   "metadata": {},
   "source": [
    "#### Compare and contrast map, filter, and reduce."
   ]
  },
  {
   "attachments": {},
   "cell_type": "markdown",
   "metadata": {},
   "source": [
    "In Python, map(), reduce(), filter(), and zip() are built-in functions used for various data manipulation and transformation tasks. Here's a brief overview of each function:\n",
    "\n",
    "* map(function, iterable): The map() function applies a given function to each element of an iterable (such as a list, tuple, or string) and returns an iterator that yields the results. It takes two arguments: the function to be applied and the iterable on which the function should be applied. The map() function is useful when you want to apply the same operation or transformation to every item in an iterable.\n",
    "\n",
    "* reduce(function, iterable): The reduce() function is part of the functools module in Python. It applies a function cumulatively to the items of an iterable and returns a single value. The function should take two arguments and perform a specific operation on them. The result is then used as the first argument for the next element in the iterable until all elements are processed. The reduce() function is useful for aggregating or combining data in a specific manner.\n",
    "\n",
    "* filter(function, iterable): The filter() function constructs an iterator from elements of an iterable for which a given function returns True. It takes two arguments: the function that performs the filtering operation and the iterable to be filtered. The function should return a Boolean value, and only elements for which the function returns True are included in the resulting iterator. The filter() function is useful for selecting specific elements from an iterable based on certain criteria.\n",
    "\n",
    "* zip(*iterables): The zip() function takes multiple iterables (such as lists, tuples, or strings) and returns an iterator that aggregates elements from each iterable. It groups corresponding elements together into tuples, where the first tuple contains the first elements from each iterable, the second tuple contains the second elements, and so on. The resulting iterator stops when the shortest input iterable is exhausted. The zip() function is useful when you want to iterate over multiple iterables in parallel.\n",
    "\n",
    "These functions provide powerful tools for data manipulation, transformation, filtering, and aggregation in Python, helping to write concise and efficient code."
   ]
  },
  {
   "attachments": {},
   "cell_type": "markdown",
   "metadata": {},
   "source": [
    "# Question No. 04 "
   ]
  },
  {
   "attachments": {},
   "cell_type": "markdown",
   "metadata": {},
   "source": [
    "#### What are function annotations, and how are they used?"
   ]
  },
  {
   "attachments": {},
   "cell_type": "markdown",
   "metadata": {},
   "source": [
    "Function annotations provide a way of associating various parts of a function with arbitrary pythoncexpressions at compile time.\n",
    "Annotations of simple parameters def func(x: expression, y: expression = 20):\n",
    "Whereas the annotations for excess parameters are as − def func (**args: expression, **kwargs: expression):"
   ]
  },
  {
   "attachments": {},
   "cell_type": "markdown",
   "metadata": {},
   "source": [
    "Function annotations in Python are a way to add arbitrary metadata or information to function parameters and return values. They allow you to specify the type of parameters and the expected return type, although they do not enforce or validate the types at runtime.\n",
    "\n",
    "Function annotations are expressed using colons (:) after the parameter or return value, followed by the annotation itself. Here's an example that demonstrates the usage of function annotations:"
   ]
  },
  {
   "cell_type": "code",
   "execution_count": 1,
   "metadata": {},
   "outputs": [
    {
     "name": "stdout",
     "output_type": "stream",
     "text": [
      "Hello, Alice!\n"
     ]
    }
   ],
   "source": [
    "def greet(name: str) -> str:\n",
    "    return f\"Hello, {name}!\"\n",
    "\n",
    "print(greet(\"Alice\"))  # Output: Hello, Alice!"
   ]
  },
  {
   "attachments": {},
   "cell_type": "markdown",
   "metadata": {},
   "source": [
    "In this example, the function greet() takes a parameter name with the annotation str, indicating that the parameter is expected to be a string. The return type is also annotated as str, indicating that the function should return a string.\n",
    "\n",
    "Function annotations can be any valid expression, including built-in types, user-defined classes, or even other annotations. They are stored in the __annotations__ attribute of the function, which is a dictionary mapping the parameter or return value names to their respective annotations.\n",
    "\n",
    "It's important to note that function annotations are optional and do not affect the behavior or execution of the function. They serve as a form of documentation and can be used by tools or libraries for type hinting, code analysis, or automated documentation generation.\n",
    "\n",
    "Here's an example demonstrating the retrieval of function annotations:"
   ]
  },
  {
   "cell_type": "code",
   "execution_count": 2,
   "metadata": {},
   "outputs": [
    {
     "name": "stdout",
     "output_type": "stream",
     "text": [
      "{'a': <class 'int'>, 'b': <class 'int'>, 'return': <class 'int'>}\n"
     ]
    }
   ],
   "source": [
    "def add(a: int, b: int) -> int:\n",
    "    return a + b\n",
    "\n",
    "print(add.__annotations__)  # Output: {'a': <class 'int'>, 'b': <class 'int'>, 'return': <class 'int'>}"
   ]
  },
  {
   "attachments": {},
   "cell_type": "markdown",
   "metadata": {},
   "source": [
    "In this example, add.__annotations__ returns a dictionary containing the annotations of the function add(). The keys of the dictionary represent the parameter and return value names, while the values represent the respective annotations."
   ]
  },
  {
   "attachments": {},
   "cell_type": "markdown",
   "metadata": {},
   "source": [
    "# Question No. 05"
   ]
  },
  {
   "attachments": {},
   "cell_type": "markdown",
   "metadata": {},
   "source": [
    "#### What are recursive functions, and how are they used?"
   ]
  },
  {
   "attachments": {},
   "cell_type": "markdown",
   "metadata": {},
   "source": [
    "A recursive function is a function that calls itself during its execution. The process may repeat several times, outputting the result and the end of each iteration."
   ]
  },
  {
   "attachments": {},
   "cell_type": "markdown",
   "metadata": {},
   "source": [
    "Recursive functions are functions that call themselves within their own body. They are used to solve problems that can be broken down into smaller, similar subproblems. A recursive function solves a problem by reducing it to a smaller version of the same problem until it reaches a base case, which is a condition that allows the function to stop calling itself and return a final result.\n",
    "\n",
    "Here's a basic example of a recursive function that calculates the factorial of a number:"
   ]
  },
  {
   "cell_type": "code",
   "execution_count": 3,
   "metadata": {},
   "outputs": [],
   "source": [
    "def factorial(n):\n",
    "    if n == 0:\n",
    "        return 1\n",
    "    else:\n",
    "        return n * factorial(n - 1)"
   ]
  },
  {
   "attachments": {},
   "cell_type": "markdown",
   "metadata": {},
   "source": [
    "In this example, the factorial() function calculates the factorial of a number n. If the input n is 0 (the base case), it returns 1 because the factorial of 0 is defined as 1. Otherwise, it recursively calls itself with n - 1 and multiplies the result by n to calculate the factorial of n.\n",
    "\n",
    "Recursive functions can be useful when solving problems that exhibit a recursive structure, such as tree traversal, searching algorithms (e.g., binary search), and mathematical operations like factorials and Fibonacci sequences."
   ]
  },
  {
   "attachments": {},
   "cell_type": "markdown",
   "metadata": {},
   "source": [
    "# Question No. 06"
   ]
  },
  {
   "attachments": {},
   "cell_type": "markdown",
   "metadata": {},
   "source": [
    "#### What are some general design guidelines for coding functions?"
   ]
  },
  {
   "attachments": {},
   "cell_type": "markdown",
   "metadata": {},
   "source": [
    "Some of the general design guidelines for coding functions are:\n",
    "\n",
    "        * Always use a docstring to explain the functionality of the function\n",
    "        \n",
    "        * avoid using or limited use of global variables\n",
    "        \n",
    "        * Proper Identation to increase the code readability\n",
    "        \n",
    "        * try to follow a naming convention for function names (pascalCase or camelCase) and stick with the same convention throughout the application.\n",
    "        \n",
    "        * Avoid using digits while choosing a variable name\n",
    "        \n",
    "        * try to use a name for the function which conveys the purpose of the function\n",
    "        \n",
    "        * Local variables should be named using camelCase format (ex: localVariable) whereas Global variables names should be using PascalCase (ex:GlobalVariable).\n",
    "        \n",
    "        * Constant should be represented in allcaps (ex:CONSTANT)."
   ]
  },
  {
   "attachments": {},
   "cell_type": "markdown",
   "metadata": {},
   "source": [
    "# Question No. 07"
   ]
  },
  {
   "attachments": {},
   "cell_type": "markdown",
   "metadata": {},
   "source": [
    "#### Name three or more ways that functions can communicate results to a caller."
   ]
  },
  {
   "attachments": {},
   "cell_type": "markdown",
   "metadata": {},
   "source": [
    "Some of the ways in which a function can communicate with the calling function is:\n",
    "\n",
    "1. print\n",
    "\n",
    "2. return\n",
    "\n",
    "3. yield\n",
    "\n",
    "4. output parameter\n",
    "\n",
    "5. Global variable\n",
    "\n",
    "6. Exception"
   ]
  },
  {
   "attachments": {},
   "cell_type": "markdown",
   "metadata": {},
   "source": [
    "                                                    completed\n",
    "\n",
    "                                                                              Santhosh Kumar"
   ]
  }
 ],
 "metadata": {
  "kernelspec": {
   "display_name": "Python 3",
   "language": "python",
   "name": "python3"
  },
  "language_info": {
   "codemirror_mode": {
    "name": "ipython",
    "version": 3
   },
   "file_extension": ".py",
   "mimetype": "text/x-python",
   "name": "python",
   "nbconvert_exporter": "python",
   "pygments_lexer": "ipython3",
   "version": "3.11.1"
  },
  "orig_nbformat": 4
 },
 "nbformat": 4,
 "nbformat_minor": 2
}
