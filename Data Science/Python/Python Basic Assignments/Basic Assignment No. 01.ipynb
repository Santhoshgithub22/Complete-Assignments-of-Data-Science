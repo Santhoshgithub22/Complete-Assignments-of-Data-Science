{
 "cells": [
  {
   "cell_type": "markdown",
   "id": "e42910f3",
   "metadata": {},
   "source": [
    "# Python Basic Assignment No. 01\n",
    "\n",
    "                                                                                                         By\n",
    "                                                                                                     Santhosh Kumar M"
   ]
  },
  {
   "cell_type": "markdown",
   "id": "87023c78",
   "metadata": {},
   "source": [
    "# Question No. 01"
   ]
  },
  {
   "cell_type": "markdown",
   "id": "71451627",
   "metadata": {},
   "source": [
    "In the below elements which of them are values or an expression? eg:- values can be integer or string and expressions will be mathematical operators.\n",
    "\n",
    "*\n",
    "\n",
    "\"hello\"\n",
    "\n",
    "-87.8\n",
    "\n",
    "-\n",
    "\n",
    "/\n",
    "\n",
    "+\n",
    "\n",
    "6"
   ]
  },
  {
   "cell_type": "markdown",
   "id": "3d17fc6b",
   "metadata": {},
   "source": [
    "# Answer No. 01"
   ]
  },
  {
   "cell_type": "markdown",
   "id": "4aa825b0",
   "metadata": {},
   "source": [
    "In the elements string, integer, are values & mathematical operators are expressions."
   ]
  },
  {
   "cell_type": "markdown",
   "id": "4d91e7ff",
   "metadata": {},
   "source": [
    "#### Values - \"hello\", -87.8, 6 are values\n",
    "\n",
    "#### Expressions - +, -, *, /, are expressions"
   ]
  },
  {
   "cell_type": "markdown",
   "id": "01c7d1d6",
   "metadata": {},
   "source": [
    "        "
   ]
  },
  {
   "cell_type": "markdown",
   "id": "60d3fd22",
   "metadata": {},
   "source": [
    "# Question No. 02"
   ]
  },
  {
   "cell_type": "markdown",
   "id": "5f545864",
   "metadata": {},
   "source": [
    "#### What is the difference between string and variable?"
   ]
  },
  {
   "cell_type": "markdown",
   "id": "e8671583",
   "metadata": {},
   "source": [
    "# Answer No. 02"
   ]
  },
  {
   "cell_type": "markdown",
   "id": "6d4836cb",
   "metadata": {},
   "source": [
    "#### String\n",
    "\n",
    "string means its a sequence of characters.  For eg. names, place names, sentences, words, \n",
    "\n",
    "Anything inside the double quote or single quote that will consider as a string.\n",
    "\n",
    "(e.g.)\n",
    "\n",
    "\"I love iNeuron\", \"I like ineuron\", \"12.34\"\n",
    "\n",
    "#### Variable\n",
    "\n",
    "Variable helps us to store some data / some information in any data types.  Suppose If we have a data and we want to use it again but how to use?, in that point of the we can store our data inside the variable and we can just whereever we want.  \n",
    "\n",
    "For eg.\n",
    "\n",
    "x = \"ineuron\"\n",
    "\n",
    "y = 1234\n",
    "\n",
    "z = 12.34\n",
    "\n",
    "p = True"
   ]
  },
  {
   "cell_type": "markdown",
   "id": "22528aaf",
   "metadata": {},
   "source": [
    "# Question No. 03"
   ]
  },
  {
   "cell_type": "markdown",
   "id": "b722d4e4",
   "metadata": {},
   "source": [
    "#### Describe three different data types ?"
   ]
  },
  {
   "cell_type": "markdown",
   "id": "0bbf871d",
   "metadata": {},
   "source": [
    "There are so many data types available in python.  Here I am describing some of the data types like int, float, complex, bool, string, list, tuple, set, dictionary"
   ]
  },
  {
   "cell_type": "markdown",
   "id": "bdabf8fb",
   "metadata": {},
   "source": [
    "# Answer No. 04"
   ]
  },
  {
   "cell_type": "markdown",
   "id": "aa5769e8",
   "metadata": {},
   "source": [
    "#### (i) int\n",
    "\n",
    "int means integer, its just a number without any decimal point."
   ]
  },
  {
   "cell_type": "code",
   "execution_count": 1,
   "id": "1fefc271",
   "metadata": {},
   "outputs": [
    {
     "data": {
      "text/plain": [
       "int"
      ]
     },
     "execution_count": 1,
     "metadata": {},
     "output_type": "execute_result"
    }
   ],
   "source": [
    "x = 7\n",
    "\n",
    "type(x)"
   ]
  },
  {
   "cell_type": "markdown",
   "id": "443a9244",
   "metadata": {},
   "source": [
    "#### (ii) float"
   ]
  },
  {
   "cell_type": "markdown",
   "id": "c0f86923",
   "metadata": {},
   "source": [
    "float means a number with decimal point."
   ]
  },
  {
   "cell_type": "code",
   "execution_count": 2,
   "id": "c4b16b95",
   "metadata": {},
   "outputs": [
    {
     "data": {
      "text/plain": [
       "float"
      ]
     },
     "execution_count": 2,
     "metadata": {},
     "output_type": "execute_result"
    }
   ],
   "source": [
    "x = 7.7\n",
    "\n",
    "type(x)"
   ]
  },
  {
   "cell_type": "markdown",
   "id": "45ae2fb7",
   "metadata": {},
   "source": [
    "#### (iii) Complex"
   ]
  },
  {
   "cell_type": "markdown",
   "id": "443b1b4a",
   "metadata": {},
   "source": [
    "Complex number means it will have one real part and imaginary part."
   ]
  },
  {
   "cell_type": "code",
   "execution_count": 3,
   "id": "fe568ce8",
   "metadata": {},
   "outputs": [
    {
     "data": {
      "text/plain": [
       "complex"
      ]
     },
     "execution_count": 3,
     "metadata": {},
     "output_type": "execute_result"
    }
   ],
   "source": [
    "x = 7+0j\n",
    "\n",
    "type(x)"
   ]
  },
  {
   "cell_type": "markdown",
   "id": "59cb4c2f",
   "metadata": {},
   "source": [
    "#### (iv) Bool"
   ]
  },
  {
   "cell_type": "markdown",
   "id": "badb943e",
   "metadata": {},
   "source": [
    "Boolean means True or False"
   ]
  },
  {
   "cell_type": "code",
   "execution_count": 4,
   "id": "381c7103",
   "metadata": {},
   "outputs": [
    {
     "name": "stdout",
     "output_type": "stream",
     "text": [
      "<class 'bool'>\n",
      "<class 'bool'>\n"
     ]
    }
   ],
   "source": [
    "x = True\n",
    "y = False\n",
    "\n",
    "print(type(x))\n",
    "print(type(y))"
   ]
  },
  {
   "cell_type": "markdown",
   "id": "a20ecb71",
   "metadata": {},
   "source": [
    "#### (v) String"
   ]
  },
  {
   "cell_type": "markdown",
   "id": "c44b210d",
   "metadata": {},
   "source": [
    "String is a sequence of characters"
   ]
  },
  {
   "cell_type": "code",
   "execution_count": 5,
   "id": "aad7a48f",
   "metadata": {},
   "outputs": [
    {
     "name": "stdout",
     "output_type": "stream",
     "text": [
      "<class 'str'>\n",
      "<class 'str'>\n"
     ]
    }
   ],
   "source": [
    "x = \"ineuron\"\n",
    "y = \"sudhanshu\"\n",
    "\n",
    "print(type(x))\n",
    "print(type(y))"
   ]
  },
  {
   "cell_type": "markdown",
   "id": "2a379e6c",
   "metadata": {},
   "source": [
    "#### (vi) List "
   ]
  },
  {
   "cell_type": "markdown",
   "id": "bd17fb28",
   "metadata": {},
   "source": [
    "Any data type of values, we will store inside the list.  List is very useful store multiple items in single Variable.  List are created using square brackets."
   ]
  },
  {
   "cell_type": "code",
   "execution_count": 6,
   "id": "eadd3622",
   "metadata": {},
   "outputs": [
    {
     "data": {
      "text/plain": [
       "list"
      ]
     },
     "execution_count": 6,
     "metadata": {},
     "output_type": "execute_result"
    }
   ],
   "source": [
    "x = [1, 7.9, \"sdfdf\", 3+7j, True, \"1524641\"]\n",
    "\n",
    "type(x)"
   ]
  },
  {
   "cell_type": "markdown",
   "id": "ecfa6843",
   "metadata": {},
   "source": [
    "#### (vii) Tuple"
   ]
  },
  {
   "cell_type": "markdown",
   "id": "714daea8",
   "metadata": {},
   "source": [
    "Any data type of values, we will store inside the tuple.  Tuple is very useful to store multiple items in single variable.  Tuples are created using round brackets.  Tuples is a Ordered, Unchangeble, Allow Duplicates"
   ]
  },
  {
   "cell_type": "code",
   "execution_count": 7,
   "id": "6b229761",
   "metadata": {},
   "outputs": [
    {
     "data": {
      "text/plain": [
       "tuple"
      ]
     },
     "execution_count": 7,
     "metadata": {},
     "output_type": "execute_result"
    }
   ],
   "source": [
    "y = (2, 6.0, \"Santhosh\", \"651\")\n",
    "\n",
    "type(y)"
   ]
  },
  {
   "cell_type": "markdown",
   "id": "009730b7",
   "metadata": {},
   "source": [
    "#### (viii) Set"
   ]
  },
  {
   "cell_type": "markdown",
   "id": "d9c0ab73",
   "metadata": {},
   "source": [
    "Set is store to use multiple items in a single variable, set is a Unordered, No duplicates."
   ]
  },
  {
   "cell_type": "code",
   "execution_count": 8,
   "id": "c6003ead",
   "metadata": {},
   "outputs": [
    {
     "name": "stdout",
     "output_type": "stream",
     "text": [
      "{1, 2, 3, 98, 5, 7, 9}\n",
      "<class 'set'>\n"
     ]
    }
   ],
   "source": [
    "z = {1,2,9,98,3,5,7,9}\n",
    "\n",
    "print(z)\n",
    "\n",
    "print(type(z))"
   ]
  },
  {
   "cell_type": "markdown",
   "id": "08a4ef4f",
   "metadata": {},
   "source": [
    "#### (ix) Dictionary"
   ]
  },
  {
   "cell_type": "markdown",
   "id": "a2852dcb",
   "metadata": {},
   "source": [
    "Dictionary has a keys and values."
   ]
  },
  {
   "cell_type": "code",
   "execution_count": 9,
   "id": "fa07c662",
   "metadata": {},
   "outputs": [],
   "source": [
    "dictionary = {\"a\" : 99, \"b\" : \"santhosh\"}"
   ]
  },
  {
   "cell_type": "code",
   "execution_count": 10,
   "id": "b208a6cd",
   "metadata": {},
   "outputs": [
    {
     "data": {
      "text/plain": [
       "{'a': 99, 'b': 'santhosh'}"
      ]
     },
     "execution_count": 10,
     "metadata": {},
     "output_type": "execute_result"
    }
   ],
   "source": [
    "dictionary"
   ]
  },
  {
   "cell_type": "code",
   "execution_count": 11,
   "id": "27fa2088",
   "metadata": {},
   "outputs": [
    {
     "data": {
      "text/plain": [
       "dict"
      ]
     },
     "execution_count": 11,
     "metadata": {},
     "output_type": "execute_result"
    }
   ],
   "source": [
    "type(dictionary)"
   ]
  },
  {
   "cell_type": "markdown",
   "id": "fed6e1dd",
   "metadata": {},
   "source": [
    "# Question No. 04"
   ]
  },
  {
   "cell_type": "markdown",
   "id": "793b036e",
   "metadata": {},
   "source": [
    "#### What is an expression made up of? What do all expressions do?"
   ]
  },
  {
   "cell_type": "markdown",
   "id": "84c3eb73",
   "metadata": {},
   "source": [
    "# Answer No. 04"
   ]
  },
  {
   "cell_type": "markdown",
   "id": "a6a42339",
   "metadata": {},
   "source": [
    "#### Expression \n",
    "Expression will give some value or some result after interpreted in our IDE.\n",
    "\n",
    "#### Statement\n",
    "A statement is not evaluated for some result.  A statement is used for creating variable."
   ]
  },
  {
   "cell_type": "code",
   "execution_count": 12,
   "id": "410b987f",
   "metadata": {},
   "outputs": [
    {
     "data": {
      "text/plain": [
       "55"
      ]
     },
     "execution_count": 12,
     "metadata": {},
     "output_type": "execute_result"
    }
   ],
   "source": [
    "a = 5*10+2+3 # Expression\n",
    "\n",
    "a"
   ]
  },
  {
   "cell_type": "code",
   "execution_count": 13,
   "id": "0d8b658c",
   "metadata": {},
   "outputs": [
    {
     "name": "stdout",
     "output_type": "stream",
     "text": [
      "ineuron is a best place to learn data science\n",
      "25\n"
     ]
    }
   ],
   "source": [
    "a = \"ineuron is a best place to learn data science\"  #statement\n",
    "b = 25 #statement\n",
    "\n",
    "\n",
    "print(a)\n",
    "print(b)"
   ]
  },
  {
   "cell_type": "markdown",
   "id": "c4831ae5",
   "metadata": {},
   "source": [
    "# Question No. 05"
   ]
  },
  {
   "cell_type": "markdown",
   "id": "4f266bc9",
   "metadata": {},
   "source": [
    "#### This assignment statements, like spam = 10. What is the difference between an expression and a statement?"
   ]
  },
  {
   "cell_type": "markdown",
   "id": "d10087e3",
   "metadata": {},
   "source": [
    "#### Expression:\n",
    "\n",
    "Expression is a combination of values, variables and operators."
   ]
  },
  {
   "cell_type": "code",
   "execution_count": 14,
   "id": "d32c5bbf",
   "metadata": {},
   "outputs": [
    {
     "data": {
      "text/plain": [
       "-425.0"
      ]
     },
     "execution_count": 14,
     "metadata": {},
     "output_type": "execute_result"
    }
   ],
   "source": [
    "a = 2+5-9*96/2\n",
    "\n",
    "a"
   ]
  },
  {
   "cell_type": "markdown",
   "id": "7eeb67ca",
   "metadata": {},
   "source": [
    "#### Statement\n",
    "\n",
    "A statement is a unit of code that has an effect like creating a variable or displaying a variable."
   ]
  },
  {
   "cell_type": "code",
   "execution_count": 15,
   "id": "bbff0257",
   "metadata": {},
   "outputs": [
    {
     "name": "stdout",
     "output_type": "stream",
     "text": [
      "Bangalore\n"
     ]
    }
   ],
   "source": [
    "b = \"My name is santhosh\" #Statement\n",
    "\n",
    "print(\"Bangalore\") #Expression Statement"
   ]
  },
  {
   "cell_type": "markdown",
   "id": "8b6db908",
   "metadata": {},
   "source": [
    "# Question No. 06"
   ]
  },
  {
   "cell_type": "markdown",
   "id": "606f8cae",
   "metadata": {},
   "source": [
    "#### After running the following code, what does the variable bacon contain?\n",
    "#### bacon = 22\n",
    "#### bacon + 1"
   ]
  },
  {
   "cell_type": "markdown",
   "id": "3e39b8e5",
   "metadata": {},
   "source": [
    "# Answer No. 06"
   ]
  },
  {
   "cell_type": "markdown",
   "id": "5a23aaa9",
   "metadata": {},
   "source": [
    "After executed the code the answer will be bacon = 23.\n",
    "\n",
    "The value of bacon is set to 22 in next line we just add 1.  So that we got 23.\n",
    "\n",
    "but if we use the variable name bacon in future the bacon value will consider as 22, because we did not stored in a variable.\n",
    "\n",
    "Suppose if we stored (bacon + 1) inside the variable there is a chance to get 23 wherever bacon variable is used."
   ]
  },
  {
   "cell_type": "code",
   "execution_count": 16,
   "id": "335855b8",
   "metadata": {},
   "outputs": [
    {
     "name": "stdout",
     "output_type": "stream",
     "text": [
      "22\n"
     ]
    }
   ],
   "source": [
    "bacon = 22\n",
    "\n",
    "bacon + 1\n",
    "\n",
    "print(bacon)"
   ]
  },
  {
   "cell_type": "code",
   "execution_count": 17,
   "id": "e11c2c6e",
   "metadata": {},
   "outputs": [
    {
     "name": "stdout",
     "output_type": "stream",
     "text": [
      "23\n"
     ]
    }
   ],
   "source": [
    "bacon = 22\n",
    "\n",
    "bacon = bacon + 1\n",
    "\n",
    "print(bacon)"
   ]
  },
  {
   "cell_type": "markdown",
   "id": "55b102b9",
   "metadata": {},
   "source": [
    "# Question No. 07"
   ]
  },
  {
   "cell_type": "markdown",
   "id": "24b0869b",
   "metadata": {},
   "source": [
    "#### What should the values of the following two terms be?\n",
    "#### 'spam' + 'spamspam'\n",
    "\n",
    "#### 'spam' * 3"
   ]
  },
  {
   "cell_type": "markdown",
   "id": "8aa738a5",
   "metadata": {},
   "source": [
    "# Answer No. 07"
   ]
  },
  {
   "cell_type": "markdown",
   "id": "d4bab7f5",
   "metadata": {},
   "source": [
    "The both answer will be \"spamspamspam\".\n",
    "\n",
    "The first one is a string concatenation and the second one is a string multiplication."
   ]
  },
  {
   "cell_type": "code",
   "execution_count": 18,
   "id": "a6dc14bd",
   "metadata": {},
   "outputs": [
    {
     "data": {
      "text/plain": [
       "'spamspamspam'"
      ]
     },
     "execution_count": 18,
     "metadata": {},
     "output_type": "execute_result"
    }
   ],
   "source": [
    "'spam' + 'spamspam' #string concatenation"
   ]
  },
  {
   "cell_type": "code",
   "execution_count": 19,
   "id": "286b6183",
   "metadata": {},
   "outputs": [
    {
     "data": {
      "text/plain": [
       "'spamspamspam'"
      ]
     },
     "execution_count": 19,
     "metadata": {},
     "output_type": "execute_result"
    }
   ],
   "source": [
    "'spam' * 3 #string multiplication"
   ]
  },
  {
   "cell_type": "markdown",
   "id": "e2381b52",
   "metadata": {},
   "source": [
    "# Question No. 08"
   ]
  },
  {
   "cell_type": "markdown",
   "id": "01980df5",
   "metadata": {},
   "source": [
    "#### Why is eggs a valid variable name while 100 is invalid?"
   ]
  },
  {
   "cell_type": "markdown",
   "id": "497323bd",
   "metadata": {},
   "source": [
    "Eggs is a valid variable name and 100 is a invalid variable name, because there is some conditions to create a variable names.\n",
    "\n",
    "(i) Variable name must start with letter or underscore characters.\n",
    "\n",
    "(ii) Variable name should not start with integers.\n",
    "\n",
    "(iii) Variable name contains only alpha numeric values & underscores.\n",
    "\n",
    "(iv) In python everything is a case sensitive. For eg. a = 10 & A = 10 (both are different variables)\n",
    "\n",
    "(v) We can't able to create a variable name like same as reserved keywords (Reserved keywords cannot be used as a variable name)"
   ]
  },
  {
   "cell_type": "code",
   "execution_count": 20,
   "id": "e0a80053",
   "metadata": {},
   "outputs": [
    {
     "ename": "SyntaxError",
     "evalue": "cannot assign to literal (Temp/ipykernel_5560/4219540995.py, line 2)",
     "output_type": "error",
     "traceback": [
      "\u001b[1;36m  File \u001b[1;32m\"C:\\Users\\msant\\AppData\\Local\\Temp/ipykernel_5560/4219540995.py\"\u001b[1;36m, line \u001b[1;32m2\u001b[0m\n\u001b[1;33m    100 = \"Sudhanshu\"\u001b[0m\n\u001b[1;37m    ^\u001b[0m\n\u001b[1;31mSyntaxError\u001b[0m\u001b[1;31m:\u001b[0m cannot assign to literal\n"
     ]
    }
   ],
   "source": [
    "egg = \"ineuron\"\n",
    "100 = \"Sudhanshu\"\n",
    "\n",
    "print(egg) #it will run\n",
    "print(100) #it will not run and raise a error because of invalid variable name"
   ]
  },
  {
   "cell_type": "markdown",
   "id": "e3834830",
   "metadata": {},
   "source": [
    "# Question No. 09"
   ]
  },
  {
   "cell_type": "markdown",
   "id": "b40f8d8f",
   "metadata": {},
   "source": [
    "#### What three functions can be used to get the integer, floating-point number, or string version of a value?"
   ]
  },
  {
   "cell_type": "markdown",
   "id": "cfde45df",
   "metadata": {},
   "source": [
    "# Answer No. 09"
   ]
  },
  {
   "cell_type": "markdown",
   "id": "60c49422",
   "metadata": {},
   "source": [
    "with the help of int, float, str functions we can able to change the data types from one to another."
   ]
  },
  {
   "cell_type": "code",
   "execution_count": 21,
   "id": "13697626",
   "metadata": {},
   "outputs": [
    {
     "name": "stdout",
     "output_type": "stream",
     "text": [
      "Convert into integer from float -  25\n",
      "Convert into float from int -  25.0\n",
      "Convert into string from int -  25\n"
     ]
    }
   ],
   "source": [
    "print(\"Convert into integer from float - \", int(25.0))\n",
    "print(\"Convert into float from int - \", float(25))\n",
    "print(\"Convert into string from int - \", int(25))"
   ]
  },
  {
   "cell_type": "markdown",
   "id": "90135242",
   "metadata": {},
   "source": [
    "# Question No. 10"
   ]
  },
  {
   "cell_type": "markdown",
   "id": "a10f35a5",
   "metadata": {},
   "source": [
    "#### Why does this expression cause an error? How can you fix it?\n",
    "\n",
    "#### 'I have eaten ' + 99 + ' burritos'"
   ]
  },
  {
   "cell_type": "markdown",
   "id": "355176fe",
   "metadata": {},
   "source": [
    "This expression will raise a error because we are trying to concatenate the interger between string, In python we can only concatenate the string to string or integer to integer.\n",
    "\n",
    "So that, first we should change the integer data type into string, then we can able to execute that expressions"
   ]
  },
  {
   "cell_type": "code",
   "execution_count": 22,
   "id": "5ea57a14",
   "metadata": {},
   "outputs": [],
   "source": [
    "x = 'I have eaten ' + str(99) + ' burritos'"
   ]
  },
  {
   "cell_type": "code",
   "execution_count": 23,
   "id": "73ea93cc",
   "metadata": {},
   "outputs": [
    {
     "data": {
      "text/plain": [
       "'I have eaten 99 burritos'"
      ]
     },
     "execution_count": 23,
     "metadata": {},
     "output_type": "execute_result"
    }
   ],
   "source": [
    "x"
   ]
  },
  {
   "cell_type": "markdown",
   "id": "f8542d0e",
   "metadata": {},
   "source": [
    "                                                            Completed"
   ]
  },
  {
   "cell_type": "markdown",
   "id": "fb498597",
   "metadata": {},
   "source": [
    "                                                                                                        Santhosh Kumar M"
   ]
  }
 ],
 "metadata": {
  "kernelspec": {
   "display_name": "Python 3 (ipykernel)",
   "language": "python",
   "name": "python3"
  },
  "language_info": {
   "codemirror_mode": {
    "name": "ipython",
    "version": 3
   },
   "file_extension": ".py",
   "mimetype": "text/x-python",
   "name": "python",
   "nbconvert_exporter": "python",
   "pygments_lexer": "ipython3",
   "version": "3.9.7"
  }
 },
 "nbformat": 4,
 "nbformat_minor": 5
}
