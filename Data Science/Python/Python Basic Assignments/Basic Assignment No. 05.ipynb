{
 "cells": [
  {
   "attachments": {},
   "cell_type": "markdown",
   "metadata": {},
   "source": [
    "# Python Basic Assignment No. 05"
   ]
  },
  {
   "attachments": {},
   "cell_type": "markdown",
   "metadata": {},
   "source": [
    "                                                         By\n",
    "\n",
    "                                                   Santhosh Kumar     "
   ]
  },
  {
   "attachments": {},
   "cell_type": "markdown",
   "metadata": {},
   "source": [
    "# Question No. 01"
   ]
  },
  {
   "attachments": {},
   "cell_type": "markdown",
   "metadata": {},
   "source": [
    "#### What does an empty dictionary&#39;s code look like?"
   ]
  },
  {
   "attachments": {},
   "cell_type": "markdown",
   "metadata": {},
   "source": [
    "The empty dictionary is {} just a empty curly brackets."
   ]
  },
  {
   "cell_type": "code",
   "execution_count": 3,
   "metadata": {},
   "outputs": [
    {
     "name": "stdout",
     "output_type": "stream",
     "text": [
      "<class 'dict'>\n"
     ]
    }
   ],
   "source": [
    "X = {}\n",
    "print(type(X))"
   ]
  },
  {
   "attachments": {},
   "cell_type": "markdown",
   "metadata": {},
   "source": [
    "# Question No. 02"
   ]
  },
  {
   "attachments": {},
   "cell_type": "markdown",
   "metadata": {},
   "source": [
    "#### What is the value of a dictionary value with the key &#39;foo&#39; and the value 42?"
   ]
  },
  {
   "cell_type": "code",
   "execution_count": 5,
   "metadata": {},
   "outputs": [
    {
     "name": "stdout",
     "output_type": "stream",
     "text": [
      "{'foo': 42}\n",
      "<class 'dict'>\n"
     ]
    }
   ],
   "source": [
    "# In the dictionary the key is foo and the value is 42\n",
    "\n",
    "Y = {\"foo\" : 42}\n",
    "\n",
    "print(Y)\n",
    "print(type(Y))"
   ]
  },
  {
   "attachments": {},
   "cell_type": "markdown",
   "metadata": {},
   "source": [
    "# Question No. 03"
   ]
  },
  {
   "attachments": {},
   "cell_type": "markdown",
   "metadata": {},
   "source": [
    "#### What is the most significant distinction between a dictionary and a list?"
   ]
  },
  {
   "attachments": {},
   "cell_type": "markdown",
   "metadata": {},
   "source": [
    "Dictionaries are represented by {} where as listed are represented by [].\n",
    "\n",
    "The Items stored in a dictionary are Unordered , while the items in a list are ordered."
   ]
  },
  {
   "attachments": {},
   "cell_type": "markdown",
   "metadata": {},
   "source": [
    "# Question No. 04"
   ]
  },
  {
   "attachments": {},
   "cell_type": "markdown",
   "metadata": {},
   "source": [
    "#### What happens if you try to access spam[&#39;foo&#39;] if spam is {&#39;bar&#39;: 100}?"
   ]
  },
  {
   "attachments": {},
   "cell_type": "markdown",
   "metadata": {},
   "source": [
    "It will give a key error, because we dont have a foo key in the spam variable."
   ]
  },
  {
   "cell_type": "code",
   "execution_count": 6,
   "metadata": {},
   "outputs": [],
   "source": [
    "spam = {\"bar\" : 100}"
   ]
  },
  {
   "cell_type": "code",
   "execution_count": 8,
   "metadata": {},
   "outputs": [
    {
     "data": {
      "text/plain": [
       "100"
      ]
     },
     "execution_count": 8,
     "metadata": {},
     "output_type": "execute_result"
    }
   ],
   "source": [
    "spam[\"bar\"]"
   ]
  },
  {
   "cell_type": "code",
   "execution_count": 9,
   "metadata": {},
   "outputs": [
    {
     "ename": "KeyError",
     "evalue": "'foo'",
     "output_type": "error",
     "traceback": [
      "\u001b[1;31m---------------------------------------------------------------------------\u001b[0m",
      "\u001b[1;31mKeyError\u001b[0m                                  Traceback (most recent call last)",
      "Cell \u001b[1;32mIn[9], line 1\u001b[0m\n\u001b[1;32m----> 1\u001b[0m spam[\u001b[39m\"\u001b[39;49m\u001b[39mfoo\u001b[39;49m\u001b[39m\"\u001b[39;49m]\n",
      "\u001b[1;31mKeyError\u001b[0m: 'foo'"
     ]
    }
   ],
   "source": [
    "spam[\"foo\"]"
   ]
  },
  {
   "attachments": {},
   "cell_type": "markdown",
   "metadata": {},
   "source": [
    "# Question No. 05"
   ]
  },
  {
   "attachments": {},
   "cell_type": "markdown",
   "metadata": {},
   "source": [
    "#### If a dictionary is stored in spam, what is the difference between the expressions &#39;cat&#39; in spam and &#39;cat&#39; in spam.keys()?"
   ]
  },
  {
   "attachments": {},
   "cell_type": "markdown",
   "metadata": {},
   "source": [
    "There is no difference, the operator checks whether a value exist as a key in the dictionary or not."
   ]
  },
  {
   "attachments": {},
   "cell_type": "markdown",
   "metadata": {},
   "source": [
    "# Question No. 06"
   ]
  },
  {
   "attachments": {},
   "cell_type": "markdown",
   "metadata": {},
   "source": [
    "#### If a dictionary is stored in spam, what is the difference between the expressions &#39;cat&#39; in spam and &#39;cat&#39; in spam.values()?"
   ]
  },
  {
   "attachments": {},
   "cell_type": "markdown",
   "metadata": {},
   "source": [
    "'cat' in spam checks whether there is a 'cat' key in the dictionary, while 'cat' in spam.values() checks whether there is a value 'cat' for one of the keys in spam."
   ]
  },
  {
   "attachments": {},
   "cell_type": "markdown",
   "metadata": {},
   "source": [
    "# Question No. 07"
   ]
  },
  {
   "attachments": {},
   "cell_type": "markdown",
   "metadata": {},
   "source": [
    "#### What is a shortcut for the following code?\n",
    "\n",
    "#### if &#39;color&#39; not in spam:\n",
    "\n",
    "#### spam[&#39;color&#39;] = &#39;black&#39;"
   ]
  },
  {
   "attachments": {},
   "cell_type": "markdown",
   "metadata": {},
   "source": [
    "if colour not in spam variable, the above code will set the black in the colour variable"
   ]
  },
  {
   "attachments": {},
   "cell_type": "markdown",
   "metadata": {},
   "source": [
    "# Question No. 08"
   ]
  },
  {
   "attachments": {},
   "cell_type": "markdown",
   "metadata": {},
   "source": [
    "#### How do you &quot;pretty print&quot; dictionary values using which module and function?"
   ]
  },
  {
   "attachments": {},
   "cell_type": "markdown",
   "metadata": {},
   "source": [
    "We can preety print a dictionary using three functions.\n",
    "\n",
    "    1. By using pprint function, using pprint module. (NOTE: pprint function doesnot notify nested dictionaries)\n",
    "\n",
    "    2. By using dumps() method, using json module\n",
    "\n",
    "    3. By using dumps() method, using yaml module"
   ]
  },
  {
   "cell_type": "code",
   "execution_count": 33,
   "metadata": {},
   "outputs": [],
   "source": [
    "student_details = [{ \"name\" : \"Santhosh\", \"Age\" : 17, \"Skills\":[\"ML\", \"DL\", \"AI\", \"NLP\"]},\n",
    "                   {\"name\" : \"Kumar\", \"Age\": 21, \"Skills\":[\"Python\", \"Mathematics\", \"Statistics\"]},\n",
    "                   {\"name\" : \"Sharukh\",\"Age\" : 23, \"Skills\":[\"AI\", \"NLP\"]},\n",
    "                   {\"name\" : \"Sam\", \"Age\" : 24, \"Skills\" : \"Everything\"}\n",
    "]"
   ]
  },
  {
   "cell_type": "code",
   "execution_count": 34,
   "metadata": {},
   "outputs": [
    {
     "name": "stdout",
     "output_type": "stream",
     "text": [
      "Print using print function\n",
      "[{'name': 'Santhosh', 'Age': 17, 'Skills': ['ML', 'DL', 'AI', 'NLP']}, {'name': 'Kumar', 'Age': 21, 'Skills': ['Python', 'Mathematics', 'Statistics']}, {'name': 'Sharukh', 'Age': 23, 'Skills': ['AI', 'NLP']}, {'name': 'Sam', 'Age': 24, 'Skills': 'Everything'}]\n",
      "----------------------------------------------------------------------------------------------------\n",
      "Printing using pprint function\n",
      "[{'Age': 17, 'Skills': ['ML', 'DL', 'AI', 'NLP'], 'name': 'Santhosh'},\n",
      " {'Age': 21,\n",
      "  'Skills': ['Python', 'Mathematics', 'Statistics'],\n",
      "  'name': 'Kumar'},\n",
      " {'Age': 23, 'Skills': ['AI', 'NLP'], 'name': 'Sharukh'},\n",
      " {'Age': 24, 'Skills': 'Everything', 'name': 'Sam'}]\n",
      "----------------------------------------------------------------------------------------------------\n",
      "Printing using yaml function\n",
      "Printing using dump() method\n",
      " - Age: 17\n",
      "  Skills:\n",
      "  - ML\n",
      "  - DL\n",
      "  - AI\n",
      "  - NLP\n",
      "  name: Santhosh\n",
      "- Age: 21\n",
      "  Skills:\n",
      "  - Python\n",
      "  - Mathematics\n",
      "  - Statistics\n",
      "  name: Kumar\n",
      "- Age: 23\n",
      "  Skills:\n",
      "  - AI\n",
      "  - NLP\n",
      "  name: Sharukh\n",
      "- Age: 24\n",
      "  Skills: Everything\n",
      "  name: Sam\n",
      "\n",
      "----------------------------------------------------------------------------------------------------\n"
     ]
    }
   ],
   "source": [
    "print(\"Print using print function\")\n",
    "print(student_details)\n",
    "print(\"-\" * 100)\n",
    "\n",
    "print(\"Printing using pprint function\")\n",
    "import pprint\n",
    "pprint.pprint(student_details)\n",
    "print(\"-\" * 100)\n",
    "\n",
    "print(\"Printing using yaml function\")\n",
    "import yaml\n",
    "dumps = yaml.dump(student_details)\n",
    "print('Printing using dump() method\\n', dumps)\n",
    "print(\"-\" * 100)"
   ]
  },
  {
   "attachments": {},
   "cell_type": "markdown",
   "metadata": {},
   "source": [
    "                                                    completed\n",
    "\n",
    "                                                                              Santhosh Kumar"
   ]
  }
 ],
 "metadata": {
  "kernelspec": {
   "display_name": "Python 3",
   "language": "python",
   "name": "python3"
  },
  "language_info": {
   "codemirror_mode": {
    "name": "ipython",
    "version": 3
   },
   "file_extension": ".py",
   "mimetype": "text/x-python",
   "name": "python",
   "nbconvert_exporter": "python",
   "pygments_lexer": "ipython3",
   "version": "3.11.1"
  },
  "orig_nbformat": 4
 },
 "nbformat": 4,
 "nbformat_minor": 2
}
