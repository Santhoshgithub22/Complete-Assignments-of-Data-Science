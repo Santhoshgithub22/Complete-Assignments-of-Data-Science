{
 "cells": [
  {
   "attachments": {},
   "cell_type": "markdown",
   "metadata": {},
   "source": [
    "# Python Programming Assingment No. 21"
   ]
  },
  {
   "attachments": {},
   "cell_type": "markdown",
   "metadata": {},
   "source": [
    "                                                                   By\n",
    "\n",
    "                                                             Santhosh Kumar"
   ]
  },
  {
   "attachments": {},
   "cell_type": "markdown",
   "metadata": {},
   "source": [
    "# Question No. 01"
   ]
  },
  {
   "attachments": {},
   "cell_type": "markdown",
   "metadata": {},
   "source": [
    "#### Write a function that takes a list and a number as arguments. Add the number to the end of the list, then remove the first element of the list. The function should then return the updated list.\n",
    "\n",
    "#### Examples\n",
    "\n",
    "#### next_in_line([5, 6, 7, 8, 9], 1) ➞ [6, 7, 8, 9, 1]\n",
    "\n",
    "#### next_in_line([7, 6, 3, 23, 17], 10) ➞ [6, 3, 23, 17, 10]\n",
    "\n",
    "#### next_in_line([1, 10, 20, 42 ], 6) ➞ [10, 20, 42, 6]\n",
    "\n",
    "#### next_in_line([], 6) ➞ &quot;No list has been selected&quot;"
   ]
  },
  {
   "cell_type": "code",
   "execution_count": 6,
   "metadata": {},
   "outputs": [
    {
     "name": "stdout",
     "output_type": "stream",
     "text": [
      "output ----> [6, 7, 8, 9, 1]\n",
      "output ----> [6, 3, 23, 17, 10]\n",
      "output ----> [6, 7, 8, 9, 1]\n",
      "No list has been selected\n"
     ]
    }
   ],
   "source": [
    "class new_list:\n",
    "\n",
    "    def creating_new_list_of_elements(self, n, g):\n",
    "        \"\"\"This function will help you to drop the first element in list and add at the new particular element in end\"\"\"\n",
    "\n",
    "        try:\n",
    "            if (len(n)) > 0:\n",
    "                n.append(g)\n",
    "                n.remove(n[0])\n",
    "                return f\"output ----> {n}\"\n",
    "            else:\n",
    "                return f\"No list has been selected\"\n",
    "        \n",
    "        except Exception as e:\n",
    "            print(\"You made a mistake on inside the creating new list of elements function - \", e)\n",
    "\n",
    "new_list = new_list()\n",
    "print(new_list.creating_new_list_of_elements([5,6,7,8,9],1))\n",
    "print(new_list.creating_new_list_of_elements([7,6,3,23,17],10))\n",
    "print(new_list.creating_new_list_of_elements([5,6,7,8,9],1))\n",
    "print(new_list.creating_new_list_of_elements([],6))"
   ]
  },
  {
   "attachments": {},
   "cell_type": "markdown",
   "metadata": {},
   "source": [
    "# Question No. 02"
   ]
  },
  {
   "attachments": {},
   "cell_type": "markdown",
   "metadata": {},
   "source": [
    "#### Create the function that takes a list of dictionaries and returns the sum of people&#39;s budgets.\n",
    "\n",
    "#### Examples\n",
    "\n",
    "#### get_budgets([\n",
    "{ &quot;name&quot;: &quot;John&quot;, &quot;age&quot;: 21, &quot;budget&quot;: 23000 },\n",
    "{ &quot;name&quot;: &quot;Steve&quot;, &quot;age&quot;: 32, &quot;budget&quot;: 40000 },\n",
    "{ &quot;name&quot;: &quot;Martin&quot;, &quot;age&quot;: 16, &quot;budget&quot;: 2700 }\n",
    "]) ➞ 65700\n",
    "\n",
    "#### get_budgets([\n",
    "{ &quot;name&quot;: &quot;John&quot;, &quot;age&quot;: 21, &quot;budget&quot;: 29000 },\n",
    "{ &quot;name&quot;: &quot;Steve&quot;, &quot;age&quot;: 32, &quot;budget&quot;: 32000 },\n",
    "{ &quot;name&quot;: &quot;Martin&quot;, &quot;age&quot;: 16, &quot;budget&quot;: 1600 }\n",
    "]) ➞ 62600"
   ]
  },
  {
   "cell_type": "code",
   "execution_count": 28,
   "metadata": {},
   "outputs": [
    {
     "name": "stdout",
     "output_type": "stream",
     "text": [
      "65700\n",
      "62600\n"
     ]
    }
   ],
   "source": [
    "class budget:\n",
    "\n",
    "    def get_budgets(self, dictionary):\n",
    "        \"\"\"This function will help you to find the total budget inside the dictionary\"\"\"\n",
    "\n",
    "        try:\n",
    "            sum = 0\n",
    "            for i in dictionary:\n",
    "                sum = sum + i[\"budget\"]\n",
    "            return sum\n",
    "            \n",
    "        except Exception as e:\n",
    "            print(\"You made a mistake on inside your finding budget function - \", e)\n",
    "\n",
    "budget = budget()\n",
    "\n",
    "print(budget.get_budgets([\n",
    "{ \"name\": \"John\", \"age\": 21, \"budget\": 23000 },\n",
    "{ \"name\": \"Steve\", \"age\": 32, \"budget\": 40000 },\n",
    "{ \"name\": \"Martin\", \"age\": 16, \"budget\": 2700 }\n",
    "]))\n",
    "\n",
    "print(budget.get_budgets([\n",
    "{ \"name\": \"John\", \"age\": 21, \"budget\": 29000 },\n",
    "{ \"name\": \"Steve\", \"age\": 32, \"budget\": 32000 },\n",
    "{ \"name\": \"Martin\", \"age\": 16, \"budget\": 1600 }\n",
    "]))"
   ]
  },
  {
   "attachments": {},
   "cell_type": "markdown",
   "metadata": {},
   "source": [
    "# Question No. 03"
   ]
  },
  {
   "attachments": {},
   "cell_type": "markdown",
   "metadata": {},
   "source": [
    "#### Create a function that takes a string and returns a string with its letters in alphabetical order.\n",
    "\n",
    "#### Examples\n",
    "\n",
    "#### alphabet_soup(&quot;hello&quot;) ➞ &quot;ehllo&quot;\n",
    "\n",
    "#### alphabet_soup(&quot;edabit&quot;) ➞ &quot;abdeit&quot;\n",
    "\n",
    "#### alphabet_soup(&quot;hacker&quot;) ➞ &quot;acehkr&quot;\n",
    "\n",
    "#### alphabet_soup(&quot;geek&quot;) ➞ &quot;eegk&quot;\n",
    "\n",
    "#### alphabet_soup(&quot;javascript&quot;) ➞ &quot;aacijprstv&quot;"
   ]
  },
  {
   "cell_type": "code",
   "execution_count": 9,
   "metadata": {},
   "outputs": [
    {
     "name": "stdout",
     "output_type": "stream",
     "text": [
      "hello ----> ehllo\n",
      "edabit ----> abdeit\n",
      "hacker ----> acehkr\n",
      "geek ----> eegk\n",
      "javascript ----> aacijprstv\n"
     ]
    }
   ],
   "source": [
    "class alphabetical_order:\n",
    "\n",
    "    def printing_words_in_alphabetical_order(self, n):\n",
    "        \"\"\"This function will help you to print in alphabetical order\"\"\"\n",
    "\n",
    "        try:\n",
    "            result = \"\"\n",
    "            result = result.join(sorted(n))\n",
    "            return f\"{n} ----> {result}\"\n",
    "        \n",
    "        except Exception as e:\n",
    "            print(\"You made a mistake on inside your alphabetical order function\")\n",
    "\n",
    "alphabetical_order = alphabetical_order()\n",
    "print(alphabetical_order.printing_words_in_alphabetical_order(\"hello\"))\n",
    "print(alphabetical_order.printing_words_in_alphabetical_order(\"edabit\"))\n",
    "print(alphabetical_order.printing_words_in_alphabetical_order(\"hacker\"))\n",
    "print(alphabetical_order.printing_words_in_alphabetical_order(\"geek\"))\n",
    "print(alphabetical_order.printing_words_in_alphabetical_order(\"javascript\"))"
   ]
  },
  {
   "attachments": {},
   "cell_type": "markdown",
   "metadata": {},
   "source": [
    "# Question No. 04"
   ]
  },
  {
   "attachments": {},
   "cell_type": "markdown",
   "metadata": {},
   "source": [
    "#### Suppose that you invest $10,000 for 10 years at an interest rate of 6% compounded monthly. What will be the value of your investment at the end of the 10 year period?\n",
    "\n",
    "#### Create a function that accepts the principal p, the term in years t, the interest rate r, and the number of compounding periods per year n. The function returns the value at the end of term rounded to the nearest cent.\n",
    "\n",
    "#### For the example above:\n",
    "\n",
    "#### compound_interest(10000, 10, 0.06, 12) ➞ 18193.97\n",
    "\n",
    "#### Note that the interest rate is given as a decimal and n=12 because with monthly compounding there are 12 periods per year. Compounding can also be done annually, quarterly, weekly, or daily.\n",
    "\n",
    "#### Examples\n",
    "\n",
    "#### compound_interest(100, 1, 0.05, 1) ➞ 105.0\n",
    "\n",
    "#### compound_interest(3500, 15, 0.1, 4) ➞ 15399.26\n",
    "\n",
    "#### compound_interest(100000, 20, 0.15, 365) ➞ 2007316.26"
   ]
  },
  {
   "cell_type": "code",
   "execution_count": 14,
   "metadata": {},
   "outputs": [
    {
     "name": "stdout",
     "output_type": "stream",
     "text": [
      "((100, 1, 0.05, 1) ----> 105.0)\n",
      "((3500, 15, 0.1, 4) ----> 15399.264120852586)\n",
      "((10000, 20, 0.15, 365) ----> 200731.62632325367)\n",
      "((100000, 1, 0.05, 1) ----> 105000.0)\n"
     ]
    }
   ],
   "source": [
    "class compound_interest:\n",
    "\n",
    "    def finding_compounding_interest(self, principal, years, interest_rate, compound_period):\n",
    "        \"\"\"This function will help you to returns the value at the end of term rounded to the nearest cent\"\"\"\n",
    "\n",
    "        try:\n",
    "            compound_interest = principal * (1+(interest_rate / compound_period)) ** (compound_period * years)\n",
    "            return f\"({principal, years, interest_rate, compound_period} ----> {compound_interest})\"\n",
    "        \n",
    "        except Exception as e:\n",
    "            print(\"You made a mistake on inside your compound interest function - \", e)\n",
    "\n",
    "compound_interest = compound_interest()\n",
    "print(compound_interest.finding_compounding_interest(100,1,0.05,1))\n",
    "print(compound_interest.finding_compounding_interest(3500,15,0.1,4))\n",
    "print(compound_interest.finding_compounding_interest(10000,20,0.15,365))\n",
    "print(compound_interest.finding_compounding_interest(100000,1,0.05,1))"
   ]
  },
  {
   "attachments": {},
   "cell_type": "markdown",
   "metadata": {},
   "source": [
    "# Question No. 05"
   ]
  },
  {
   "attachments": {},
   "cell_type": "markdown",
   "metadata": {},
   "source": [
    "#### Write a function that takes a list of elements and returns only the integers.\n",
    "\n",
    "#### Examples\n",
    "\n",
    "#### return_only_integer([9, 2, &quot;space&quot;, &quot;car&quot;, &quot;lion&quot;, 16]) ➞ [9, 2, 16]\n",
    "\n",
    "#### return_only_integer([&quot;hello&quot;, 81, &quot;basketball&quot;, 123, &quot;fox&quot;]) ➞ [81, 123]\n",
    "\n",
    "#### return_only_integer([10, &quot;121&quot;, 56, 20, &quot;car&quot;, 3, &quot;lion&quot;]) ➞ [10, 56, 20,3]\n",
    "\n",
    "#### return_only_integer([&quot;String&quot;, True, 3.3, 1]) ➞ [1]"
   ]
  },
  {
   "cell_type": "code",
   "execution_count": 16,
   "metadata": {},
   "outputs": [
    {
     "name": "stdout",
     "output_type": "stream",
     "text": [
      "[9, 2, 'Space', 'car', 'lion', 16] ----> [9, 2, 16]\n",
      "['hello', 81, 'basketball', 123, 'fox'] ----> [81, 123]\n",
      "[10, '121', 56, 20, 'car', 3, 'lion'] ----> [10, 56, 20, 3]\n",
      "['string', True, 3.3, 1] ----> [1]\n"
     ]
    }
   ],
   "source": [
    "class integers:\n",
    "\n",
    "    def extracting_only_integers(self, list):\n",
    "        \"\"\"This function will help you to extract only integers\"\"\"\n",
    "\n",
    "        try:\n",
    "            result = []\n",
    "            for i in list:\n",
    "                if type(i) == int:\n",
    "                    result.append(i)\n",
    "\n",
    "            return f\"{list} ----> {result}\"\n",
    "        \n",
    "        except Exception as e:\n",
    "            print(\"You made a mistake on inside your extracting only integers function - \", e)\n",
    "\n",
    "integers = integers()\n",
    "print(integers.extracting_only_integers([9,2,\"Space\", \"car\", \"lion\", 16]))\n",
    "print(integers.extracting_only_integers([\"hello\", 81, \"basketball\", 123, \"fox\"]))\n",
    "print(integers.extracting_only_integers([10, \"121\", 56, 20, \"car\", 3, \"lion\"]))\n",
    "print(integers.extracting_only_integers([\"string\", True, 3.3, 1]))"
   ]
  },
  {
   "attachments": {},
   "cell_type": "markdown",
   "metadata": {},
   "source": [
    "                                        Completed\n",
    "\n",
    "                                                                            Santhosh Kumar"
   ]
  }
 ],
 "metadata": {
  "kernelspec": {
   "display_name": "Python 3",
   "language": "python",
   "name": "python3"
  },
  "language_info": {
   "codemirror_mode": {
    "name": "ipython",
    "version": 3
   },
   "file_extension": ".py",
   "mimetype": "text/x-python",
   "name": "python",
   "nbconvert_exporter": "python",
   "pygments_lexer": "ipython3",
   "version": "3.11.1"
  },
  "orig_nbformat": 4
 },
 "nbformat": 4,
 "nbformat_minor": 2
}
