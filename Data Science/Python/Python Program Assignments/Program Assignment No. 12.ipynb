{
 "cells": [
  {
   "attachments": {},
   "cell_type": "markdown",
   "metadata": {},
   "source": [
    "# Python Programming Assignment No. 12"
   ]
  },
  {
   "attachments": {},
   "cell_type": "markdown",
   "metadata": {},
   "source": [
    "                                                                                      By\n",
    "                                                                            \n",
    "                                                                                Santhosh Kumar M"
   ]
  },
  {
   "attachments": {},
   "cell_type": "markdown",
   "metadata": {},
   "source": [
    "# Question No. 01"
   ]
  },
  {
   "attachments": {},
   "cell_type": "markdown",
   "metadata": {},
   "source": [
    "#### Write a Python program to Extract Unique values dictionary values?"
   ]
  },
  {
   "cell_type": "code",
   "execution_count": 17,
   "metadata": {},
   "outputs": [
    {
     "name": "stdout",
     "output_type": "stream",
     "text": [
      "values are Sudhanshu\n",
      "values are Krish Naik\n",
      "values are Krish Naik\n",
      "values are Sunny Savita\n",
      "Unique values are {'Sunny Savita', 'Sudhanshu', 'Krish Naik'}\n"
     ]
    }
   ],
   "source": [
    "class Extract_Unique:\n",
    "\n",
    "    def extracting_unique_dict_values(self):\n",
    "        \"\"\"This function will help you to extract unique values in dictionary\"\"\"\n",
    "\n",
    "        try:\n",
    "            d1 = {\"Python\" : \"Sudhanshu\", \"Statistics\" : \"Krish Naik\", \"Machine_Learning\" : \"Krish Naik\", \"Doubt Clearing\" : \"Sunny Savita\"}\n",
    "\n",
    "            output = []\n",
    "            for i in d1.values():\n",
    "                print(f\"values are {i}\")\n",
    "\n",
    "                output.append(i)\n",
    "            print(f\"Unique values are {set(output)}\")\n",
    "            \n",
    "\n",
    "        except Exception as e:\n",
    "            print(\"You made a mistake on inside the extracting unique dictionary values function\")\n",
    "\n",
    "Extract_Unique = Extract_Unique()\n",
    "Extract_Unique.extracting_unique_dict_values()"
   ]
  },
  {
   "attachments": {},
   "cell_type": "markdown",
   "metadata": {},
   "source": [
    "# Question No. 02"
   ]
  },
  {
   "attachments": {},
   "cell_type": "markdown",
   "metadata": {},
   "source": [
    "#### Write a Python program to find the sum of all items in a dictionary?"
   ]
  },
  {
   "cell_type": "code",
   "execution_count": 20,
   "metadata": {},
   "outputs": [
    {
     "data": {
      "text/plain": [
       "'The sum of total values is 40'"
      ]
     },
     "execution_count": 20,
     "metadata": {},
     "output_type": "execute_result"
    }
   ],
   "source": [
    "class sum_of_dict_values:\n",
    "\n",
    "    def sum_of_values(self):\n",
    "        \"\"\"This function will help you to find the sum of all items in a dictionary\"\"\"\n",
    "\n",
    "        try:\n",
    "            d1 = {\"Pen\" : 20, \"Pencil\":10, \"Eraser\" : 5, \"Sharpner\" : 5}\n",
    "            l = []\n",
    "            for i in d1.values():\n",
    "                l.append(i)\n",
    "            return f\"The sum of total values is {sum(l)}\"\n",
    "        \n",
    "        except Exception as e:\n",
    "            print(\"You made a mistake on inside the sum of values function - \", e)\n",
    "\n",
    "sum_of_dict_values = sum_of_dict_values()\n",
    "sum_of_dict_values.sum_of_values()"
   ]
  },
  {
   "attachments": {},
   "cell_type": "markdown",
   "metadata": {},
   "source": [
    "# Question No. 03"
   ]
  },
  {
   "attachments": {},
   "cell_type": "markdown",
   "metadata": {},
   "source": [
    "#### Write a Python program to Merging two Dictionaries?"
   ]
  },
  {
   "cell_type": "code",
   "execution_count": 31,
   "metadata": {},
   "outputs": [
    {
     "data": {
      "text/plain": [
       "{'A': 1, 'B': 2, 'C': 3, 'D': 4}"
      ]
     },
     "execution_count": 31,
     "metadata": {},
     "output_type": "execute_result"
    }
   ],
   "source": [
    "class merging_dictionaries:\n",
    "\n",
    "    def merging_two_dictionaries(self):\n",
    "        \"\"\"This function will help you to merge two dictionaries\"\"\"\n",
    "\n",
    "        try:\n",
    "            d1 = {\"A\":1, \"B\":2}\n",
    "            d2 = {\"C\":3, \"D\":4}\n",
    "            d1.update(d2)\n",
    "            return d1\n",
    "        \n",
    "        except Exception as e:\n",
    "            print(\"You made a mistake on inside the merging two dictionaries function - \", e)\n",
    "\n",
    "merging_dictionaries = merging_dictionaries()\n",
    "merging_dictionaries.merging_two_dictionaries()"
   ]
  },
  {
   "attachments": {},
   "cell_type": "markdown",
   "metadata": {},
   "source": [
    "# Question No. 04"
   ]
  },
  {
   "attachments": {},
   "cell_type": "markdown",
   "metadata": {},
   "source": [
    "#### Write a Python program to convert key-values list to flat dictionary?"
   ]
  },
  {
   "cell_type": "code",
   "execution_count": 33,
   "metadata": {},
   "outputs": [
    {
     "data": {
      "text/plain": [
       "{'Course': 'Data Science', 'Mentors': 'Krish Naik, Sudhanshu and Sunny Savita'}"
      ]
     },
     "execution_count": 33,
     "metadata": {},
     "output_type": "execute_result"
    }
   ],
   "source": [
    "class convert_to_key_and_values:\n",
    "\n",
    "    def converting_list_to_dict(self):\n",
    "        \"\"\"This function will help you to convert the list to dictionary\"\"\"\n",
    "\n",
    "        try:\n",
    "            l1 = [(\"Course\", \"Data Science\"), (\"Mentors\", \"Krish Naik, Sudhanshu and Sunny Savita\")]\n",
    "            d = {}\n",
    "            for i in l1:\n",
    "                d.update(l1)\n",
    "            return d\n",
    "        \n",
    "        except Exception as e:\n",
    "            print(\"You made a mistake on inside the converting list to dict function - \", e)\n",
    "\n",
    "convert_to_key_and_values = convert_to_key_and_values()\n",
    "convert_to_key_and_values.converting_list_to_dict()\n"
   ]
  },
  {
   "attachments": {},
   "cell_type": "markdown",
   "metadata": {},
   "source": [
    "# Question No. 05"
   ]
  },
  {
   "attachments": {},
   "cell_type": "markdown",
   "metadata": {},
   "source": [
    "#### Write a Python program to insertion at the beginning in OrderedDict?"
   ]
  },
  {
   "cell_type": "code",
   "execution_count": 36,
   "metadata": {},
   "outputs": [
    {
     "data": {
      "text/plain": [
       "OrderedDict([('4', 'Sunny Bhaveen Chandra'),\n",
       "             ('1', 'Krish Naik'),\n",
       "             ('2', 'Sudhanshu'),\n",
       "             ('3', 'Sunny Savita')])"
      ]
     },
     "execution_count": 36,
     "metadata": {},
     "output_type": "execute_result"
    }
   ],
   "source": [
    "from collections import OrderedDict\n",
    "\n",
    "class order_the_dictionary:\n",
    "\n",
    "    def ordering_the_dictionary(self):\n",
    "        \"\"\"This function will help you to order the dictionay\"\"\"\n",
    "\n",
    "        try:\n",
    "\n",
    "            d1 = OrderedDict([(\"1\" , \"Krish Naik\"), (\"2\" , \"Sudhanshu\"), (\"3\" , \"Sunny Savita\")])\n",
    "            d1.update({\"4\" : \"Sunny Bhaveen Chandra\"})\n",
    "            d1.move_to_end(\"4\", last=False)\n",
    "            return d1\n",
    "        \n",
    "        except Exception as e:\n",
    "            print(\"You made a mistake on inside the ordering the dictionary funciton - \", e)\n",
    "\n",
    "order_the_dictionary = order_the_dictionary()\n",
    "order_the_dictionary.ordering_the_dictionary()"
   ]
  },
  {
   "attachments": {},
   "cell_type": "markdown",
   "metadata": {},
   "source": [
    "# Question No. 06"
   ]
  },
  {
   "attachments": {},
   "cell_type": "markdown",
   "metadata": {},
   "source": [
    "#### Write a Python program to check order of character in string using OrderedDict()?"
   ]
  },
  {
   "cell_type": "code",
   "execution_count": 42,
   "metadata": {},
   "outputs": [
    {
     "name": "stdout",
     "output_type": "stream",
     "text": [
      "The input dictionary is {'A': 'Krish Naik', 'C': 'Sunny Bhaveen Chandra', 'D': 'Sunny Savita', 'B': 'Sudhanshu'}\n",
      "\n",
      "\n",
      "Output is OrderedDict([('A', 'Krish Naik'), ('B', 'Sudhanshu'), ('C', 'Sunny Bhaveen Chandra'), ('D', 'Sunny Savita')])\n"
     ]
    }
   ],
   "source": [
    "from collections import OrderedDict\n",
    "\n",
    "class sort_orders:\n",
    "\n",
    "    def sorting_in_order(self):\n",
    "        \"\"\"This function will help you to order the character in string by using ordered dict\"\"\"\n",
    "\n",
    "        try:\n",
    "            d = {\"A\" : \"Krish Naik\", \"C\" : \"Sunny Bhaveen Chandra\", \"D\" : \"Sunny Savita\", \"B\" : \"Sudhanshu\"}\n",
    "            print(f\"The input dictionary is {d}\")\n",
    "\n",
    "            print(\"\\n\")\n",
    "\n",
    "            d1 = OrderedDict(dict(sorted(d.items())))\n",
    "            print(f\"Output is {d1}\")\n",
    "\n",
    "        except Exception as e:\n",
    "            print(\"You made a mistake on inside the sorting in order function - \",e)\n",
    "\n",
    "sort_orders = sort_orders()\n",
    "sort_orders.sorting_in_order()"
   ]
  },
  {
   "attachments": {},
   "cell_type": "markdown",
   "metadata": {},
   "source": [
    "# Question No. 07"
   ]
  },
  {
   "attachments": {},
   "cell_type": "markdown",
   "metadata": {},
   "source": [
    "#### Write a Python program to sort Python Dictionaries by Key or Value?"
   ]
  },
  {
   "cell_type": "code",
   "execution_count": 73,
   "metadata": {},
   "outputs": [
    {
     "name": "stdout",
     "output_type": "stream",
     "text": [
      "[('PineApple', 22), ('Mango', 100), ('Grape', 13), ('Banana', 60)]\n",
      "[('Banana', 60), ('Grape', 13), ('Mango', 100), ('PineApple', 22)]\n"
     ]
    }
   ],
   "source": [
    "class sort_by_key_or_value:\n",
    "\n",
    "    def sorting_by_using_key_or_value(self):\n",
    "        \"\"\"This function will help you to sort with the help of key or values\"\"\"\n",
    "\n",
    "        try:\n",
    "            ans = []\n",
    "            output = []\n",
    "            d = {'Mango':100,'PineApple':22,'Banana':60,'Grape':13}\n",
    "            ans = sorted(d.items(), reverse=True)\n",
    "            print(ans)\n",
    "            output = sorted(d.items(), reverse=False)\n",
    "            print(output)\n",
    "\n",
    "        except Exception as e:\n",
    "            print(\"You made a mistake on inside the sort by key or value function - \", e)\n",
    "\n",
    "sort_by_key_or_value = sort_by_key_or_value()\n",
    "sort_by_key_or_value.sorting_by_using_key_or_value()"
   ]
  },
  {
   "attachments": {},
   "cell_type": "markdown",
   "metadata": {},
   "source": [
    "                                                              Completed\n",
    "\n",
    "                                                                                          Santhosh Kumar"
   ]
  }
 ],
 "metadata": {
  "kernelspec": {
   "display_name": "Python 3",
   "language": "python",
   "name": "python3"
  },
  "language_info": {
   "codemirror_mode": {
    "name": "ipython",
    "version": 3
   },
   "file_extension": ".py",
   "mimetype": "text/x-python",
   "name": "python",
   "nbconvert_exporter": "python",
   "pygments_lexer": "ipython3",
   "version": "3.11.1"
  },
  "orig_nbformat": 4
 },
 "nbformat": 4,
 "nbformat_minor": 2
}
