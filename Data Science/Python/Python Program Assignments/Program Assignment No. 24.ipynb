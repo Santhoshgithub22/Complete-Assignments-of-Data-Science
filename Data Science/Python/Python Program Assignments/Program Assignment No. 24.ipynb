{
 "cells": [
  {
   "attachments": {},
   "cell_type": "markdown",
   "metadata": {},
   "source": [
    "# Python Programming Assignment No. 24"
   ]
  },
  {
   "attachments": {},
   "cell_type": "markdown",
   "metadata": {},
   "source": [
    "                                                           By\n",
    "\n",
    "                                                     Santhosh Kumar"
   ]
  },
  {
   "attachments": {},
   "cell_type": "markdown",
   "metadata": {},
   "source": [
    "# Question No. 01"
   ]
  },
  {
   "attachments": {},
   "cell_type": "markdown",
   "metadata": {},
   "source": [
    "#### Create a function that takes an integer and returns a list from 1 to the given number, where:\n",
    "\n",
    "#### 1. If the number can be divided evenly by 4, amplify it by 10 (i.e. return 10 times the\n",
    "number).\n",
    "\n",
    "#### 2. If the number cannot be divided evenly by 4, simply return the number.\n",
    "\n",
    "#### Examples\n",
    "\n",
    "#### amplify(4) ➞ [1, 2, 3, 40]\n",
    "\n",
    "#### amplify(3) ➞ [1, 2, 3]\n",
    "\n",
    "#### amplify(25) ➞ [1, 2, 3, 40, 5, 6, 7, 80, 9, 10, 11, 120, 13, 14, 15, 160,\n",
    "\n",
    "#### 17, 18, 19, 200, 21, 22, 23, 240, 25]\n",
    "\n",
    "#### Notes\n",
    "\n",
    " The given integer will always be equal to or greater than 1.\n",
    "\n",
    " Include the number (see example above).\n",
    "\n",
    " To perform this problem with its intended purpose, try doing it with list comprehensions. If that&#39;s too difficult, just solve the challenge any way you can."
   ]
  },
  {
   "cell_type": "code",
   "execution_count": 10,
   "metadata": {},
   "outputs": [
    {
     "name": "stdout",
     "output_type": "stream",
     "text": [
      "4 ----> [1, 2, 3, 40]\n",
      "3 ----> [1, 2, 3]\n",
      "25 ----> [1, 2, 3, 40, 5, 6, 7, 80, 9, 10, 11, 120, 13, 14, 15, 160, 17, 18, 19, 200, 21, 22, 23, 240, 25]\n",
      "16 ----> [1, 2, 3, 40, 5, 6, 7, 80, 9, 10, 11, 120, 13, 14, 15, 160]\n"
     ]
    }
   ],
   "source": [
    "class amplify:\n",
    "\n",
    "    def printing_amplify(self, g):\n",
    "        \"\"\"This function will help you to return until the given number, and \n",
    "        if the elements divided by 4, then it will print the 10 times of that particular element\"\"\"\n",
    "\n",
    "        try:\n",
    "            result = []\n",
    "            for i in range(1, g+1):\n",
    "                if i % 4 == 0:\n",
    "                    i = i * 10\n",
    "                result.append(i)\n",
    "            return f\"{g} ----> {result}\"\n",
    "\n",
    "        except Exception as e:\n",
    "            print(\"You made a mistake on inside your printing amplify function - \", e)\n",
    "\n",
    "amplify = amplify()\n",
    "print(amplify.printing_amplify(4))\n",
    "print(amplify.printing_amplify(3))\n",
    "print(amplify.printing_amplify(25))\n",
    "print(amplify.printing_amplify(16))"
   ]
  },
  {
   "attachments": {},
   "cell_type": "markdown",
   "metadata": {},
   "source": [
    "# Question No. 02"
   ]
  },
  {
   "attachments": {},
   "cell_type": "markdown",
   "metadata": {},
   "source": [
    "#### Create a function that takes a list of numbers and return the number that&#39;s unique.\n",
    "\n",
    "#### Examples\n",
    "\n",
    "#### unique([3, 3, 3, 7, 3, 3]) ➞ 7\n",
    "\n",
    "#### unique([0, 0, 0.77, 0, 0]) ➞ 0.77\n",
    "\n",
    "#### unique([0, 1, 1, 1, 1, 1, 1, 1]) ➞ 0\n",
    "\n",
    "#### Notes\n",
    "\n",
    "#### Test cases will always have exactly one unique number while all others are the same."
   ]
  },
  {
   "cell_type": "code",
   "execution_count": 68,
   "metadata": {},
   "outputs": [
    {
     "name": "stdout",
     "output_type": "stream",
     "text": [
      "[3, 3, 3, 7, 3, 3] ----> 7\n",
      "[0, 0, 0.77, 0, 0] ----> 0.77\n",
      "[0, 1, 1, 1, 1, 1, 1, 1] ----> 0\n"
     ]
    }
   ],
   "source": [
    "class UNIQUE:\n",
    "\n",
    "    def finding_unique_number(self, g):\n",
    "        \"\"\"This function will help you to print the unique number in the list\"\"\"\n",
    "\n",
    "        try:\n",
    "            result = ''\n",
    "            for i in set(g):\n",
    "                if g.count(i) == 1:\n",
    "                    result = i\n",
    "            return f\"{g} ----> {result}\"\n",
    "        \n",
    "        except Exception as e:\n",
    "            print(\"You made a mistake on inside the finding unique number function - \", e)\n",
    "\n",
    "UNIQUE = UNIQUE()\n",
    "print(UNIQUE.finding_unique_number([3,3,3,7,3,3]))\n",
    "print(UNIQUE.finding_unique_number([0,0,0.77,0,0]))\n",
    "print(UNIQUE.finding_unique_number([0,1,1,1,1,1,1,1]))\n"
   ]
  },
  {
   "attachments": {},
   "cell_type": "markdown",
   "metadata": {},
   "source": [
    "# Question No. 03"
   ]
  },
  {
   "attachments": {},
   "cell_type": "markdown",
   "metadata": {},
   "source": [
    "#### Your task is to create a Circle constructor that creates a circle with a radius provided by an argument. The circles constructed must have two getters getArea() (PIr^2) and getPerimeter() (2PI*r) which give both respective areas and perimeter (circumference).\n",
    "\n",
    "#### For help with this class, I have provided you with a Rectangle constructor which you can use as a base example.\n",
    "\n",
    "#### Examples\n",
    "\n",
    "#### circy = Circle(11)\n",
    "\n",
    "#### circy.getArea()\n",
    "\n",
    "#### Should return 380.132711084365\n",
    "\n",
    "#### circy = Circle(4.44)\n",
    "\n",
    "#### circy.getPerimeter()\n",
    "\n",
    "#### Should return 27.897342763877365"
   ]
  },
  {
   "cell_type": "code",
   "execution_count": 44,
   "metadata": {},
   "outputs": [
    {
     "name": "stdout",
     "output_type": "stream",
     "text": [
      "380\n",
      "28\n"
     ]
    }
   ],
   "source": [
    "import math\n",
    "\n",
    "class Circle:\n",
    "\n",
    "    def __init__(self, radius):\n",
    "        self.radius = radius\n",
    "\n",
    "    def get_area(self):\n",
    "        try:\n",
    "            \"\"\"This function will help you to find the area of the circle\"\"\"\n",
    "            area = math.pi * (self.radius * self.radius)\n",
    "            return round(area)\n",
    "        except Exception as e:\n",
    "            print(\"You made a mistake on inside the get area function - \", e)\n",
    "        \n",
    "    def get_perimeter(self):\n",
    "        \"\"\"This function will help you to find the perimeter of the circle\"\"\"\n",
    "        try:\n",
    "            perimeter = 2 * math.pi * self.radius\n",
    "            return round(perimeter)\n",
    "        except Exception as e:\n",
    "            print(\"You made a mistake on inside the get perimeter function - \", e)\n",
    "\n",
    "Circy = Circle(11)\n",
    "print(Circy.get_area())\n",
    "\n",
    "Circy = Circle(4.44)\n",
    "print(Circy.get_perimeter())"
   ]
  },
  {
   "attachments": {},
   "cell_type": "markdown",
   "metadata": {},
   "source": [
    "# Question No. 04"
   ]
  },
  {
   "attachments": {},
   "cell_type": "markdown",
   "metadata": {},
   "source": [
    "#### Create a function that takes a list of strings and return a list, sorted from shortest to longest.\n",
    "\n",
    "#### Examples\n",
    "\n",
    "#### sort_by_length([&quot;Google&quot;, &quot;Apple&quot;, &quot;Microsoft&quot;])\n",
    "➞ [&quot;Apple&quot;, &quot;Google&quot;, &quot;Microsoft&quot;]\n",
    "\n",
    "#### sort_by_length([&quot;Leonardo&quot;, &quot;Michelangelo&quot;, &quot;Raphael&quot;, &quot;Donatello&quot;])\n",
    "➞ [&quot;Raphael&quot;, &quot;Leonardo&quot;, &quot;Donatello&quot;, &quot;Michelangelo&quot;]\n",
    "\n",
    "#### sort_by_length([&quot;Turing&quot;, &quot;Einstein&quot;, &quot;Jung&quot;])\n",
    "➞ [&quot;Jung&quot;, &quot;Turing&quot;, &quot;Einstein&quot;]\n",
    "\n",
    "#### Notes\n",
    "\n",
    "#### All test cases contain lists with strings of different lengths, so you won&#39;t have to deal with multiple strings of the same length."
   ]
  },
  {
   "cell_type": "code",
   "execution_count": 70,
   "metadata": {},
   "outputs": [
    {
     "name": "stdout",
     "output_type": "stream",
     "text": [
      "['Google', 'Apple', 'Microsoft'] ----> ['Apple', 'Google', 'Microsoft']\n",
      "['Leonardo', 'Michelangelo', 'Raphael', 'Donatello'] ----> ['Raphael', 'Leonardo', 'Donatello', 'Michelangelo']\n",
      "['Turing', 'Einstein', 'Jung'] ----> ['Jung', 'Turing', 'Einstein']\n"
     ]
    }
   ],
   "source": [
    "class sort_by_length:\n",
    "\n",
    "    def smallest_to_biggest(self, g):\n",
    "        \"\"\"This function will help you to return a list from shortest to longest\"\"\"\n",
    "\n",
    "        try:\n",
    "            result = sorted(g, key=len)\n",
    "            return f\"{g} ----> {result}\"\n",
    "        \n",
    "        except Exception as e:\n",
    "            print(\"You made a mistake on inside the smallest to biggest function -\", e)\n",
    "\n",
    "sort_by_length = sort_by_length()\n",
    "print(sort_by_length.smallest_to_biggest([\"Google\", \"Apple\", \"Microsoft\"]))\n",
    "print(sort_by_length.smallest_to_biggest([\"Leonardo\", \"Michelangelo\", \"Raphael\", \"Donatello\"]))\n",
    "print(sort_by_length.smallest_to_biggest([\"Turing\", \"Einstein\", \"Jung\"]))\n",
    "                "
   ]
  },
  {
   "attachments": {},
   "cell_type": "markdown",
   "metadata": {},
   "source": [
    "# Question No. 05"
   ]
  },
  {
   "attachments": {},
   "cell_type": "markdown",
   "metadata": {},
   "source": [
    "#### Create a function that validates whether three given integers form a Pythagorean triplet. The sum of the squares of the two smallest integers must equal the square of the largest number to be validated.\n",
    "\n",
    "#### Examples\n",
    "\n",
    "#### is_triplet(3, 4, 5) ➞ True\n",
    "\n",
    "* 3² + 4² = 25\n",
    "\n",
    "* 5² = 25\n",
    "\n",
    "#### is_triplet(13, 5, 12) ➞ True\n",
    "\n",
    "* 5² + 12² = 169\n",
    "\n",
    "* 13² = 169\n",
    "\n",
    "#### is_triplet(1, 2, 3) ➞ False\n",
    "\n",
    "* 1² + 2² = 5\n",
    "\n",
    "* 3² = 9\n",
    "\n",
    "Notes\n",
    "\n",
    "Numbers may not be given in a sorted order."
   ]
  },
  {
   "cell_type": "code",
   "execution_count": 95,
   "metadata": {},
   "outputs": [
    {
     "name": "stdout",
     "output_type": "stream",
     "text": [
      "(3, 4, 5) ----> True\n",
      "(13, 5, 12) ----> True\n",
      "(1, 2, 3) ----> False\n"
     ]
    }
   ],
   "source": [
    "class pythagorean_triplet:\n",
    "\n",
    "    def is_triplet(self, a,b,c):\n",
    "        \"\"\"This function will help you to find whether its a pythagorean triplet or not\"\"\"\n",
    "\n",
    "        try:\n",
    "            inputs = []\n",
    "            inputs.append(a)\n",
    "            inputs.append(b)\n",
    "            inputs.append(c)\n",
    "            inputs = sorted(inputs)\n",
    "\n",
    "            if (inputs[0] * inputs[0]) + (inputs[1] * inputs[1]) == (inputs[2] * inputs[2]):\n",
    "                return f\"{a,b,c} ----> {True}\"\n",
    "            else:\n",
    "                return f\"{a,b,c} ----> {False}\"\n",
    "        \n",
    "        except Exception as e:\n",
    "            print(\"You made a mistake on inside your pythagorean triplet function - \", e)\n",
    "\n",
    "pythagorean_triplet = pythagorean_triplet()\n",
    "print(pythagorean_triplet.is_triplet(3,4,5))\n",
    "print(pythagorean_triplet.is_triplet(13,5,12))\n",
    "print(pythagorean_triplet.is_triplet(1,2,3))"
   ]
  },
  {
   "attachments": {},
   "cell_type": "markdown",
   "metadata": {},
   "source": [
    "                                      Completed\n",
    "\n",
    "                                                                             Santhosh Kumar"
   ]
  }
 ],
 "metadata": {
  "kernelspec": {
   "display_name": "Python 3",
   "language": "python",
   "name": "python3"
  },
  "language_info": {
   "codemirror_mode": {
    "name": "ipython",
    "version": 3
   },
   "file_extension": ".py",
   "mimetype": "text/x-python",
   "name": "python",
   "nbconvert_exporter": "python",
   "pygments_lexer": "ipython3",
   "version": "3.11.1"
  },
  "orig_nbformat": 4
 },
 "nbformat": 4,
 "nbformat_minor": 2
}
