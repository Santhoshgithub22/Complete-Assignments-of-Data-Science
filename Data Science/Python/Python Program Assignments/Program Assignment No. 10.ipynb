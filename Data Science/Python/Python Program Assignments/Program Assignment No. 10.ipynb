{
 "cells": [
  {
   "attachments": {},
   "cell_type": "markdown",
   "metadata": {},
   "source": [
    "# Python Programming Assignment No. 10"
   ]
  },
  {
   "attachments": {},
   "cell_type": "markdown",
   "metadata": {},
   "source": [
    "                                                                                By\n",
    "\n",
    "                                                                            Santhosh Kumar"
   ]
  },
  {
   "attachments": {},
   "cell_type": "markdown",
   "metadata": {},
   "source": [
    "# Question No. 01"
   ]
  },
  {
   "attachments": {},
   "cell_type": "markdown",
   "metadata": {},
   "source": [
    "#### Write a Python program to find sum of elements in list?"
   ]
  },
  {
   "cell_type": "code",
   "execution_count": 4,
   "metadata": {},
   "outputs": [
    {
     "name": "stdout",
     "output_type": "stream",
     "text": [
      "Your list is [10, 20, 7, 9, -39]\n"
     ]
    },
    {
     "data": {
      "text/plain": [
       "'The sum of your list is 7'"
      ]
     },
     "execution_count": 4,
     "metadata": {},
     "output_type": "execute_result"
    }
   ],
   "source": [
    "class sum_of_elements:\n",
    "\n",
    "    def finding_sum_of_elements(self):\n",
    "        \"\"\"This function will help you to find the sum of elements\"\"\"\n",
    "        \n",
    "        try:\n",
    "            total = 0\n",
    "            g = eval(input(\"Enter your list here: \"))\n",
    "            print(f\"Your list is {g}\")\n",
    "            for i in g:\n",
    "                total = total + i\n",
    "            return f\"The sum of your list is {total}\"\n",
    "        \n",
    "        except Exception as e:\n",
    "            print(\"You made a mistake on inside your sum of elements function - \", e)\n",
    "\n",
    "sum_of_elements = sum_of_elements()\n",
    "sum_of_elements.finding_sum_of_elements()"
   ]
  },
  {
   "attachments": {},
   "cell_type": "markdown",
   "metadata": {},
   "source": [
    "# Question No. 02"
   ]
  },
  {
   "attachments": {},
   "cell_type": "markdown",
   "metadata": {},
   "source": [
    "#### Write a Python program to Multiply all numbers in the list?"
   ]
  },
  {
   "cell_type": "code",
   "execution_count": 6,
   "metadata": {},
   "outputs": [
    {
     "name": "stdout",
     "output_type": "stream",
     "text": [
      "Your list is [1, 2, 3, 4, 5, 6, 7]\n"
     ]
    },
    {
     "data": {
      "text/plain": [
       "'The multiplied answer of list is 5040'"
      ]
     },
     "execution_count": 6,
     "metadata": {},
     "output_type": "execute_result"
    }
   ],
   "source": [
    "class Multiply:\n",
    "\n",
    "    def multiplying_all_elements(self):\n",
    "        \"\"\"This function will help you to multiply all the elements\"\"\"\n",
    "\n",
    "        try:\n",
    "            result = 1\n",
    "            g = eval(input(\"Enter your list here:\"))\n",
    "            print(f\"Your list is {g}\")\n",
    "            for i in g:\n",
    "                result = result * i\n",
    "            return f\"The multiplied answer of list is {result}\"\n",
    "        \n",
    "        except Exception as e:\n",
    "            print(\"You made a mistake on inside you multiplying all elements function\", e)\n",
    "\n",
    "Multiply = Multiply()\n",
    "Multiply.multiplying_all_elements()"
   ]
  },
  {
   "attachments": {},
   "cell_type": "markdown",
   "metadata": {},
   "source": [
    "# Question No. 03"
   ]
  },
  {
   "attachments": {},
   "cell_type": "markdown",
   "metadata": {},
   "source": [
    "#### Write a Python program to find smallest number in a list?"
   ]
  },
  {
   "cell_type": "code",
   "execution_count": 11,
   "metadata": {},
   "outputs": [
    {
     "name": "stdout",
     "output_type": "stream",
     "text": [
      "Your input is [9, 8, 666, 7, 2, 6, 1, 7, 856321478]\n"
     ]
    },
    {
     "data": {
      "text/plain": [
       "'The smallest number is 1'"
      ]
     },
     "execution_count": 11,
     "metadata": {},
     "output_type": "execute_result"
    }
   ],
   "source": [
    "class Smallest_Number:\n",
    "\n",
    "    def finding_smallest_number(self):\n",
    "        \"\"\"This function will help you to find the smallest number\"\"\"\n",
    "\n",
    "        try:\n",
    "            order = []\n",
    "            small = []\n",
    "            g = eval(input(\"Enter your input here: \"))\n",
    "            print(f\"Your input is {g}\")\n",
    "            for i in g:\n",
    "                order.append(i)\n",
    "            order = sorted(order)\n",
    "            small = order[0]\n",
    "            return f\"The smallest number is {small}\"\n",
    "        \n",
    "        except Exception as e:\n",
    "            print(\"You made a mistake on inside the finding smallest number function - \",e)\n",
    "\n",
    "Smallest_Number = Smallest_Number()\n",
    "Smallest_Number.finding_smallest_number()\n",
    "    "
   ]
  },
  {
   "attachments": {},
   "cell_type": "markdown",
   "metadata": {},
   "source": [
    "# Question No. 04"
   ]
  },
  {
   "attachments": {},
   "cell_type": "markdown",
   "metadata": {},
   "source": [
    "#### Write a Python program to find largest number in a list?"
   ]
  },
  {
   "cell_type": "code",
   "execution_count": 16,
   "metadata": {},
   "outputs": [
    {
     "name": "stdout",
     "output_type": "stream",
     "text": [
      "Your input is [9, 8, 666, 7, 2, 6, 1, 7, 856321478]\n"
     ]
    },
    {
     "data": {
      "text/plain": [
       "'The largest number is 856321478'"
      ]
     },
     "execution_count": 16,
     "metadata": {},
     "output_type": "execute_result"
    }
   ],
   "source": [
    "class Largest_Number:\n",
    "\n",
    "    def finding_largest_number(self):\n",
    "        \"\"\"This function will help you to find the largest number\"\"\"\n",
    "\n",
    "        try:\n",
    "            order = []\n",
    "            large = []\n",
    "            g = eval(input(\"Enter your input here\"))\n",
    "            print(f\"Your input is {g}\")\n",
    "            for i in g:\n",
    "                order.append(i)\n",
    "            order = sorted(order)\n",
    "            large = order[-1]\n",
    "            return f\"The largest number is {large}\"\n",
    "        \n",
    "        except Exception as e:\n",
    "            print(\"You made a mistake on inside the finding largest number function - \", e)\n",
    "\n",
    "Largest_Number = Largest_Number()\n",
    "Largest_Number.finding_largest_number()"
   ]
  },
  {
   "attachments": {},
   "cell_type": "markdown",
   "metadata": {},
   "source": [
    "# Question No. 05"
   ]
  },
  {
   "attachments": {},
   "cell_type": "markdown",
   "metadata": {},
   "source": [
    "#### Write a Python program to find second largest number in a list?"
   ]
  },
  {
   "cell_type": "code",
   "execution_count": 19,
   "metadata": {},
   "outputs": [
    {
     "name": "stdout",
     "output_type": "stream",
     "text": [
      "Your input is [9, 8, 666, 7, 2, 6, 1, 7, 856321478]\n"
     ]
    },
    {
     "data": {
      "text/plain": [
       "'The second largest number is 666'"
      ]
     },
     "execution_count": 19,
     "metadata": {},
     "output_type": "execute_result"
    }
   ],
   "source": [
    "class Second_Largest_Number:\n",
    "\n",
    "    def finding_second_largest_number(self):\n",
    "        \"\"\"This function will help you to find the second largest number\"\"\"\n",
    "\n",
    "        try:\n",
    "            order = []\n",
    "            second_large = []\n",
    "            g = eval(input(\"Enter your input here\"))\n",
    "            print(f\"Your input is {g}\")\n",
    "            for i in g:\n",
    "                order.append(i)\n",
    "            order = sorted(order)\n",
    "            second_large = order[-2]\n",
    "            return f\"The second largest number is {second_large}\"\n",
    "        \n",
    "        except Exception as e:\n",
    "            print(\"You made a mistake on inside the finding second largest number function - \", e)\n",
    "\n",
    "Second_Largest_Number = Second_Largest_Number()\n",
    "Second_Largest_Number.finding_second_largest_number()"
   ]
  },
  {
   "attachments": {},
   "cell_type": "markdown",
   "metadata": {},
   "source": [
    "# Question No. 06"
   ]
  },
  {
   "attachments": {},
   "cell_type": "markdown",
   "metadata": {},
   "source": [
    "#### Write a Python program to find N largest elements from a list?"
   ]
  },
  {
   "cell_type": "code",
   "execution_count": 25,
   "metadata": {},
   "outputs": [
    {
     "name": "stdout",
     "output_type": "stream",
     "text": [
      "Your input is (786, 651, 562, 566, 63, 86, 77, 99, 23, 7, 8)\n"
     ]
    },
    {
     "data": {
      "text/plain": [
       "'The first 7 largest number is [786, 651, 566, 562, 99, 86, 77]'"
      ]
     },
     "execution_count": 25,
     "metadata": {},
     "output_type": "execute_result"
    }
   ],
   "source": [
    "class N_Largest_Number:\n",
    "\n",
    "    def finding_n_largest_number(self, k):\n",
    "        \"\"\"This function will help you to find the 'N' largest elements from a list\"\"\"\n",
    "\n",
    "        try:\n",
    "            order = []\n",
    "\n",
    "            g = eval(input(\"Enter your input here\"))\n",
    "            print(f\"Your input is {g}\")\n",
    "\n",
    "            for i in g:\n",
    "                order.append(i)\n",
    "            order = sorted(order)\n",
    "            order = order[::-1]\n",
    "            return f\"The first {k} largest number is {order[:k]}\"\n",
    "        \n",
    "        except Exception as e:\n",
    "            print(\"You made a mistake on inside the finding n largest number - \", e)\n",
    "\n",
    "N_Largest_Number = N_Largest_Number()\n",
    "N_Largest_Number.finding_n_largest_number(7)"
   ]
  },
  {
   "attachments": {},
   "cell_type": "markdown",
   "metadata": {},
   "source": [
    "# Question No. 07"
   ]
  },
  {
   "attachments": {},
   "cell_type": "markdown",
   "metadata": {},
   "source": [
    "#### Write a Python program to print even numbers in a list?"
   ]
  },
  {
   "cell_type": "code",
   "execution_count": 30,
   "metadata": {},
   "outputs": [
    {
     "name": "stdout",
     "output_type": "stream",
     "text": [
      "Your input is [1, 2, 3, 4, 5, 6, 7, 8, 9, 10]\n",
      "2 is a even number\n",
      "4 is a even number\n",
      "6 is a even number\n",
      "8 is a even number\n",
      "10 is a even number\n"
     ]
    },
    {
     "data": {
      "text/plain": [
       "'The even number is [2, 4, 6, 8, 10]'"
      ]
     },
     "execution_count": 30,
     "metadata": {},
     "output_type": "execute_result"
    }
   ],
   "source": [
    "class Even_Numbers:\n",
    "\n",
    "    def finding_even_number(self):\n",
    "        \"\"\"This function will help you to find the even numbers\"\"\"\n",
    "\n",
    "        try:\n",
    "            even_num = []\n",
    "            g = eval(input(\"Enter your input here: \"))\n",
    "            print(f\"Your input is {g}\")\n",
    "\n",
    "            for i in g:\n",
    "                if i%2 == 0:\n",
    "                    print(f\"{i} is a even number\")\n",
    "                    even_num.append(i)\n",
    "                else:\n",
    "                    pass\n",
    "            return f\"The even number is {even_num}\"\n",
    "        \n",
    "        except Exception as e:\n",
    "            print(\"You made a mistake on inside the finding even number function - \", e)\n",
    "\n",
    "Even_Numbers = Even_Numbers()\n",
    "Even_Numbers.finding_even_number()"
   ]
  },
  {
   "attachments": {},
   "cell_type": "markdown",
   "metadata": {},
   "source": [
    "# Question No. 08"
   ]
  },
  {
   "attachments": {},
   "cell_type": "markdown",
   "metadata": {},
   "source": [
    "#### Write a Python program to print odd numbers in a List?"
   ]
  },
  {
   "cell_type": "code",
   "execution_count": 31,
   "metadata": {},
   "outputs": [
    {
     "name": "stdout",
     "output_type": "stream",
     "text": [
      "Your input is [1, 2, 3, 4, 5, 6, 7, 8, 9, 10]\n",
      "1 is a odd number\n",
      "3 is a odd number\n",
      "5 is a odd number\n",
      "7 is a odd number\n",
      "9 is a odd number\n"
     ]
    },
    {
     "data": {
      "text/plain": [
       "'The odd number is [1, 3, 5, 7, 9]'"
      ]
     },
     "execution_count": 31,
     "metadata": {},
     "output_type": "execute_result"
    }
   ],
   "source": [
    "class Odd_Numbers:\n",
    "\n",
    "    def finding_odd_number(self):\n",
    "        \"\"\"This function will help you to find the odd numbers\"\"\"\n",
    "\n",
    "        try:\n",
    "            odd_num = []\n",
    "            g = eval(input(\"Enter your input here: \"))\n",
    "            print(f\"Your input is {g}\")\n",
    "\n",
    "            for i in g:\n",
    "                if i%2 == 1:\n",
    "                    print(f\"{i} is a odd number\")\n",
    "                    odd_num.append(i)\n",
    "                else:\n",
    "                    pass\n",
    "            return f\"The odd number is {odd_num}\"\n",
    "        \n",
    "        except Exception as e:\n",
    "            print(\"You made a mistake on inside the finding odd number function - \", e)\n",
    "\n",
    "Odd_Numbers = Odd_Numbers()\n",
    "Odd_Numbers.finding_odd_number()"
   ]
  },
  {
   "attachments": {},
   "cell_type": "markdown",
   "metadata": {},
   "source": [
    "# Question No. 09"
   ]
  },
  {
   "attachments": {},
   "cell_type": "markdown",
   "metadata": {},
   "source": [
    "#### Write a Python program to Remove empty List from List?"
   ]
  },
  {
   "cell_type": "code",
   "execution_count": 78,
   "metadata": {},
   "outputs": [
    {
     "name": "stdout",
     "output_type": "stream",
     "text": [
      "7 list want to add\n",
      "My inputs are [[1, 2, 3], [], ['Ineuron', 'Bangalore'], [], ['I love Ineuron'], [], []]\n",
      "[[1, 2, 3], ['Ineuron', 'Bangalore'], ['I love Ineuron']]\n"
     ]
    },
    {
     "data": {
      "text/plain": [
       "\"These are the non empty list on your inputs [[1, 2, 3], ['Ineuron', 'Bangalore'], ['I love Ineuron']]\""
      ]
     },
     "execution_count": 78,
     "metadata": {},
     "output_type": "execute_result"
    }
   ],
   "source": [
    "class Remove_Empty_List:\n",
    "\n",
    "    def removing_empty_list(self):\n",
    "        \"\"\"This function will help you to remove the empty list from the list\"\"\"\n",
    "\n",
    "        try:\n",
    "            inp_list = []\n",
    "            output = []\n",
    "            l = int(input(\"How many list do you want to add: \"))\n",
    "            print(f\"{l} list want to add\")\n",
    "            for i in range(l):\n",
    "                l1 = eval(input())\n",
    "                inp_list.append(l1)\n",
    "            print(f\"My inputs are {inp_list}\")\n",
    "\n",
    "            for j in inp_list:\n",
    "                if len(j) != 0:\n",
    "                    output.append(j)\n",
    "            print(output)\n",
    "            \n",
    "            return f\"These are the non empty list on your inputs {output}\"\n",
    "\n",
    "        except Exception as e:\n",
    "            print(\"You made a mistake on inside the removing empty list function - \", e)\n",
    "\n",
    "Remove_Empty_List = Remove_Empty_List()\n",
    "Remove_Empty_List.removing_empty_list()"
   ]
  },
  {
   "attachments": {},
   "cell_type": "markdown",
   "metadata": {},
   "source": [
    "# Question No. 10"
   ]
  },
  {
   "attachments": {},
   "cell_type": "markdown",
   "metadata": {},
   "source": [
    "#### Write a Python program to Cloning or Copying a list?"
   ]
  },
  {
   "cell_type": "code",
   "execution_count": 79,
   "metadata": {},
   "outputs": [
    {
     "name": "stdout",
     "output_type": "stream",
     "text": [
      "Your inputs is [1, 2, 2]\n"
     ]
    },
    {
     "data": {
      "text/plain": [
       "'The list after cloning is [1, 2, 2]'"
      ]
     },
     "execution_count": 79,
     "metadata": {},
     "output_type": "execute_result"
    }
   ],
   "source": [
    "class cloning:\n",
    "\n",
    "    def cloning_the_list(self):\n",
    "        \"\"\"This function will help you to clone/copy the list\"\"\"\n",
    "\n",
    "        try:\n",
    "            g = eval(input(\"Enter your inputs here : \"))\n",
    "            print(f\"Your inputs is {g}\")\n",
    "\n",
    "            l1 = g.copy()\n",
    "            return f\"The list after cloning is {l1}\"\n",
    "\n",
    "        except Exception as e:\n",
    "            print(\"You made a mistake on inside the cloning the list function - \", e)\n",
    "\n",
    "cloning = cloning()\n",
    "cloning.cloning_the_list()"
   ]
  },
  {
   "attachments": {},
   "cell_type": "markdown",
   "metadata": {},
   "source": [
    "# Question No. 11"
   ]
  },
  {
   "attachments": {},
   "cell_type": "markdown",
   "metadata": {},
   "source": [
    "#### Write a Python program to Count occurrences of an element in a list?"
   ]
  },
  {
   "cell_type": "code",
   "execution_count": 85,
   "metadata": {},
   "outputs": [
    {
     "name": "stdout",
     "output_type": "stream",
     "text": [
      "Your input is [1, 1, 1, 1, 1, 1, 1, 2, 3, 5, 6, 78, 9, 4, 4]\n"
     ]
    },
    {
     "data": {
      "text/plain": [
       "'These number 1 is available in list for 7 times'"
      ]
     },
     "execution_count": 85,
     "metadata": {},
     "output_type": "execute_result"
    }
   ],
   "source": [
    "class Counting_elements:\n",
    "\n",
    "    def counting_elements_in_a_list(self):\n",
    "        \"\"\"This function will help you to find the counting elements in a list\"\"\"\n",
    "\n",
    "        try:\n",
    "            count = 0\n",
    "            g = eval(input(\"Enter your inputs here\"))\n",
    "            print(f\"Your input is {g}\")\n",
    "\n",
    "            counting = int(input(\"Enter how many count do you want\"))\n",
    "\n",
    "            for i in g:\n",
    "                if counting == i:\n",
    "                    count = count + 1\n",
    "                else:\n",
    "                    pass\n",
    "\n",
    "            return f\"These number {counting} is available in list for {count} times\"\n",
    "\n",
    "        except Exception as e:\n",
    "            print(\"You made a mistake inside your counting elements function\")\n",
    "\n",
    "Counting_elements = Counting_elements()\n",
    "Counting_elements.counting_elements_in_a_list()"
   ]
  },
  {
   "attachments": {},
   "cell_type": "markdown",
   "metadata": {},
   "source": [
    "                                            Completed\n",
    "\n",
    "                                                                                     Santhosh Kumar"
   ]
  }
 ],
 "metadata": {
  "kernelspec": {
   "display_name": "Python 3",
   "language": "python",
   "name": "python3"
  },
  "language_info": {
   "codemirror_mode": {
    "name": "ipython",
    "version": 3
   },
   "file_extension": ".py",
   "mimetype": "text/x-python",
   "name": "python",
   "nbconvert_exporter": "python",
   "pygments_lexer": "ipython3",
   "version": "3.10.11"
  },
  "orig_nbformat": 4
 },
 "nbformat": 4,
 "nbformat_minor": 2
}
