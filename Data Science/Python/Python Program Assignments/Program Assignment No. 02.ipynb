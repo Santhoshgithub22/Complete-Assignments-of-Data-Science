{
 "cells": [
  {
   "cell_type": "markdown",
   "metadata": {},
   "source": [
    "# Python Programming Assignment No. 02"
   ]
  },
  {
   "cell_type": "markdown",
   "metadata": {},
   "source": [
    "                                                                                                                By\n",
    "                                                                                                        Santhosh Kumar M"
   ]
  },
  {
   "cell_type": "markdown",
   "metadata": {},
   "source": [
    "# Question No. 01"
   ]
  },
  {
   "cell_type": "markdown",
   "metadata": {},
   "source": [
    "#### Write a Python program to convert kilometers into miles ?"
   ]
  },
  {
   "cell_type": "code",
   "execution_count": 10,
   "metadata": {},
   "outputs": [
    {
     "data": {
      "text/plain": [
       "4.349597"
      ]
     },
     "execution_count": 10,
     "metadata": {},
     "output_type": "execute_result"
    }
   ],
   "source": [
    "class km_to_miles():\n",
    "\n",
    "    def converting_km_to_miles(self):\n",
    "        \"\"\"This is the function for converting the kilometer into miles\"\"\"\n",
    "        try:\n",
    "            kilometer = float(input(\"Enter the kilometer : \")) #Here I have Passed input as 7.\n",
    "            miles = kilometer * 0.621371\n",
    "            return miles\n",
    "\n",
    "        except Exception as e:\n",
    "            print(\"You made a mistake\")\n",
    "\n",
    "x = km_to_miles()\n",
    "\n",
    "x.converting_km_to_miles()"
   ]
  },
  {
   "cell_type": "markdown",
   "metadata": {},
   "source": [
    "# Question No. 02"
   ]
  },
  {
   "cell_type": "markdown",
   "metadata": {},
   "source": [
    "#### Write a Python program to convert Celsius into Fahrenheit?"
   ]
  },
  {
   "cell_type": "code",
   "execution_count": 15,
   "metadata": {},
   "outputs": [
    {
     "data": {
      "text/plain": [
       "77.0"
      ]
     },
     "execution_count": 15,
     "metadata": {},
     "output_type": "execute_result"
    }
   ],
   "source": [
    "class celsius_to_fahrenheit:\n",
    "\n",
    "    def converting_celsius_into_fahrenheit(self):\n",
    "        \"\"\"This is the function for converting celsius into fahrenheit\"\"\"\n",
    "        try:\n",
    "            celsius = float(input()) # Here I've passed my input as 25\n",
    "            fahrenheit = (celsius * 9/5) + 32\n",
    "            return fahrenheit\n",
    "        except Exception as e:\n",
    "            print(\"You made a mistake on converting_celsius_into_fahrenheit_function\")\n",
    "\n",
    "y = celsius_to_fahrenheit()\n",
    "\n",
    "y.converting_celsius_into_fahrenheit()"
   ]
  },
  {
   "cell_type": "markdown",
   "metadata": {},
   "source": [
    "# Question No. 03"
   ]
  },
  {
   "cell_type": "markdown",
   "metadata": {},
   "source": [
    "#### Write a Python program to display a calendar?"
   ]
  },
  {
   "cell_type": "code",
   "execution_count": 51,
   "metadata": {},
   "outputs": [],
   "source": [
    "import calendar\n",
    "\n",
    "class display_calendar:\n",
    "\n",
    "    def year_calendar(self):\n",
    "        \"\"\"This is the function for displaying the calendar\"\"\"\n",
    "\n",
    "\n",
    "        Year = int(input(\"Enter the year : \"))\n",
    "        calendar.calendar(Year)\n",
    "        print(calendar.calendar(Year))\n",
    "    \n",
    "z = display_calendar()\n"
   ]
  },
  {
   "cell_type": "code",
   "execution_count": 52,
   "metadata": {},
   "outputs": [
    {
     "name": "stdout",
     "output_type": "stream",
     "text": [
      "                                  1998\n",
      "\n",
      "      January                   February                   March\n",
      "Mo Tu We Th Fr Sa Su      Mo Tu We Th Fr Sa Su      Mo Tu We Th Fr Sa Su\n",
      "          1  2  3  4                         1                         1\n",
      " 5  6  7  8  9 10 11       2  3  4  5  6  7  8       2  3  4  5  6  7  8\n",
      "12 13 14 15 16 17 18       9 10 11 12 13 14 15       9 10 11 12 13 14 15\n",
      "19 20 21 22 23 24 25      16 17 18 19 20 21 22      16 17 18 19 20 21 22\n",
      "26 27 28 29 30 31         23 24 25 26 27 28         23 24 25 26 27 28 29\n",
      "                                                    30 31\n",
      "\n",
      "       April                      May                       June\n",
      "Mo Tu We Th Fr Sa Su      Mo Tu We Th Fr Sa Su      Mo Tu We Th Fr Sa Su\n",
      "       1  2  3  4  5                   1  2  3       1  2  3  4  5  6  7\n",
      " 6  7  8  9 10 11 12       4  5  6  7  8  9 10       8  9 10 11 12 13 14\n",
      "13 14 15 16 17 18 19      11 12 13 14 15 16 17      15 16 17 18 19 20 21\n",
      "20 21 22 23 24 25 26      18 19 20 21 22 23 24      22 23 24 25 26 27 28\n",
      "27 28 29 30               25 26 27 28 29 30 31      29 30\n",
      "\n",
      "        July                     August                  September\n",
      "Mo Tu We Th Fr Sa Su      Mo Tu We Th Fr Sa Su      Mo Tu We Th Fr Sa Su\n",
      "       1  2  3  4  5                      1  2          1  2  3  4  5  6\n",
      " 6  7  8  9 10 11 12       3  4  5  6  7  8  9       7  8  9 10 11 12 13\n",
      "13 14 15 16 17 18 19      10 11 12 13 14 15 16      14 15 16 17 18 19 20\n",
      "20 21 22 23 24 25 26      17 18 19 20 21 22 23      21 22 23 24 25 26 27\n",
      "27 28 29 30 31            24 25 26 27 28 29 30      28 29 30\n",
      "                          31\n",
      "\n",
      "      October                   November                  December\n",
      "Mo Tu We Th Fr Sa Su      Mo Tu We Th Fr Sa Su      Mo Tu We Th Fr Sa Su\n",
      "          1  2  3  4                         1          1  2  3  4  5  6\n",
      " 5  6  7  8  9 10 11       2  3  4  5  6  7  8       7  8  9 10 11 12 13\n",
      "12 13 14 15 16 17 18       9 10 11 12 13 14 15      14 15 16 17 18 19 20\n",
      "19 20 21 22 23 24 25      16 17 18 19 20 21 22      21 22 23 24 25 26 27\n",
      "26 27 28 29 30 31         23 24 25 26 27 28 29      28 29 30 31\n",
      "                          30\n",
      "\n"
     ]
    }
   ],
   "source": [
    "z.year_calendar()"
   ]
  },
  {
   "cell_type": "markdown",
   "metadata": {},
   "source": [
    "# Question No. 04"
   ]
  },
  {
   "cell_type": "markdown",
   "metadata": {},
   "source": [
    "#### Write a Python program to solve the Quadratic Equation?"
   ]
  },
  {
   "attachments": {},
   "cell_type": "markdown",
   "metadata": {},
   "source": [
    "The formula for Quadratic equation is"
   ]
  },
  {
   "attachments": {
    "37.PNG": {
     "image/png": "[encoded data removed]"
    }
   },
   "cell_type": "markdown",
   "metadata": {},
   "source": [
    "![37.PNG](attachment:37.PNG)"
   ]
  },
  {
   "cell_type": "code",
   "execution_count": 90,
   "metadata": {},
   "outputs": [
    {
     "data": {
      "text/plain": [
       "((-0.5714285714285714+0.7284313590846835j),\n",
       " (-0.5714285714285714-0.7284313590846835j))"
      ]
     },
     "execution_count": 90,
     "metadata": {},
     "output_type": "execute_result"
    }
   ],
   "source": [
    "import cmath\n",
    "\n",
    "class Quadratic_Equation():\n",
    "\n",
    "    def Quadratic(self):\n",
    "        \"\"\"This is the function for find the quardratic equations\"\"\"\n",
    "        \n",
    "        try:\n",
    "            a = float(input(\"Enter 'a' Value : \")) # I've Passed 7 as a input\n",
    "            b = float(input(\"Enter 'b' Value : \")) # I've Passed 8 as a input\n",
    "            c = float(input(\"Enter 'c' Value : \")) # I've Passed 6 as a input\n",
    "\n",
    "            b_square_minus_four_ac = (b**2) - (4*a*c)\n",
    "\n",
    "            quadratic_formula_using_plus = (-b + cmath.sqrt(b_square_minus_four_ac)) / (2*a)\n",
    "            quadratic_formula_using_minus = (-b - cmath.sqrt(b_square_minus_four_ac)) / (2*a)\n",
    "\n",
    "            return quadratic_formula_using_plus, quadratic_formula_using_minus\n",
    "        \n",
    "        except Exception as e:\n",
    "            print(\"You made a mistake on quadratic equation function\", e)\n",
    "\n",
    "g = Quadratic_Equation()\n",
    "\n",
    "g.Quadratic()"
   ]
  },
  {
   "attachments": {},
   "cell_type": "markdown",
   "metadata": {},
   "source": [
    "# Question No. 05"
   ]
  },
  {
   "attachments": {},
   "cell_type": "markdown",
   "metadata": {},
   "source": [
    "#### Write a Python program to swap two variables without temp variable?"
   ]
  },
  {
   "cell_type": "code",
   "execution_count": 102,
   "metadata": {},
   "outputs": [
    {
     "name": "stdout",
     "output_type": "stream",
     "text": [
      "Before swapping 'x' is :  7\n",
      "Before swapping 'y' is :  34\n",
      "\n",
      "\n",
      "After swapping 'x' is :  34\n",
      "After swapping 'x' is :  7\n"
     ]
    }
   ],
   "source": [
    "class swap:\n",
    "\n",
    "    def swapping(self):\n",
    "        \"\"\"This is the function for swapping the values\"\"\"\n",
    "        try:\n",
    "            x = 7\n",
    "            y = 34\n",
    "            print(\"Before swapping 'x' is : \", x)\n",
    "            print(\"Before swapping 'y' is : \", y)\n",
    "            print(\"\\n\")\n",
    "            x, y = y,x\n",
    "            print(\"After swapping 'x' is : \", x)\n",
    "            print(\"After swapping 'x' is : \", y)\n",
    "        except Exception as e:\n",
    "            print(\"You made a mistake on swapping function - \", e)\n",
    "\n",
    "swap = swap()\n",
    "swap.swapping()"
   ]
  },
  {
   "attachments": {},
   "cell_type": "markdown",
   "metadata": {},
   "source": [
    "                                                    Completed\n",
    "\n",
    "                                                                                                                Santhosh Kumar M"
   ]
  }
 ],
 "metadata": {
  "kernelspec": {
   "display_name": "Python 3 (ipykernel)",
   "language": "python",
   "name": "python3"
  },
  "language_info": {
   "codemirror_mode": {
    "name": "ipython",
    "version": 3
   },
   "file_extension": ".py",
   "mimetype": "text/x-python",
   "name": "python",
   "nbconvert_exporter": "python",
   "pygments_lexer": "ipython3",
   "version": "3.9.12"
  },
  "vscode": {
   "interpreter": {
    "hash": "180f8518baccd74e1e77565faed7e8576f26917e6b201f6b9516078dc879945e"
   }
  }
 },
 "nbformat": 4,
 "nbformat_minor": 2
}
