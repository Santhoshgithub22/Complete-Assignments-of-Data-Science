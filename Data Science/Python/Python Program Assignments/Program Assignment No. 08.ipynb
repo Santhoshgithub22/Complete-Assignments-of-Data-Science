{
 "cells": [
  {
   "attachments": {},
   "cell_type": "markdown",
   "metadata": {},
   "source": [
    "# Python Programming Assignment No. 08"
   ]
  },
  {
   "attachments": {},
   "cell_type": "markdown",
   "metadata": {},
   "source": [
    "                                                                                By\n",
    "\n",
    "                                                                            Santhosh Kumar"
   ]
  },
  {
   "attachments": {},
   "cell_type": "markdown",
   "metadata": {},
   "source": [
    "# Question No. 01"
   ]
  },
  {
   "attachments": {},
   "cell_type": "markdown",
   "metadata": {},
   "source": [
    "#### Write a Python Program to Add Two Matrices?"
   ]
  },
  {
   "cell_type": "code",
   "execution_count": 37,
   "metadata": {},
   "outputs": [
    {
     "name": "stdout",
     "output_type": "stream",
     "text": [
      "Your first matrix is [[1 2 3]\n",
      " [4 5 6]\n",
      " [7 8 9]]\n",
      "Your second matrix is [[11 22 33]\n",
      " [44 55 66]\n",
      " [77 88 99]]\n",
      "\n",
      "\n",
      "The addition of 2 matrix is\n"
     ]
    },
    {
     "data": {
      "text/plain": [
       "matrix([[ 12,  24,  36],\n",
       "        [ 48,  60,  72],\n",
       "        [ 84,  96, 108]])"
      ]
     },
     "execution_count": 37,
     "metadata": {},
     "output_type": "execute_result"
    }
   ],
   "source": [
    "import numpy as np\n",
    "\n",
    "class Adding_two_matrix:\n",
    "\n",
    "    def add_two_matrix(self):\n",
    "        \"\"\"This function will help you to add 2 matrix\"\"\"\n",
    "        try:\n",
    "            n1 = np.matrix([[1,2,3],[4,5,6],[7,8,9]])\n",
    "            n2 = np.matrix([[11,22,33],[44,55,66],[77,88,99]])\n",
    "            result = n1 + n2\n",
    "            print(f\"Your first matrix is {n1}\")\n",
    "            print(f\"Your second matrix is {n2}\")\n",
    "            print(\"\\n\")\n",
    "            print(f\"The addition of 2 matrix is\")\n",
    "            return result\n",
    "        except Exception as e:\n",
    "            print(\"You made a mistake on inside the adding two matrix funciton - \",e)\n",
    "\n",
    "Adding_two_matrix = Adding_two_matrix()\n",
    "Adding_two_matrix.add_two_matrix()"
   ]
  },
  {
   "attachments": {},
   "cell_type": "markdown",
   "metadata": {},
   "source": [
    "# Question No. 02"
   ]
  },
  {
   "attachments": {},
   "cell_type": "markdown",
   "metadata": {},
   "source": [
    "#### Write a Python Program to Multiply Two Matrices?"
   ]
  },
  {
   "cell_type": "code",
   "execution_count": 38,
   "metadata": {},
   "outputs": [
    {
     "name": "stdout",
     "output_type": "stream",
     "text": [
      "Your first matrix is [[1 2 3]\n",
      " [4 5 6]\n",
      " [7 8 9]]\n",
      "Your second matrix is [[1 2 3]\n",
      " [4 5 6]\n",
      " [7 8 9]]\n",
      "\n",
      "\n",
      "The multiplication of 2 matrix is\n"
     ]
    },
    {
     "data": {
      "text/plain": [
       "matrix([[ 30,  36,  42],\n",
       "        [ 66,  81,  96],\n",
       "        [102, 126, 150]])"
      ]
     },
     "execution_count": 38,
     "metadata": {},
     "output_type": "execute_result"
    }
   ],
   "source": [
    "import numpy as np\n",
    "\n",
    "class Multiplying_two_matrix:\n",
    "\n",
    "    def multiplying_two_matrix(self):\n",
    "        \"\"\"This function will help you to multiply 2 matrix\"\"\"\n",
    "        try:\n",
    "            n1 = np.matrix([[1,2,3],[4,5,6],[7,8,9]])\n",
    "            n2 = np.matrix([[1,2,3],[4,5,6],[7,8,9]])\n",
    "            result = n1 * n2\n",
    "            print(f\"Your first matrix is {n1}\")\n",
    "            print(f\"Your second matrix is {n2}\")\n",
    "            print(\"\\n\")\n",
    "            print(f\"The multiplication of 2 matrix is\")\n",
    "            return result\n",
    "        except Exception as e:\n",
    "            print(\"You made a mistake on inside the adding two matrix funciton - \",e)\n",
    "\n",
    "Multiplying_two_matrix = Multiplying_two_matrix()\n",
    "Multiplying_two_matrix.multiplying_two_matrix()"
   ]
  },
  {
   "attachments": {},
   "cell_type": "markdown",
   "metadata": {},
   "source": [
    "# Question No. 03"
   ]
  },
  {
   "attachments": {},
   "cell_type": "markdown",
   "metadata": {},
   "source": [
    "#### Write a Python Program to Transpose a Matrix?"
   ]
  },
  {
   "cell_type": "code",
   "execution_count": 40,
   "metadata": {},
   "outputs": [
    {
     "name": "stdout",
     "output_type": "stream",
     "text": [
      "Your matrix is [[1 2 3]\n",
      " [4 5 6]\n",
      " [7 8 9]]\n",
      "\n",
      "\n",
      "Matrix after transpose : \n"
     ]
    },
    {
     "data": {
      "text/plain": [
       "matrix([[1, 4, 7],\n",
       "        [2, 5, 8],\n",
       "        [3, 6, 9]])"
      ]
     },
     "execution_count": 40,
     "metadata": {},
     "output_type": "execute_result"
    }
   ],
   "source": [
    "class Transpose:\n",
    "\n",
    "    def transpose_a_matrix(self):\n",
    "        \"\"\"This function will help you to transpose the matrix\"\"\"\n",
    "        try:\n",
    "            n1 = np.matrix([[1,2,3],[4,5,6],[7,8,9]])\n",
    "            print(f\"Your matrix is {n1}\")\n",
    "            trans = np.transpose(n1)\n",
    "            print(\"\\n\")\n",
    "            print(\"Matrix after transpose : \")          \n",
    "            return trans\n",
    "        except Exception as e:\n",
    "            print(\"You made a mistake on inside the transpose a matrix function - \",e)\n",
    "\n",
    "Transpose = Transpose()\n",
    "Transpose.transpose_a_matrix()\n"
   ]
  },
  {
   "attachments": {},
   "cell_type": "markdown",
   "metadata": {},
   "source": [
    "# Question No. 04"
   ]
  },
  {
   "attachments": {},
   "cell_type": "markdown",
   "metadata": {},
   "source": [
    "#### Write a Python Program to Sort Words in Alphabetic Order?"
   ]
  },
  {
   "cell_type": "code",
   "execution_count": 47,
   "metadata": {},
   "outputs": [
    {
     "name": "stdout",
     "output_type": "stream",
     "text": [
      "Your input words is: ['Nandhini', 'Janaki', 'Bharathi', 'Santhosh']\n",
      "\n",
      "\n",
      "Words after sorting in alphabetical order\n"
     ]
    },
    {
     "data": {
      "text/plain": [
       "['Bharathi', 'Janaki', 'Nandhini', 'Santhosh']"
      ]
     },
     "execution_count": 47,
     "metadata": {},
     "output_type": "execute_result"
    }
   ],
   "source": [
    "class Alphabetic_Order:\n",
    "\n",
    "    def words_in_alphabetical_order(self):\n",
    "        \"\"\"This function will help you to sort words in alphabetic order\"\"\"\n",
    "        try:\n",
    "            x = eval(input(\"Enter all of your words: \"))\n",
    "            print(f\"Your input words is: {x}\")\n",
    "            print(\"\\n\")\n",
    "            print(f\"Words after sorting in alphabetical order\")\n",
    "            result = sorted(x)\n",
    "            return result\n",
    "        except Exception as e:\n",
    "            print(\"You made a mistake inside words in alphabetical order function - \", e)\n",
    "\n",
    "Alphabetic_Order = Alphabetic_Order()\n",
    "Alphabetic_Order.words_in_alphabetical_order()"
   ]
  },
  {
   "attachments": {},
   "cell_type": "markdown",
   "metadata": {},
   "source": [
    "# Question No. 05"
   ]
  },
  {
   "attachments": {},
   "cell_type": "markdown",
   "metadata": {},
   "source": [
    "#### Write a Python Program to Remove Punctuation From a String?"
   ]
  },
  {
   "cell_type": "code",
   "execution_count": 11,
   "metadata": {},
   "outputs": [
    {
     "name": "stdout",
     "output_type": "stream",
     "text": [
      "Your sentence is I_neuron is the #% only best platform to learn data sciece than #% any colleges\n",
      "\n",
      "\n",
      "Sentence after removed punctuations\n"
     ]
    },
    {
     "data": {
      "text/plain": [
       "'Ineuron is the  only best platform to learn data sciece than  any colleges'"
      ]
     },
     "execution_count": 11,
     "metadata": {},
     "output_type": "execute_result"
    }
   ],
   "source": [
    "class Punctuation:\n",
    "\n",
    "    def remove_punctuation(self):\n",
    "        \"\"\"This function will help you to remove the punctuations\"\"\"\n",
    "        try:\n",
    "            punctuations = '''!()-[]{};:'\"\\,<>./?@#$%^&*_~'''\n",
    "            sentence = input(\"Enter your sentences here with punctuation: \")\n",
    "            print(f\"Your sentence is {sentence}\")\n",
    "            print(\"\\n\")\n",
    "            for i in punctuations:\n",
    "                for j in sentence:\n",
    "                    if i in j:\n",
    "                        sentence = sentence.replace(j, \"\")\n",
    "            print(\"Sentence after removed punctuations\")\n",
    "            return sentence\n",
    "\n",
    "        except Exception as e:\n",
    "            print(\"You made a mistake inside the remove punctuation function - \", e)\n",
    "\n",
    "Punctuation = Punctuation()\n",
    "Punctuation.remove_punctuation()\n"
   ]
  },
  {
   "attachments": {},
   "cell_type": "markdown",
   "metadata": {},
   "source": [
    "                                            Completed\n",
    "\n",
    "                                                                                     Santhosh Kumar"
   ]
  }
 ],
 "metadata": {
  "kernelspec": {
   "display_name": "Python 3",
   "language": "python",
   "name": "python3"
  },
  "language_info": {
   "codemirror_mode": {
    "name": "ipython",
    "version": 3
   },
   "file_extension": ".py",
   "mimetype": "text/x-python",
   "name": "python",
   "nbconvert_exporter": "python",
   "pygments_lexer": "ipython3",
   "version": "3.10.11"
  },
  "orig_nbformat": 4
 },
 "nbformat": 4,
 "nbformat_minor": 2
}
