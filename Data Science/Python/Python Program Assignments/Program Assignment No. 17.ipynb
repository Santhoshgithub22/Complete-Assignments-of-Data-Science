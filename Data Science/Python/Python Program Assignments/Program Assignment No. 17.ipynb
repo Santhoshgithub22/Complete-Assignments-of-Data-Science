{
 "cells": [
  {
   "attachments": {},
   "cell_type": "markdown",
   "metadata": {},
   "source": [
    "# Python Programming Assignment No. 17"
   ]
  },
  {
   "attachments": {},
   "cell_type": "markdown",
   "metadata": {},
   "source": [
    "                                                                By\n",
    "\n",
    "                                                            Santhosh Kumar"
   ]
  },
  {
   "attachments": {},
   "cell_type": "markdown",
   "metadata": {},
   "source": [
    "# Question No. 01"
   ]
  },
  {
   "attachments": {},
   "cell_type": "markdown",
   "metadata": {},
   "source": [
    "#### Create a function that takes three arguments a, b, c and returns the sum of the numbers that are evenly divided by c from the range a, b inclusive.\n",
    "\n",
    "#### Examples\n",
    "\n",
    "#### evenly_divisible(1, 10, 20) ➞ 0\n",
    "\n",
    "#### No number between 1 and 10 can be evenly divided by 20.\n",
    "\n",
    "#### evenly_divisible(1, 10, 2) ➞ 30\n",
    "\n",
    "#### 2 + 4 + 6 + 8 + 10 = 30\n",
    "\n",
    "#### evenly_divisible(1, 10, 3) ➞ 18\n",
    "\n",
    "#### 3 + 6 + 9 = 18"
   ]
  },
  {
   "cell_type": "code",
   "execution_count": 45,
   "metadata": {},
   "outputs": [
    {
     "name": "stdout",
     "output_type": "stream",
     "text": [
      "(1, 10, 20) ➞ 0\n",
      "(1, 10, 2) ➞ 30\n",
      "(1, 10, 3) ➞ 18\n"
     ]
    }
   ],
   "source": [
    "class test:\n",
    "\n",
    "    def finding_evenly_divided(self, a,b,c):\n",
    "        try:\n",
    "            \n",
    "            sum = 0\n",
    "            found_divisible_number = True\n",
    "\n",
    "            for i in range(a,b+1):\n",
    "                if i%c == 0:\n",
    "                    sum = sum + i\n",
    "                    found_divisible_number = True\n",
    "\n",
    "            if found_divisible_number:\n",
    "                print(f'{a,b,c} ➞ {sum}')\n",
    "            else:\n",
    "                print(f\"(No number between {a} and {b} can be evenly divided by {c}.)\")\n",
    "\n",
    "                   \n",
    "        except Exception as e:\n",
    "            print(\"You made a mistake on inside the finding evenly divided function - \", e)\n",
    "\n",
    "test = test()\n",
    "x = test.finding_evenly_divided(1,10,20)\n",
    "y = test.finding_evenly_divided(1,10,2)\n",
    "z = test.finding_evenly_divided(1,10,3)"
   ]
  },
  {
   "attachments": {},
   "cell_type": "markdown",
   "metadata": {},
   "source": [
    "# Question No. 02"
   ]
  },
  {
   "attachments": {},
   "cell_type": "markdown",
   "metadata": {},
   "source": [
    "#### Create a function that returns True if a given inequality expression is correct and False otherwise.\n",
    "\n",
    "#### Examples\n",
    "\n",
    "correct_signs(\"3 < 7 < 11\") ➞ True\n",
    "\n",
    "correct_signs(\"13 > 44 > 33 > 1\") ➞ False\n",
    "\n",
    "correct_signs(\" 1 < 2 < 6 < 9 > 3\") ➞ True"
   ]
  },
  {
   "cell_type": "code",
   "execution_count": 63,
   "metadata": {},
   "outputs": [
    {
     "name": "stdout",
     "output_type": "stream",
     "text": [
      "3<7<11 ----> True\n",
      "13>44>33>1 ----> False\n",
      "1<2<6<9>3 ----> True\n"
     ]
    }
   ],
   "source": [
    "class inequality_expressions:\n",
    "\n",
    "    def checking_inequality_expression(self):\n",
    "        \"\"\"This function will help you to return the whether the statement is correct are not\"\"\"\n",
    "\n",
    "        try:\n",
    "            n = int(input(\"How many equations you want to check\"))\n",
    "            \n",
    "            for i in range(n):\n",
    "                g = input()\n",
    "                gg = eval(g)\n",
    "                print(f\"{g} ----> {gg}\")\n",
    "\n",
    "        \n",
    "        except Exception as e:\n",
    "            print(\"You made a mistake on inside the checking inequality expressions - \",e)\n",
    "\n",
    "inequality_expressions = inequality_expressions()\n",
    "inequality_expressions.checking_inequality_expression()"
   ]
  },
  {
   "attachments": {},
   "cell_type": "markdown",
   "metadata": {},
   "source": [
    "# Question No. 03"
   ]
  },
  {
   "attachments": {},
   "cell_type": "markdown",
   "metadata": {},
   "source": [
    "#### Create a function that replaces all the vowels in a string with a specified character.\n",
    "\n",
    "#### Examples\n",
    "\n",
    "#### replace_vowels(\"the aardvark\", \"#\") ➞ \"th# ##rdv#rk\"\n",
    "\n",
    "#### replace_vowels(\"minnie mouse\", \"?\";) ➞ \"m?nn?? m??s?\"\n",
    "\n",
    "#### replace_vowels(&quot;shakespeare&quot;, &quot;*&quot;) ➞ &quot;sh*k*sp**r*&quot;"
   ]
  },
  {
   "cell_type": "code",
   "execution_count": 82,
   "metadata": {},
   "outputs": [
    {
     "name": "stdout",
     "output_type": "stream",
     "text": [
      "'the aardvark', '#' ----> 'th# ##rdv#rk'\n",
      "'minnie mouse', '?' ----> 'm?nn?? m??s?'\n",
      "'shakeshpeare', '*' ----> 'sh*k*shp**r*'\n"
     ]
    }
   ],
   "source": [
    "class replace_vowels:\n",
    "\n",
    "    def replacing_all_vowels(self):\n",
    "\n",
    "        try:\n",
    "            n = int(input(\"Enter how much you want to check\"))\n",
    "\n",
    "            for i in range(n):\n",
    "                g = str(input(\"Enter your words here : \"))\n",
    "                character = str(input(\"Enter the special character for you want to replace\"))\n",
    "                vowels = \"aeiouAEIOU\"\n",
    "                modified_word = \"\"\n",
    "        \n",
    "                for j in g:\n",
    "                    if j in vowels:\n",
    "                        modified_word = modified_word + character\n",
    "                    else:\n",
    "                        modified_word = modified_word + j\n",
    "\n",
    "                print(f\"'{g}', '{character}' ----> '{modified_word}'\")\n",
    "                      \n",
    "        except Exception as e:\n",
    "            print(\"You made a mistake on inside the replacing all vowels function - \",e)\n",
    "\n",
    "replace_vowels = replace_vowels()\n",
    "replace_vowels.replacing_all_vowels()\n"
   ]
  },
  {
   "attachments": {},
   "cell_type": "markdown",
   "metadata": {},
   "source": [
    "# Question No. 04"
   ]
  },
  {
   "attachments": {},
   "cell_type": "markdown",
   "metadata": {},
   "source": [
    "#### Write a function that calculates the factorial of a number recursively.\n",
    "\n",
    "#### Examples\n",
    "\n",
    "#### factorial(5) ➞ 120\n",
    "\n",
    "#### factorial(3) ➞ 6\n",
    "\n",
    "#### factorial(1) ➞ 1\n",
    "\n",
    "#### factorial(0) ➞ 1"
   ]
  },
  {
   "cell_type": "code",
   "execution_count": 116,
   "metadata": {},
   "outputs": [
    {
     "name": "stdout",
     "output_type": "stream",
     "text": [
      "factorial (5) ----> 120\n",
      "factorial (3) ----> 6\n",
      "factorial (1) ----> 1\n",
      "factorial (0) ----> 1\n",
      "factorial (9) ----> 362880\n"
     ]
    }
   ],
   "source": [
    "class factorial:\n",
    "\n",
    "    def finding_factorial(self):\n",
    "        try:\n",
    "            \"\"\"This function will help you to find the factorial value\"\"\"\n",
    "\n",
    "            n = int(input(\"Enter your number\"))\n",
    "            \n",
    "            for _ in range(0, n+1):\n",
    "                g = int(input())\n",
    "\n",
    "                result = 1\n",
    "\n",
    "                if g==0 or g==1:\n",
    "                    print(f\"factorial ({g}) ----> 1\")\n",
    "\n",
    "                else:\n",
    "                    for j in range(2, g+1):\n",
    "                        result = result * j\n",
    "                    print(f\"factorial ({g}) ----> {result}\")\n",
    "\n",
    "        except Exception as e:\n",
    "            print(\"You made a mistake on inside your finding factorial function - \", e)\n",
    "\n",
    "factorial = factorial()\n",
    "factorial.finding_factorial()\n"
   ]
  },
  {
   "attachments": {},
   "cell_type": "markdown",
   "metadata": {},
   "source": [
    "# Question No. 05"
   ]
  },
  {
   "attachments": {},
   "cell_type": "markdown",
   "metadata": {},
   "source": [
    "#### Hamming distance is the number of characters that differ between two strings.\n",
    "\n",
    "#### To illustrate:\n",
    "\n",
    "String1: &quot;abcbba&quot;\n",
    "\n",
    "String2: &quot;abcbda&quot;\n",
    "\n",
    "Hamming Distance: 1 - &quot;b&quot; vs. &quot;d&quot; is the only difference.\n",
    "\n",
    "Create a function that computes the hamming distance between two strings.\n",
    "\n",
    "#### Examples\n",
    "\n",
    "hamming_distance(&quot;abcde&quot;, &quot;bcdef&quot;) ➞ 5\n",
    "\n",
    "hamming_distance(&quot;abcde&quot;, &quot;abcde&quot;) ➞ 0\n",
    "\n",
    "hamming_distance(&quot;strong&quot;, &quot;strung&quot;) ➞ 1"
   ]
  },
  {
   "cell_type": "code",
   "execution_count": 133,
   "metadata": {},
   "outputs": [
    {
     "name": "stdout",
     "output_type": "stream",
     "text": [
      "abcde,bcdef ----> 5\n"
     ]
    }
   ],
   "source": [
    "class hamming_distance:\n",
    "\n",
    "    def finding_hamming_distance_score(self):\n",
    "        \"\"\"This function will help you to find the various letters of both string\"\"\"\n",
    "\n",
    "        try:\n",
    "            g1 = input(\"Enter your first string: \")\n",
    "            g2 = input(\"Enter your second string: \")\n",
    "\n",
    "            count = 0\n",
    "\n",
    "            if len(g1) == len(g2):\n",
    "\n",
    "                for i in range(len(g1)):\n",
    "                    if g1[i] != g2[i]:\n",
    "                        count = count + 1\n",
    "                print(f\"{g1},{g2} ----> {count}\")\n",
    "\n",
    "            else:\n",
    "                print(\"Your both strings must be in same length\")\n",
    "\n",
    "        except Exception as e:\n",
    "            print(\"You made a mistake on inside your finding hamming distance score - \", e)\n",
    "\n",
    "hamming_distance = hamming_distance()\n",
    "hamming_distance.finding_hamming_distance_score()"
   ]
  },
  {
   "attachments": {},
   "cell_type": "markdown",
   "metadata": {},
   "source": [
    "                                     Completed\n",
    "\n",
    "                                                                     Santhosh Kumar"
   ]
  }
 ],
 "metadata": {
  "kernelspec": {
   "display_name": "Python 3",
   "language": "python",
   "name": "python3"
  },
  "language_info": {
   "codemirror_mode": {
    "name": "ipython",
    "version": 3
   },
   "file_extension": ".py",
   "mimetype": "text/x-python",
   "name": "python",
   "nbconvert_exporter": "python",
   "pygments_lexer": "ipython3",
   "version": "3.11.1"
  },
  "orig_nbformat": 4
 },
 "nbformat": 4,
 "nbformat_minor": 2
}
