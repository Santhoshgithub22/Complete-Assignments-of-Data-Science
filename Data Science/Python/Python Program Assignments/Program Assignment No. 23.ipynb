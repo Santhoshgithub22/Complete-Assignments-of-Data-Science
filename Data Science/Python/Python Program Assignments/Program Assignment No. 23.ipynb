{
 "cells": [
  {
   "attachments": {},
   "cell_type": "markdown",
   "metadata": {},
   "source": [
    "# Python Programming Assignment No. 23"
   ]
  },
  {
   "attachments": {},
   "cell_type": "markdown",
   "metadata": {},
   "source": [
    "                                                               By\n",
    "\n",
    "                                                         Santhosh Kumar"
   ]
  },
  {
   "attachments": {},
   "cell_type": "markdown",
   "metadata": {},
   "source": [
    "# Question No. 01"
   ]
  },
  {
   "attachments": {},
   "cell_type": "markdown",
   "metadata": {},
   "source": [
    "#### Create a function that takes a number as an argument and returns True or False depending on whether the number is symmetrical or not. A number is symmetrical when it is the same as its reverse.\n",
    "\n",
    "#### Examples\n",
    "\n",
    "#### is_symmetrical(7227) ➞ True\n",
    "\n",
    "#### is_symmetrical(12567) ➞ False\n",
    "\n",
    "#### is_symmetrical(44444444) ➞ True\n",
    "\n",
    "#### is_symmetrical(9939) ➞ False\n",
    "\n",
    "#### is_symmetrical(1112111) ➞ True"
   ]
  },
  {
   "cell_type": "code",
   "execution_count": 19,
   "metadata": {},
   "outputs": [
    {
     "name": "stdout",
     "output_type": "stream",
     "text": [
      "7227 ----> True\n",
      "12567 ----> False\n",
      "4444444 ----> True\n",
      "9939 ----> False\n",
      "1112111 ----> True\n"
     ]
    }
   ],
   "source": [
    "class symmetrical:\n",
    "\n",
    "    def is_symmetrical(self, n):\n",
    "        \"\"\"This function will help you to check the input is symetrical or not\"\"\"\n",
    "\n",
    "        try:\n",
    "            if str(n) == str(n)[::-1]:\n",
    "                return f\"{n} ----> {True}\"\n",
    "            else:\n",
    "                return f\"{n} ----> {False}\"\n",
    "        \n",
    "        except Exception as e:\n",
    "            print(\"You made a mistake on inside your is_symmetrical function - \", e)\n",
    "\n",
    "symmetrical = symmetrical()\n",
    "print(symmetrical.is_symmetrical(7227))\n",
    "print(symmetrical.is_symmetrical(12567))\n",
    "print(symmetrical.is_symmetrical(4444444))\n",
    "print(symmetrical.is_symmetrical(9939))\n",
    "print(symmetrical.is_symmetrical(1112111))"
   ]
  },
  {
   "attachments": {},
   "cell_type": "markdown",
   "metadata": {},
   "source": [
    "# Question No. 02"
   ]
  },
  {
   "attachments": {},
   "cell_type": "markdown",
   "metadata": {},
   "source": [
    "#### Given a string of numbers separated by a comma and space, return the product of the numbers.\n",
    "\n",
    "#### Examples\n",
    "\n",
    "#### multiply_nums(&quot;2, 3&quot;) ➞ 6\n",
    "\n",
    "#### multiply_nums(&quot;1, 2, 3, 4&quot;) ➞ 24\n",
    "\n",
    "#### multiply_nums(&quot;54, 75, 453, 0&quot;) ➞ 0\n",
    "\n",
    "#### multiply_nums(&quot;10, -2&quot;) ➞ -20"
   ]
  },
  {
   "cell_type": "code",
   "execution_count": 44,
   "metadata": {},
   "outputs": [
    {
     "name": "stdout",
     "output_type": "stream",
     "text": [
      "(2,3)----> 6\n",
      "(1,2,3,4)----> 24\n",
      "(54,75,453,0)----> 0\n",
      "(10,-2)----> -20\n"
     ]
    }
   ],
   "source": [
    "class product:\n",
    "\n",
    "    def finding_product_of_the_inputs(self, g):\n",
    "        \"\"\"This function will help you to find the product of inputs\"\"\"\n",
    "        try:\n",
    "            product = 1\n",
    "            for i in g.split(\",\"):\n",
    "                i = int(i)\n",
    "                product = product * int(i)\n",
    "            return f\"({g})----> {product}\"\n",
    "            \n",
    "        except Exception as e:\n",
    "            print(\"You made a mistake on inside the finding product of the inputs function - \", e)\n",
    "\n",
    "product = product()\n",
    "print(product.finding_product_of_the_inputs(\"2,3\"))\n",
    "print(product.finding_product_of_the_inputs(\"1,2,3,4\"))\n",
    "print(product.finding_product_of_the_inputs(\"54,75,453,0\"))\n",
    "print(product.finding_product_of_the_inputs(\"10,-2\"))"
   ]
  },
  {
   "attachments": {},
   "cell_type": "markdown",
   "metadata": {},
   "source": [
    "# Question No. 03"
   ]
  },
  {
   "attachments": {},
   "cell_type": "markdown",
   "metadata": {},
   "source": [
    "#### Create a function that squares every digit of a number.\n",
    "\n",
    "# Examples\n",
    "\n",
    "#### square_digits(9119) ➞ 811181\n",
    "\n",
    "#### square_digits(2483) ➞ 416649\n",
    "\n",
    "#### square_digits(3212) ➞ 9414\n",
    "\n",
    "#### Notes\n",
    "* The function receives an integer and must return an integer."
   ]
  },
  {
   "cell_type": "code",
   "execution_count": 122,
   "metadata": {},
   "outputs": [
    {
     "name": "stdout",
     "output_type": "stream",
     "text": [
      "(9119) ----> 811181\n",
      "(2483) ----> 416649\n",
      "(3212) ----> 9414\n"
     ]
    }
   ],
   "source": [
    "class square:\n",
    "\n",
    "    def square_of_every_digit(self, g):\n",
    "        \"\"\"This function will help you to print every numbers of squares\"\"\"\n",
    "\n",
    "        try:\n",
    "            nums_list = []\n",
    "            \n",
    "            g = str(g)\n",
    "            for i in g:\n",
    "                nums_list.append(int(i))\n",
    "\n",
    "            squared_digits = []\n",
    "            for j in nums_list:\n",
    "                result = j*j\n",
    "                squared_digits.append(str(result))\n",
    "            \n",
    "            output = \"\".join(squared_digits)\n",
    "            return f\"({g}) ----> {output}\"\n",
    "        \n",
    "\n",
    "\n",
    "        except Exception as e:\n",
    "            print(\"You made a mistake on inside the square of every digit function - \",e)\n",
    "\n",
    "square = square()\n",
    "print(square.square_of_every_digit(9119))\n",
    "print(square.square_of_every_digit(2483))\n",
    "print(square.square_of_every_digit(3212))"
   ]
  },
  {
   "attachments": {},
   "cell_type": "markdown",
   "metadata": {},
   "source": [
    "# Question No. 04"
   ]
  },
  {
   "attachments": {},
   "cell_type": "markdown",
   "metadata": {},
   "source": [
    "#### Create a function that sorts a list and removes all duplicate items from it.\n",
    "\n",
    "#### Examples\n",
    "\n",
    "#### setify([1, 3, 3, 5, 5]) ➞ [1, 3, 5]\n",
    "\n",
    "#### setify([4, 4, 4, 4]) ➞ [4]\n",
    "\n",
    "#### setify([5, 7, 8, 9, 10, 15]) ➞ [5, 7, 8, 9, 10, 15]\n",
    "\n",
    "#### setify([3, 3, 3, 2, 1]) ➞ [1, 2, 3]"
   ]
  },
  {
   "cell_type": "code",
   "execution_count": 61,
   "metadata": {},
   "outputs": [
    {
     "name": "stdout",
     "output_type": "stream",
     "text": [
      "[1, 3, 3, 5, 5] ----> [1, 3, 5]\n",
      "[4, 4, 4, 4] ----> [4]\n",
      "[5, 7, 8, 9, 10, 15] ----> [5, 7, 8, 9, 10, 15]\n",
      "[3, 3, 3, 2, 1] ----> [1, 2, 3]\n"
     ]
    }
   ],
   "source": [
    "class sort_list:\n",
    "\n",
    "    def sorting_a_list_and_removing_duplicates(self, g):\n",
    "        \"\"\"This function will help you to remove the duplicates elements and sorting the list\"\"\"\n",
    "\n",
    "        try:\n",
    "                result = sorted(g)\n",
    "                result = set(g)\n",
    "                return (f\"{g} ----> {list(result)}\")\n",
    "            \n",
    "        except Exception as e:\n",
    "            print(\"You made a mistake on inside your sorting a list and removing duplicates function - \", e)\n",
    "\n",
    "sort_list = sort_list()\n",
    "print(sort_list.sorting_a_list_and_removing_duplicates([1,3,3,5,5]))\n",
    "print(sort_list.sorting_a_list_and_removing_duplicates([4,4,4,4]))\n",
    "print(sort_list.sorting_a_list_and_removing_duplicates([5,7,8,9,10,15]))\n",
    "print(sort_list.sorting_a_list_and_removing_duplicates([3,3,3,2,1]))"
   ]
  },
  {
   "attachments": {},
   "cell_type": "markdown",
   "metadata": {},
   "source": [
    "# Question No. 05"
   ]
  },
  {
   "attachments": {},
   "cell_type": "markdown",
   "metadata": {},
   "source": [
    "#### Create a function that returns the mean of all digits.\n",
    "\n",
    "#### Examples\n",
    "\n",
    "#### mean(42) ➞ 3\n",
    "\n",
    "#### mean(12345) ➞ 3\n",
    "\n",
    "#### mean(666) ➞ 6\n",
    "\n",
    "#### Notes\n",
    "* The mean of all digits is the sum of digits / how many digits there are (e.g. mean of digits in 512 is (5+1+2)/3(number of digits) = 8/3=2).\n",
    "* The mean will always be an integer."
   ]
  },
  {
   "cell_type": "code",
   "execution_count": 77,
   "metadata": {},
   "outputs": [
    {
     "name": "stdout",
     "output_type": "stream",
     "text": [
      "42 ----> 3\n",
      "12345 ----> 3\n",
      "666 ----> 6\n",
      "786 ----> 7\n"
     ]
    }
   ],
   "source": [
    "import numpy as np\n",
    "class MEAN:\n",
    "\n",
    "    def finding_mean_of_all_digit(self, nums):\n",
    "        \"\"\"This function will help you to find the mean of all digit\"\"\"\n",
    "        try:\n",
    "            nums_list = []\n",
    "            for i in str(nums):\n",
    "                nums_list.append(int(i))\n",
    "            result = np.mean(nums_list)\n",
    "            return f\"{nums} ----> {int(result)}\"\n",
    "\n",
    "        except Exception as e:\n",
    "            print(\"You made a mistake on inside your finding mean of all digit function - \", e)\n",
    "\n",
    "MEAN = MEAN()\n",
    "print(MEAN.finding_mean_of_all_digit(42))\n",
    "print(MEAN.finding_mean_of_all_digit(12345))\n",
    "print(MEAN.finding_mean_of_all_digit(666))\n",
    "print(MEAN.finding_mean_of_all_digit(786))"
   ]
  },
  {
   "attachments": {},
   "cell_type": "markdown",
   "metadata": {},
   "source": [
    "                                          Completed\n",
    "\n",
    "                                                                                 Santhosh Kumar"
   ]
  }
 ],
 "metadata": {
  "kernelspec": {
   "display_name": "Python 3",
   "language": "python",
   "name": "python3"
  },
  "language_info": {
   "codemirror_mode": {
    "name": "ipython",
    "version": 3
   },
   "file_extension": ".py",
   "mimetype": "text/x-python",
   "name": "python",
   "nbconvert_exporter": "python",
   "pygments_lexer": "ipython3",
   "version": "3.11.1"
  },
  "orig_nbformat": 4
 },
 "nbformat": 4,
 "nbformat_minor": 2
}
