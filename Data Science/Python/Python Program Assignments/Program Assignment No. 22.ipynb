{
 "cells": [
  {
   "attachments": {},
   "cell_type": "markdown",
   "metadata": {},
   "source": [
    "# Python Programming Assignment No. 22"
   ]
  },
  {
   "attachments": {},
   "cell_type": "markdown",
   "metadata": {},
   "source": [
    "                                                               By\n",
    "\n",
    "                                                         Santhosh Kumar"
   ]
  },
  {
   "attachments": {},
   "cell_type": "markdown",
   "metadata": {},
   "source": [
    "# Question No. 01"
   ]
  },
  {
   "attachments": {},
   "cell_type": "markdown",
   "metadata": {},
   "source": [
    "#### Create a function that takes three parameters where:\n",
    "\n",
    "* x is the start of the range (inclusive).\n",
    "\n",
    "* y is the end of the range (inclusive).\n",
    "\n",
    "* n is the divisor to be checked against.\n",
    "\n",
    "#### Return an ordered list with numbers in the range that are divisible by the third parameter n.\n",
    "\n",
    "#### Return an empty list if there are no numbers that are divisible by n.\n",
    "\n",
    "#### Examples\n",
    "\n",
    "#### list_operation(1, 10, 3) ➞ [3, 6, 9]\n",
    "\n",
    "#### list_operation(7, 9, 2) ➞ [8]\n",
    "\n",
    "#### list_operation(15, 20, 7) ➞ []"
   ]
  },
  {
   "cell_type": "code",
   "execution_count": 5,
   "metadata": {},
   "outputs": [
    {
     "name": "stdout",
     "output_type": "stream",
     "text": [
      "(1, 10, 3) ----> [3, 6, 9]\n",
      "(7, 9, 2) ----> [8]\n",
      "(15, 20, 7) ----> []\n"
     ]
    }
   ],
   "source": [
    "class list_operation:\n",
    "\n",
    "    def finding_list_of_operations(self, x, y, z):\n",
    "        \"\"\"This function will help you to return the divisible value of x to z\"\"\"\n",
    "\n",
    "        try:\n",
    "            result = []\n",
    "            for i in range(x, y+1):\n",
    "                if i%z == 0:\n",
    "                    result.append(i)\n",
    "            return f\"{x,y,z} ----> {result}\"\n",
    "        \n",
    "        except Exception as e:\n",
    "            print(\"You made a mistake on inside the finding list of operations function - \", e)\n",
    "\n",
    "list_operation = list_operation()\n",
    "print(list_operation.finding_list_of_operations(1,10,3))\n",
    "print(list_operation.finding_list_of_operations(7,9,2))\n",
    "print(list_operation.finding_list_of_operations(15,20,7))"
   ]
  },
  {
   "attachments": {},
   "cell_type": "markdown",
   "metadata": {},
   "source": [
    "# Question No. 02"
   ]
  },
  {
   "attachments": {},
   "cell_type": "markdown",
   "metadata": {},
   "source": [
    "#### Create a function that takes in two lists and returns True if the second list follows the first list by one element, and False otherwise. In other words, determine if the second list is the first list shifted to the right by 1.\n",
    "\n",
    "#### Examples\n",
    "\n",
    "#### simon_says([1, 2], [5, 1]) ➞ True\n",
    "\n",
    "#### simon_says([1, 2], [5, 5]) ➞ False\n",
    "\n",
    "#### simon_says([1, 2, 3, 4, 5], [0, 1, 2, 3, 4]) ➞ True\n",
    "\n",
    "#### simon_says([1, 2, 3, 4, 5], [5, 5, 1, 2, 3]) ➞ False\n",
    "\n",
    "#### Notes\n",
    "\n",
    "* Both input lists will be of the same length, and will have a minimum length of 2.\n",
    "\n",
    "*  The values of the 0-indexed element in the second list and the n-1th indexed element\n",
    "in the first list do not matter."
   ]
  },
  {
   "cell_type": "code",
   "execution_count": 84,
   "metadata": {},
   "outputs": [
    {
     "name": "stdout",
     "output_type": "stream",
     "text": [
      "([1, 2], [5, 1]) ➞ True\n",
      "([1, 2], [5, 5]) ➞ False\n",
      "([1, 2, 3, 4, 5], [0, 1, 2, 3, 4]) ➞ True\n",
      "([1, 2, 3, 4, 5], [5, 5, 1, 2, 3]) ➞ False\n"
     ]
    }
   ],
   "source": [
    "def simon_says(in_list_1,in_list_2):\n",
    "    if len(in_list_1) == len(in_list_1) and len(in_list_1) >=2 and len(in_list_1) >=2:\n",
    "        if(in_list_1[:-1] == in_list_2[1:]):\n",
    "            print(f'{in_list_1,in_list_2} ➞ {True}')\n",
    "        else:\n",
    "            print(f'{in_list_1,in_list_2} ➞ {False}')\n",
    "            \n",
    "simon_says([1, 2], [5, 1])\n",
    "simon_says([1, 2], [5, 5])\n",
    "simon_says([1, 2, 3, 4, 5], [0, 1, 2, 3, 4])\n",
    "simon_says([1, 2, 3, 4, 5], [5, 5, 1, 2, 3])"
   ]
  },
  {
   "attachments": {},
   "cell_type": "markdown",
   "metadata": {},
   "source": [
    "# Question No. 03"
   ]
  },
  {
   "attachments": {},
   "cell_type": "markdown",
   "metadata": {},
   "source": [
    "#### A group of friends have decided to start a secret society. The name will be the first letter of each of their names, sorted in alphabetical order. Create a function that takes in a list of names and returns the name of the secret society.\n",
    "\n",
    "#### Examples\n",
    "\n",
    "#### society_name([&quot;Adam&quot;, &quot;Sarah&quot;, &quot;Malcolm&quot;]) ➞ &quot;AMS&quot;\n",
    "\n",
    "#### society_name([&quot;Harry&quot;, &quot;Newt&quot;, &quot;Luna&quot;, &quot;Cho&quot;]) ➞ &quot;CHLN&quot;\n",
    "\n",
    "#### society_name([&quot;Phoebe&quot;, &quot;Chandler&quot;, &quot;Rachel&quot;, &quot;Ross&quot;, &quot;Monica&quot;, &quot;Joey&quot;])"
   ]
  },
  {
   "cell_type": "code",
   "execution_count": 76,
   "metadata": {},
   "outputs": [
    {
     "name": "stdout",
     "output_type": "stream",
     "text": [
      "['Adam', 'Sarah', 'Malcolm'] ----> AMS\n",
      "['Harry', 'Lewt', 'Luna', 'Cho'] ----> CHLL\n",
      "['Phoebe', 'Chandler', 'Rachel', 'Ross', 'Monica', 'Joey'] ----> CJMPRR\n"
     ]
    }
   ],
   "source": [
    "class Society_Name:\n",
    "\n",
    "    def creating_name_for_society(self, g):\n",
    "        \"\"\"This function will help you to create a office name\"\"\"\n",
    "\n",
    "        try:\n",
    "            output = []\n",
    "            for i in g:\n",
    "                output.append(i[0])\n",
    "            output = \"\".join(sorted(output))\n",
    "            return f\"{g} ----> {output}\"\n",
    "            \n",
    "        except Exception as e:\n",
    "            print(\"You made a mistake on inside your creating name for office function - \", e)\n",
    "\n",
    "Society_Name = Society_Name()\n",
    "print(Society_Name.creating_name_for_society([\"Adam\", \"Sarah\", \"Malcolm\"]))\n",
    "print(Society_Name.creating_name_for_society([\"Harry\", \"Lewt\", \"Luna\", \"Cho\"]))\n",
    "print(Society_Name.creating_name_for_society([\"Phoebe\", \"Chandler\", \"Rachel\", \"Ross\", \"Monica\", \"Joey\"]))"
   ]
  },
  {
   "attachments": {},
   "cell_type": "markdown",
   "metadata": {},
   "source": [
    "# Question No. 04"
   ]
  },
  {
   "attachments": {},
   "cell_type": "markdown",
   "metadata": {},
   "source": [
    "#### An isogram is a word that has no duplicate letters. Create a function that takes a string and returns either True or False depending on whether or not it&#39;s an &quot;isogram&quot;.\n",
    "\n",
    "#### Examples\n",
    "\n",
    "#### is_isogram(&quot;Algorism&quot;) ➞ True\n",
    "\n",
    "#### is_isogram(&quot;PasSword&quot;) ➞ False\n",
    "\n",
    "#### Not case sensitive.\n",
    "\n",
    "#### is_isogram(&quot;Consecutive&quot;) ➞ False\n",
    "\n",
    "#### Notes\n",
    "\n",
    "* Ignore letter case (should not be case sensitive).\n",
    "\n",
    "* All test cases contain valid one word strings."
   ]
  },
  {
   "cell_type": "code",
   "execution_count": 83,
   "metadata": {},
   "outputs": [
    {
     "name": "stdout",
     "output_type": "stream",
     "text": [
      "Algorism ➞ True\n",
      "PasSword ➞ False\n",
      "Consecutive ➞ False\n"
     ]
    }
   ],
   "source": [
    "class isogram:\n",
    "\n",
    "    def checking_isogram(self, g):\n",
    "        \"\"\"This function will help you to find whether the word is in isogram or not\"\"\"\n",
    "\n",
    "        try:\n",
    "            lower_g = g.lower()\n",
    "            if len(lower_g) == len(set(lower_g)):\n",
    "                return(f'{g} ➞ {True}')\n",
    "            else:\n",
    "                return(f'{g} ➞ {False}')\n",
    "            \n",
    "        except Exception as e:\n",
    "            print(\"You made a mistake on inside the checking isogram function - \", e)\n",
    "\n",
    "isogram = isogram()\n",
    "print(isogram.checking_isogram(\"Algorism\"))\n",
    "print(isogram.checking_isogram(\"PasSword\"))\n",
    "print(isogram.checking_isogram(\"Consecutive\"))"
   ]
  },
  {
   "attachments": {},
   "cell_type": "markdown",
   "metadata": {},
   "source": [
    "# Question No. 05"
   ]
  },
  {
   "attachments": {},
   "cell_type": "markdown",
   "metadata": {},
   "source": [
    "#### Create a function that takes a string and returns True or False, depending on whether the characters are in order or not.\n",
    "\n",
    "#### Examples\n",
    "\n",
    "#### is_in_order(&quot;abc&quot;) ➞ True\n",
    "\n",
    "#### is_in_order(&quot;edabit&quot;) ➞ False\n",
    "\n",
    "#### is_in_order(&quot;123&quot;) ➞ True\n",
    "\n",
    "#### is_in_order(&quot;xyzz&quot;) ➞ True\n",
    "\n",
    "#### Notes\n",
    "* You don&#39;t have to handle empty strings."
   ]
  },
  {
   "cell_type": "code",
   "execution_count": 88,
   "metadata": {},
   "outputs": [
    {
     "name": "stdout",
     "output_type": "stream",
     "text": [
      "abc ➞ True\n",
      "edabit ➞ False\n",
      "123 ➞ True\n",
      "xyzz ➞ True\n"
     ]
    }
   ],
   "source": [
    "class order:\n",
    "\n",
    "    def is_in_order(self, in_string):\n",
    "        \"\"\"This function will help you to return in order\"\"\"\n",
    "        try:\n",
    "            in_string_sorted = ''.join(sorted(in_string))\n",
    "            if in_string == in_string_sorted:\n",
    "                return(f'{in_string} ➞ {True}')\n",
    "            else:\n",
    "                return(f'{in_string} ➞ {False}')\n",
    "        \n",
    "        except Exception as e:\n",
    "            print(\"You made a mistake on inside the is in order function - \", e)\n",
    "\n",
    "order = order()\n",
    "print(order.is_in_order(\"abc\"))\n",
    "print(order.is_in_order(\"edabit\"))\n",
    "print(order.is_in_order(\"123\"))\n",
    "print(order.is_in_order(\"xyzz\"))"
   ]
  },
  {
   "attachments": {},
   "cell_type": "markdown",
   "metadata": {},
   "source": [
    "                                            completed\n",
    "\n",
    "                                                                      Santhosh Kumar"
   ]
  }
 ],
 "metadata": {
  "kernelspec": {
   "display_name": "Python 3",
   "language": "python",
   "name": "python3"
  },
  "language_info": {
   "codemirror_mode": {
    "name": "ipython",
    "version": 3
   },
   "file_extension": ".py",
   "mimetype": "text/x-python",
   "name": "python",
   "nbconvert_exporter": "python",
   "pygments_lexer": "ipython3",
   "version": "3.11.1"
  },
  "orig_nbformat": 4
 },
 "nbformat": 4,
 "nbformat_minor": 2
}
