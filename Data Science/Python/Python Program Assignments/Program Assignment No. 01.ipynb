{
 "cells": [
  {
   "attachments": {},
   "cell_type": "markdown",
   "metadata": {},
   "source": [
    "# Python Programming Assignment No. 01"
   ]
  },
  {
   "attachments": {},
   "cell_type": "markdown",
   "metadata": {},
   "source": [
    "                                                                                                                By\n",
    "                                                                                                        Santhosh Kumar M"
   ]
  },
  {
   "attachments": {},
   "cell_type": "markdown",
   "metadata": {},
   "source": [
    "# Question No. 01"
   ]
  },
  {
   "attachments": {},
   "cell_type": "markdown",
   "metadata": {},
   "source": [
    "#### Write a Python program to print \"Hello Python\"?"
   ]
  },
  {
   "attachments": {},
   "cell_type": "markdown",
   "metadata": {},
   "source": [
    "# Answer No. 01"
   ]
  },
  {
   "cell_type": "code",
   "execution_count": 1,
   "metadata": {},
   "outputs": [
    {
     "name": "stdout",
     "output_type": "stream",
     "text": [
      "Hello Python\n"
     ]
    }
   ],
   "source": [
    "print(\"Hello Python\")"
   ]
  },
  {
   "attachments": {},
   "cell_type": "markdown",
   "metadata": {},
   "source": [
    "#### Optional Answer No. 01"
   ]
  },
  {
   "cell_type": "code",
   "execution_count": 2,
   "metadata": {},
   "outputs": [
    {
     "data": {
      "text/plain": [
       "'Hello Python'"
      ]
     },
     "execution_count": 2,
     "metadata": {},
     "output_type": "execute_result"
    }
   ],
   "source": [
   "def test():\n",
    "    try:\n",
    "        return \"Hello Python\"\n",
    "    except Exception as e:\n",
    "        print(\"You made some mistake - \", e)\n",
    "\n",
    "test()"
   ]
  },
  {
   "attachments": {},
   "cell_type": "markdown",
   "metadata": {},
   "source": [
    "# Question No. 02"
   ]
  },
  {
   "attachments": {},
   "cell_type": "markdown",
   "metadata": {},
   "source": [
    "#### Write a Python program to do arithmetical operations addition and division.?"
   ]
  },
  {
   "attachments": {},
   "cell_type": "markdown",
   "metadata": {},
   "source": [
    "# Answer No. 01"
   ]
  },
  {
   "cell_type": "code",
   "execution_count": 3,
   "metadata": {},
   "outputs": [
    {
     "name": "stdout",
     "output_type": "stream",
     "text": [
      "Addition of a and b is : 7\n",
      "Division of a and b is : 0.4\n"
     ]
    }
   ],
   "source": [
    "a = 2\n",
    "b = 5\n",
    "print(\"Addition of a and b is :\", a + b)\n",
    "print(\"Division of a and b is :\", a/b)"
   ]
  },
  {
   "attachments": {},
   "cell_type": "markdown",
   "metadata": {},
   "source": [
    "#### Optional Answer No. 02"
   ]
  },
  {
   "cell_type": "code",
   "execution_count": 4,
   "metadata": {},
   "outputs": [],
   "source": [
    "class arithmetical_operations:\n",
    "    \n",
    "    def addition(a,b):\n",
    "        try:\n",
    "            return a + b\n",
    "        except Exception as e:\n",
    "            print(\"You made some mistake on addition function - \", e)\n",
    "\n",
    "    def division(a,b):\n",
    "        try:\n",
    "            return a/b\n",
    "        except Exception as e:\n",
    "            print(\"You made some mistake on division function - \", e)\n",
    "\n",
    "arithmetical_opertions = arithmetical_operations()"
   ]
  },
  {
   "cell_type": "code",
   "execution_count": 5,
   "metadata": {},
   "outputs": [
    {
     "data": {
      "text/plain": [
       "7"
      ]
     },
     "execution_count": 5,
     "metadata": {},
     "output_type": "execute_result"
    }
   ],
   "source": [
    "arithmetical_operations.addition(5,2)"
   ]
  },
  {
   "cell_type": "code",
   "execution_count": 6,
   "metadata": {},
   "outputs": [
    {
     "data": {
      "text/plain": [
       "0.4"
      ]
     },
     "execution_count": 6,
     "metadata": {},
     "output_type": "execute_result"
    }
   ],
   "source": [
    "arithmetical_operations.division(2,5)"
   ]
  },
  {
   "attachments": {},
   "cell_type": "markdown",
   "metadata": {},
   "source": [
    "# Question No. 03"
   ]
  },
  {
   "attachments": {},
   "cell_type": "markdown",
   "metadata": {},
   "source": [
    "#### Write a program to find the Area of Triangle."
   ]
  },
  {
   "attachments": {},
   "cell_type": "markdown",
   "metadata": {},
   "source": [
    "# Answer No. 03"
   ]
  },
  {
   "cell_type": "code",
   "execution_count": 7,
   "metadata": {},
   "outputs": [
    {
     "data": {
      "text/plain": [
       "20.33316256758894"
      ]
     },
     "execution_count": 7,
     "metadata": {},
     "output_type": "execute_result"
    }
   ],
   "source": [
    "def area_of_triangle(a,b,c):\n",
    "\n",
    "    perimeter = a+b+c\n",
    "    semi_perimeter = (a+b+c)/2\n",
    "\n",
    "    Area = (semi_perimeter * (semi_perimeter - a) * (semi_perimeter - b) * (semi_perimeter - c)) ** 0.5\n",
    "\n",
    "    return Area\n",
    "\n",
    "area_of_triangle(6,7,8)"
   ]
  },
  {
   "attachments": {},
   "cell_type": "markdown",
   "metadata": {},
   "source": [
    "# Question No. 04"
   ]
  },
  {
   "attachments": {},
   "cell_type": "markdown",
   "metadata": {},
   "source": [
    "#### Write a Python program to swap two variables?"
   ]
  },
  {
   "attachments": {},
   "cell_type": "markdown",
   "metadata": {},
   "source": [
    "# Answer No. 04"
   ]
  },
  {
   "cell_type": "code",
   "execution_count": 8,
   "metadata": {},
   "outputs": [
    {
     "name": "stdout",
     "output_type": "stream",
     "text": [
      "('Print after swaping : ', 20)\n",
      "('Print after swaping : ', 10)\n"
     ]
    }
   ],
   "source": [
    "x = 10\n",
    "y = 20\n",
    "\n",
    "a = x\n",
    "\n",
    "x = y\n",
    "y = a\n",
    "\n",
    "x = (\"Print after swaping : \", x)\n",
    "y = (\"Print after swaping : \", y)\n",
    "\n",
    "\n",
    "print(x)\n",
    "print(y)"
   ]
  },
  {
   "attachments": {},
   "cell_type": "markdown",
   "metadata": {},
   "source": [
    "# Question No. 05"
   ]
  },
  {
   "attachments": {},
   "cell_type": "markdown",
   "metadata": {},
   "source": [
    "#### Write a Python program for generate a random numbers."
   ]
  },
  {
   "cell_type": "code",
   "execution_count": 38,
   "metadata": {},
   "outputs": [
    {
     "name": "stdout",
     "output_type": "stream",
     "text": [
      "('One Random Number is : ', 53)\n",
      "('Multiple Random Number is : ', [7, 49, 68, 59, 40, 81, 21])\n"
     ]
    }
   ],
   "source": [
    "import random\n",
    "\n",
    "class random_numbers:\n",
    "\n",
    "    def one_rand_num(self):\n",
    "        \n",
    "        try:\n",
    "            one_rand_num = random.randint(0,99)\n",
    "            return (\"One Random Number is : \", one_rand_num)\n",
    "        except Exception as e:\n",
    "            print(\"You made a mistake an one random number block\", e)\n",
    "\n",
    "    def multiple_rand_num(self):\n",
    "        try:\n",
    "            multiple_rand_num = random.sample(range(0,99),7)\n",
    "            return (\"Multiple Random Number is : \", multiple_rand_num)\n",
    "        except Exception as e:\n",
    "            print(\"You made a mistake an multiple random number block\", e)\n",
    "\n",
    "rand = random_numbers()\n",
    "\n",
    "print(rand.one_rand_num())\n",
    "print(rand.multiple_rand_num())\n"
   ]
  },
  {
   "attachments": {},
   "cell_type": "markdown",
   "metadata": {},
   "source": [
    "                                                    Completed\n",
    "\n",
    "                                                                                                                Santhosh Kumar M"
   ]
  }
 ],
 "metadata": {
  "kernelspec": {
   "display_name": "Python 3",
   "language": "python",
   "name": "python3"
  },
  "language_info": {
   "codemirror_mode": {
    "name": "ipython",
    "version": 3
   },
   "file_extension": ".py",
   "mimetype": "text/x-python",
   "name": "python",
   "nbconvert_exporter": "python",
   "pygments_lexer": "ipython3",
   "version": "3.11.1"
  },
  "orig_nbformat": 4,
  "vscode": {
   "interpreter": {
    "hash": "180f8518baccd74e1e77565faed7e8576f26917e6b201f6b9516078dc879945e"
   }
  }
 },
 "nbformat": 4,
 "nbformat_minor": 2
}
