{
 "cells": [
  {
   "attachments": {},
   "cell_type": "markdown",
   "metadata": {},
   "source": [
    "# Python Programming Assignment No. 15"
   ]
  },
  {
   "attachments": {},
   "cell_type": "markdown",
   "metadata": {},
   "source": [
    "                                                                        By\n",
    "\n",
    "                                                                    Santhosh Kumar"
   ]
  },
  {
   "attachments": {},
   "cell_type": "markdown",
   "metadata": {},
   "source": [
    "# Question No. 01"
   ]
  },
  {
   "attachments": {},
   "cell_type": "markdown",
   "metadata": {},
   "source": [
    "#### Please write a program using generator to print the numbers which can be divisible by 5 and 7 between 0 and n in comma separated form while n is input by console.\n",
    "\n",
    "#### Example:\n",
    "\n",
    "#### If the following n is given as input to the program: 100\n",
    "\n",
    "#### Then, the output of the program should be: 0,35,70"
   ]
  },
  {
   "cell_type": "code",
   "execution_count": 10,
   "metadata": {},
   "outputs": [
    {
     "name": "stdout",
     "output_type": "stream",
     "text": [
      "0\n",
      "35\n",
      "70\n"
     ]
    }
   ],
   "source": [
    "class generate_numbers:\n",
    "\n",
    "    def generating_numbers(self):\n",
    "        \"\"\"This function will help you to find the generating numbers divisible by 5 and 7 between 0 to n\"\"\"\n",
    "\n",
    "        try:\n",
    "            n = int(input(\"Enter your limit number: \"))\n",
    "            for i in range(0, n+1):\n",
    "                if i%5==0 and i%7==0:\n",
    "                    yield i\n",
    "\n",
    "        except Exception as e:\n",
    "            print(\"You made a mistake on inside the generating numbers function - \", e)\n",
    "\n",
    "generate_numbers = generate_numbers()\n",
    "numbers = generate_numbers.generating_numbers()\n",
    "\n",
    "for i in numbers:\n",
    "    print(i)"
   ]
  },
  {
   "attachments": {},
   "cell_type": "markdown",
   "metadata": {},
   "source": [
    "# Question No. 02"
   ]
  },
  {
   "attachments": {},
   "cell_type": "markdown",
   "metadata": {},
   "source": [
    "#### Please write a program using generator to print the even numbers between 0 and n in comma separated form while n is input by console.\n",
    "\n",
    "#### Example:\n",
    "\n",
    "#### If the following n is given as input to the program: 10\n",
    "\n",
    "#### Then, the output of the program should be: 0,2,4,6,8,10"
   ]
  },
  {
   "cell_type": "code",
   "execution_count": 14,
   "metadata": {},
   "outputs": [
    {
     "name": "stdout",
     "output_type": "stream",
     "text": [
      "0,2,4,6,8,10,"
     ]
    }
   ],
   "source": [
    "class generate_even_numbers:\n",
    "\n",
    "    def generating_even_numbers(self):\n",
    "        \"\"\"This function will help you to generate the even numbers only between certain ranges\"\"\"\n",
    "\n",
    "        try:\n",
    "            n = int(input(\"Enter your limit number: \"))\n",
    "            for i in range(0, n+1):\n",
    "                if i%2 == 0:\n",
    "                    yield i\n",
    "\n",
    "        except Exception as e:\n",
    "            print(\"You made a mistake on inside the generating even numbers function - \", e)\n",
    "\n",
    "generate_even_numbers = generate_even_numbers()\n",
    "numbers = generate_even_numbers.generating_even_numbers()\n",
    "\n",
    "for i in numbers:\n",
    "    print(i, end=\",\")"
   ]
  },
  {
   "attachments": {},
   "cell_type": "markdown",
   "metadata": {},
   "source": [
    "# Question No. 03"
   ]
  },
  {
   "attachments": {},
   "cell_type": "markdown",
   "metadata": {},
   "source": [
    "#### The Fibonacci Sequence is computed based on the following formula:\n",
    "\n",
    "#### f(n)=0 if n=0\n",
    "\n",
    "#### f(n)=1 if n=1\n",
    "\n",
    "#### f(n)=f(n-1)+f(n-2) if n>1\n",
    "\n",
    "#### Please write a program using list comprehension to print the Fibonacci Sequence in comma separated form with a given n input by console.\n",
    "\n",
    "#### Example:\n",
    "\n",
    "#### If the following n is given as input to the program: 7\n",
    "\n",
    "#### Then, the output of the program should be: 0,1,1,2,3,5,8,13"
   ]
  },
  {
   "cell_type": "code",
   "execution_count": 24,
   "metadata": {},
   "outputs": [
    {
     "name": "stdout",
     "output_type": "stream",
     "text": [
      "0,1,1,2,3,5,8,13,21,34,55\n"
     ]
    }
   ],
   "source": [
    "class fibo_seq:\n",
    "\n",
    "    def fibonacci_sequence(self, n):\n",
    "        \"\"\"This function will help you to print the fibonacci sequence\"\"\"\n",
    "\n",
    "        try:\n",
    "            sequence = [0,1]\n",
    "\n",
    "            if n<=1:\n",
    "                return sequence[:n + 1]\n",
    "            \n",
    "            [sequence.append(sequence[-1] + sequence[-2]) for _ in range(2, n+1)]\n",
    "\n",
    "            return sequence\n",
    "        \n",
    "        except Exception as e:\n",
    "            print(\"You made a mistake on inside the fibonacci sequence function\")\n",
    "\n",
    "fibo_seq = fibo_seq()\n",
    "fib_seq = fibonacci_sequence(n)\n",
    "\n",
    "n = int(input(\"Enter a number (n): \"))\n",
    "print(\",\".join(str(num) for num in fib_seq))"
   ]
  },
  {
   "attachments": {},
   "cell_type": "markdown",
   "metadata": {},
   "source": [
    "# Question No. 04"
   ]
  },
  {
   "attachments": {},
   "cell_type": "markdown",
   "metadata": {},
   "source": [
    "#### Assuming that we have some email addresses in the \"username@companyname.com\" format,\n",
    "\n",
    "#### please write program to print the user name of a given email address. Both user names and company names are composed of letters only.\n",
    "\n",
    "#### Example:\n",
    "\n",
    "#### If the following email address is given as input to the program: john@google.com\n",
    "\n",
    "#### Then, the output of the program should be: john"
   ]
  },
  {
   "cell_type": "code",
   "execution_count": 43,
   "metadata": {},
   "outputs": [
    {
     "name": "stdout",
     "output_type": "stream",
     "text": [
      "Your mail id is santhoshbharath@gmail.com\n",
      "santhoshbharath"
     ]
    }
   ],
   "source": [
    "class extracting_name:\n",
    "\n",
    "    def extracting_name_from_mailid(self):\n",
    "        \"\"\"This function will help you to extract the names only\"\"\"\n",
    "\n",
    "        try:\n",
    "            mail_id = input(\"Enter your mail id: \")\n",
    "            print(f\"Your mail id is {mail_id}\")\n",
    "            for i in mail_id:\n",
    "                if i==\"@\":\n",
    "                    break\n",
    "                print(i, end=\"\")\n",
    "            \n",
    "        except Exception as e:\n",
    "            print(\"You made a mistake on inside the extracting name from mail id function - \", e)\n",
    "\n",
    "extracting_name = extracting_name()\n",
    "extracting_name.extracting_name_from_mailid()"
   ]
  },
  {
   "attachments": {},
   "cell_type": "markdown",
   "metadata": {},
   "source": [
    "# Question No. 05"
   ]
  },
  {
   "attachments": {},
   "cell_type": "markdown",
   "metadata": {},
   "source": [
    "#### Define a class named Shape and its subclass Square. The Square class has an init function which takes a length as argument. Both classes have a area function which can print the area of the shape where Shape&#39;s area is 0 by default."
   ]
  },
  {
   "cell_type": "code",
   "execution_count": 50,
   "metadata": {},
   "outputs": [
    {
     "data": {
      "text/plain": [
       "2500"
      ]
     },
     "execution_count": 50,
     "metadata": {},
     "output_type": "execute_result"
    }
   ],
   "source": [
    "class shape:\n",
    "\n",
    "    def area(self):\n",
    "        return 0\n",
    "\n",
    "class square(shape):\n",
    "\n",
    "    def __init__(self, length):\n",
    "        self.length = length\n",
    "\n",
    "    def area(self):\n",
    "        area_of_shape = self.length * self.length\n",
    "        return area_of_shape\n",
    "\n",
    "shape = shape()\n",
    "square = square(50)\n",
    "square.area()"
   ]
  },
  {
   "attachments": {},
   "cell_type": "markdown",
   "metadata": {},
   "source": [
    "                                    Completed\n",
    "\n",
    "                                                                    Santhosh Kumar"
   ]
  }
 ],
 "metadata": {
  "kernelspec": {
   "display_name": "Python 3",
   "language": "python",
   "name": "python3"
  },
  "language_info": {
   "codemirror_mode": {
    "name": "ipython",
    "version": 3
   },
   "file_extension": ".py",
   "mimetype": "text/x-python",
   "name": "python",
   "nbconvert_exporter": "python",
   "pygments_lexer": "ipython3",
   "version": "3.11.1"
  },
  "orig_nbformat": 4
 },
 "nbformat": 4,
 "nbformat_minor": 2
}
