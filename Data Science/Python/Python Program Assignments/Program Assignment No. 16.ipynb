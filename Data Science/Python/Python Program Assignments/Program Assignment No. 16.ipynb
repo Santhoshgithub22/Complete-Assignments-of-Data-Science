{
 "cells": [
  {
   "attachments": {},
   "cell_type": "markdown",
   "metadata": {},
   "source": [
    "# Python Programming Assignment No. 16"
   ]
  },
  {
   "attachments": {},
   "cell_type": "markdown",
   "metadata": {},
   "source": [
    "                                                                    By\n",
    "\n",
    "                                                                Santhosh Kumar"
   ]
  },
  {
   "attachments": {},
   "cell_type": "markdown",
   "metadata": {},
   "source": [
    "# Question No. 01"
   ]
  },
  {
   "attachments": {},
   "cell_type": "markdown",
   "metadata": {},
   "source": [
    "#### Write a function that stutters a word as if someone is struggling to read it. The first two letters are repeated twice with an ellipsis ... and space after each, and then the word is pronounced with a question mark ?.\n",
    "\n",
    "#### Examples\n",
    "\n",
    "#### stutter(\"incredible\") ➞ \"in... in... incredible?\";\n",
    "\n",
    "#### stutter(\"enthusiastic\") ➞ \"en... en... enthusiastic?\";\n",
    "\n",
    "#### stutter(\"outstanding\") ➞ \"ou... ou... outstanding?\";\n",
    "\n",
    "#### Hint :- Assume all input is in lower case and at least two characters long."
   ]
  },
  {
   "cell_type": "code",
   "execution_count": 4,
   "metadata": {},
   "outputs": [
    {
     "name": "stdout",
     "output_type": "stream",
     "text": [
      "incredible --> in...in... incredible?\n",
      "enthusiastic --> en...en... enthusiastic?\n",
      "outstanding --> ou...ou... outstanding?\n"
     ]
    }
   ],
   "source": [
    "class stutters:\n",
    "\n",
    "    def stutters_a_word(self):\n",
    "        \"\"\"This function will help you to give a stutter, by using the the stutter you can able to read it easily\"\"\"\n",
    "\n",
    "        try:\n",
    "            n = int(input(\"How many words in total?\"))\n",
    " \n",
    "            for i in range(n):\n",
    "                g = input(\"Enter your words here: \")\n",
    "                print(f\"{g} --> {g[:2]}...{g[:2]}... {g}?\")\n",
    "\n",
    "        except Exception as e:\n",
    "            print(\"You made a mistake on inside the stutters function - \", e)\n",
    "\n",
    "stutters = stutters()\n",
    "stutters.stutters_a_word()"
   ]
  },
  {
   "attachments": {},
   "cell_type": "markdown",
   "metadata": {},
   "source": [
    "# Question No. 02"
   ]
  },
  {
   "attachments": {},
   "cell_type": "markdown",
   "metadata": {},
   "source": [
    "#### Question 2.Create a function that takes an angle in radians and returns the corresponding angle in degrees rounded to one decimal place.\n",
    "\n",
    "#### Examples\n",
    "\n",
    "#### radians_to_degrees(1) ➞ 57.3\n",
    "\n",
    "#### radians_to_degrees(20) ➞ 1145.9\n",
    "\n",
    "#### radians_to_degrees(50) ➞ 2864.8"
   ]
  },
  {
   "cell_type": "code",
   "execution_count": 24,
   "metadata": {},
   "outputs": [
    {
     "name": "stdout",
     "output_type": "stream",
     "text": [
      "radians_to_degrees(1) ----> 57.3\n",
      "radians_to_degrees(20) ----> 1145.9\n",
      "radians_to_degrees(50) ----> 2864.8\n"
     ]
    }
   ],
   "source": [
    "class convert_to_degree:\n",
    "\n",
    "    def converting_radians_into_degrees(self):\n",
    "        \"\"\"This function will help you to convert the radians into degrees\"\"\"\n",
    "\n",
    "        try:\n",
    "            n = int(input(\"Enter How many radians you want to find? \"))\n",
    "\n",
    "            for i in range(n):\n",
    "                radians = int(input(\"Enter your radians number\"))\n",
    "                pi = 3.14159\n",
    "                degree = (180/pi) * radians\n",
    "                print(f\"radians_to_degrees({radians}) ----> {degree:.1f}\")\n",
    "\n",
    "        except Exception as e:\n",
    "            print(\"You made a mistake on inside your converting radians into degrees function\")\n",
    "\n",
    "convert_to_degree = convert_to_degree()\n",
    "convert_to_degree.converting_radians_into_degrees()"
   ]
  },
  {
   "attachments": {},
   "cell_type": "markdown",
   "metadata": {},
   "source": [
    "# Question No. 03"
   ]
  },
  {
   "attachments": {},
   "cell_type": "markdown",
   "metadata": {},
   "source": [
    "#### In this challenge, establish if a given integer num is a Curzon number. If 1 plus 2 elevated to num is exactly divisible by 1 plus 2 multiplied by num, then num is a Curzon number.\n",
    "\n",
    "#### Given a non-negative integer num, implement a function that returns True if num is a Curzon number, or False otherwise.\n",
    "\n",
    "#### Examples\n",
    "\n",
    "#### is_curzon(5) ➞ True\n",
    "\n",
    "#### 2 ** 5 + 1 = 33\n",
    "\n",
    "#### 2 * 5 + 1 = 11\n",
    "\n",
    "#### 33 is a multiple of 11\n",
    "-------------------------------------\n",
    "#### is_curzon(10) ➞ False\n",
    "\n",
    "#### 2 ** 10 + 1 = 1025\n",
    "\n",
    "#### 2 * 10 + 1 = 21\n",
    "\n",
    "#### 1025 is not a multiple of 21\n",
    "-------------------------------------\n",
    "#### is_curzon(14) ➞ True\n",
    "\n",
    "#### 2 ** 14 + 1 = 16385\n",
    "\n",
    "#### 2 * 14 + 1 = 29\n",
    "\n",
    "#### 16385 is a multiple of 29"
   ]
  },
  {
   "cell_type": "code",
   "execution_count": 27,
   "metadata": {},
   "outputs": [
    {
     "name": "stdout",
     "output_type": "stream",
     "text": [
      "33\n",
      "11\n",
      "5 is a curzon number\n",
      "-------------------------------------------\n",
      "1025\n",
      "21\n",
      "10 is not a curzon number\n",
      "-------------------------------------------\n",
      "16385\n",
      "29\n",
      "14 is a curzon number\n",
      "-------------------------------------------\n"
     ]
    }
   ],
   "source": [
    "class curzon_number:\n",
    "\n",
    "    def finding_a_curzon_number(self):\n",
    "        \"\"\"This function will help you to find whether its a curzon number or not\"\"\"\n",
    "\n",
    "        try:\n",
    "            n = int(input(\"Enter How Many Number You want to check?\"))\n",
    "\n",
    "            for i in range(n):\n",
    "                g = int(input(\"Enter your number to check curzon or not\"))\n",
    "                x = (2 ** g) + 1\n",
    "                y = (2 * g) + 1\n",
    "                print(x)\n",
    "                print(y)\n",
    "                if x % y == 0:\n",
    "                    print(f\"{g} is a curzon number\")\n",
    "                else:\n",
    "                    print(f\"{g} is not a curzon number\")\n",
    "                print(\"-------------------------------------------\")\n",
    "\n",
    "        except Exception as e:\n",
    "            print(\"You made a mistake on inside the finding a curzon number function - \", e)\n",
    "\n",
    "curzon_number = curzon_number()\n",
    "curzon_number.finding_a_curzon_number()"
   ]
  },
  {
   "attachments": {},
   "cell_type": "markdown",
   "metadata": {},
   "source": [
    "# Question No. 04"
   ]
  },
  {
   "attachments": {},
   "cell_type": "markdown",
   "metadata": {},
   "source": [
    "#### 4.Given the side length x find the area of a hexagon.\n",
    "\n",
    "#### Examples\n",
    "\n",
    "#### area_of_hexagon(1) ➞ 2.6\n",
    "\n",
    "#### area_of_hexagon(2) ➞ 10.4\n",
    "\n",
    "#### area_of_hexagon(3) ➞ 23.4"
   ]
  },
  {
   "cell_type": "code",
   "execution_count": 34,
   "metadata": {},
   "outputs": [
    {
     "name": "stdout",
     "output_type": "stream",
     "text": [
      "area_of_hexagon (1) ----> 2.598076211353316\n",
      "area_of_hexagon (2) ----> 10.392304845413264\n",
      "area_of_hexagon (3) ----> 23.382685902179844\n"
     ]
    }
   ],
   "source": [
    "import math\n",
    "\n",
    "class area_of_hexagon:\n",
    "\n",
    "    def finding_the_area_of_the_hexagon(self):\n",
    "        \"\"\"This function will help you to find the area of hexagon\"\"\"\n",
    "\n",
    "        try:\n",
    "            n = int(input(\"Enter how many numbers want to find the area of hexagon\"))\n",
    "\n",
    "            for i in range(n):\n",
    "                s = int(input(\"Enter the value to find the area of hexagon\"))\n",
    "                area = (3 * math.sqrt(3) * s*s) / 2\n",
    "                output = (f\"area_of_hexagon ({s}) ----> {area}\")\n",
    "                print(output)\n",
    "            \n",
    "        except Exception as e:\n",
    "            print(\"You made a mistake on inside your finding the area of the hexagon function\")\n",
    "\n",
    "area_of_hexagon = area_of_hexagon()\n",
    "area_of_hexagon.finding_the_area_of_the_hexagon()"
   ]
  },
  {
   "attachments": {},
   "cell_type": "markdown",
   "metadata": {},
   "source": [
    "# Question No. 05"
   ]
  },
  {
   "attachments": {},
   "cell_type": "markdown",
   "metadata": {},
   "source": [
    "#### Create a function that returns a base-2 (binary) representation of a base-10 (decimal) string number. To convert is simple: ((2) means base-2 and (10) means base-10)\n",
    "\n",
    "#### 010101001(2) = 1 + 8 + 32 + 128.\n",
    "\n",
    "#### Going from right to left, the value of the most right bit is 1, now from that every bit to the left will be x2 the value, value of an 8 bit binary numbers are (256, 128, 64, 32, 16, 8, 4, 2, 1).\n",
    "\n",
    "#### Examples\n",
    "\n",
    "#### binary(1) ➞ \"1\"\n",
    "\n",
    "###### 1*1 = 1\n",
    "\n",
    "#### binary(5) ➞ \"101\"\n",
    "\n",
    "###### 1*1 + (1*4) = 5\n",
    "\n",
    "#### binary(10) ➞ \"1010\"\n",
    "\n",
    "###### 1*2 + 1*8 = 10"
   ]
  },
  {
   "cell_type": "code",
   "execution_count": 50,
   "metadata": {},
   "outputs": [
    {
     "name": "stdout",
     "output_type": "stream",
     "text": [
      "binary (1) ----> 1\n",
      "binary (5) ----> 101\n",
      "binary (10) ----> 1010\n"
     ]
    }
   ],
   "source": [
    "class binary:\n",
    "\n",
    "    def finding_binary(self):\n",
    "        \"\"\"This function will help you to print the binary value without 0b\"\"\"\n",
    "\n",
    "        try:\n",
    "            n = int(input(\"Enter how many times you want to do?\"))\n",
    "\n",
    "            for i in range(n):\n",
    "                g = (int(input()))\n",
    "                x = bin(g)\n",
    "                result = x.replace(\"0b\", \"\")\n",
    "                print(f\"binary ({g}) ----> {result}\")\n",
    "            \n",
    "        except Exception as e:\n",
    "            print(\"You made a mistake on inside the finding binary function - \", e)\n",
    "\n",
    "binary = binary()\n",
    "binary.finding_binary()"
   ]
  },
  {
   "attachments": {},
   "cell_type": "markdown",
   "metadata": {},
   "source": [
    "                                Completed\n",
    "\n",
    "                                                                Santhosh Kumar"
   ]
  }
 ],
 "metadata": {
  "kernelspec": {
   "display_name": "Python 3",
   "language": "python",
   "name": "python3"
  },
  "language_info": {
   "codemirror_mode": {
    "name": "ipython",
    "version": 3
   },
   "file_extension": ".py",
   "mimetype": "text/x-python",
   "name": "python",
   "nbconvert_exporter": "python",
   "pygments_lexer": "ipython3",
   "version": "3.11.1"
  },
  "orig_nbformat": 4
 },
 "nbformat": 4,
 "nbformat_minor": 2
}
