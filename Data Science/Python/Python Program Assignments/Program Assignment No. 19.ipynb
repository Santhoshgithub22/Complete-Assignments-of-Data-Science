{
 "cells": [
  {
   "attachments": {},
   "cell_type": "markdown",
   "metadata": {},
   "source": [
    "# Python Programming Assignment No. 19"
   ]
  },
  {
   "attachments": {},
   "cell_type": "markdown",
   "metadata": {},
   "source": [
    "                                                                    By\n",
    "\n",
    "                                                             Santhosh Kumar"
   ]
  },
  {
   "attachments": {},
   "cell_type": "markdown",
   "metadata": {},
   "source": [
    "# Question No. 01"
   ]
  },
  {
   "attachments": {},
   "cell_type": "markdown",
   "metadata": {},
   "source": [
    "#### Create a function that takes a string and returns a string in which each character is repeated once.\n",
    "\n",
    "#### Examples\n",
    "\n",
    "#### double_char(&quot;String&quot;) ➞ &quot;SSttrriinngg&quot;\n",
    "\n",
    "#### double_char(&quot;Hello World!&quot;) ➞ &quot;HHeelllloo WWoorrlldd!!&quot;\n",
    "\n",
    "#### double_char(&quot;1234!_ &quot;) ➞ &quot;11223344!!__ &quot;"
   ]
  },
  {
   "cell_type": "code",
   "execution_count": 24,
   "metadata": {},
   "outputs": [
    {
     "name": "stdout",
     "output_type": "stream",
     "text": [
      "SSttrriinngg\n",
      "HHeelllloo  WWoorrlldd\n",
      "11223344\n"
     ]
    }
   ],
   "source": [
    "class double_character:\n",
    "\n",
    "    def twice_characters(self, word):\n",
    "        \"\"\"This function will help you to print the each characters twice\"\"\"\n",
    "\n",
    "        try:\n",
    "            result = \"\"\n",
    "\n",
    "            for i in word:\n",
    "                result = result + (i*2)\n",
    "            return (result)\n",
    "                \n",
    "        except Exception as e:\n",
    "            print(\"You made a mistake on inside the twice characters function - \", e)\n",
    "\n",
    "double_character = double_character()\n",
    "print(double_character.twice_characters(\"String\"))\n",
    "print(double_character.twice_characters(\"Hello World\"))\n",
    "print(double_character.twice_characters(\"1234\"))"
   ]
  },
  {
   "attachments": {},
   "cell_type": "markdown",
   "metadata": {},
   "source": [
    "# Question No. 02"
   ]
  },
  {
   "attachments": {},
   "cell_type": "markdown",
   "metadata": {},
   "source": [
    "#### Create a function that reverses a boolean value and returns the string &quot;boolean expected&quot;\n",
    "\n",
    "#### if another variable type is given.\n",
    "\n",
    "#### Examples\n",
    "\n",
    "#### reverse(True) ➞ False\n",
    "\n",
    "#### reverse(False) ➞ True\n",
    "\n",
    "#### reverse(0) ➞ &quot;boolean expected&quot;\n",
    "\n",
    "#### reverse(None) ➞ &quot;boolean expected&quot;"
   ]
  },
  {
   "cell_type": "code",
   "execution_count": 53,
   "metadata": {},
   "outputs": [
    {
     "name": "stdout",
     "output_type": "stream",
     "text": [
      "True ----> False\n",
      "False ----> True\n",
      "0 ----> boolean expected\n",
      "None ----> boolean expected\n"
     ]
    }
   ],
   "source": [
    "class reverser:\n",
    "\n",
    "    def boolean_reverser(self, g):\n",
    "        \"\"\"This function will help you to print the boolean in reverser\"\"\"\n",
    "        try:\n",
    "            if type(g) == bool:\n",
    "                return f\"{g} ----> {not g}\"\n",
    "            elif type(g) != bool:\n",
    "                return f\"{g} ----> boolean expected\"\n",
    "           \n",
    "        \n",
    "        except Exception as e:\n",
    "            print(\"You made a mistake on inside the boolean reverser function - \", e)\n",
    "\n",
    "reverser = reverser()\n",
    "print(reverser.boolean_reverser(True))\n",
    "print(reverser.boolean_reverser(False))\n",
    "print(reverser.boolean_reverser(0))\n",
    "print(reverser.boolean_reverser(None))"
   ]
  },
  {
   "attachments": {},
   "cell_type": "markdown",
   "metadata": {},
   "source": [
    "# Question No. 03"
   ]
  },
  {
   "attachments": {},
   "cell_type": "markdown",
   "metadata": {},
   "source": [
    "#### Create a function that returns the thickness (in meters) of a piece of paper after folding it n number of times. The paper starts off with a thickness of 0.5mm.\n",
    "\n",
    "#### Examples\n",
    "\n",
    "#### num_layers(1) ➞ &quot;0.001m&quot;\n",
    "\n",
    "#### Paper folded once is 1mm (equal to 0.001m)\n",
    "\n",
    "#### num_layers(4) ➞ &quot;0.008m&quot;\n",
    "\n",
    "#### Paper folded 4 times is 8mm (equal to 0.008m)\n",
    "\n",
    "#### num_layers(21) ➞ &quot;1048.576m&quot;\n",
    "\n",
    "#### Paper folded 21 times is 1048576mm (equal to 1048.576m)"
   ]
  },
  {
   "cell_type": "code",
   "execution_count": 57,
   "metadata": {},
   "outputs": [
    {
     "name": "stdout",
     "output_type": "stream",
     "text": [
      "Output ➞ 0.001m\n",
      "Output ➞ 0.008m\n",
      "Output ➞ 1048.576m\n"
     ]
    }
   ],
   "source": [
    "class paper:\n",
    "\n",
    "    def thickness_of_paper(self, n):\n",
    "        \"\"\"This function will help you to find the thickness of paper in meters\"\"\"\n",
    "\n",
    "        try:\n",
    "            g = 0.5\n",
    "            for i in range(n):\n",
    "                g *= 2\n",
    "            return f'Output ➞ {g/1000}m'\n",
    "\n",
    "        except Exception as e:\n",
    "            print(\"You made a mistake on inside the thickness of paper function - \", e)\n",
    "\n",
    "paper = paper()\n",
    "print(paper.thickness_of_paper(1))\n",
    "print(paper.thickness_of_paper(4))\n",
    "print(paper.thickness_of_paper(21))"
   ]
  },
  {
   "attachments": {},
   "cell_type": "markdown",
   "metadata": {},
   "source": [
    "# Question No. 04"
   ]
  },
  {
   "attachments": {},
   "cell_type": "markdown",
   "metadata": {},
   "source": [
    "#### Create a function that takes a single string as argument and returns an ordered list containing the indices of all capital letters in the string.\n",
    "\n",
    "#### Examples\n",
    "\n",
    "#### index_of_caps(&quot;eDaBiT&quot;) ➞ [1, 3, 5]\n",
    "\n",
    "#### index_of_caps(&quot;eQuINoX&quot;) ➞ [1, 3, 4, 6]\n",
    "\n",
    "#### index_of_caps(&quot;determine&quot;) ➞ []\n",
    "\n",
    "#### index_of_caps(&quot;STRIKE&quot;) ➞ [0, 1, 2, 3, 4, 5]\n",
    "\n",
    "#### index_of_caps(&quot;sUn&quot;) ➞ [1]"
   ]
  },
  {
   "cell_type": "code",
   "execution_count": 90,
   "metadata": {},
   "outputs": [
    {
     "name": "stdout",
     "output_type": "stream",
     "text": [
      "eDaBiT ----> [1, 3, 5]\n",
      "eQuINoX ----> [1, 3, 4, 6]\n",
      "determine ----> []\n",
      "STRIKE ----> [0, 1, 2, 3, 4, 5]\n",
      "sUn ----> [1]\n"
     ]
    }
   ],
   "source": [
    "class capital_index:\n",
    "\n",
    "    def finding_capital_indexes(self, n):\n",
    "        \"\"\"This function will help you to print the index number of capital letters\"\"\"\n",
    "\n",
    "        try:\n",
    "            output = []\n",
    "            for i in n:\n",
    "                if i.isupper():\n",
    "                    output.append(n.index(i))\n",
    "            return f\"{n} ----> {output}\"\n",
    "\n",
    "        except Exception as e:\n",
    "            print(\"You made a mistake on inside the finding capital indexes function - \", e)\n",
    "\n",
    "capital_index = capital_index()\n",
    "print(capital_index.finding_capital_indexes(\"eDaBiT\"))\n",
    "print(capital_index.finding_capital_indexes(\"eQuINoX\"))\n",
    "print(capital_index.finding_capital_indexes(\"determine\"))\n",
    "print(capital_index.finding_capital_indexes(\"STRIKE\"))\n",
    "print(capital_index.finding_capital_indexes(\"sUn\"))"
   ]
  },
  {
   "attachments": {},
   "cell_type": "markdown",
   "metadata": {},
   "source": [
    "# Question No. 05"
   ]
  },
  {
   "attachments": {},
   "cell_type": "markdown",
   "metadata": {},
   "source": [
    "#### Using list comprehensions, create a function that finds all even numbers from 1 to the given number.\n",
    "\n",
    "#### Examples\n",
    "\n",
    "#### find_even_nums(8) ➞ [2, 4, 6, 8]\n",
    "\n",
    "#### find_even_nums(4) ➞ [2, 4]\n",
    "\n",
    "#### find_even_nums(2) ➞ [2]"
   ]
  },
  {
   "cell_type": "code",
   "execution_count": 77,
   "metadata": {},
   "outputs": [
    {
     "name": "stdout",
     "output_type": "stream",
     "text": [
      "even number of 8 ----> [2, 4, 6, 8]\n",
      "even number of 4 ----> [2, 4]\n",
      "even number of 2 ----> [2]\n"
     ]
    }
   ],
   "source": [
    "class even_numbers:\n",
    "\n",
    "    def finding_even_numbers(self, n):\n",
    "        \"\"\"This function will help you to find the even numbers\"\"\"\n",
    "\n",
    "        try:\n",
    "            g = [i for i in range(1, n+1) if i%2 == 0]\n",
    "            return f\"even number of {n} ----> {g}\"\n",
    "        \n",
    "        except Exception as e:\n",
    "            print(\"You made a mistake on inside the finding even numbers function \")\n",
    "        \n",
    "even_numbers = even_numbers()\n",
    "print(even_numbers.finding_even_numbers(8))\n",
    "print(even_numbers.finding_even_numbers(4))\n",
    "print(even_numbers.finding_even_numbers(2))"
   ]
  },
  {
   "attachments": {},
   "cell_type": "markdown",
   "metadata": {},
   "source": [
    "                                            Completed\n",
    "\n",
    "                                                                                Santhosh Kumar"
   ]
  }
 ],
 "metadata": {
  "kernelspec": {
   "display_name": "Python 3",
   "language": "python",
   "name": "python3"
  },
  "language_info": {
   "codemirror_mode": {
    "name": "ipython",
    "version": 3
   },
   "file_extension": ".py",
   "mimetype": "text/x-python",
   "name": "python",
   "nbconvert_exporter": "python",
   "pygments_lexer": "ipython3",
   "version": "3.10.11"
  },
  "orig_nbformat": 4
 },
 "nbformat": 4,
 "nbformat_minor": 2
}
