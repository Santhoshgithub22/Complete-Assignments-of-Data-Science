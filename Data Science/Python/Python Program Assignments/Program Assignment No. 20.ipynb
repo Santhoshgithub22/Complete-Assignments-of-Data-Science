{
 "cells": [
  {
   "attachments": {},
   "cell_type": "markdown",
   "metadata": {},
   "source": [
    "# Python Programming Assignment No. 20"
   ]
  },
  {
   "attachments": {},
   "cell_type": "markdown",
   "metadata": {},
   "source": [
    "                                                                       By\n",
    "\n",
    "                                                                 Santhosh Kumar"
   ]
  },
  {
   "attachments": {},
   "cell_type": "markdown",
   "metadata": {},
   "source": [
    "# Question No. 01"
   ]
  },
  {
   "attachments": {},
   "cell_type": "markdown",
   "metadata": {},
   "source": [
    "#### Create a function that takes a list of strings and integers, and filters out the list so that it returns a list of integers only.\n",
    "\n",
    "#### Examples\n",
    "\n",
    "#### filter_list([1, 2, 3, &quot;a&quot;, &quot;b&quot;, 4]) ➞ [1, 2, 3, 4]\n",
    "\n",
    "#### filter_list([&quot;A&quot;, 0, &quot;Edabit&quot;, 1729, &quot;Python&quot;, &quot;1729&quot;]) ➞ [0, 1729]\n",
    "\n",
    "#### filter_list([&quot;Nothing&quot;, &quot;here&quot;]) ➞ []"
   ]
  },
  {
   "cell_type": "code",
   "execution_count": 19,
   "metadata": {},
   "outputs": [
    {
     "name": "stdout",
     "output_type": "stream",
     "text": [
      "[1, 2, 3, 'a', 'b', 4] ----> [1, 2, 3, 4]\n",
      "['A', 0, 'Edanot', 1729, 'Python', '1729'] ----> [0, 1729]\n",
      "['Nothing', 'Here'] ----> []\n"
     ]
    }
   ],
   "source": [
    "class taking_integer:\n",
    "\n",
    "    def extracting_integer_only(self, n):\n",
    "        \"\"\"This function will help you to get the integers only\"\"\"\n",
    "\n",
    "        try:\n",
    "            result = []\n",
    "            for i in n:\n",
    "                if type(i) == int:\n",
    "                    result.append(i)\n",
    "            return f\"{n} ----> {result}\"\n",
    "\n",
    "        except Exception as e:\n",
    "            print(\"You made a mistake on inside the extracting integer only - \", e)\n",
    "\n",
    "taking_integer = taking_integer()\n",
    "print(taking_integer.extracting_integer_only([1,2,3,\"a\",\"b\",4]))\n",
    "print(taking_integer.extracting_integer_only([\"A\", 0, \"Edanot\", 1729, \"Python\", \"1729\"]))\n",
    "print(taking_integer.extracting_integer_only([\"Nothing\", \"Here\"]))"
   ]
  },
  {
   "attachments": {},
   "cell_type": "markdown",
   "metadata": {},
   "source": [
    "# Question No. 02"
   ]
  },
  {
   "attachments": {},
   "cell_type": "markdown",
   "metadata": {},
   "source": [
    "#### Given a list of numbers, create a function which returns the list but with each element&#39;s index in the list added to itself. This means you add 0 to the number at index 0, add 1 to the number at index 1, etc...\n",
    "\n",
    "#### Examples\n",
    "\n",
    "#### add_indexes([0, 0, 0, 0, 0]) ➞ [0, 1, 2, 3, 4]\n",
    "\n",
    "#### add_indexes([1, 2, 3, 4, 5]) ➞ [1, 3, 5, 7, 9]\n",
    "\n",
    "#### add_indexes([5, 4, 3, 2, 1]) ➞ [5, 5, 5, 5, 5]"
   ]
  },
  {
   "cell_type": "code",
   "execution_count": 35,
   "metadata": {},
   "outputs": [
    {
     "name": "stdout",
     "output_type": "stream",
     "text": [
      "[0, 0, 0, 0, 0] ----> [0, 1, 2, 3, 4]\n",
      "[1, 2, 3, 4, 5] ----> [1, 3, 5, 7, 9]\n",
      "[5, 4, 3, 2, 1] ----> [5, 5, 5, 5, 5]\n"
     ]
    }
   ],
   "source": [
    "class Adding_index:\n",
    "\n",
    "    def adding_list_and_index(self, n):\n",
    "        \"\"\"This function will help you to add the list and list of index\"\"\"\n",
    "\n",
    "        try:\n",
    "            num = []\n",
    "            index_num = []\n",
    "            addition = []\n",
    "\n",
    "            for i in n:\n",
    "                num.append(i)\n",
    "\n",
    "            for j in range(len(n)):\n",
    "                index_num.append(j)\n",
    "\n",
    "            for k in range(0,len(num)):\n",
    "                addition.append(num[k] + index_num[k])\n",
    "            return f\"{num} ----> {addition}\"\n",
    "\n",
    "            \n",
    "        except Exception as e:\n",
    "            print(\"You made a mistake on inside the adding list and index function - \", e)\n",
    "\n",
    "Adding_index = Adding_index()\n",
    "print(Adding_index.adding_list_and_index([0,0,0,0,0]))\n",
    "print(Adding_index.adding_list_and_index([1,2,3,4,5]))\n",
    "print(Adding_index.adding_list_and_index([5,4,3,2,1]))"
   ]
  },
  {
   "attachments": {},
   "cell_type": "markdown",
   "metadata": {},
   "source": [
    "# Question No. 03"
   ]
  },
  {
   "attachments": {},
   "cell_type": "markdown",
   "metadata": {},
   "source": [
    "#### Create a function that takes the height and radius of a cone as arguments and returns the volume of the cone rounded to the nearest hundredth. See the resources tab for the formula.\n",
    "\n",
    "#### Examples\n",
    "\n",
    "#### cone_volume(3, 2) ➞ 12.57\n",
    "\n",
    "#### cone_volume(15, 6) ➞ 565.49\n",
    "\n",
    "#### cone_volume(18, 0) ➞ 0"
   ]
  },
  {
   "attachments": {},
   "cell_type": "markdown",
   "metadata": {},
   "source": [
    "The formula for the volume of a cone is V=1/3hπr².\n"
   ]
  },
  {
   "cell_type": "code",
   "execution_count": 49,
   "metadata": {},
   "outputs": [
    {
     "name": "stdout",
     "output_type": "stream",
     "text": [
      "3,2 ----> 12.566\n",
      "15,6 ----> 565.47\n",
      "18,0 ----> 0.0\n"
     ]
    }
   ],
   "source": [
    "class volume_of_cone:\n",
    "\n",
    "    def finding_volume_of_the_cone(self, height, radius):\n",
    "        \"\"\"This function will help you to find the radius of the cone\"\"\"\n",
    "\n",
    "        try:\n",
    "            volume = (1/3) * height * 3.1415 * (radius**2)\n",
    "            return f\"{height},{radius} ----> {volume}\"\n",
    "        \n",
    "        except Exception as e:\n",
    "            print(\"You made a mistake on inside the volume of the cone function - \", e)\n",
    "\n",
    "volume_of_cone = volume_of_cone()\n",
    "print(volume_of_cone.finding_volume_of_the_cone(3,2))\n",
    "print(volume_of_cone.finding_volume_of_the_cone(15,6))\n",
    "print(volume_of_cone.finding_volume_of_the_cone(18,0))"
   ]
  },
  {
   "attachments": {},
   "cell_type": "markdown",
   "metadata": {},
   "source": [
    "# Question No. 04"
   ]
  },
  {
   "attachments": {},
   "cell_type": "markdown",
   "metadata": {},
   "source": [
    "#### This Triangular Number Sequence is generated from a pattern of dots that form a triangle.\n",
    "\n",
    "#### The first 5 numbers of the sequence, or dots, are: 1, 3, 6, 10, 15\n",
    "\n",
    "#### This means that the first triangle has just one dot, the second one has three dots, the third one has 6 dots and so on.\n",
    "\n",
    "#### Write a function that gives the number of dots with its corresponding triangle number of the sequence.\n",
    "\n",
    "#### Examples\n",
    "\n",
    "#### triangle(1) ➞ 1\n",
    "\n",
    "#### triangle(6) ➞ 21\n",
    "\n",
    "#### triangle(215) ➞ 23220"
   ]
  },
  {
   "cell_type": "code",
   "execution_count": 51,
   "metadata": {},
   "outputs": [
    {
     "name": "stdout",
     "output_type": "stream",
     "text": [
      "Output ➞ 1\n",
      "Output ➞ 21\n",
      "Output ➞ 23220\n"
     ]
    }
   ],
   "source": [
    "class triangle_number:\n",
    "\n",
    "    def finding_triangle_sequence(self, n):\n",
    "        \"\"\"This function will help you to find the triangle number sequence\"\"\"\n",
    "\n",
    "        try:\n",
    "            return (f'Output ➞ {int((n)*((n+1)/2))}')\n",
    "        \n",
    "        except Exception as e:\n",
    "            print(\"You made a mistake on inside the finding triangle sequence function - \", e)\n",
    "        \n",
    "triangle_number = triangle_number()\n",
    "print(triangle_number.finding_triangle_sequence(1))\n",
    "print(triangle_number.finding_triangle_sequence(6))\n",
    "print(triangle_number.finding_triangle_sequence(215))"
   ]
  },
  {
   "attachments": {},
   "cell_type": "markdown",
   "metadata": {},
   "source": [
    "# Question No. 05"
   ]
  },
  {
   "attachments": {},
   "cell_type": "markdown",
   "metadata": {},
   "source": [
    "#### Create a function that takes a list of numbers between 1 and 10 (excluding one number) and returns the missing number.\n",
    "\n",
    "#### Examples\n",
    "\n",
    "#### missing_num([1, 2, 3, 4, 6, 7, 8, 9, 10]) ➞ 5\n",
    "\n",
    "#### missing_num([7, 2, 3, 6, 5, 9, 1, 4, 8]) ➞ 10\n",
    "\n",
    "#### missing_num([10, 5, 1, 2, 4, 6, 8, 3, 9]) ➞ 7"
   ]
  },
  {
   "cell_type": "code",
   "execution_count": 61,
   "metadata": {},
   "outputs": [
    {
     "name": "stdout",
     "output_type": "stream",
     "text": [
      "[1, 2, 3, 4, 6, 7, 8, 9, 10] ----> 5\n",
      "[7, 2, 3, 6, 5, 9, 1, 4, 8] ----> 10\n",
      "[10, 5, 1, 2, 4, 6, 8, 3, 9] ----> 7\n"
     ]
    }
   ],
   "source": [
    "class missing_num:\n",
    "\n",
    "    def printing_missing_number(self, list):\n",
    "        \"\"\"This function will help you to print the missing number in between 1 to 10\"\"\"\n",
    "\n",
    "        try:\n",
    "            num = [1,2,3,4,5,6,7,8,9,10]\n",
    "            for i in num:\n",
    "                if i not in list:\n",
    "                    return (f\"{list} ----> {i}\")\n",
    "\n",
    "        except Exception as e:\n",
    "            print(\"You made a mistake on inside the printing missing number function - \",e)\n",
    "\n",
    "missing_num = missing_num()\n",
    "print(missing_num.printing_missing_number([1,2,3,4,6,7,8,9,10]))\n",
    "print(missing_num.printing_missing_number([7,2,3,6,5,9,1,4,8]))\n",
    "print(missing_num.printing_missing_number([10,5,1,2,4,6,8,3,9]))"
   ]
  },
  {
   "attachments": {},
   "cell_type": "markdown",
   "metadata": {},
   "source": [
    "                                            Completed\n",
    "\n",
    "                                                                                Santhosh Kumar"
   ]
  }
 ],
 "metadata": {
  "kernelspec": {
   "display_name": "Python 3",
   "language": "python",
   "name": "python3"
  },
  "language_info": {
   "codemirror_mode": {
    "name": "ipython",
    "version": 3
   },
   "file_extension": ".py",
   "mimetype": "text/x-python",
   "name": "python",
   "nbconvert_exporter": "python",
   "pygments_lexer": "ipython3",
   "version": "3.10.11"
  },
  "orig_nbformat": 4
 },
 "nbformat": 4,
 "nbformat_minor": 2
}
