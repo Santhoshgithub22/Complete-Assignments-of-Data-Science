{
 "cells": [
  {
   "attachments": {},
   "cell_type": "markdown",
   "metadata": {},
   "source": [
    "# Python Programming Assignment No. 14"
   ]
  },
  {
   "attachments": {},
   "cell_type": "markdown",
   "metadata": {},
   "source": [
    "                                                                            By\n",
    "\n",
    "                                                                        Santhosh Kumar"
   ]
  },
  {
   "attachments": {},
   "cell_type": "markdown",
   "metadata": {},
   "source": [
    "# Question No. 01"
   ]
  },
  {
   "attachments": {},
   "cell_type": "markdown",
   "metadata": {},
   "source": [
    "#### Define a class with a generator which can iterate the numbers, which are divisible by 7, between a given range 0 and n."
   ]
  },
  {
   "cell_type": "code",
   "execution_count": 1,
   "metadata": {},
   "outputs": [
    {
     "name": "stdout",
     "output_type": "stream",
     "text": [
      "0\n",
      "7\n",
      "14\n",
      "21\n",
      "28\n",
      "35\n",
      "42\n",
      "49\n",
      "56\n",
      "63\n",
      "70\n",
      "77\n",
      "84\n",
      "91\n",
      "98\n"
     ]
    }
   ],
   "source": [
    "class generating:\n",
    "\n",
    "    def generating_divisible_number(self, n):\n",
    "        \"\"\"This function will help you to generate the divisible number\"\"\"\n",
    "\n",
    "        try:\n",
    "            for i in range(0,n+1):\n",
    "                if i%7 == 0:\n",
    "                    yield i\n",
    "\n",
    "        except Exception as e:\n",
    "            print(\"You made a mistake on inside the function - \", e)\n",
    "\n",
    "generating = generating()\n",
    "num = generating.generating_divisible_number(100)\n",
    "\n",
    "for i in num:\n",
    "    print(i)"
   ]
  },
  {
   "attachments": {},
   "cell_type": "markdown",
   "metadata": {},
   "source": [
    "# Question No. 02"
   ]
  },
  {
   "attachments": {},
   "cell_type": "markdown",
   "metadata": {},
   "source": [
    "Write a program to compute the frequency of the words from the input. The output should output after sorting the key alphanumerically.\n",
    "\n",
    "Suppose the following input is supplied to the program:\n",
    "\n",
    "New to Python or choosing between Python 2 and Python 3? Read Python 2 or Python 3. Then, the output should be:\n",
    "\n",
    "2:2\n",
    "3.:1\n",
    "3?:1\n",
    "New:1\n",
    "Python:5\n",
    "Read:1\n",
    "and:1\n",
    "between:1\n",
    "choosing:1\n",
    "or:2\n",
    "to:1"
   ]
  },
  {
   "cell_type": "code",
   "execution_count": 24,
   "metadata": {},
   "outputs": [
    {
     "name": "stdout",
     "output_type": "stream",
     "text": [
      "New to Python or choosing between Python 2 and Python 3? Read Python 2 or Python 3.\n",
      "2:2\n",
      "3.:1\n",
      "3?:1\n",
      "New:1\n",
      "Python:5\n",
      "Read:1\n",
      "and:1\n",
      "between:1\n",
      "choosing:1\n",
      "or:2\n",
      "to:1\n"
     ]
    }
   ],
   "source": [
    "class Frequency:\n",
    "    def finding_frequency(self):\n",
    "        \"\"\"This function computes the frequency of words from the input and sorts the results.\"\"\"\n",
    "\n",
    "        try:\n",
    "            g = input(\"Enter your sentence here: \")\n",
    "            print(g)\n",
    "\n",
    "            words = {}\n",
    "            for word in g.split(\" \"):\n",
    "                if word in words:\n",
    "                    words[word] += 1\n",
    "                else:\n",
    "                    words[word] = 1\n",
    "\n",
    "            sorted_words = sorted(words.items())\n",
    "\n",
    "            for word, count in sorted_words:\n",
    "                print(f\"{word}:{count}\")\n",
    "\n",
    "        except Exception as e:\n",
    "            print(\"An error occurred inside the finding_frequency function:\", e)\n",
    "\n",
    "frequency = Frequency()\n",
    "frequency.finding_frequency()"
   ]
  },
  {
   "attachments": {},
   "cell_type": "markdown",
   "metadata": {},
   "source": [
    "# Question No. 03"
   ]
  },
  {
   "attachments": {},
   "cell_type": "markdown",
   "metadata": {},
   "source": [
    "#### Define a class Person and its two child classes: Male and Female. All classes have a method &quot;getGender&quot; which can print &quot;Male&quot; for Male class and &quot;Female&quot; for Female class."
   ]
  },
  {
   "cell_type": "code",
   "execution_count": 4,
   "metadata": {},
   "outputs": [
    {
     "name": "stdout",
     "output_type": "stream",
     "text": [
      "Male\n",
      "Female\n"
     ]
    }
   ],
   "source": [
    "class Person:\n",
    "\n",
    "    def get_gender(self):\n",
    "        pass\n",
    "\n",
    "class Male(Person):\n",
    "\n",
    "    def get_gender(self):\n",
    "        print(\"Male\")\n",
    "\n",
    "class Female(Person):\n",
    "\n",
    "    def get_gender(self):\n",
    "        print(\"Female\")\n",
    "\n",
    "male = Male()\n",
    "male.get_gender()\n",
    "female = Female()\n",
    "female.get_gender()"
   ]
  },
  {
   "attachments": {},
   "cell_type": "markdown",
   "metadata": {},
   "source": [
    "# Question No. 04"
   ]
  },
  {
   "attachments": {},
   "cell_type": "markdown",
   "metadata": {},
   "source": [
    "#### Please write a program to generate all sentences where subject is in [&quot;I&quot;, &quot;You&quot;] and verb is in [&quot;Play&quot;, &quot;Love&quot;] and the object is in [&quot;Hockey&quot;,&quot;Football&quot;]."
   ]
  },
  {
   "cell_type": "code",
   "execution_count": 5,
   "metadata": {},
   "outputs": [
    {
     "name": "stdout",
     "output_type": "stream",
     "text": [
      "I Play Hockey\n",
      "I Play Football\n",
      "I Love Hockey\n",
      "I Love Football\n",
      "You Play Hockey\n",
      "You Play Football\n",
      "You Love Hockey\n",
      "You Love Football\n"
     ]
    }
   ],
   "source": [
    "class generating_sentence:\n",
    "\n",
    "    def generating_all_sentences(self):\n",
    "        \"\"\"This function will help you to generate the sentence\"\"\"\n",
    "\n",
    "        try:\n",
    "            subject = [\"I\", \"You\"]\n",
    "            verb = [\"Play\", \"Love\"]\n",
    "            object = [\"Hockey\", \"Football\"]\n",
    "\n",
    "            for i in subject:\n",
    "                for j in verb:\n",
    "                    for k in object:\n",
    "                        print(i,j,k)\n",
    "\n",
    "        except Exception as e:\n",
    "            print(\"You made a mistake on inside the generating all sentences function\")\n",
    "\n",
    "generating_sentence = generating_sentence()\n",
    "generating_sentence.generating_all_sentences()"
   ]
  },
  {
   "attachments": {},
   "cell_type": "markdown",
   "metadata": {},
   "source": [
    "# Question No. 05"
   ]
  },
  {
   "attachments": {},
   "cell_type": "markdown",
   "metadata": {},
   "source": [
    "#### Please write a program to compress and decompress the string &quot;hello world!hello world!hello world!hello world!&quot;."
   ]
  },
  {
   "cell_type": "code",
   "execution_count": 9,
   "metadata": {},
   "outputs": [
    {
     "name": "stdout",
     "output_type": "stream",
     "text": [
      "Your original string is hello world!hello world!hello world!hello world!\n",
      "b'\\x1f\\x8b\\x08\\x00\\xa1\\xd0]d\\x02\\xff\\xcbH\\xcd\\xc9\\xc9W(\\xcf/\\xcaIQ\\xcc \\x82\\r\\x00\\xd3\\xe6\\xcf\\xae0\\x00\\x00\\x00'\n"
     ]
    },
    {
     "data": {
      "text/plain": [
       "'hello world!hello world!hello world!hello world!'"
      ]
     },
     "execution_count": 9,
     "metadata": {},
     "output_type": "execute_result"
    }
   ],
   "source": [
    "# Compress and decompress means encode and decode\n",
    "import gzip\n",
    "\n",
    "class compress_and_decompress:\n",
    "\n",
    "    def compressing_data(self):\n",
    "        \"\"\"This function will help you to compress / encoding the data\"\"\"\n",
    "\n",
    "        try:\n",
    "            g = input(\"Enter your words/sentence here: \")\n",
    "            print(f\"Your original string is {g}\")\n",
    "            compressing = gzip.compress(g.encode())\n",
    "            return compressing\n",
    "        \n",
    "        except Exception as e:\n",
    "            print(\"You made a mistake on inside the compressing data function - \", e)\n",
    "\n",
    "    def decompressing_data(self, compressing):\n",
    "        \"\"\"This function will help you to decompress / decoding the data\"\"\"\n",
    "        decompressing = gzip.decompress(compressing).decode()\n",
    "        return decompressing\n",
    "\n",
    "compress_and_decompress = compress_and_decompress()\n",
    "compress_data = compress_and_decompress.compressing_data()\n",
    "print(compress_data)\n",
    "compress_and_decompress.decompressing_data(compress_data)"
   ]
  },
  {
   "attachments": {},
   "cell_type": "markdown",
   "metadata": {},
   "source": [
    "# Question No. 06"
   ]
  },
  {
   "attachments": {},
   "cell_type": "markdown",
   "metadata": {},
   "source": [
    "#### Please write a binary search function which searches an item in a sorted list. The function should return the index of element to be searched in the list."
   ]
  },
  {
   "cell_type": "code",
   "execution_count": 25,
   "metadata": {},
   "outputs": [
    {
     "name": "stdout",
     "output_type": "stream",
     "text": [
      "Your list is [7, 8, 9, 6, 5, 4, 1, 23]\n",
      "Sort list is [1, 4, 5, 6, 7, 8, 9, 23]\n",
      "The index of 23 is 7\n"
     ]
    }
   ],
   "source": [
    "class binary_searching:\n",
    "\n",
    "    def searching_binary(self):\n",
    "        \"\"\"This function will try to find the index of numbers\"\"\"\n",
    "\n",
    "        try:\n",
    "            g = eval(input(\"Enter your list here\"))\n",
    "            print(f\"Your list is {g}\")\n",
    "            sort_list = sorted(g)\n",
    "            print(f\"Sort list is {sort_list}\")\n",
    "            finding_input =int(input())\n",
    "            print(f\"The index of {finding_input} is {sort_list.index(finding_input)}\")\n",
    "\n",
    "        except Exception as e:\n",
    "            print(\"You made a mistake on inside the binary searching function - \", e)\n",
    "\n",
    "binary_searching = binary_searching()\n",
    "binary_searching.searching_binary()"
   ]
  },
  {
   "attachments": {},
   "cell_type": "markdown",
   "metadata": {},
   "source": [
    "                                        Completed\n",
    "\n",
    "                                                                        Santhosh Kumar"
   ]
  }
 ],
 "metadata": {
  "kernelspec": {
   "display_name": "Python 3",
   "language": "python",
   "name": "python3"
  },
  "language_info": {
   "codemirror_mode": {
    "name": "ipython",
    "version": 3
   },
   "file_extension": ".py",
   "mimetype": "text/x-python",
   "name": "python",
   "nbconvert_exporter": "python",
   "pygments_lexer": "ipython3",
   "version": "3.11.1"
  },
  "orig_nbformat": 4
 },
 "nbformat": 4,
 "nbformat_minor": 2
}
