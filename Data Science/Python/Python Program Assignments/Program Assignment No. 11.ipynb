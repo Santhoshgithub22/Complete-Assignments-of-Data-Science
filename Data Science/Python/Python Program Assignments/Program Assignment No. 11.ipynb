{
 "cells": [
  {
   "attachments": {},
   "cell_type": "markdown",
   "metadata": {},
   "source": [
    "# Python Programming Assignment No. 11"
   ]
  },
  {
   "attachments": {},
   "cell_type": "markdown",
   "metadata": {},
   "source": [
    "                                                                                By\n",
    "\n",
    "                                                                            Santhosh Kumar"
   ]
  },
  {
   "attachments": {},
   "cell_type": "markdown",
   "metadata": {},
   "source": [
    "# Question No. 01"
   ]
  },
  {
   "attachments": {},
   "cell_type": "markdown",
   "metadata": {},
   "source": [
    "#### Write a Python program to find words which are greater than given length k?"
   ]
  },
  {
   "cell_type": "code",
   "execution_count": 12,
   "metadata": {},
   "outputs": [
    {
     "name": "stdout",
     "output_type": "stream",
     "text": [
      "Your given length is 4\n",
      "You need to give 7 words\n",
      "Your input words are ['sudhanshu', 'krishnaik', 'sunnysavitha', 'ant', 'app', 'sky', 'mountain']\n"
     ]
    },
    {
     "data": {
      "text/plain": [
       "\"These following words are more than the given length ['sudhanshu', 'krishnaik', 'sunnysavitha', 'mountain']\""
      ]
     },
     "execution_count": 12,
     "metadata": {},
     "output_type": "execute_result"
    }
   ],
   "source": [
    "class Greater_words:\n",
    "\n",
    "    def finding_greater_words(self):\n",
    "        \"\"\"This function will help you to find the greater words than given length\"\"\"\n",
    "        try:\n",
    "            length = int(input(\"Enter your given length : \"))\n",
    "            print(f\"Your given length is {length}\")\n",
    "\n",
    "            no_of_words = int(input(\"How many words do you want: \"))\n",
    "            print(f\"You need to give {no_of_words} words\")\n",
    "\n",
    "            output = []\n",
    "            inp = []\n",
    "\n",
    "            for i in range(no_of_words):\n",
    "                g = input(\"Enter your words here : \")\n",
    "                inp.append(g)\n",
    "            print(f\"Your input words are {inp}\")\n",
    "\n",
    "            for j in inp:\n",
    "                if len(j) > length:\n",
    "                    output.append(j)\n",
    "            return f\"These following words are more than the given length {output}\"\n",
    "        \n",
    "        except Exception as e:\n",
    "            print(\"You made a mistake on inside the finding greater words function - \", e)\n",
    "\n",
    "Greater_words = Greater_words()\n",
    "Greater_words.finding_greater_words()"
   ]
  },
  {
   "attachments": {},
   "cell_type": "markdown",
   "metadata": {},
   "source": [
    "# Question No. 02"
   ]
  },
  {
   "attachments": {},
   "cell_type": "markdown",
   "metadata": {},
   "source": [
    "#### Write a Python program for removing i-th character from a string?"
   ]
  },
  {
   "cell_type": "code",
   "execution_count": 20,
   "metadata": {},
   "outputs": [
    {
     "name": "stdout",
     "output_type": "stream",
     "text": [
      "Your sentence is I Love iNeEuron\n",
      "You want to remove 10th character\n"
     ]
    },
    {
     "data": {
      "text/plain": [
       "'I Love iNeuron'"
      ]
     },
     "execution_count": 20,
     "metadata": {},
     "output_type": "execute_result"
    }
   ],
   "source": [
    "class Removing_character:\n",
    "\n",
    "    def removing_the_character(self):\n",
    "        \"\"\"This function will help you to remove the required characters\"\"\"\n",
    "\n",
    "        try:\n",
    "            sentence = input(\"Enter your sentence: \")\n",
    "            print(f\"Your sentence is {sentence}\")\n",
    "\n",
    "            rem_char = int(input(\"Enter the number\"))\n",
    "            print(f\"You want to remove {rem_char}th character\")\n",
    "\n",
    "            return sentence[:rem_char] + sentence[rem_char + 1:]\n",
    "        \n",
    "        except Exception as e:\n",
    "            print(\"You made a mistake on inside the removing the character function - \", e)\n",
    "\n",
    "Removing_character = Removing_character()\n",
    "Removing_character.removing_the_character()"
   ]
  },
  {
   "attachments": {},
   "cell_type": "markdown",
   "metadata": {},
   "source": [
    "# Question No. 03"
   ]
  },
  {
   "attachments": {},
   "cell_type": "markdown",
   "metadata": {},
   "source": [
    "#### Write a Python program to split and join a string?"
   ]
  },
  {
   "cell_type": "code",
   "execution_count": 49,
   "metadata": {},
   "outputs": [
    {
     "name": "stdout",
     "output_type": "stream",
     "text": [
      "Splitting is ['I', 'Love', 'iNeuron']\n",
      "Joining function is I--Love--iNeuron\n"
     ]
    }
   ],
   "source": [
    "class split_and_join:\n",
    "\n",
    "    def __init__(self, sentence):\n",
    "        try:\n",
    "            self.sentence = sentence\n",
    "        except Exception as e:\n",
    "            print(\"You made a mistake on init function - \", e)\n",
    "\n",
    "    def splitting(self):\n",
    "        try:\n",
    "            split_output = self.sentence.split(\" \")\n",
    "            self.split_output = split_output\n",
    "            return split_output\n",
    "        except Exception as e:\n",
    "            print(\"You made a mistake on splitting function - \",e)\n",
    "    \n",
    "    def joining(self):\n",
    "        try:\n",
    "            join_output = \"--\".join(self.split_output)\n",
    "            return join_output\n",
    "        except Exception as e:\n",
    "            print(\"You made a mistake on inside the joining function - \",e)\n",
    "        \n",
    "split_and_join = split_and_join(\"I Love iNeuron\")\n",
    "print(f\"Splitting is {split_and_join.splitting()}\")\n",
    "print(f\"Joining function is {split_and_join.joining()}\")"
   ]
  },
  {
   "attachments": {},
   "cell_type": "markdown",
   "metadata": {},
   "source": [
    "# Question No. 04"
   ]
  },
  {
   "attachments": {},
   "cell_type": "markdown",
   "metadata": {},
   "source": [
    "#### Write a Python to check if a given string is binary string or not?"
   ]
  },
  {
   "cell_type": "code",
   "execution_count": 71,
   "metadata": {},
   "outputs": [
    {
     "name": "stdout",
     "output_type": "stream",
     "text": [
      "{'0', '1'} - Its a binary\n"
     ]
    }
   ],
   "source": [
    "class Binary_String:\n",
    "\n",
    "    def checking_binary_string(self):\n",
    "        \"\"\"This function will help you to find the whether the string is binary or not\"\"\"\n",
    "        try:\n",
    "            g = input(\"Enter your string: \")\n",
    "            g = set(g)\n",
    "\n",
    "            b = {'1', '0'}\n",
    "\n",
    "            if b==g or g == {'0'} or g=={'1'}:\n",
    "                print(f\"{g} - Its a binary\")\n",
    "            else:\n",
    "                print(f\"{g} - Its not a binary\")\n",
    "        except Exception as e:\n",
    "            print(\"You made a mistake on inside the checking binary string - \", e)\n",
    "    \n",
    "Binary_String = Binary_String()\n",
    "Binary_String.checking_binary_string()"
   ]
  },
  {
   "attachments": {},
   "cell_type": "markdown",
   "metadata": {},
   "source": [
    "# Question No. 05"
   ]
  },
  {
   "attachments": {},
   "cell_type": "markdown",
   "metadata": {},
   "source": [
    "#### Write a Python program to find uncommon words from two Strings?"
   ]
  },
  {
   "cell_type": "code",
   "execution_count": 124,
   "metadata": {},
   "outputs": [
    {
     "name": "stdout",
     "output_type": "stream",
     "text": [
      "First sentence is: I love ineuron, krishnaik, sudhanshu and sunnysavita is well knowledged persons\n",
      "Second sentence is: I love ineuron at bangalore, The way of teaching is better than any collages\n"
     ]
    },
    {
     "data": {
      "text/plain": [
       "\"Uncommon words is: {'The', 'sudhanshu', 'and', 'krishnaik,', 'bangalore,', 'than', 'sunnysavita', 'at', 'well', 'any', 'knowledged', 'of', 'ineuron', 'way', 'better', 'collages', 'teaching', 'ineuron,', 'persons'}\""
      ]
     },
     "execution_count": 124,
     "metadata": {},
     "output_type": "execute_result"
    }
   ],
   "source": [
    "import numpy as np\n",
    "class Uncommon_Words:\n",
    "\n",
    "    def finding_uncommon_words(self):\n",
    "        \"\"\"This function will help you to find the uncommon words from two strings\"\"\"\n",
    "\n",
    "        try:\n",
    "            s1 = input(\"Enter your first string\")\n",
    "            s2 = input(\"Enter your second string\")\n",
    "\n",
    "            print(f\"First sentence is: {s1}\")\n",
    "            print(f\"Second sentence is: {s2}\")\n",
    "\n",
    "            words1 = []\n",
    "            words2 = []\n",
    "\n",
    "            words1 = s1.split(\" \")\n",
    "            words2 = s2.split(\" \")\n",
    "\n",
    "            uncommon_words = set(words1) ^ set(words2)\n",
    "            return f\"Uncommon words is: {uncommon_words}\"\n",
    "            \n",
    "\n",
    "        except Exception as e:\n",
    "            print(\"You made a mistake on inside the finding uncommon words function - \",e)\n",
    "\n",
    "Uncommon_Words = Uncommon_Words()\n",
    "Uncommon_Words.finding_uncommon_words()"
   ]
  },
  {
   "attachments": {},
   "cell_type": "markdown",
   "metadata": {},
   "source": [
    "# Question No. 06"
   ]
  },
  {
   "attachments": {},
   "cell_type": "markdown",
   "metadata": {},
   "source": [
    "#### Write a Python to find all duplicate characters in string?"
   ]
  },
  {
   "cell_type": "code",
   "execution_count": 154,
   "metadata": {},
   "outputs": [
    {
     "name": "stdout",
     "output_type": "stream",
     "text": [
      "The inputs are krishnaik and sudhanshu\n"
     ]
    },
    {
     "data": {
      "text/plain": [
       "\"The duplicate characters are ['i', 'k', 'a', 'n', ' ', 's', 'd', 'h', 'a', 'n', 's', 'h', 'u']\""
      ]
     },
     "execution_count": 154,
     "metadata": {},
     "output_type": "execute_result"
    }
   ],
   "source": [
    "class duplicates:\n",
    "\n",
    "    def finding_duplicate_characters(self):\n",
    "        \"\"\"This function will help you to finding the duplicate characters\"\"\"\n",
    "        try:\n",
    "            dup_char = []\n",
    "            non_dup_char = []\n",
    "            s1 = input(\"Enter your sentence\")\n",
    "            for i in s1:\n",
    "                if i not in non_dup_char:\n",
    "                    non_dup_char.append(i)\n",
    "                else:\n",
    "                    dup_char.append(i)\n",
    "            print(f\"The inputs are {s1}\")\n",
    "            return f\"The duplicate characters are {dup_char}\"\n",
    "\n",
    "        except Exception as e:\n",
    "            print(\"You made a mistake on inside the function of finding duplicate characters - \", e)\n",
    "\n",
    "duplicates = duplicates()\n",
    "duplicates.finding_duplicate_characters()\n"
   ]
  },
  {
   "attachments": {},
   "cell_type": "markdown",
   "metadata": {},
   "source": [
    "# Question No. 07"
   ]
  },
  {
   "attachments": {},
   "cell_type": "markdown",
   "metadata": {},
   "source": [
    "#### Write a Python Program to check if a string contains any special character?"
   ]
  },
  {
   "cell_type": "code",
   "execution_count": 187,
   "metadata": {},
   "outputs": [
    {
     "name": "stdout",
     "output_type": "stream",
     "text": [
      "Your string is ineuron\n",
      "No, your string has no special characters\n",
      "No, your string has no special characters\n",
      "No, your string has no special characters\n",
      "No, your string has no special characters\n",
      "No, your string has no special characters\n",
      "No, your string has no special characters\n",
      "No, your string has no special characters\n"
     ]
    }
   ],
   "source": [
    "class special_characters:\n",
    "\n",
    "    def checking_spl_char(self):\n",
    "        \"\"\"This function will help you to check the special characters\"\"\"\n",
    "        try:\n",
    "            spl_chars = \"!#$%&'()*+,-./:;<=>?@[\\]^_`\"\"{|}~\"\n",
    "            g = input(\"Enter your string here: \")\n",
    "            print(f\"Your string is {g}\")\n",
    "\n",
    "            for i in g:\n",
    "                if i in spl_chars:\n",
    "                    print(f\"Yes, your string have a special characters\")\n",
    "                else:\n",
    "                    print(f\"No, your string has no special characters\")                \n",
    "\n",
    "        except Exception as e:\n",
    "            print(\"You made a mistake inside the checking spl char function - \",e)\n",
    "\n",
    "special_characters = special_characters()\n",
    "special_characters.checking_spl_char()"
   ]
  },
  {
   "attachments": {},
   "cell_type": "markdown",
   "metadata": {},
   "source": [
    "                                            Completed\n",
    "\n",
    "                                                                                     Santhosh Kumar"
   ]
  }
 ],
 "metadata": {
  "kernelspec": {
   "display_name": "Python 3",
   "language": "python",
   "name": "python3"
  },
  "language_info": {
   "codemirror_mode": {
    "name": "ipython",
    "version": 3
   },
   "file_extension": ".py",
   "mimetype": "text/x-python",
   "name": "python",
   "nbconvert_exporter": "python",
   "pygments_lexer": "ipython3",
   "version": "3.10.11"
  },
  "orig_nbformat": 4
 },
 "nbformat": 4,
 "nbformat_minor": 2
}
