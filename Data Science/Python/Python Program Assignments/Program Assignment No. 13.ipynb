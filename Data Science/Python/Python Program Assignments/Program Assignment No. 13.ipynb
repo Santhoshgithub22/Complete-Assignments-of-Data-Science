{
 "cells": [
  {
   "attachments": {},
   "cell_type": "markdown",
   "metadata": {},
   "source": [
    "# Python Programming Assignment No. 13"
   ]
  },
  {
   "attachments": {},
   "cell_type": "markdown",
   "metadata": {},
   "source": [
    "                                                                                  By\n",
    "\n",
    "                                                                            Santhosh Kumar M"
   ]
  },
  {
   "attachments": {},
   "cell_type": "markdown",
   "metadata": {},
   "source": [
    "# Question No. 01"
   ]
  },
  {
   "attachments": {},
   "cell_type": "markdown",
   "metadata": {},
   "source": [
    "Write a program that calculates and prints the value according to the given formula:\n",
    "\n",
    "Q = Square root of [(2 * C * D)/H]\n",
    "\n",
    "Following are the fixed values of C and H:\n",
    "\n",
    "C is 50. H is 30.\n",
    "\n",
    "D is the variable whose values should be input to your program in a comma-separated sequence.\n",
    "\n",
    "Example\n",
    "\n",
    "Let us assume the following comma separated input sequence is given to the program:\n",
    "\n",
    "100,150,180\n",
    "\n",
    "The output of the program should be:\n",
    "\n",
    "18,22,24"
   ]
  },
  {
   "cell_type": "code",
   "execution_count": 1,
   "metadata": {},
   "outputs": [
    {
     "data": {
      "text/plain": [
       "[18, 22, 24]"
      ]
     },
     "execution_count": 1,
     "metadata": {},
     "output_type": "execute_result"
    }
   ],
   "source": [
    "import numpy as np\n",
    "class calculation:\n",
    "\n",
    "    def calculating_given_formula(self):\n",
    "        \"\"\"This function will help you to calculate the given formula\"\"\"\n",
    "\n",
    "        try:\n",
    "            num = []\n",
    "            num1 = []\n",
    "            C = 50\n",
    "            H = 30\n",
    "            D = eval(input(\"Enter your input values: \"))\n",
    "            for i in D:\n",
    "                num.append(i)\n",
    "\n",
    "\n",
    "            for j in num:\n",
    "                Q = np.sqrt([(2*C*j)/H])\n",
    "                ans = int(Q)\n",
    "                num1.append(ans)\n",
    "            return num1\n",
    "        \n",
    "        except Exception as e:\n",
    "            print(\"You made a mistake on inside the calculating given formula function - \", e)\n",
    "\n",
    "calculation = calculation()\n",
    "calculation.calculating_given_formula()"
   ]
  },
  {
   "attachments": {},
   "cell_type": "markdown",
   "metadata": {},
   "source": [
    "# Question No. 02"
   ]
  },
  {
   "attachments": {},
   "cell_type": "markdown",
   "metadata": {},
   "source": [
    "Write a program which takes 2 digits, X,Y as input and generates a 2-dimensional array. The element value in the i-th row and j-th column of the array should be i*j.\n",
    "\n",
    "Note: i=0,1.., X-1; j=0,1,¡Y-1.\n",
    "\n",
    "Example\n",
    "\n",
    "Suppose the following inputs are given to the program:\n",
    "3,5\n",
    "\n",
    "Then, the output of the program should be:\n",
    "[[0, 0, 0, 0, 0], [0, 1, 2, 3, 4], [0, 2, 4, 6, 8]]"
   ]
  },
  {
   "cell_type": "code",
   "execution_count": 19,
   "metadata": {},
   "outputs": [
    {
     "data": {
      "text/plain": [
       "[[0, 0, 0, 0], [0, 1, 2, 3], [0, 2, 4, 6]]"
      ]
     },
     "execution_count": 19,
     "metadata": {},
     "output_type": "execute_result"
    }
   ],
   "source": [
    "class generate_2d_array:\n",
    "\n",
    "    def generating_2d_array(self, x, y):\n",
    "        \"\"\"This function will help you to generate the 2d array\"\"\"\n",
    "        try:\n",
    "            array = [[i * j for j in range(y)] for i in range(x)]\n",
    "            return array\n",
    "\n",
    "        except Exception as e:\n",
    "            print(\"You made a mistake on inside your generate 2d array - \", e)\n",
    "\n",
    "generate_2d_array = generate_2d_array()\n",
    "generate_2d_array.generating_2d_array(3,4)"
   ]
  },
  {
   "attachments": {},
   "cell_type": "markdown",
   "metadata": {},
   "source": [
    "# Question No. 03"
   ]
  },
  {
   "attachments": {},
   "cell_type": "markdown",
   "metadata": {},
   "source": [
    "Write a program that accepts a comma separated sequence of words as input and prints the words in a comma-separated sequence after sorting them alphabetically.\n",
    "\n",
    "Suppose the following input is supplied to the program:\n",
    "\n",
    "without,hello,bag,world\n",
    "\n",
    "Then, the output should be:\n",
    "\n",
    "bag,hello,without,world"
   ]
  },
  {
   "cell_type": "code",
   "execution_count": 63,
   "metadata": {},
   "outputs": [
    {
     "name": "stdout",
     "output_type": "stream",
     "text": [
      "Your words are: without, hello, bag, world\n"
     ]
    },
    {
     "data": {
      "text/plain": [
       "'bag,hello,without,world'"
      ]
     },
     "execution_count": 63,
     "metadata": {},
     "output_type": "execute_result"
    }
   ],
   "source": [
    "class sorting_words:\n",
    "\n",
    "    def sorting_in_order(self):\n",
    "        \"\"\"This function will help you to sorting the words in alphabetical order\"\"\"\n",
    "\n",
    "        try:\n",
    "            g = input(\"Enter your words here: \")\n",
    "            print(f\"Your words are: {g}\")\n",
    "\n",
    "            word_list = [word.strip() for word in g.split(',')]\n",
    "\n",
    "            sorted_words = sorted(word_list)\n",
    "\n",
    "            sorted_sequence = \",\".join(sorted_words)\n",
    "\n",
    "            return sorted_sequence\n",
    "\n",
    "        except Exception as e:\n",
    "            print(\"You made a mistake on inside your sorting words function - \", e)\n",
    "\n",
    "sorting_words = sorting_words()\n",
    "sorting_words.sorting_in_order()"
   ]
  },
  {
   "attachments": {},
   "cell_type": "markdown",
   "metadata": {},
   "source": [
    "# Question No. 04 "
   ]
  },
  {
   "attachments": {},
   "cell_type": "markdown",
   "metadata": {},
   "source": [
    "Write a program that accepts a sequence of whitespace separated words as input and prints the words after removing all duplicate words and sorting them alphanumerically.\n",
    "\n",
    "Suppose the following input is supplied to the program:\n",
    "\n",
    "hello world and practice makes perfect and hello world again\n",
    "\n",
    "Then, the output should be:\n",
    "\n",
    "again and hello makes perfect practice world"
   ]
  },
  {
   "cell_type": "code",
   "execution_count": 71,
   "metadata": {},
   "outputs": [
    {
     "data": {
      "text/plain": [
       "'again and hello makes perfect practice world'"
      ]
     },
     "execution_count": 71,
     "metadata": {},
     "output_type": "execute_result"
    }
   ],
   "source": [
    "import numpy as np\n",
    "class alphanumerical:\n",
    "\n",
    "    def sorting_alphanumerically(self):\n",
    "        \"\"\"This function will help you to remove the duplicate words and sorting the words alphabetically\"\"\"\n",
    "\n",
    "        try:\n",
    "            g = input(\"Enter the words\").strip(\" \")\n",
    "\n",
    "            words_list = [i.strip() for i in g.split(\" \")]\n",
    "            unique_words = np.unique(words_list)\n",
    "            sorting_words = sorted(unique_words)\n",
    "            sorted_sequence = \" \".join(sorting_words)\n",
    "            return sorted_sequence\n",
    "\n",
    "        except Exception as e:\n",
    "            print(\"You made a mistake on inside the alpha numerical function - \", e)\n",
    "\n",
    "alphanumerical = alphanumerical()\n",
    "alphanumerical.sorting_alphanumerically()"
   ]
  },
  {
   "attachments": {},
   "cell_type": "markdown",
   "metadata": {},
   "source": [
    "# Question No. 05"
   ]
  },
  {
   "attachments": {},
   "cell_type": "markdown",
   "metadata": {},
   "source": [
    "Write a program that accepts a sentence and calculate the number of letters and digits.\n",
    "\n",
    "Suppose the following input is supplied to the program:\n",
    "\n",
    "hello world! 123\n",
    "\n",
    "Then, the output should be:\n",
    "\n",
    "LETTERS 10\n",
    "\n",
    "DIGITS 3"
   ]
  },
  {
   "cell_type": "code",
   "execution_count": 95,
   "metadata": {},
   "outputs": [
    {
     "name": "stdout",
     "output_type": "stream",
     "text": [
      "Your input is hello world! 123\n",
      "Total letters available : 10\n",
      "Total digits available : 3\n"
     ]
    }
   ],
   "source": [
    "class countings:\n",
    "\n",
    "    def counting_letters_and_digit(self):\n",
    "        \"\"\"This function will help you to calculate the number of letters and digits\"\"\"\n",
    "        \n",
    "        try:\n",
    "            let_count = 0\n",
    "            dig_count = 0\n",
    "\n",
    "            g = input(\"Please enter your input here: \")\n",
    "            print(f\"Your input is {g}\")\n",
    "\n",
    "            letters = \"ABCDEFGHIJKLMNOPQRSTUVWXYZabcdefghijklmnopqrstuvwxyz\"\n",
    "            digits = \"0123456789\"\n",
    "\n",
    "            for i in g:\n",
    "                for j in letters:\n",
    "                    if i==j:\n",
    "                        let_count = let_count + 1\n",
    "            print(f\"Total letters available : {let_count}\")\n",
    "\n",
    "            for x in g:\n",
    "                for y in digits:\n",
    "                    if x==y:\n",
    "                        dig_count = dig_count + 1\n",
    "            print(f\"Total digits available : {dig_count}\")\n",
    "\n",
    "        except Exception as e:\n",
    "            print(\"You made a mistake on inside your counting letters and digits function - \", e)\n",
    "\n",
    "countings = countings()\n",
    "countings.counting_letters_and_digit()"
   ]
  },
  {
   "attachments": {},
   "cell_type": "markdown",
   "metadata": {},
   "source": [
    "# Question No. 06"
   ]
  },
  {
   "attachments": {},
   "cell_type": "markdown",
   "metadata": {},
   "source": [
    "\n",
    "A website requires the users to input username and password to register. Write a program to check the validity of password input by users.\n",
    "\n",
    "Following are the criteria for checking the password:\n",
    "\n",
    "1. At least 1 letter between [a-z]\n",
    "\n",
    "2. At least 1 number between [0-9]\n",
    "\n",
    "3. At least 1 letter between [A-Z]\n",
    "\n",
    "4. At least 1 character from [$#@]\n",
    "\n",
    "5. Minimum length of transaction password: 6\n",
    "\n",
    "6. Maximum length of transaction password: 12\n",
    "\n",
    "Your program should accept a sequence of comma separated passwords and will check them according to the above criteria.\n",
    "\n",
    "Passwords that match the criteria are to be printed, each separated by a comma.\n",
    "\n",
    "Example\n",
    "\n",
    "If the following passwords are given as input to the program:\n",
    "\n",
    "ABd1234@1,a F1#,2w3E*,2We3345\n",
    "\n",
    "Then, the output of the program should be:\n",
    "\n",
    "ABd1234@1"
   ]
  },
  {
   "cell_type": "code",
   "execution_count": 153,
   "metadata": {},
   "outputs": [
    {
     "name": "stdout",
     "output_type": "stream",
     "text": [
      "Valid passwords: ABd1234@1\n"
     ]
    }
   ],
   "source": [
    "import re\n",
    "\n",
    "class pw:\n",
    "\n",
    "    def check_passwords(self, passwords):\n",
    "        \"\"\"This function checks the validity of passwords according to the given criteria.\"\"\"\n",
    "\n",
    "        try:\n",
    "            valid_passwords = []\n",
    "            for password in passwords:\n",
    "                if 6 <= len(password) <= 12:\n",
    "                    if re.search(\"[a-z]\", password) and re.search(\"[0-9]\", password) \\\n",
    "                            and re.search(\"[A-Z]\", password) and re.search(\"[$#@]\", password):\n",
    "                        valid_passwords.append(password)\n",
    "            return valid_passwords\n",
    "        \n",
    "        except Exception as e:\n",
    "            print(\"You made a mistake on inside the check password function - \", e)\n",
    "\n",
    "pw = pw()\n",
    "pw.check_passwords(passwords)\n",
    "passwords = input(\"Enter passwords (comma-separated): \").split(\",\")\n",
    "valid_passwords = check_passwords(passwords)\n",
    "print(\"Valid passwords:\", \", \".join(valid_passwords))"
   ]
  },
  {
   "attachments": {},
   "cell_type": "markdown",
   "metadata": {},
   "source": [
    "                                                 Completed\n",
    "\n",
    "                                                                                  Santhosh Kumar"
   ]
  }
 ],
 "metadata": {
  "kernelspec": {
   "display_name": "Python 3",
   "language": "python",
   "name": "python3"
  },
  "language_info": {
   "codemirror_mode": {
    "name": "ipython",
    "version": 3
   },
   "file_extension": ".py",
   "mimetype": "text/x-python",
   "name": "python",
   "nbconvert_exporter": "python",
   "pygments_lexer": "ipython3",
   "version": "3.10.11"
  },
  "orig_nbformat": 4
 },
 "nbformat": 4,
 "nbformat_minor": 2
}
