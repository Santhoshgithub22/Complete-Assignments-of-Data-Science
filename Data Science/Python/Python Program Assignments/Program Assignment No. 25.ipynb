{
 "cells": [
  {
   "attachments": {},
   "cell_type": "markdown",
   "metadata": {},
   "source": [
    "# Python Programming Assignment No. 25"
   ]
  },
  {
   "attachments": {},
   "cell_type": "markdown",
   "metadata": {},
   "source": [
    "                                                       By\n",
    "\n",
    "                                                 Santhosh Kumar"
   ]
  },
  {
   "attachments": {},
   "cell_type": "markdown",
   "metadata": {},
   "source": [
    "# Question No. 01"
   ]
  },
  {
   "attachments": {},
   "cell_type": "markdown",
   "metadata": {},
   "source": [
    "#### Create a function that takes three integer arguments (a, b, c) and returns the amount of integers which are of equal value.\n",
    "\n",
    "#### Examples\n",
    "\n",
    "#### equal(3, 4, 3) ➞ 2\n",
    "\n",
    "#### equal(1, 1, 1) ➞ 3\n",
    "\n",
    "#### equal(3, 4, 1) ➞ 0\n",
    "\n",
    "#### Notes\n",
    "\n",
    "#### Your function must return 0, 2 or 3."
   ]
  },
  {
   "cell_type": "code",
   "execution_count": 1,
   "metadata": {},
   "outputs": [
    {
     "name": "stdout",
     "output_type": "stream",
     "text": [
      "((3, 4, 3) ----> 2)\n",
      "((1, 1, 1) ----> 3)\n",
      "((3, 4, 1) ----> 0)\n"
     ]
    }
   ],
   "source": [
    "class counting:\n",
    "\n",
    "    def repeated_numbers_countings(self, a, b, c):\n",
    "        \"\"\"This function will help you to find the number of repeated numbers\"\"\"\n",
    "\n",
    "        try:\n",
    "            if a==b==c:\n",
    "                count = 3\n",
    "            elif a==b or b==c or a==c:\n",
    "                count = 2\n",
    "            else:\n",
    "                count = 0\n",
    "            return f\"({a,b,c} ----> {count})\"\n",
    "\n",
    "        except Exception as e:\n",
    "            print(\"You made a mistake on inside your repeated numbers counting function - \", e)\n",
    "\n",
    "counting = counting()\n",
    "print(counting.repeated_numbers_countings(3,4,3))\n",
    "print(counting.repeated_numbers_countings(1,1,1))\n",
    "print(counting.repeated_numbers_countings(3,4,1))"
   ]
  },
  {
   "attachments": {},
   "cell_type": "markdown",
   "metadata": {},
   "source": [
    "# Question No. 02"
   ]
  },
  {
   "attachments": {},
   "cell_type": "markdown",
   "metadata": {},
   "source": [
    "#### Write a function that converts a dictionary into a list of keys-values tuples.\n",
    "\n",
    "#### Examples\n",
    "\n",
    "dict_to_list({\n",
    "&quot;D&quot;: 1,\n",
    "&quot;B&quot;: 2,\n",
    "&quot;C&quot;: 3\n",
    "}) ➞ [(&quot;B&quot;, 2), (&quot;C&quot;, 3), (&quot;D&quot;, 1)]\n",
    "\n",
    "dict_to_list({\n",
    "&quot;likes&quot;: 2,\n",
    "&quot;dislikes&quot;: 3,\n",
    "&quot;followers&quot;: 10\n",
    "}) ➞ [(&quot;dislikes&quot;, 3), (&quot;followers&quot;, 10), (&quot;likes&quot;, 2)]\n",
    "Notes\n",
    "Return the elements in the list in alphabetical order."
   ]
  },
  {
   "cell_type": "code",
   "execution_count": 29,
   "metadata": {},
   "outputs": [
    {
     "name": "stdout",
     "output_type": "stream",
     "text": [
      "{'D': 1, 'B': 2, 'C': 3} ----> [('D', 1), ('B', 2), ('C', 3)]\n",
      "{'likes': 2, 'dislikes': 3, 'followers': 10} ----> [('likes', 2), ('dislikes', 3), ('followers', 10)]\n",
      "{'Hero': 'Sudhanshu', 'Director': 'Krish Naik', 'Producer': 'Sunny Savita'} ----> [('Hero', 'Sudhanshu'), ('Director', 'Krish Naik'), ('Producer', 'Sunny Savita')]\n"
     ]
    }
   ],
   "source": [
    "class dict_to_list:\n",
    "\n",
    "    def converting_list_to_dict(self, inputs):\n",
    "        \"\"\"This function will help you to convert the dictionary into list\"\"\"\n",
    "\n",
    "        try:\n",
    "            result = []\n",
    "            for i in inputs.items():\n",
    "                result.append(i)\n",
    "            return(f\"{inputs} ----> {result}\")\n",
    "\n",
    "        except Exception as e:\n",
    "            print(\"You made a mistake on inside the converting list to dictionary function - \", e)\n",
    "\n",
    "dict_to_list = dict_to_list()\n",
    "print(dict_to_list.converting_list_to_dict({\"D\": 1,\"B\": 2,\"C\": 3}))\n",
    "print(dict_to_list.converting_list_to_dict({\"likes\": 2,\"dislikes\": 3,\"followers\": 10}))\n",
    "print(dict_to_list.converting_list_to_dict({\"Hero\" : \"Sudhanshu\", \"Director\" : \"Krish Naik\", \"Producer\" : \"Sunny Savita\"}))"
   ]
  },
  {
   "attachments": {},
   "cell_type": "markdown",
   "metadata": {},
   "source": [
    "# Question No. 03"
   ]
  },
  {
   "attachments": {},
   "cell_type": "markdown",
   "metadata": {},
   "source": [
    "#### Write a function that creates a dictionary with each (key, value) pair being the (lower case, upper case) versions of a letter, respectively.\n",
    "\n",
    "#### Examples\n",
    "\n",
    "#### mapping([&quot;p&quot;, &quot;s&quot;]) ➞ { &quot;p&quot;: &quot;P&quot;, &quot;s&quot;: &quot;S&quot; }\n",
    "\n",
    "#### mapping([&quot;a&quot;, &quot;b&quot;, &quot;c&quot;]) ➞ { &quot;a&quot;: &quot;A&quot;, &quot;b&quot;: &quot;B&quot;, &quot;c&quot;: &quot;C&quot; }\n",
    "\n",
    "#### mapping([&quot;a&quot;, &quot;v&quot;, &quot;y&quot;, &quot;z&quot;]) ➞ { &quot;a&quot;: &quot;A&quot;, &quot;v&quot;: &quot;V&quot;, &quot;y&quot;: &quot;Y&quot;, &quot;z&quot;: &quot;Z&quot; }\n",
    "\n",
    "#### Notes\n",
    "All of the letters in the input list will always be lowercase."
   ]
  },
  {
   "cell_type": "code",
   "execution_count": 31,
   "metadata": {},
   "outputs": [
    {
     "name": "stdout",
     "output_type": "stream",
     "text": [
      "['p', 's'] : {'p': 'P', 's': 'S'}\n",
      "['a', 'b', 'c'] : {'a': 'A', 'b': 'B', 'c': 'C'}\n",
      "['a', 'v', 'y', 'z'] : {'a': 'A', 'v': 'V', 'y': 'Y', 'z': 'Z'}\n"
     ]
    }
   ],
   "source": [
    "class dictionary:\n",
    "\n",
    "    def printing_in_dictionary(self, input_list):\n",
    "        \"\"\"This function will help you to print in dictionary\"\"\"\n",
    "\n",
    "        try:\n",
    "            result = {}\n",
    "            for i in input_list:\n",
    "                result[i] = i.upper()\n",
    "            return(f\"{input_list} : {result}\")\n",
    "        except Exception as e:\n",
    "            print(\"You made a mistake on inside your printing in dictionary function - \", e)\n",
    "\n",
    "dictionary = dictionary()\n",
    "print(dictionary.printing_in_dictionary([\"p\", \"s\"]))\n",
    "print(dictionary.printing_in_dictionary([\"a\", \"b\", \"c\"]))\n",
    "print(dictionary.printing_in_dictionary([\"a\", \"v\", \"y\", \"z\"]))"
   ]
  },
  {
   "attachments": {},
   "cell_type": "markdown",
   "metadata": {},
   "source": [
    "# Question No. 04"
   ]
  },
  {
   "attachments": {},
   "cell_type": "markdown",
   "metadata": {},
   "source": [
    "#### Write a function, that replaces all vowels in a string with a specified vowel.\n",
    "\n",
    "#### Examples\n",
    "\n",
    "#### vow_replace(&quot;apples and bananas&quot;, &quot;u&quot;) ➞ &quot;upplus und bununus&quot;\n",
    "\n",
    "#### vow_replace(&quot;cheese casserole&quot;, &quot;o&quot;) ➞ &quot;chooso cossorolo&quot;\n",
    "\n",
    "#### vow_replace(&quot;stuffed jalapeno poppers&quot;, &quot;e&quot;) ➞ &quot;steffed jelepene peppers&quot;\n",
    "\n",
    "Notes\n",
    "\n",
    "All words will be lowercase. Y is not considered a vowel."
   ]
  },
  {
   "cell_type": "code",
   "execution_count": 54,
   "metadata": {},
   "outputs": [
    {
     "name": "stdout",
     "output_type": "stream",
     "text": [
      "apples and bannanas ----> upplus und bunnunus\n",
      "cheese casserole ----> chooso cossorolo\n",
      "stuffed jalapeno poppers ----> steffed jelepene peppers\n"
     ]
    }
   ],
   "source": [
    "class replace:\n",
    "\n",
    "    def replacing_with_vowels(self, inputs, letter):\n",
    "        \"\"\"This function will help you to replace the particular vowel in all letters of inputs\"\"\"\n",
    "\n",
    "        try:\n",
    "            vowels = [\"a\", \"e\", \"i\", \"o\", \"u\"]\n",
    "            result = \"\"\n",
    "            for i in inputs:\n",
    "                    if i in vowels:\n",
    "                        result = result + letter\n",
    "                    else:\n",
    "                         result = result + i\n",
    "            return f\"{inputs} ----> {result}\"\n",
    "            \n",
    "        except Exception as e:\n",
    "            print(\"You made a mistake on inside the replacing with vowels function - \",e)\n",
    "\n",
    "replace = replace()\n",
    "print(replace.replacing_with_vowels(\"apples and bannanas\", \"u\"))\n",
    "print(replace.replacing_with_vowels(\"cheese casserole\", \"o\"))\n",
    "print(replace.replacing_with_vowels(\"stuffed jalapeno poppers\", \"e\"))"
   ]
  },
  {
   "attachments": {},
   "cell_type": "markdown",
   "metadata": {},
   "source": [
    "# Question No. 05"
   ]
  },
  {
   "attachments": {},
   "cell_type": "markdown",
   "metadata": {},
   "source": [
    "#### Create a function that takes a string as input and capitalizes a letter if its ASCII code is even and returns its lower case version if its ASCII code is odd.\n",
    "\n",
    "#### Examples\n",
    "\n",
    "#### ascii_capitalize(&quot;to be or not to be!&quot;) ➞ &quot;To Be oR NoT To Be!&quot;\n",
    "\n",
    "#### ascii_capitalize(&quot;THE LITTLE MERMAID&quot;) ➞ &quot;THe LiTTLe meRmaiD&quot;\n",
    "\n",
    "#### ascii_capitalize(&quot;Oh what a beautiful morning.&quot;) ➞ &quot;oH wHaT a BeauTiFuL moRNiNg.&quot;"
   ]
  },
  {
   "cell_type": "code",
   "execution_count": 72,
   "metadata": {},
   "outputs": [
    {
     "name": "stdout",
     "output_type": "stream",
     "text": [
      "to be or not to be! ➞ To Be oR NoT To Be!\n",
      "THE LITTLE MERMAID ➞ THe LiTTLe meRmaiD\n",
      "Oh what a beautiful morning. ➞ oH wHaT a BeauTiFuL moRNiNg.\n"
     ]
    }
   ],
   "source": [
    "class ASCII:\n",
    "\n",
    "    def ascii_capitalize(self, in_string):\n",
    "        \"\"\"This function will help you to return in capital letter if ASCII code is even & returns if ASCII code in odd\"\"\"\n",
    "\n",
    "        try:\n",
    "            out_string = ''\n",
    "            for ele in in_string.lower():\n",
    "                if (ord(ele)%2 == 0):\n",
    "                    out_string += ele.upper()\n",
    "                else:\n",
    "                    out_string += ele\n",
    "            return(f'{in_string} ➞ {out_string}')\n",
    "            \n",
    "        except Exception as e:\n",
    "            print(\"You made a mistake on inside your ascii capitalize function - \", e)\n",
    "\n",
    "ASCII = ASCII()\n",
    "print(ASCII.ascii_capitalize(\"to be or not to be!\"))\n",
    "print(ASCII.ascii_capitalize(\"THE LITTLE MERMAID\"))\n",
    "print(ASCII.ascii_capitalize(\"Oh what a beautiful morning.\"))"
   ]
  },
  {
   "attachments": {},
   "cell_type": "markdown",
   "metadata": {},
   "source": [
    "                                         Completed\n",
    "\n",
    "                                                                           Santhosh Kumar"
   ]
  }
 ],
 "metadata": {
  "kernelspec": {
   "display_name": "Python 3",
   "language": "python",
   "name": "python3"
  },
  "language_info": {
   "codemirror_mode": {
    "name": "ipython",
    "version": 3
   },
   "file_extension": ".py",
   "mimetype": "text/x-python",
   "name": "python",
   "nbconvert_exporter": "python",
   "pygments_lexer": "ipython3",
   "version": "3.11.1"
  },
  "orig_nbformat": 4
 },
 "nbformat": 4,
 "nbformat_minor": 2
}
