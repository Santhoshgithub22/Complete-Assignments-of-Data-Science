{
 "cells": [
  {
   "attachments": {},
   "cell_type": "markdown",
   "metadata": {},
   "source": [
    "# Python Programming Assignment No. 06"
   ]
  },
  {
   "attachments": {},
   "cell_type": "markdown",
   "metadata": {},
   "source": [
    "                                                                                                        By\n",
    "\n",
    "                                                                                                    Santhosh Kumar"
   ]
  },
  {
   "attachments": {},
   "cell_type": "markdown",
   "metadata": {},
   "source": [
    "# Question No. 01"
   ]
  },
  {
   "attachments": {},
   "cell_type": "markdown",
   "metadata": {},
   "source": [
    "#### Write a Python Program to Display Fibonacci Sequence Using Recursion?"
   ]
  },
  {
   "cell_type": "code",
   "execution_count": 2,
   "metadata": {},
   "outputs": [
    {
     "name": "stdout",
     "output_type": "stream",
     "text": [
      "Fibonacci Sequence is\n",
      "0 1 1 2 3 5 8 13 "
     ]
    }
   ],
   "source": [
    "def fibo_rec(x):\n",
    "    \"\"\"This function will help you print the fibonacci sequence\"\"\"\n",
    "    try:\n",
    "        if x<=1:\n",
    "            return x\n",
    "        else:\n",
    "            return (fibo_rec(x-1) + fibo_rec(x-2))\n",
    "    except Exception as e:\n",
    "        print(\"You made a mistake inside the fibo rec function \" - e)\n",
    "    \n",
    "n = int(input())\n",
    "if n<=0:\n",
    "    print(\"Please enter positive number\")\n",
    "else:\n",
    "    print(\"Fibonacci Sequence is\")\n",
    "    for i in range(n):\n",
    "        print(fibo_rec(i), end=\" \")"
   ]
  },
  {
   "attachments": {},
   "cell_type": "markdown",
   "metadata": {},
   "source": [
    "# Question No. 2"
   ]
  },
  {
   "attachments": {},
   "cell_type": "markdown",
   "metadata": {},
   "source": [
    "#### Write a Python Program to Find Factorial of Number Using Recursion?"
   ]
  },
  {
   "cell_type": "code",
   "execution_count": 3,
   "metadata": {},
   "outputs": [
    {
     "data": {
      "text/plain": [
       "'Factorial of 5 is - 120'"
      ]
     },
     "execution_count": 3,
     "metadata": {},
     "output_type": "execute_result"
    }
   ],
   "source": [
    "class factorial:\n",
    "\n",
    "    def finding_factorial(self, num=int(input(\"Enter your number: \"))):\n",
    "        \"\"\"This function will help you to find the factorial number\"\"\"\n",
    "\n",
    "        try:\n",
    "            l = []\n",
    "            g = 1\n",
    "            for i in range(1,num+1):\n",
    "                l.append(i)\n",
    "                g = g*i\n",
    "            return f\"Factorial of {num} is - {g}\"\n",
    "        except Exception as e:\n",
    "            print(\"You made a mistake inside the finding factorial function - \", e)\n",
    "\n",
    "factorial = factorial()\n",
    "factorial.finding_factorial()\n"
   ]
  },
  {
   "attachments": {},
   "cell_type": "markdown",
   "metadata": {},
   "source": [
    "# Question No. 3"
   ]
  },
  {
   "attachments": {},
   "cell_type": "markdown",
   "metadata": {},
   "source": [
    "#### Write a Python Program to calculate your Body Mass Index?"
   ]
  },
  {
   "attachments": {},
   "cell_type": "markdown",
   "metadata": {},
   "source": [
    "The formula to calculate the BMI is weight / (height ** 2)"
   ]
  },
  {
   "cell_type": "code",
   "execution_count": 4,
   "metadata": {},
   "outputs": [
    {
     "data": {
      "text/plain": [
       "'Your BMI is 16.070124178232284 and its Underweight'"
      ]
     },
     "execution_count": 4,
     "metadata": {},
     "output_type": "execute_result"
    }
   ],
   "source": [
    "class BMI:\n",
    "\n",
    "    def finding_BMI(self):\n",
    "        \"\"\"This function will help you to find the BMI and BMI Status\"\"\"\n",
    "        try:\n",
    "            weight = float(input(\"Please enter your weight: \"))\n",
    "            height = float(input(\"Please enter your height: \")) / 100\n",
    "            bmi = weight / height**2\n",
    "\n",
    "            if bmi <18.5:\n",
    "                return f\"Your BMI is {bmi} and its Underweight\"\n",
    "            elif bmi >=18.5 and bmi <24.9:\n",
    "                return f\"Your BMI is {bmi} and You are Healthy\"\n",
    "            elif bmi >=24.9 and bmi < 30:\n",
    "                return f\"Your BMI is {bmi} and its Overweight\"\n",
    "            elif bmi>30:\n",
    "                return f\"Your BMI is {bmi} and you are suffering from Obesity\"\n",
    "            \n",
    "        except Exception as e:\n",
    "            print(\"You made a mistake on inside the finding bmi function - \", e)\n",
    "\n",
    "BMI = BMI()\n",
    "BMI.finding_BMI()"
   ]
  },
  {
   "attachments": {},
   "cell_type": "markdown",
   "metadata": {},
   "source": [
    "# Question No. 4"
   ]
  },
  {
   "attachments": {},
   "cell_type": "markdown",
   "metadata": {},
   "source": [
    "#### Write a Python Program to calculate the natural logarithm of any number?"
   ]
  },
  {
   "cell_type": "code",
   "execution_count": 7,
   "metadata": {},
   "outputs": [
    {
     "data": {
      "text/plain": [
       "'The logarithm number of 36 is 3.58351893845611'"
      ]
     },
     "execution_count": 7,
     "metadata": {},
     "output_type": "execute_result"
    }
   ],
   "source": [
    "import math\n",
    "class logarithm:\n",
    "\n",
    "    def finding_logarithm(self):\n",
    "        \"\"\"This function will help you to find the logarithm number\"\"\"\n",
    "        try:\n",
    "            x = int(input(\"Enter your number to find logarithm number: \"))\n",
    "            log_num = math.log(x)\n",
    "            return f\"The logarithm number of {x} is {log_num}\"\n",
    "        \n",
    "        except Exception as e:\n",
    "            print(\"You made a mistake on inside the finding logarithm function\", e)\n",
    "\n",
    "logarithm = logarithm()\n",
    "logarithm.finding_logarithm()"
   ]
  },
  {
   "attachments": {},
   "cell_type": "markdown",
   "metadata": {},
   "source": [
    "# Question No. 5"
   ]
  },
  {
   "attachments": {},
   "cell_type": "markdown",
   "metadata": {},
   "source": [
    "#### Write a Python Program for cube sum of first n natural numbers?"
   ]
  },
  {
   "cell_type": "code",
   "execution_count": 8,
   "metadata": {},
   "outputs": [
    {
     "data": {
      "text/plain": [
       "225"
      ]
     },
     "execution_count": 8,
     "metadata": {},
     "output_type": "execute_result"
    }
   ],
   "source": [
    "class cube:\n",
    "\n",
    "    def finding_cube(self):\n",
    "        \"\"\"This function will help you to print the cube sum of natural numbers\"\"\"\n",
    "        try:\n",
    "            num = int(input(\"Enter your number: \"))\n",
    "            if num < 1:\n",
    "                return \"Enter only natural numbers (e.g) From 1 to infinity\"\n",
    "            else:\n",
    "                cube_sum = 0\n",
    "                for i in range(1,num+1):\n",
    "                    cube_sum += i**3\n",
    "                return cube_sum\n",
    "        except Exception as e:\n",
    "            print(\"You made a mistake on inside the finding cube funciton - \", e)\n",
    "\n",
    "cube = cube()\n",
    "cube.finding_cube()"
   ]
  },
  {
   "attachments": {},
   "cell_type": "markdown",
   "metadata": {},
   "source": [
    "                                                    Completed\n",
    "\n",
    "                                                                                                Santhosh Kumar"
   ]
  }
 ],
 "metadata": {
  "kernelspec": {
   "display_name": "Python 3",
   "language": "python",
   "name": "python3"
  },
  "language_info": {
   "codemirror_mode": {
    "name": "ipython",
    "version": 3
   },
   "file_extension": ".py",
   "mimetype": "text/x-python",
   "name": "python",
   "nbconvert_exporter": "python",
   "pygments_lexer": "ipython3",
   "version": "3.10.11"
  },
  "orig_nbformat": 4
 },
 "nbformat": 4,
 "nbformat_minor": 2
}
