{
 "cells": [
  {
   "attachments": {},
   "cell_type": "markdown",
   "metadata": {},
   "source": [
    "# Python Programming Assignment No. 05"
   ]
  },
  {
   "attachments": {},
   "cell_type": "markdown",
   "metadata": {},
   "source": [
    "                                                                                                        By\n",
    "\n",
    "                                                                                                    Santhosh Kumar"
   ]
  },
  {
   "attachments": {},
   "cell_type": "markdown",
   "metadata": {},
   "source": [
    "# Question No. 01"
   ]
  },
  {
   "attachments": {},
   "cell_type": "markdown",
   "metadata": {},
   "source": [
    "#### Write a Python Program to Find LCM?"
   ]
  },
  {
   "cell_type": "code",
   "execution_count": 2,
   "metadata": {},
   "outputs": [
    {
     "name": "stdout",
     "output_type": "stream",
     "text": [
      "The LCM of 16 and 19 is -  304\n"
     ]
    }
   ],
   "source": [
    "def finding_lcm(a,b):\n",
    "    \"\"\"This function will help you to find the LCM\"\"\"\n",
    "\n",
    "    try:\n",
    "        greater = max(a,b)\n",
    "\n",
    "        while(True):\n",
    "            if ((greater % a == 0) and (greater % b == 0)):\n",
    "                lcm =  greater\n",
    "                break\n",
    "            greater = greater + 1\n",
    "        return lcm\n",
    "        \n",
    "    except Exception as e:\n",
    "        print(\"You made a mistake on finding lcm function - \", e)\n",
    "\n",
    "num1 = int(input(\"Enter your first number to find the LCM\"))\n",
    "num2 = int(input(\"Enter your second number to find the LCM\"))\n",
    "\n",
    "print(f\"The LCM of {num1} and {num2} is - \" , finding_lcm(num1, num2))\n"
   ]
  },
  {
   "attachments": {},
   "cell_type": "markdown",
   "metadata": {},
   "source": [
    "# Question No. 02"
   ]
  },
  {
   "attachments": {},
   "cell_type": "markdown",
   "metadata": {},
   "source": [
    "#### Write a Python Program to Find HCF?"
   ]
  },
  {
   "cell_type": "code",
   "execution_count": 4,
   "metadata": {},
   "outputs": [
    {
     "name": "stdout",
     "output_type": "stream",
     "text": [
      "The HCF of 17 and 8 is -  1\n"
     ]
    }
   ],
   "source": [
    "def finding_hcf(a,b):\n",
    "\n",
    "    try:\n",
    "        if a<b:\n",
    "            smaller = a\n",
    "        else:\n",
    "            smaller = b\n",
    "\n",
    "        for i in range(1, smaller+1):\n",
    "            if ((a % i == 0) and (b % i == 0)):\n",
    "                hcf = i\n",
    "        return hcf\n",
    "    \n",
    "    except Exception as e:\n",
    "        print(\"You made a mistake on finding hcf function - \", e)\n",
    "\n",
    "num1 = int(input(\"Enter your first number to find the HCF : \"))\n",
    "num2 = int(input(\"Enter your second number to find the HCF : \"))\n",
    "print(f\"The HCF of {num1} and {num2} is - \" , finding_hcf(num1, num2))"
   ]
  },
  {
   "attachments": {},
   "cell_type": "markdown",
   "metadata": {},
   "source": [
    "# Question No. 03"
   ]
  },
  {
   "attachments": {},
   "cell_type": "markdown",
   "metadata": {},
   "source": [
    "#### Write a Python Program to Convert Decimal to Binary, Octal and Hexadecimal?"
   ]
  },
  {
   "cell_type": "code",
   "execution_count": 5,
   "metadata": {},
   "outputs": [
    {
     "data": {
      "text/plain": [
       "(('The binary value of 77 is - ', '0b1001101'),\n",
       " ('The hexa_decimal value of 77 is - ', '0x4d'),\n",
       " ('The octal value of 77 is ', '0o115'))"
      ]
     },
     "execution_count": 5,
     "metadata": {},
     "output_type": "execute_result"
    }
   ],
   "source": [
    "class Decimal_to_other:\n",
    "\n",
    "    def converting_decimal_to_other(self):\n",
    "        \"This function will help you to convert the decimal number into binary, hexa decimal and octal\"\n",
    "        try:\n",
    "            a = int(input(\"Enter the value: \"))\n",
    "            Binary = f\"The binary value of {a} is - \", bin(a)\n",
    "            Hexa_Decimal = f\"The hexa_decimal value of {a} is - \", hex(a)\n",
    "            Octal = f\"The octal value of {a} is \",oct(a)\n",
    "\n",
    "            return Binary, Hexa_Decimal, Octal\n",
    "        \n",
    "        except Exception as e:\n",
    "            print(\"You made a mistake on converting decimal to other function - \", e)\n",
    "\n",
    "Decimal_to_other = Decimal_to_other()\n",
    "\n",
    "Decimal_to_other.converting_decimal_to_other()"
   ]
  },
  {
   "attachments": {},
   "cell_type": "markdown",
   "metadata": {},
   "source": [
    "# Question No. 04"
   ]
  },
  {
   "attachments": {},
   "cell_type": "markdown",
   "metadata": {},
   "source": [
    "#### Write a Python Program To Find ASCII value of a character?"
   ]
  },
  {
   "cell_type": "code",
   "execution_count": 6,
   "metadata": {},
   "outputs": [
    {
     "data": {
      "text/plain": [
       "'The ASCII value of N is 78'"
      ]
     },
     "execution_count": 6,
     "metadata": {},
     "output_type": "execute_result"
    }
   ],
   "source": [
    "class ASCII_Value:\n",
    "\n",
    "    def finding_ascii_values(self):\n",
    "        \"\"\"This function will help you to print the ASCII values of character\"\"\"\n",
    "        try:\n",
    "            x = input(\"Enter your input: \")\n",
    "            if len(x) > 1:\n",
    "                return \"Please give a single character\"\n",
    "            else:\n",
    "                return f\"The ASCII value of {x} is {ord(x)}\"\n",
    "        except Exception as e:\n",
    "            print(\"You made a mistake on finding ascii values - \", e)\n",
    "\n",
    "ASCII_Value = ASCII_Value()\n",
    "ASCII_Value.finding_ascii_values()"
   ]
  },
  {
   "attachments": {},
   "cell_type": "markdown",
   "metadata": {},
   "source": [
    "# Question No. 05"
   ]
  },
  {
   "attachments": {},
   "cell_type": "markdown",
   "metadata": {},
   "source": [
    "#### Write a Python Program to Make a Simple Calculator with 4 basic mathematical operations?"
   ]
  },
  {
   "cell_type": "code",
   "execution_count": 11,
   "metadata": {},
   "outputs": [],
   "source": [
    "class Calculator:\n",
    "\n",
    "    def addition(self):\n",
    "        \"\"\"This function will help you to print addition value\"\"\"\n",
    "        try:\n",
    "            total_number_want_to_add = int(input())\n",
    "            add = 0\n",
    "            for i in range(total_number_want_to_add):\n",
    "                g = int(input(\"Enter the values\"))\n",
    "                add = add + g\n",
    "            return add\n",
    "        except Exception as e:\n",
    "            print(\"You made a mistake on inside the addition function - \", e)\n",
    "\n",
    "    def subtraction(self):\n",
    "        \"\"\"This function will help you to print subtraction value\"\"\"\n",
    "        try:\n",
    "            total_number_of_values_want_to_sub = int(input())\n",
    "            sub = 0\n",
    "            for i in range(0, total_number_of_values_want_to_sub):\n",
    "                g = int(input(\"Enter the values\"))\n",
    "                sub = sub - g\n",
    "            return sub\n",
    "        except Exception as e:\n",
    "            print(\"You made a mistake inside the subtraction function - \", e)\n",
    "\n",
    "    def multiplication(self):\n",
    "        \"\"\"This function will help you to print the multiplication value\"\"\"\n",
    "        try:\n",
    "            total_number_of_values_you_want_to_multiply = int(input(\"Please enter how many numbers of values you want to multiply\"))\n",
    "            mul = 1\n",
    "            for i in range(total_number_of_values_you_want_to_multiply):\n",
    "                g = int(input(\"Enter the values\"))\n",
    "                mul = mul * g\n",
    "            return mul\n",
    "        except Exception as e:\n",
    "            print(\"You made a mistakes inside the multiplication function - \", e)\n",
    "\n",
    "    def division(self):\n",
    "        \"\"\"This function will help you to do division\"\"\"\n",
    "        try:\n",
    "            total_number_of_value_you_want_to_divide = int(input(\"Please enter how many numbers of values you want to divide\"))\n",
    "            div = 1\n",
    "            for i in range(total_number_of_value_you_want_to_divide):\n",
    "                g = int(input(\"Enter the values\"))\n",
    "                div = div / g\n",
    "            return div\n",
    "        except Exception as e:\n",
    "            print(\"You made a mistakes inside the divide function - \", e)\n",
    "\n",
    "Calculator = Calculator()"
   ]
  },
  {
   "cell_type": "code",
   "execution_count": 12,
   "metadata": {},
   "outputs": [
    {
     "data": {
      "text/plain": [
       "28"
      ]
     },
     "execution_count": 12,
     "metadata": {},
     "output_type": "execute_result"
    }
   ],
   "source": [
    "Calculator.addition()"
   ]
  },
  {
   "cell_type": "code",
   "execution_count": 16,
   "metadata": {},
   "outputs": [
    {
     "data": {
      "text/plain": [
       "-28"
      ]
     },
     "execution_count": 16,
     "metadata": {},
     "output_type": "execute_result"
    }
   ],
   "source": [
    "Calculator.subtraction()"
   ]
  },
  {
   "cell_type": "code",
   "execution_count": 18,
   "metadata": {},
   "outputs": [
    {
     "data": {
      "text/plain": [
       "5040"
      ]
     },
     "execution_count": 18,
     "metadata": {},
     "output_type": "execute_result"
    }
   ],
   "source": [
    "Calculator.multiplication()"
   ]
  },
  {
   "cell_type": "code",
   "execution_count": 20,
   "metadata": {},
   "outputs": [
    {
     "data": {
      "text/plain": [
       "0.0001984126984126984"
      ]
     },
     "execution_count": 20,
     "metadata": {},
     "output_type": "execute_result"
    }
   ],
   "source": [
    "Calculator.division()"
   ]
  },
  {
   "attachments": {},
   "cell_type": "markdown",
   "metadata": {},
   "source": [
    "                                                    Completed\n",
    "\n",
    "                                                                                                Santhosh Kumar"
   ]
  }
 ],
 "metadata": {
  "kernelspec": {
   "display_name": "Python 3",
   "language": "python",
   "name": "python3"
  },
  "language_info": {
   "codemirror_mode": {
    "name": "ipython",
    "version": 3
   },
   "file_extension": ".py",
   "mimetype": "text/x-python",
   "name": "python",
   "nbconvert_exporter": "python",
   "pygments_lexer": "ipython3",
   "version": "3.10.11"
  },
  "orig_nbformat": 4
 },
 "nbformat": 4,
 "nbformat_minor": 2
}
