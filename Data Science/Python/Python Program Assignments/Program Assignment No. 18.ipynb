{
 "cells": [
  {
   "attachments": {},
   "cell_type": "markdown",
   "metadata": {},
   "source": [
    "# Python Programming Assignment No. 18"
   ]
  },
  {
   "attachments": {},
   "cell_type": "markdown",
   "metadata": {},
   "source": [
    "                                                            By\n",
    "\n",
    "                                                        Santhosh Kumar"
   ]
  },
  {
   "attachments": {},
   "cell_type": "markdown",
   "metadata": {},
   "source": [
    "# Question No. 01"
   ]
  },
  {
   "attachments": {},
   "cell_type": "markdown",
   "metadata": {},
   "source": [
    "#### Create a function that takes a list of non-negative integers and strings and return a new list without the strings.\n",
    "\n",
    "#### Examples\n",
    "\n",
    "#### filter_list([1, 2, &quot;a&quot;, &quot;b&quot;]) ➞ [1, 2]\n",
    "\n",
    "#### filter_list([1, &quot;a&quot;, &quot;b&quot;, 0, 15]) ➞ [1, 0, 15]\n",
    "\n",
    "#### filter_list([1, 2, &quot;aasf&quot;, &quot;1&quot;, &quot;123&quot;, 123]) ➞ [1, 2, 123]"
   ]
  },
  {
   "cell_type": "code",
   "execution_count": 12,
   "metadata": {},
   "outputs": [
    {
     "name": "stdout",
     "output_type": "stream",
     "text": [
      "([1, 2, 'a', 'b'] ----> [1, 2]\n",
      "([1, 'a', 'b', 0, 15] ----> [1, 15]\n",
      "([1, 2, 'aasf', '1', '123', 123, 'b'] ----> [1, 2, 123]\n"
     ]
    }
   ],
   "source": [
    "class extracting_numbers:\n",
    "\n",
    "    def getting_numbers(self, list):\n",
    "        \"\"\"This function will help you to get the non negative integers only\"\"\"\n",
    "\n",
    "        try:\n",
    "            result = []\n",
    "            for i in list:\n",
    "                if type(i) == int and i>0:\n",
    "                   result.append(i)\n",
    "            print(f\"({list} ----> {result}\")\n",
    "\n",
    "        except Exception as e:\n",
    "            print(\"You made a mistake on inside the getting numbers - \", e)\n",
    "    \n",
    "extracting_numbers = extracting_numbers()\n",
    "extracting_numbers.getting_numbers([1,2,\"a\",\"b\"])\n",
    "extracting_numbers.getting_numbers([1,\"a\",\"b\", 0, 15])\n",
    "extracting_numbers.getting_numbers([1,2,\"aasf\",\"1\", \"123\", 123, \"b\"])"
   ]
  },
  {
   "attachments": {},
   "cell_type": "markdown",
   "metadata": {},
   "source": [
    "# Question No. 02"
   ]
  },
  {
   "attachments": {},
   "cell_type": "markdown",
   "metadata": {},
   "source": [
    "#### The &quot;Reverser&quot; takes a string as input and returns that string in reverse order, with the opposite case.\n",
    "\n",
    "#### Examples\n",
    "\n",
    "#### reverse(&quot;Hello World&quot;) ➞ &quot;DLROw OLLEh&quot;\n",
    "\n",
    "#### reverse(&quot;ReVeRsE&quot;) ➞ &quot;eSrEvEr&quot;\n",
    "\n",
    "#### reverse(&quot;Radar&quot;) ➞ &quot;RADAr&quot;"
   ]
  },
  {
   "cell_type": "code",
   "execution_count": 113,
   "metadata": {},
   "outputs": [
    {
     "name": "stdout",
     "output_type": "stream",
     "text": [
      "Hello World ----> DLROw OLLEh\n",
      "ReVeRsE ----> eSrEvEr\n",
      "Radar ----> RADAr\n"
     ]
    }
   ],
   "source": [
    "class reverser_with_opposite_case:\n",
    "\n",
    "    def reverse_string_with_opposite_case(self, g):\n",
    "        \"\"\"This function will help you to print the word in opposite case and reverse\"\"\"\n",
    "\n",
    "        try:\n",
    "            result = \"\"\n",
    "            for i in g:\n",
    "                if i.islower():\n",
    "                    i = i.upper()\n",
    "                else:\n",
    "                    i = i.lower()\n",
    "                result = result + i\n",
    "            return f\"{g} ----> {result[::-1]}\"\n",
    "        \n",
    "        except Exception as e:\n",
    "            print(\"You made a mistake on inside the reverser string with opposite case function - \", e)\n",
    "\n",
    "\n",
    "reverser_with_opposite_case = reverser_with_opposite_case()\n",
    "print(reverser_with_opposite_case.reverse_string_with_opposite_case(\"Hello World\"))\n",
    "print(reverser_with_opposite_case.reverse_string_with_opposite_case(\"ReVeRsE\"))\n",
    "print(reverser_with_opposite_case.reverse_string_with_opposite_case(\"Radar\"))\n"
   ]
  },
  {
   "attachments": {},
   "cell_type": "markdown",
   "metadata": {},
   "source": [
    "# Question No. 03"
   ]
  },
  {
   "attachments": {},
   "cell_type": "markdown",
   "metadata": {},
   "source": [
    "#### You can assign variables from lists like this:\n",
    "\n",
    "#### lst = [1, 2, 3, 4, 5, 6]\n",
    "\n",
    "#### first = lst[0]\n",
    "\n",
    "#### middle = lst[1:-1]\n",
    "\n",
    "#### last = lst[-1]\n",
    "\n",
    "#### print(first) ➞ outputs 1\n",
    "\n",
    "#### print(middle) ➞ outputs [2, 3, 4, 5]\n",
    "\n",
    "#### print(last) ➞ outputs 6\n",
    "\n",
    "#### With Python 3, you can assign variables from lists in a much more succinct way. Create variables first, middle and last from the given list using destructuring assignment\n",
    "\n",
    "#### (check the Resources tab for some examples), where:\n",
    "\n",
    "#### first ➞ 1\n",
    "\n",
    "#### middle ➞ [2, 3, 4, 5]\n",
    "\n",
    "#### last ➞ 6\n",
    "\n",
    "#### Your task is to unpack the list writeyourcodehere into three variables, being first, middle, and last, with middle being everything in between the first and last element. Then print all three variables."
   ]
  },
  {
   "cell_type": "code",
   "execution_count": 125,
   "metadata": {},
   "outputs": [
    {
     "name": "stdout",
     "output_type": "stream",
     "text": [
      "First ----> 1\n",
      "Second ----> [2, 3, 4, 5]\n",
      "Last ----> 6\n"
     ]
    }
   ],
   "source": [
    "class extracting_numbers:\n",
    "\n",
    "    def extracting_first_middle_last_numbers(self, list):\n",
    "        \"\"\"This function will help you to extract the first, middle and last numbers\"\"\"\n",
    "\n",
    "        try:\n",
    "            for i in list:\n",
    "                first = list[0]\n",
    "                middle = list[1:-1]\n",
    "                last = list[-1]\n",
    "            print(f\"First ----> {first}\")\n",
    "            print(f\"Second ----> {middle}\")\n",
    "            print(f\"Last ----> {last}\")\n",
    "\n",
    "        except Exception as e:\n",
    "            print(\"You made a mistake on inside the extracting first middle and last number function - \", e)\n",
    "\n",
    "extracting_numbers = extracting_numbers()\n",
    "extracting_numbers.extracting_first_middle_last_numbers([1,2,3,4,5,6])"
   ]
  },
  {
   "attachments": {},
   "cell_type": "markdown",
   "metadata": {},
   "source": [
    "# Question No. 04"
   ]
  },
  {
   "attachments": {},
   "cell_type": "markdown",
   "metadata": {},
   "source": [
    "#### Write a function that calculates the factorial of a number recursively.\n",
    "\n",
    "#### Examples\n",
    "\n",
    "#### factorial(5) ➞ 120\n",
    "\n",
    "#### factorial(3) ➞ 6\n",
    "\n",
    "#### factorial(1) ➞ 1\n",
    "\n",
    "#### factorial(0) ➞ 1"
   ]
  },
  {
   "cell_type": "code",
   "execution_count": 129,
   "metadata": {},
   "outputs": [
    {
     "name": "stdout",
     "output_type": "stream",
     "text": [
      "factorial (5) ----> 120\n",
      "factorial (3) ----> 6\n",
      "factorial (1) ----> 1\n",
      "factorial (0) ----> 1\n"
     ]
    }
   ],
   "source": [
    "class factorial:\n",
    "\n",
    "    def finding_factorial(self):\n",
    "        \"\"\"This function will help you to find the factorial values\"\"\"\n",
    "\n",
    "        try:\n",
    "            n = int(input())\n",
    "\n",
    "            for _ in range(1, n+1):\n",
    "                g = int(input())\n",
    "\n",
    "                result = 1\n",
    "\n",
    "                if g==0 or g==1:\n",
    "                    print(f\"factorial ({g}) ----> 1\")\n",
    "\n",
    "                else:\n",
    "                    for j in range(2, g+1):\n",
    "                        result = result * j\n",
    "                    print(f\"factorial ({g}) ----> {result}\")\n",
    "\n",
    "        except Exception as e:\n",
    "            print(\"You made a mistake on inside your finding factorial function - \", e)\n",
    "\n",
    "factorial = factorial()\n",
    "factorial.finding_factorial()"
   ]
  },
  {
   "attachments": {},
   "cell_type": "markdown",
   "metadata": {},
   "source": [
    "# Question No. 05"
   ]
  },
  {
   "attachments": {},
   "cell_type": "markdown",
   "metadata": {},
   "source": [
    "#### Write a function that moves all elements of one type to the end of the list.\n",
    "\n",
    "#### Examples\n",
    "\n",
    "#### move_to_end([1, 3, 2, 4, 4, 1], 1) ➞ [3, 2, 4, 4, 1, 1]\n",
    "\n",
    "#### Move all the 1s to the end of the array.\n",
    "\n",
    "#### move_to_end([7, 8, 9, 1, 2, 3, 4], 9) ➞ [7, 8, 1, 2, 3, 4, 9]\n",
    "\n",
    "#### move_to_end([&quot;a&quot;, &quot;a&quot;, &quot;a&quot;, &quot;b&quot;], &quot;a&quot;) ➞ [&quot;b&quot;, &quot;a&quot;, &quot;a&quot;, &quot;a&quot;]"
   ]
  },
  {
   "cell_type": "code",
   "execution_count": 146,
   "metadata": {},
   "outputs": [
    {
     "name": "stdout",
     "output_type": "stream",
     "text": [
      "move_to_end([1, 3, 2, 4, 4, 1], 1) ➞ [1, 3, 2, 4, 4, 1] ----> [3, 2, 4, 4, 1, 1]\n",
      "move_to_end([7, 8, 9, 1, 2, 3, 4], 9) ➞ [7, 8, 9, 1, 2, 3, 4] ----> [7, 8, 1, 2, 3, 4, 9]\n",
      "move_to_end([\"a\", \"a\", \"a\", \"b\"], \"a\") ➞ ['a', 'a', 'a', 'b'] ----> ['b', 'a', 'a', 'a']\n"
     ]
    }
   ],
   "source": [
    "class move_to_end:\n",
    "\n",
    "    def moving_to_end(self, list, num):\n",
    "        \"\"\"This function will help you to move the integer to end\"\"\"\n",
    "\n",
    "        try:\n",
    "            \n",
    "            first_list = []\n",
    "            second_list = []\n",
    "            for i in list:\n",
    "                if i==num:\n",
    "                    second_list.append(i)\n",
    "                else:\n",
    "                    first_list.append(i)\n",
    "                result = first_list + second_list\n",
    "            return (f\"{list} ----> {result}\")\n",
    "        \n",
    "        except Exception as e:\n",
    "            print(\"You made a mistake on inside the moving to end function - \", e)\n",
    "\n",
    "move_to_end = move_to_end()\n",
    "\n",
    "print(f'move_to_end([1, 3, 2, 4, 4, 1], 1) ➞ {move_to_end.moving_to_end([1, 3, 2, 4, 4, 1], 1)}')\n",
    "print(f'move_to_end([7, 8, 9, 1, 2, 3, 4], 9) ➞ {move_to_end.moving_to_end([7, 8, 9, 1, 2, 3, 4], 9)}')\n",
    "print(f'move_to_end([\"a\", \"a\", \"a\", \"b\"], \"a\") ➞ {move_to_end.moving_to_end([\"a\", \"a\", \"a\", \"b\"], \"a\")}')"
   ]
  },
  {
   "attachments": {},
   "cell_type": "markdown",
   "metadata": {},
   "source": [
    "                                            Completed\n",
    "\n",
    "                                                                                Santhosh Kumar"
   ]
  }
 ],
 "metadata": {
  "kernelspec": {
   "display_name": "Python 3",
   "language": "python",
   "name": "python3"
  },
  "language_info": {
   "codemirror_mode": {
    "name": "ipython",
    "version": 3
   },
   "file_extension": ".py",
   "mimetype": "text/x-python",
   "name": "python",
   "nbconvert_exporter": "python",
   "pygments_lexer": "ipython3",
   "version": "3.10.11"
  },
  "orig_nbformat": 4
 },
 "nbformat": 4,
 "nbformat_minor": 2
}
