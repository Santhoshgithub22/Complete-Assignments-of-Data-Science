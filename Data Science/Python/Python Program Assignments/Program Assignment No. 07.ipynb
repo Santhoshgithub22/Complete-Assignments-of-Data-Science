{
 "cells": [
  {
   "attachments": {},
   "cell_type": "markdown",
   "metadata": {},
   "source": [
    "# Python Programming Assignment No. 07"
   ]
  },
  {
   "attachments": {},
   "cell_type": "markdown",
   "metadata": {},
   "source": [
    "                                                                                                By\n",
    "\n",
    "                                                                                            Santhosh Kumar"
   ]
  },
  {
   "attachments": {},
   "cell_type": "markdown",
   "metadata": {},
   "source": [
    "# Question No. 01"
   ]
  },
  {
   "attachments": {},
   "cell_type": "markdown",
   "metadata": {},
   "source": [
    "#### Write a Python Program to find sum of array?"
   ]
  },
  {
   "cell_type": "code",
   "execution_count": 5,
   "metadata": {},
   "outputs": [
    {
     "data": {
      "text/plain": [
       "15"
      ]
     },
     "execution_count": 5,
     "metadata": {},
     "output_type": "execute_result"
    }
   ],
   "source": [
    "class sum_of_array:\n",
    "\n",
    "    def finding_sum_of_array(self, array):\n",
    "        \"\"\"This function will help you to find the sum of array\"\"\"\n",
    "        try:\n",
    "            sum = 0\n",
    "            for i in array:\n",
    "                sum = sum + i\n",
    "            return sum\n",
    "        except Exception as e:\n",
    "            print(\"You made a mistake on inside the finding_sum_of_array\", e)\n",
    "\n",
    "array = [1,2,3,4,5]\n",
    "\n",
    "sum_of_array = sum_of_array()\n",
    "sum_of_array.finding_sum_of_array(array)"
   ]
  },
  {
   "attachments": {},
   "cell_type": "markdown",
   "metadata": {},
   "source": [
    "# Question No. 02"
   ]
  },
  {
   "attachments": {},
   "cell_type": "markdown",
   "metadata": {},
   "source": [
    "#### Write a Python Program to find largest element in an array?"
   ]
  },
  {
   "cell_type": "code",
   "execution_count": 4,
   "metadata": {},
   "outputs": [
    {
     "name": "stdout",
     "output_type": "stream",
     "text": [
      "Your user input is [986116, 0.5, 1, 2, 5, 7, 3, 4, 5, 6, 7, 8, 6, 9]\n"
     ]
    },
    {
     "data": {
      "text/plain": [
       "986116"
      ]
     },
     "execution_count": 4,
     "metadata": {},
     "output_type": "execute_result"
    }
   ],
   "source": [
    "class largest_element:\n",
    "\n",
    "    def finding_largest_element_in_array(self):\n",
    "        \"\"\"This function will help you to find the largest element in array\"\"\"\n",
    "        try:\n",
    "            array=eval(input(\"Enter the array: \"))\n",
    "            find_max = sorted(array)\n",
    "            print(f\"Your user input is {array}\")\n",
    "            return find_max[-1]\n",
    "        except Exception as e:\n",
    "            print(\"You made a mistake on inside the finding largest element in array function - \", e)\n",
    "\n",
    "\n",
    "largest_element = largest_element()\n",
    "largest_element.finding_largest_element_in_array()"
   ]
  },
  {
   "attachments": {},
   "cell_type": "markdown",
   "metadata": {},
   "source": [
    "# Question No. 03"
   ]
  },
  {
   "attachments": {},
   "cell_type": "markdown",
   "metadata": {},
   "source": [
    "#### Write a Python Program for array rotation?"
   ]
  },
  {
   "cell_type": "code",
   "execution_count": 7,
   "metadata": {},
   "outputs": [
    {
     "name": "stdout",
     "output_type": "stream",
     "text": [
      "Your array is [1, 2, 3, 4, 5, 6, 7, 8, 9, 10]\n"
     ]
    },
    {
     "data": {
      "text/plain": [
       "'The roatation of array is [10, 9, 8, 7, 6, 5, 4, 3, 2, 1]'"
      ]
     },
     "execution_count": 7,
     "metadata": {},
     "output_type": "execute_result"
    }
   ],
   "source": [
    "class array_rotation:\n",
    "\n",
    "    def array_rotate(self):\n",
    "        \"\"\"This function will help you to rotate the array\"\"\"\n",
    "        try:\n",
    "            array = eval(input(\"Enter your array: \"))\n",
    "            print(f\"Your array is {array}\")\n",
    "            rotation = array[::-1]\n",
    "            return f\"The roatation of array is {rotation}\"\n",
    "        except Exception as e:\n",
    "            print(\"You made a mistake on inside your array rotation function - \",e)\n",
    "\n",
    "array_rotation = array_rotation()\n",
    "array_rotation.array_rotate()"
   ]
  },
  {
   "attachments": {},
   "cell_type": "markdown",
   "metadata": {},
   "source": [
    "# Question No. 04"
   ]
  },
  {
   "attachments": {},
   "cell_type": "markdown",
   "metadata": {},
   "source": [
    "#### Write a Python Program to Split the array and add the first part to the end?"
   ]
  },
  {
   "cell_type": "code",
   "execution_count": 12,
   "metadata": {},
   "outputs": [
    {
     "name": "stdout",
     "output_type": "stream",
     "text": [
      "Your array is: [1, 2, 3, 4, 5, 6, 7, 8, 9, 10, 6]\n"
     ]
    },
    {
     "data": {
      "text/plain": [
       "'The addition of first index and last index is 7'"
      ]
     },
     "execution_count": 12,
     "metadata": {},
     "output_type": "execute_result"
    }
   ],
   "source": [
    "class split_and_add_array:\n",
    "\n",
    "    def test(self):\n",
    "        \"\"\"This function will help you to split the array and add the first part to the end\"\"\"\n",
    "        try:\n",
    "            array = eval(input(\"Enter the array\"))\n",
    "            print(f\"Your array is: {array}\")\n",
    "            addition = array[0] + array[-1]\n",
    "            return f\"The addition of first index and last index is {addition}\"\n",
    "        except Exception as e:\n",
    "            return \"You made a mistake inside your test function - \",e\n",
    "        \n",
    "split_and_add_array = split_and_add_array()\n",
    "split_and_add_array.test()"
   ]
  },
  {
   "attachments": {},
   "cell_type": "markdown",
   "metadata": {},
   "source": [
    "# Question No. 05"
   ]
  },
  {
   "attachments": {},
   "cell_type": "markdown",
   "metadata": {},
   "source": [
    "#### Write a Python Program to check if given array is Monotonic?"
   ]
  },
  {
   "cell_type": "code",
   "execution_count": 16,
   "metadata": {},
   "outputs": [
    {
     "data": {
      "text/plain": [
       "True"
      ]
     },
     "execution_count": 16,
     "metadata": {},
     "output_type": "execute_result"
    }
   ],
   "source": [
    "class Monotonic:\n",
    "\n",
    "    def is_monotonic(self, arr):\n",
    "        \"This function will help you to find whether the array is monotonic or not\"\n",
    "\n",
    "        try:\n",
    "            \"This function will help you to find whether the array is monotonic or not\"\n",
    "            is_increasing = all(arr[i] <= arr[i + 1] for i in range(len(arr) - 1))\n",
    "            is_decreasing = all(arr[i] >= arr[i + 1] for i in range(len(arr) - 1))\n",
    "            return is_increasing or is_decreasing\n",
    "        \n",
    "        except Exception as e:\n",
    "            return \"You made a mistake inside your is_monotonic function \",e\n",
    "\n",
    "Monotonic = Monotonic()\n",
    "Monotonic.is_monotonic([1,2,3,4,5])\n"
   ]
  },
  {
   "attachments": {},
   "cell_type": "markdown",
   "metadata": {},
   "source": [
    "                                            Completed\n",
    "\n",
    "                                                                                        Santhosh Kumar"
   ]
  }
 ],
 "metadata": {
  "kernelspec": {
   "display_name": "Python 3",
   "language": "python",
   "name": "python3"
  },
  "language_info": {
   "codemirror_mode": {
    "name": "ipython",
    "version": 3
   },
   "file_extension": ".py",
   "mimetype": "text/x-python",
   "name": "python",
   "nbconvert_exporter": "python",
   "pygments_lexer": "ipython3",
   "version": "3.10.11"
  },
  "orig_nbformat": 4
 },
 "nbformat": 4,
 "nbformat_minor": 2
}
